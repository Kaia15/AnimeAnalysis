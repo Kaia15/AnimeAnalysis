{
  "cells": [
    {
      "cell_type": "markdown",
      "metadata": {
        "id": "Hl28uZLjapqt"
      },
      "source": [
        "# DA210 Project 2 (data analysis)\n",
        "## Tran Ong, Tieu Ngan, Anh Le\n",
        "1. Data sources:\n",
        "Attached link: \n",
        "\n",
        "  https://en.wikipedia.org/api/rest_v1/page/html/List_of_anime_franchises_by_episode_count\n",
        "\n",
        "  https://en.wikipedia.org/wiki/List_of_highest-grossing_Japanese_films#Highest-grossing_Japanese_films_worldwide\n",
        "\n",
        "2. The format of data with given sources were already in HTML format.\n",
        "\n",
        "3. How did you access and parse the data (explained below).\n",
        "\n",
        "4. Central questions:\n",
        "What are the predictors for a high-grossing anime (only box office earnings), among rankings, number of views, ratings, franchise revenues, and anime formats? And are there relationships between any two factors among release time, ending time, runtime, episode count, OVA count, and total episode count? \n"
      ]
    },
    {
      "cell_type": "code",
      "execution_count": 1,
      "metadata": {
        "id": "NDvGEtS_JQZ1"
      },
      "outputs": [],
      "source": [
        "import datetime\n",
        "import requests"
      ]
    },
    {
      "cell_type": "code",
      "execution_count": 2,
      "metadata": {
        "id": "qMn1m_TzQ4qy"
      },
      "outputs": [],
      "source": [
        "import base64"
      ]
    },
    {
      "cell_type": "code",
      "execution_count": 3,
      "metadata": {
        "id": "9jEfbYDd0FMi"
      },
      "outputs": [],
      "source": [
        "from lxml import etree\n",
        "import io"
      ]
    },
    {
      "cell_type": "code",
      "source": [
        "import numpy as np"
      ],
      "metadata": {
        "id": "LH2aRqVYS1CL"
      },
      "execution_count": 4,
      "outputs": []
    },
    {
      "cell_type": "markdown",
      "metadata": {
        "id": "4TpFM6N-9wgp"
      },
      "source": [
        "At first step (after importing all libraries needed), we store the urls into variables and scrap the data with 'requests'."
      ]
    },
    {
      "cell_type": "code",
      "execution_count": 5,
      "metadata": {
        "id": "NGiPrwM00M4D"
      },
      "outputs": [],
      "source": [
        "animeUrl = 'https://en.wikipedia.org/api/rest_v1/page/html/List_of_anime_franchises_by_episode_count'\n",
        "res = requests.get(animeUrl)\n",
        "\n",
        "wiki_html = res.text\n",
        "# print (wiki_html)"
      ]
    },
    {
      "cell_type": "markdown",
      "metadata": {
        "id": "Ub55IwtD9raD"
      },
      "source": [
        "Next, we parse the data with 'io string' and get the root of the tree after parsing"
      ]
    },
    {
      "cell_type": "code",
      "execution_count": 6,
      "metadata": {
        "id": "EhkqYjvCy8Qb"
      },
      "outputs": [],
      "source": [
        "htmlparser = etree.HTMLParser()\n",
        "try:\n",
        "    # This one should work\n",
        "    tree = etree.parse(io.StringIO(wiki_html), parser=htmlparser)\n",
        "    # root of the whole wiki page in HTML\n",
        "    root = tree.getroot()\n",
        "except:\n",
        "    print(\"Failed to parse as HTML\")"
      ]
    },
    {
      "cell_type": "markdown",
      "metadata": {
        "id": "B0QQ74TX-9BQ"
      },
      "source": [
        "'performXML' function helps to convert XML to normal objects/primary data type in python (list,dictionary) and work with the converted data with pandas."
      ]
    },
    {
      "cell_type": "code",
      "execution_count": 7,
      "metadata": {
        "id": "5Iwi5I-3tCID"
      },
      "outputs": [],
      "source": [
        "def performXML(node,pos):\n",
        "  table = []\n",
        "  index = []\n",
        "  columns = []\n",
        "  for x in node[pos].getchildren():\n",
        "    for y in x.getchildren():\n",
        "      # y: each row in the table \n",
        "      # print (etree.tostring(y, pretty_print=True).decode())\n",
        "      row = []\n",
        "      for c in y.getchildren():\n",
        "        # c: each column/value of one row in the table \n",
        "        if c.tag == 'td':\n",
        "          # print (etree.tostring(c, pretty_print=True).decode())\n",
        "          if c.text != None:\n",
        "            row.append(c.text.strip('\\n'))\n",
        "          else:\n",
        "            a = c.find('i')\n",
        "            if a != None:\n",
        "              a = a.find('a').text\n",
        "              row.append(a)\n",
        "            else:\n",
        "              row.append(0)\n",
        "              # print (etree.tostring(c, pretty_print=True).decode())\n",
        "        else:\n",
        "          if c.text != None:\n",
        "            columns.append(c.text)\n",
        "          else:\n",
        "            a = c.find('i')\n",
        "            if a != None: \n",
        "              a = a.find('a').text\n",
        "              # print (a)\n",
        "              row.append(a)\n",
        "      if row != []: table.append(row)\n",
        "  return table, columns, index"
      ]
    },
    {
      "cell_type": "code",
      "execution_count": 8,
      "metadata": {
        "id": "B9pmTXOJ7fQs"
      },
      "outputs": [],
      "source": [
        "node = root.xpath(\"//table[contains(@class,'wikitable')]\")\n",
        "# use of xpath to extract the node we will use in the future exactly/\n",
        "table, columns, index = performXML(node,0)\n",
        "# 0 is the index of the first and only table of the given path. "
      ]
    },
    {
      "cell_type": "code",
      "execution_count": 9,
      "metadata": {
        "colab": {
          "base_uri": "https://localhost:8080/"
        },
        "id": "k8K21gxrpNU9",
        "outputId": "c2ab69bb-b119-407f-d8cc-c0702ba6b01b"
      },
      "outputs": [
        {
          "output_type": "stream",
          "name": "stdout",
          "text": [
            "['No.', 'Title', 'Started Broadcasting', 'Finished Broadcasting', 'Runtime (TV)', 'Episode(s)(TV)', 'Other(s)', 'Total count']\n",
            "[['1', 'Doraemon', '1 Apr 1973', 0, '22-24 minutes', '3,003', '67', '3,070'], ['2', 'Sazae-san', '5 Oct 1969', 0, '22-24 minutes', '2,640', 0, '2,640+'], ['3', 'Nintama Rantarō', '10 Apr 1993', 0, '10 minutes', '2,199', '3', '2,202'], ['4', 'Ojarumaru', '5 Oct 1998', 0, '10 minutes', 0, '4', '1,831'], ['5', 'Oyako Club', '3 Oct 1994', '30 Mar 2013', '5 minutes', '1,818', 0, '1,818'], ['6', 'Soreike! Anpanman', '3 Oct 1988', 0, '24 minutes', 0, '113', '1,700'], ['7', 'Kirin Monoshiri Yakata', '1 Jan 1975', '31 Dec 1979', '5 minutes', '1,565', 0, '1,565'], ['8', 'Chibi Maruko-chan', '7 Jan 1990', 0, '24 minutes', '1,493', '64', '1,557'], ['9', 'Kirin Ashita no Calendar', '1 Jan 1980', '30 Dec 1984', '5 minutes', '1,498', 0, '1,498'], ['10', 'Manga Nippon Mukashi Banashi', '7 Jan 1975', '2 Jan 1995', '24 minutes', '1,494', 0, '1,494'], ['11', 'Hoka Hoka Kazoku', '1 Oct 1976', '31 Mar 1982', '5 minutes', '1,428', 0, '1,428'], ['12', 'Shimajirō', '13 Dec 1993', 0, '24 minutes', '1,403', '8', '1,411'], ['13', 'Pokémon', '1 Apr 1997', 0, '24 minutes', 0, '144', '1,366'], ['14', 'Monoshiri Daigaku Ashita no Calendar', '1 July 1966', '2 Aug 1970', '5 minutes', '1,274', 0, '1,274'], ['15', 'Transformers', '17 Sep 1984', 0, 0, '1,199', '5', '1,204'], ['16', 'Crayon Shin-chan', '13 Apr 1992', 0, '24 minutes', '1,083', '124', '1,207'], ['17', 'Yu-Gi-Oh!', '4 Apr 1998', 0, '24 minutes', '1,126', '7', 0], ['18', 'Case Closed', '8 Jan 1996', 0, '24 minutes', 0, '60', '1,113'], ['19', 'One Piece', '20 Oct 1999', 0, '24 minutes', 0, '47', '1,091'], ['20', 'Naruto', '3 Oct 2002', 0, '24 minutes', '720', '348', '1,068'], ['21', 'Gundam', '7 Apr 1979', 0, 0, '755', '279', '1,034'], ['22', 'Sekai Monoshiri Ryoko', '1 Oct 1971', '31 Dec 1974', '5 minutes', '1,006', 0, '1,006'], ['23', 'Pretty Cure', '1 Feb 2004', 0, '24 minutes', '879', '31', '910'], ['24', 'Dragon Ball', '26 Feb 1986', 0, '24 minutes', '639', '241', '881'], ['25', 'Duel Masters', '22 Oct 2002', 0, 0, '848', '5', '853'], ['26', 'Kotowaza House', '4 Apr 1987', '28 Sep 1994', '24 minutes', '773', 0, '773'], ['27', 'Ninja Hattori-kun', '28 Sep 1981', '16 Feb 2015', '10 minutes', '746', '5', '751'], ['28', 'Obake no Q-tarō', '29 Aug 1965', '29 Mar 1987', '24 minutes', '741', '3', '744'], ['29', 'Beyblade', '8 Jan 2001', '18 March 2022', '12-24 minutes', '662', '54', 0], ['30', 'Otogi Manga Calendar', '1 May 1961', '4 July 1964', 0, '624', 0, '624'], ['31', 'Perman', '12 Mar 1983', '6 Mar 2004', '12 minutes', '591', '8', '599'], ['32', 'GeGeGe no Kitarō', '3 Jan 1968', 0, '24 minutes', '547', 0, '547'], ['33', 'Cardfight!! Vanguard', '8 Jan 2011', 0, 0, 0, 0, '510'], ['34', 'Hamtaro', '7 July 2000', '30 Mar 2013', 0, 0, 0, '480'], ['35', 'Digimon', '7 Mar 1999', 0, '24 minutes', 0, 0, '474'], ['36', 'Jewelpet', '5 Apr 2009', 0, 0, '463', 0, '463'], ['37', 'Brave series', '3 February 1990', '27 June 2005', 0, 0, 0, '430'], ['38', 'Keroro Gunso', '3 Apr 2004', '25 Sep 2012', '24 minutes', 0, 0, '413'], ['39', 'Battle Spirits', '7 Sep 2008', 0, 0, 0, 0, '401'], ['40', 'Kochira Katsushika-ku', '16 June 1996', '19 Dec 2004', 0, 0, 0, '384'], ['41', 'B-Daman', '7 Feb 1998', '29 Sep 2013', 0, 0, 0, '375'], ['42', 'Gin Tama', '8 Dec 2003', '7 Oct 2018', '24 minutes', 0, '9', '378'], ['43', 'Bleach', '5 Oct 2004', '27 Mar 2012', '24 minutes', '366', '6', '372'], ['44', 'Manga Jinbutsushi', '3 Aug 1970', '30 Sep 1971', 0, 0, 0, '366'], ['45', 'Charady no Joke na Mainichi', '1 Apr 2009', '30 Mar 2010', 0, 0, 0, '365'], ['46', 'Lupin III', '24 Oct 1971', 0, '24 minutes', '316', '47', '363'], ['47', 'Inazuma Eleven', '5 Oct 2008', '27 Sep 2019', 0, 0, 0, '343'], ['48', 'Dr. Slump', '8 Apr 1981', '3 Mar 2007', '24 minutes', 0, 0, '341'], ['49', 'Fairy Tail', '12 Oct 2009', '29 Sep 2019', '24 minutes', '328', '11', '339'], ['50', 'Yo-kai Watch', '8 Jan 2014', 0, 0, 0, 0, '332'], ['51', \"Atashin'chi\", '19 Apr 2002', '19 Sep 2009', 0, 0, 0, '331'], ['52', 'Kiteretsu Daihyakka', '27 Mar 1988', '9 June 1996', 0, 0, 0, '331'], ['53', 'Saint Seiya', '11 Oct 1986', 0, '24 minutes', '318', 0, '318'], ['54', 'Rockman', '11 Sep 1994', '29 Mar 2008', 0, 0, 0, '312'], ['55', 'Kinnikuman', '3 Apr 1983', '29 Mar 2006', 0, 0, 0, '305'], ['56', 'Manga Hajimete Monogatari', '6 May 1978', '31 May 1984', 0, 0, 0, '305'], ['57', 'Ikkyū-san', '15 Oct 1975', '28 June 1982', 0, 0, 0, '302'], ['58', 'Hyppo and Thomas', '1 Jan 1971', '30 Sep 1972', 0, 0, 0, '300'], ['59', 'Miracle! Mimika', '3 Apr 2006', '27 Mar 2009', 0, 0, 0, '300'], ['60', 'Tamagotchi!', '12 Oct 2009', 0, 0, 0, 0, '297'], ['61', 'Astro Boy', '1 Jan 1963', '28 Mar 2004', 0, 0, 0, '295'], ['62', \"Chi's Sweet Home\", '31 Mar 2008', '30 Sep 2018', 0, '284', '1', '285'], ['63', 'Dotanba no Manners', '3 Oct 1984', '9 Apr 1987', 0, 0, 0, '283'], ['64', 'Bakugan Battle Brawlers', '5 Apr 2007', '28 Dec 2013', 0, 0, 0, '279'], ['65', 'Star of the Giants', '30 Mar 1968', '29 Sep 1979', 0, 0, 0, '263'], ['66', 'Gan to Gon', '5 Apr 1974', '13 Aug 1975', 0, 0, 0, '260'], ['67', 'Hoshi no Ko Poron', '1 Apr 1974', '21 Mar 1975', 0, 0, 0, '260'], ['68', \"A Penguin's Troubles\", '5 Apr 2008', '30 Mar 2013', 0, 0, 0, '254'], ['69', 'Captain Harlock', '14 Mar 1978', '30 Dec 2003', 0, 0, 0, '248'], ['70', 'Ojamajo Doremi', '7 Feb 1999', '15 Nov 2020', '24 minutes', '214', '39', '253'], ['71', 'Sailor Moon', '7 Mar 1992', 0, '24 minutes', '239', '8', '247'], ['72', 'Captain Tsubasa', '10 Oct 1983', '6 Oct 2002', 0, 0, 0, '244'], ['73', 'Hunter × Hunter', '16 Oct 1999', '24 Sep 2014', '24 minutes', '62+148', '33', '243'], ['74', 'The Prince of Tennis', '10 Oct 2001', '26 Jun 2015', 0, 0, 0, '242'], ['75', 'Itazura Tenshi Chippo-chan', '30 Mar 1970', '31 Dec 1970', 0, 0, 0, '240'], ['76', 'Macross', '3 Oct 1982', '25 Sep 2016', 0, 0, 0, '237'], ['77', 'Science Ninja Team Gatchaman', '1 Oct 1972', '27 Sep 2015', 0, 0, 0, '236'], ['78', 'Urusei Yatsura', '14 Oct 1981', 0, 0, '194', 0, '226'], ['79', 'Tensai Bakabon', '25 Sep 1971', '25 Sep 2018', 0, '225', 0, '225'], ['80', 'Moomin', '5 Oct 1969', '26 Mar 1992', 0, 0, 0, '221'], ['81', 'Mazinger', '2 Oct 1972', '28 Oct 2017', 0, '197', '21', '218'], ['82', 'Future Card Buddyfight', '4 Jan 2014', 0, 0, 0, 0, '212'], ['83', 'Hikarian', '2 Apr 1997', '31 Mar 2002', 0, 0, 0, '211'], ['84', 0, '4 Mar 2002', '30 Sep 2006', 0, 0, 0, '209'], ['85', 'Katekyō Hitman Reborn!', '7 Oct 2006', '25 Sep 2010', 0, 0, 0, '204'], ['86', 'The Kindaichi Case Files', '7 Apr 1997', '26 Mar 2016', 0, 0, 0, '200'], ['87', 'Holly the Ghost', '28 Jan 1991', '12 Apr 1993', 0, 0, 0, '200'], ['88', 'Parasol Henbee', '2 Oct 1989', '12 Jan 1991', 0, 0, 0, '200']]\n"
          ]
        }
      ],
      "source": [
        "# columns.pop(0)\n",
        "print (columns)\n",
        "print (table)"
      ]
    },
    {
      "cell_type": "code",
      "execution_count": 10,
      "metadata": {
        "id": "I_0_QH8kvZzg",
        "colab": {
          "base_uri": "https://localhost:8080/"
        },
        "outputId": "6e0dcaac-846d-4752-e904-f309934b1372"
      },
      "outputs": [
        {
          "output_type": "stream",
          "name": "stdout",
          "text": [
            "[['Doraemon', '1 Apr 1973', 'Ongoing', '22-24 minutes', '3,003', '67', '3,070'], ['Sazae-san', '5 Oct 1969', 'Ongoing', '22-24 minutes', '2,640', 0, '2,640+'], ['Nintama Rantarō', '10 Apr 1993', 'Ongoing', '10 minutes', '2,199', '3', '2,202'], ['Ojarumaru', '5 Oct 1998', 'Ongoing', '10 minutes', 0, '4', '1,831'], ['Oyako Club', '3 Oct 1994', '30 Mar 2013', '5 minutes', '1,818', 0, '1,818'], ['Soreike! Anpanman', '3 Oct 1988', 'Ongoing', '24 minutes', 0, '113', '1,700'], ['Kirin Monoshiri Yakata', '1 Jan 1975', '31 Dec 1979', '5 minutes', '1,565', 0, '1,565'], ['Chibi Maruko-chan', '7 Jan 1990', 'Ongoing', '24 minutes', '1,493', '64', '1,557'], ['Kirin Ashita no Calendar', '1 Jan 1980', '30 Dec 1984', '5 minutes', '1,498', 0, '1,498'], ['Manga Nippon Mukashi Banashi', '7 Jan 1975', '2 Jan 1995', '24 minutes', '1,494', 0, '1,494'], ['Hoka Hoka Kazoku', '1 Oct 1976', '31 Mar 1982', '5 minutes', '1,428', 0, '1,428'], ['Shimajirō', '13 Dec 1993', 'Ongoing', '24 minutes', '1,403', '8', '1,411'], ['Pokémon', '1 Apr 1997', 'Ongoing', '24 minutes', 0, '144', '1,366'], ['Monoshiri Daigaku Ashita no Calendar', '1 July 1966', '2 Aug 1970', '5 minutes', '1,274', 0, '1,274'], ['Transformers', '17 Sep 1984', 'Ongoing', 0, '1,199', '5', '1,204'], ['Crayon Shin-chan', '13 Apr 1992', 'Ongoing', '24 minutes', '1,083', '124', '1,207'], ['Yu-Gi-Oh!', '4 Apr 1998', 'Ongoing', '24 minutes', '1,126', '7', 0], ['Case Closed', '8 Jan 1996', 'Ongoing', '24 minutes', 0, '60', '1,113'], ['One Piece', '20 Oct 1999', 'Ongoing', '24 minutes', 0, '47', '1,091'], ['Naruto', '3 Oct 2002', 'Ongoing', '24 minutes', '720', '348', '1,068'], ['Gundam', '7 Apr 1979', 'Ongoing', 0, '755', '279', '1,034'], ['Sekai Monoshiri Ryoko', '1 Oct 1971', '31 Dec 1974', '5 minutes', '1,006', 0, '1,006'], ['Pretty Cure', '1 Feb 2004', 'Ongoing', '24 minutes', '879', '31', '910'], ['Dragon Ball', '26 Feb 1986', 'Ongoing', '24 minutes', '639', '241', '881'], ['Duel Masters', '22 Oct 2002', 'Ongoing', 0, '848', '5', '853'], ['Kotowaza House', '4 Apr 1987', '28 Sep 1994', '24 minutes', '773', 0, '773'], ['Ninja Hattori-kun', '28 Sep 1981', '16 Feb 2015', '10 minutes', '746', '5', '751'], ['Obake no Q-tarō', '29 Aug 1965', '29 Mar 1987', '24 minutes', '741', '3', '744'], ['Beyblade', '8 Jan 2001', '18 March 2022', '12-24 minutes', '662', '54', 0], ['Otogi Manga Calendar', '1 May 1961', '4 July 1964', 0, '624', 0, '624'], ['Perman', '12 Mar 1983', '6 Mar 2004', '12 minutes', '591', '8', '599'], ['GeGeGe no Kitarō', '3 Jan 1968', 'Ongoing', '24 minutes', '547', 0, '547'], ['Cardfight!! Vanguard', '8 Jan 2011', 'Ongoing', 0, 0, 0, '510'], ['Hamtaro', '7 July 2000', '30 Mar 2013', 0, 0, 0, '480'], ['Digimon', '7 Mar 1999', 'Ongoing', '24 minutes', 0, 0, '474'], ['Jewelpet', '5 Apr 2009', 'Ongoing', 0, '463', 0, '463'], ['Brave series', '3 February 1990', '27 June 2005', 0, 0, 0, '430'], ['Keroro Gunso', '3 Apr 2004', '25 Sep 2012', '24 minutes', 0, 0, '413'], ['Battle Spirits', '7 Sep 2008', 'Ongoing', 0, 0, 0, '401'], ['Kochira Katsushika-ku', '16 June 1996', '19 Dec 2004', 0, 0, 0, '384'], ['B-Daman', '7 Feb 1998', '29 Sep 2013', 0, 0, 0, '375'], ['Gin Tama', '8 Dec 2003', '7 Oct 2018', '24 minutes', 0, '9', '378'], ['Bleach', '5 Oct 2004', '27 Mar 2012', '24 minutes', '366', '6', '372'], ['Manga Jinbutsushi', '3 Aug 1970', '30 Sep 1971', 0, 0, 0, '366'], ['Charady no Joke na Mainichi', '1 Apr 2009', '30 Mar 2010', 0, 0, 0, '365'], ['Lupin III', '24 Oct 1971', 'Ongoing', '24 minutes', '316', '47', '363'], ['Inazuma Eleven', '5 Oct 2008', '27 Sep 2019', 0, 0, 0, '343'], ['Dr. Slump', '8 Apr 1981', '3 Mar 2007', '24 minutes', 0, 0, '341'], ['Fairy Tail', '12 Oct 2009', '29 Sep 2019', '24 minutes', '328', '11', '339'], ['Yo-kai Watch', '8 Jan 2014', 'Ongoing', 0, 0, 0, '332'], [\"Atashin'chi\", '19 Apr 2002', '19 Sep 2009', 0, 0, 0, '331'], ['Kiteretsu Daihyakka', '27 Mar 1988', '9 June 1996', 0, 0, 0, '331'], ['Saint Seiya', '11 Oct 1986', 'Ongoing', '24 minutes', '318', 0, '318'], ['Rockman', '11 Sep 1994', '29 Mar 2008', 0, 0, 0, '312'], ['Kinnikuman', '3 Apr 1983', '29 Mar 2006', 0, 0, 0, '305'], ['Manga Hajimete Monogatari', '6 May 1978', '31 May 1984', 0, 0, 0, '305'], ['Ikkyū-san', '15 Oct 1975', '28 June 1982', 0, 0, 0, '302'], ['Hyppo and Thomas', '1 Jan 1971', '30 Sep 1972', 0, 0, 0, '300'], ['Miracle! Mimika', '3 Apr 2006', '27 Mar 2009', 0, 0, 0, '300'], ['Tamagotchi!', '12 Oct 2009', 'Ongoing', 0, 0, 0, '297'], ['Astro Boy', '1 Jan 1963', '28 Mar 2004', 0, 0, 0, '295'], [\"Chi's Sweet Home\", '31 Mar 2008', '30 Sep 2018', 0, '284', '1', '285'], ['Dotanba no Manners', '3 Oct 1984', '9 Apr 1987', 0, 0, 0, '283'], ['Bakugan Battle Brawlers', '5 Apr 2007', '28 Dec 2013', 0, 0, 0, '279'], ['Star of the Giants', '30 Mar 1968', '29 Sep 1979', 0, 0, 0, '263'], ['Gan to Gon', '5 Apr 1974', '13 Aug 1975', 0, 0, 0, '260'], ['Hoshi no Ko Poron', '1 Apr 1974', '21 Mar 1975', 0, 0, 0, '260'], [\"A Penguin's Troubles\", '5 Apr 2008', '30 Mar 2013', 0, 0, 0, '254'], ['Captain Harlock', '14 Mar 1978', '30 Dec 2003', 0, 0, 0, '248'], ['Ojamajo Doremi', '7 Feb 1999', '15 Nov 2020', '24 minutes', '214', '39', '253'], ['Sailor Moon', '7 Mar 1992', 'Ongoing', '24 minutes', '239', '8', '247'], ['Captain Tsubasa', '10 Oct 1983', '6 Oct 2002', 0, 0, 0, '244'], ['Hunter × Hunter', '16 Oct 1999', '24 Sep 2014', '24 minutes', '62+148', '33', '243'], ['The Prince of Tennis', '10 Oct 2001', '26 Jun 2015', 0, 0, 0, '242'], ['Itazura Tenshi Chippo-chan', '30 Mar 1970', '31 Dec 1970', 0, 0, 0, '240'], ['Macross', '3 Oct 1982', '25 Sep 2016', 0, 0, 0, '237'], ['Science Ninja Team Gatchaman', '1 Oct 1972', '27 Sep 2015', 0, 0, 0, '236'], ['Urusei Yatsura', '14 Oct 1981', 'Ongoing', 0, '194', 0, '226'], ['Tensai Bakabon', '25 Sep 1971', '25 Sep 2018', 0, '225', 0, '225'], ['Moomin', '5 Oct 1969', '26 Mar 1992', 0, 0, 0, '221'], ['Mazinger', '2 Oct 1972', '28 Oct 2017', 0, '197', '21', '218'], ['Future Card Buddyfight', '4 Jan 2014', 'Ongoing', 0, 0, 0, '212'], ['Hikarian', '2 Apr 1997', '31 Mar 2002', 0, 0, 0, '211'], [0, '4 Mar 2002', '30 Sep 2006', 0, 0, 0, '209'], ['Katekyō Hitman Reborn!', '7 Oct 2006', '25 Sep 2010', 0, 0, 0, '204'], ['The Kindaichi Case Files', '7 Apr 1997', '26 Mar 2016', 0, 0, 0, '200'], ['Holly the Ghost', '28 Jan 1991', '12 Apr 1993', 0, 0, 0, '200'], ['Parasol Henbee', '2 Oct 1989', '12 Jan 1991', 0, 0, 0, '200']]\n"
          ]
        }
      ],
      "source": [
        "for row in table:\n",
        "  pop = row.pop(0)\n",
        "  index.append(pop)\n",
        "  if row[2] == 0: row[2] = 'Ongoing'\n",
        "print (table)"
      ]
    },
    {
      "cell_type": "code",
      "source": [
        "runtime_convert = {'22-24 minutes': 22, '24 minutes': 24, '5 minutes': 5, '10 minutes': 10, '12 minutes': 12, '12-24 minutes': 12}\n",
        "for x in table:\n",
        "  x[5] = int(x[5])\n",
        "  if type(x[4]) is str and len(x[4]) == 5: x[4] = int(x[4][0:1] + x[4][2:])\n",
        "  else: \n",
        "    if x[4] == '62+148': x[4] = 62 + 148\n",
        "    else: x[4] = int(x[4])\n",
        "  if x[0] == 'Ojarumaru': x[4] = 1827\n",
        "  if x[0] == 'Soreike! Anpanman': x[4] = 1587\n",
        "  if x[0] == 'Pokémon': x[4] = 1220\n",
        "  x[1] = int(x[1][-4:])\n",
        "  if x[2] != 'Ongoing': x[2] = int(x[2][-4:])\n",
        "  else: x[2] = 2022\n",
        "  if type(x[3]) is str: x[3] = int(runtime_convert[x[3]])\n",
        "\n"
      ],
      "metadata": {
        "id": "V9lrrDuWzH6p"
      },
      "execution_count": 11,
      "outputs": []
    },
    {
      "cell_type": "markdown",
      "source": [
        "From the above url, we create a dataframe for *the list of anime series by franchise series total episode count*. We only take a sample of 50 series. This data will also be created as a SQlite table called top_series. \n"
      ],
      "metadata": {
        "id": "P9dXNR-uFcJD"
      }
    },
    {
      "cell_type": "code",
      "execution_count": 12,
      "metadata": {
        "id": "jzWTwth2keuc"
      },
      "outputs": [],
      "source": [
        "import pandas as pd\n",
        "\n",
        "# 50 Anime series by franchise series total episode count\n",
        "df = pd.DataFrame(table)\n",
        "df.columns = ['Series name', 'Year release', 'End Broadcasting Year', 'Runtime (min on TV)', 'Episode count', 'Others', 'Total count']"
      ]
    },
    {
      "cell_type": "code",
      "source": [
        "df['Runtime (min on TV)'].replace(0, np.NaN, inplace = True)"
      ],
      "metadata": {
        "id": "TSfzkT7CQ64C"
      },
      "execution_count": 13,
      "outputs": []
    },
    {
      "cell_type": "code",
      "source": [
        "df"
      ],
      "metadata": {
        "id": "D3TaT1VArXgo",
        "colab": {
          "base_uri": "https://localhost:8080/",
          "height": 424
        },
        "outputId": "a4c49ad4-84ab-4386-87b7-a216de3618a2"
      },
      "execution_count": 14,
      "outputs": [
        {
          "output_type": "execute_result",
          "data": {
            "text/plain": [
              "                 Series name  Year release  End Broadcasting Year  \\\n",
              "0                   Doraemon          1973                   2022   \n",
              "1                  Sazae-san          1969                   2022   \n",
              "2            Nintama Rantarō          1993                   2022   \n",
              "3                  Ojarumaru          1998                   2022   \n",
              "4                 Oyako Club          1994                   2013   \n",
              "..                       ...           ...                    ...   \n",
              "83                         0          2002                   2006   \n",
              "84    Katekyō Hitman Reborn!          2006                   2010   \n",
              "85  The Kindaichi Case Files          1997                   2016   \n",
              "86           Holly the Ghost          1991                   1993   \n",
              "87            Parasol Henbee          1989                   1991   \n",
              "\n",
              "    Runtime (min on TV)  Episode count  Others Total count  \n",
              "0                  22.0           3003      67       3,070  \n",
              "1                  22.0           2640       0      2,640+  \n",
              "2                  10.0           2199       3       2,202  \n",
              "3                  10.0           1827       4       1,831  \n",
              "4                   5.0           1818       0       1,818  \n",
              "..                  ...            ...     ...         ...  \n",
              "83                  NaN              0       0         209  \n",
              "84                  NaN              0       0         204  \n",
              "85                  NaN              0       0         200  \n",
              "86                  NaN              0       0         200  \n",
              "87                  NaN              0       0         200  \n",
              "\n",
              "[88 rows x 7 columns]"
            ],
            "text/html": [
              "\n",
              "  <div id=\"df-ceb936d3-acb8-495e-a6a6-1f38959d714d\">\n",
              "    <div class=\"colab-df-container\">\n",
              "      <div>\n",
              "<style scoped>\n",
              "    .dataframe tbody tr th:only-of-type {\n",
              "        vertical-align: middle;\n",
              "    }\n",
              "\n",
              "    .dataframe tbody tr th {\n",
              "        vertical-align: top;\n",
              "    }\n",
              "\n",
              "    .dataframe thead th {\n",
              "        text-align: right;\n",
              "    }\n",
              "</style>\n",
              "<table border=\"1\" class=\"dataframe\">\n",
              "  <thead>\n",
              "    <tr style=\"text-align: right;\">\n",
              "      <th></th>\n",
              "      <th>Series name</th>\n",
              "      <th>Year release</th>\n",
              "      <th>End Broadcasting Year</th>\n",
              "      <th>Runtime (min on TV)</th>\n",
              "      <th>Episode count</th>\n",
              "      <th>Others</th>\n",
              "      <th>Total count</th>\n",
              "    </tr>\n",
              "  </thead>\n",
              "  <tbody>\n",
              "    <tr>\n",
              "      <th>0</th>\n",
              "      <td>Doraemon</td>\n",
              "      <td>1973</td>\n",
              "      <td>2022</td>\n",
              "      <td>22.0</td>\n",
              "      <td>3003</td>\n",
              "      <td>67</td>\n",
              "      <td>3,070</td>\n",
              "    </tr>\n",
              "    <tr>\n",
              "      <th>1</th>\n",
              "      <td>Sazae-san</td>\n",
              "      <td>1969</td>\n",
              "      <td>2022</td>\n",
              "      <td>22.0</td>\n",
              "      <td>2640</td>\n",
              "      <td>0</td>\n",
              "      <td>2,640+</td>\n",
              "    </tr>\n",
              "    <tr>\n",
              "      <th>2</th>\n",
              "      <td>Nintama Rantarō</td>\n",
              "      <td>1993</td>\n",
              "      <td>2022</td>\n",
              "      <td>10.0</td>\n",
              "      <td>2199</td>\n",
              "      <td>3</td>\n",
              "      <td>2,202</td>\n",
              "    </tr>\n",
              "    <tr>\n",
              "      <th>3</th>\n",
              "      <td>Ojarumaru</td>\n",
              "      <td>1998</td>\n",
              "      <td>2022</td>\n",
              "      <td>10.0</td>\n",
              "      <td>1827</td>\n",
              "      <td>4</td>\n",
              "      <td>1,831</td>\n",
              "    </tr>\n",
              "    <tr>\n",
              "      <th>4</th>\n",
              "      <td>Oyako Club</td>\n",
              "      <td>1994</td>\n",
              "      <td>2013</td>\n",
              "      <td>5.0</td>\n",
              "      <td>1818</td>\n",
              "      <td>0</td>\n",
              "      <td>1,818</td>\n",
              "    </tr>\n",
              "    <tr>\n",
              "      <th>...</th>\n",
              "      <td>...</td>\n",
              "      <td>...</td>\n",
              "      <td>...</td>\n",
              "      <td>...</td>\n",
              "      <td>...</td>\n",
              "      <td>...</td>\n",
              "      <td>...</td>\n",
              "    </tr>\n",
              "    <tr>\n",
              "      <th>83</th>\n",
              "      <td>0</td>\n",
              "      <td>2002</td>\n",
              "      <td>2006</td>\n",
              "      <td>NaN</td>\n",
              "      <td>0</td>\n",
              "      <td>0</td>\n",
              "      <td>209</td>\n",
              "    </tr>\n",
              "    <tr>\n",
              "      <th>84</th>\n",
              "      <td>Katekyō Hitman Reborn!</td>\n",
              "      <td>2006</td>\n",
              "      <td>2010</td>\n",
              "      <td>NaN</td>\n",
              "      <td>0</td>\n",
              "      <td>0</td>\n",
              "      <td>204</td>\n",
              "    </tr>\n",
              "    <tr>\n",
              "      <th>85</th>\n",
              "      <td>The Kindaichi Case Files</td>\n",
              "      <td>1997</td>\n",
              "      <td>2016</td>\n",
              "      <td>NaN</td>\n",
              "      <td>0</td>\n",
              "      <td>0</td>\n",
              "      <td>200</td>\n",
              "    </tr>\n",
              "    <tr>\n",
              "      <th>86</th>\n",
              "      <td>Holly the Ghost</td>\n",
              "      <td>1991</td>\n",
              "      <td>1993</td>\n",
              "      <td>NaN</td>\n",
              "      <td>0</td>\n",
              "      <td>0</td>\n",
              "      <td>200</td>\n",
              "    </tr>\n",
              "    <tr>\n",
              "      <th>87</th>\n",
              "      <td>Parasol Henbee</td>\n",
              "      <td>1989</td>\n",
              "      <td>1991</td>\n",
              "      <td>NaN</td>\n",
              "      <td>0</td>\n",
              "      <td>0</td>\n",
              "      <td>200</td>\n",
              "    </tr>\n",
              "  </tbody>\n",
              "</table>\n",
              "<p>88 rows × 7 columns</p>\n",
              "</div>\n",
              "      <button class=\"colab-df-convert\" onclick=\"convertToInteractive('df-ceb936d3-acb8-495e-a6a6-1f38959d714d')\"\n",
              "              title=\"Convert this dataframe to an interactive table.\"\n",
              "              style=\"display:none;\">\n",
              "        \n",
              "  <svg xmlns=\"http://www.w3.org/2000/svg\" height=\"24px\"viewBox=\"0 0 24 24\"\n",
              "       width=\"24px\">\n",
              "    <path d=\"M0 0h24v24H0V0z\" fill=\"none\"/>\n",
              "    <path d=\"M18.56 5.44l.94 2.06.94-2.06 2.06-.94-2.06-.94-.94-2.06-.94 2.06-2.06.94zm-11 1L8.5 8.5l.94-2.06 2.06-.94-2.06-.94L8.5 2.5l-.94 2.06-2.06.94zm10 10l.94 2.06.94-2.06 2.06-.94-2.06-.94-.94-2.06-.94 2.06-2.06.94z\"/><path d=\"M17.41 7.96l-1.37-1.37c-.4-.4-.92-.59-1.43-.59-.52 0-1.04.2-1.43.59L10.3 9.45l-7.72 7.72c-.78.78-.78 2.05 0 2.83L4 21.41c.39.39.9.59 1.41.59.51 0 1.02-.2 1.41-.59l7.78-7.78 2.81-2.81c.8-.78.8-2.07 0-2.86zM5.41 20L4 18.59l7.72-7.72 1.47 1.35L5.41 20z\"/>\n",
              "  </svg>\n",
              "      </button>\n",
              "      \n",
              "  <style>\n",
              "    .colab-df-container {\n",
              "      display:flex;\n",
              "      flex-wrap:wrap;\n",
              "      gap: 12px;\n",
              "    }\n",
              "\n",
              "    .colab-df-convert {\n",
              "      background-color: #E8F0FE;\n",
              "      border: none;\n",
              "      border-radius: 50%;\n",
              "      cursor: pointer;\n",
              "      display: none;\n",
              "      fill: #1967D2;\n",
              "      height: 32px;\n",
              "      padding: 0 0 0 0;\n",
              "      width: 32px;\n",
              "    }\n",
              "\n",
              "    .colab-df-convert:hover {\n",
              "      background-color: #E2EBFA;\n",
              "      box-shadow: 0px 1px 2px rgba(60, 64, 67, 0.3), 0px 1px 3px 1px rgba(60, 64, 67, 0.15);\n",
              "      fill: #174EA6;\n",
              "    }\n",
              "\n",
              "    [theme=dark] .colab-df-convert {\n",
              "      background-color: #3B4455;\n",
              "      fill: #D2E3FC;\n",
              "    }\n",
              "\n",
              "    [theme=dark] .colab-df-convert:hover {\n",
              "      background-color: #434B5C;\n",
              "      box-shadow: 0px 1px 3px 1px rgba(0, 0, 0, 0.15);\n",
              "      filter: drop-shadow(0px 1px 2px rgba(0, 0, 0, 0.3));\n",
              "      fill: #FFFFFF;\n",
              "    }\n",
              "  </style>\n",
              "\n",
              "      <script>\n",
              "        const buttonEl =\n",
              "          document.querySelector('#df-ceb936d3-acb8-495e-a6a6-1f38959d714d button.colab-df-convert');\n",
              "        buttonEl.style.display =\n",
              "          google.colab.kernel.accessAllowed ? 'block' : 'none';\n",
              "\n",
              "        async function convertToInteractive(key) {\n",
              "          const element = document.querySelector('#df-ceb936d3-acb8-495e-a6a6-1f38959d714d');\n",
              "          const dataTable =\n",
              "            await google.colab.kernel.invokeFunction('convertToInteractive',\n",
              "                                                     [key], {});\n",
              "          if (!dataTable) return;\n",
              "\n",
              "          const docLinkHtml = 'Like what you see? Visit the ' +\n",
              "            '<a target=\"_blank\" href=https://colab.research.google.com/notebooks/data_table.ipynb>data table notebook</a>'\n",
              "            + ' to learn more about interactive tables.';\n",
              "          element.innerHTML = '';\n",
              "          dataTable['output_type'] = 'display_data';\n",
              "          await google.colab.output.renderOutput(dataTable, element);\n",
              "          const docLink = document.createElement('div');\n",
              "          docLink.innerHTML = docLinkHtml;\n",
              "          element.appendChild(docLink);\n",
              "        }\n",
              "      </script>\n",
              "    </div>\n",
              "  </div>\n",
              "  "
            ]
          },
          "metadata": {},
          "execution_count": 14
        }
      ]
    },
    {
      "cell_type": "code",
      "source": [
        "def convert2int(s):\n",
        "  # print (type(s))\n",
        "  if type(s) is str:\n",
        "    s = s.replace(',', '')\n",
        "    s = s.replace('+', '')\n",
        "    return int(s)\n",
        "  return s\n",
        "total = df['Total count']\n",
        "total_count = [convert2int(x) for x in total]\n",
        "table_v1 = {'Series name': list(df['Series name']),'Year release': list(df['Year release']), 'End Broadcasting Year': list(df['End Broadcasting Year']), 'Runtime (min on TV)': list(df['Runtime (min on TV)']), 'Others': list(df['Others']), 'Total count': total_count}\n",
        "df_v1 = pd.DataFrame(table_v1)\n",
        "df_v1"
      ],
      "metadata": {
        "colab": {
          "base_uri": "https://localhost:8080/",
          "height": 424
        },
        "id": "FNgP4h2naQP2",
        "outputId": "23b7a392-c743-479b-854a-05a4c3f6005a"
      },
      "execution_count": 15,
      "outputs": [
        {
          "output_type": "execute_result",
          "data": {
            "text/plain": [
              "                 Series name  Year release  End Broadcasting Year  \\\n",
              "0                   Doraemon          1973                   2022   \n",
              "1                  Sazae-san          1969                   2022   \n",
              "2            Nintama Rantarō          1993                   2022   \n",
              "3                  Ojarumaru          1998                   2022   \n",
              "4                 Oyako Club          1994                   2013   \n",
              "..                       ...           ...                    ...   \n",
              "83                         0          2002                   2006   \n",
              "84    Katekyō Hitman Reborn!          2006                   2010   \n",
              "85  The Kindaichi Case Files          1997                   2016   \n",
              "86           Holly the Ghost          1991                   1993   \n",
              "87            Parasol Henbee          1989                   1991   \n",
              "\n",
              "    Runtime (min on TV)  Others  Total count  \n",
              "0                  22.0      67         3070  \n",
              "1                  22.0       0         2640  \n",
              "2                  10.0       3         2202  \n",
              "3                  10.0       4         1831  \n",
              "4                   5.0       0         1818  \n",
              "..                  ...     ...          ...  \n",
              "83                  NaN       0          209  \n",
              "84                  NaN       0          204  \n",
              "85                  NaN       0          200  \n",
              "86                  NaN       0          200  \n",
              "87                  NaN       0          200  \n",
              "\n",
              "[88 rows x 6 columns]"
            ],
            "text/html": [
              "\n",
              "  <div id=\"df-be23d656-30e7-4b6c-9c2a-f4d05b2d129c\">\n",
              "    <div class=\"colab-df-container\">\n",
              "      <div>\n",
              "<style scoped>\n",
              "    .dataframe tbody tr th:only-of-type {\n",
              "        vertical-align: middle;\n",
              "    }\n",
              "\n",
              "    .dataframe tbody tr th {\n",
              "        vertical-align: top;\n",
              "    }\n",
              "\n",
              "    .dataframe thead th {\n",
              "        text-align: right;\n",
              "    }\n",
              "</style>\n",
              "<table border=\"1\" class=\"dataframe\">\n",
              "  <thead>\n",
              "    <tr style=\"text-align: right;\">\n",
              "      <th></th>\n",
              "      <th>Series name</th>\n",
              "      <th>Year release</th>\n",
              "      <th>End Broadcasting Year</th>\n",
              "      <th>Runtime (min on TV)</th>\n",
              "      <th>Others</th>\n",
              "      <th>Total count</th>\n",
              "    </tr>\n",
              "  </thead>\n",
              "  <tbody>\n",
              "    <tr>\n",
              "      <th>0</th>\n",
              "      <td>Doraemon</td>\n",
              "      <td>1973</td>\n",
              "      <td>2022</td>\n",
              "      <td>22.0</td>\n",
              "      <td>67</td>\n",
              "      <td>3070</td>\n",
              "    </tr>\n",
              "    <tr>\n",
              "      <th>1</th>\n",
              "      <td>Sazae-san</td>\n",
              "      <td>1969</td>\n",
              "      <td>2022</td>\n",
              "      <td>22.0</td>\n",
              "      <td>0</td>\n",
              "      <td>2640</td>\n",
              "    </tr>\n",
              "    <tr>\n",
              "      <th>2</th>\n",
              "      <td>Nintama Rantarō</td>\n",
              "      <td>1993</td>\n",
              "      <td>2022</td>\n",
              "      <td>10.0</td>\n",
              "      <td>3</td>\n",
              "      <td>2202</td>\n",
              "    </tr>\n",
              "    <tr>\n",
              "      <th>3</th>\n",
              "      <td>Ojarumaru</td>\n",
              "      <td>1998</td>\n",
              "      <td>2022</td>\n",
              "      <td>10.0</td>\n",
              "      <td>4</td>\n",
              "      <td>1831</td>\n",
              "    </tr>\n",
              "    <tr>\n",
              "      <th>4</th>\n",
              "      <td>Oyako Club</td>\n",
              "      <td>1994</td>\n",
              "      <td>2013</td>\n",
              "      <td>5.0</td>\n",
              "      <td>0</td>\n",
              "      <td>1818</td>\n",
              "    </tr>\n",
              "    <tr>\n",
              "      <th>...</th>\n",
              "      <td>...</td>\n",
              "      <td>...</td>\n",
              "      <td>...</td>\n",
              "      <td>...</td>\n",
              "      <td>...</td>\n",
              "      <td>...</td>\n",
              "    </tr>\n",
              "    <tr>\n",
              "      <th>83</th>\n",
              "      <td>0</td>\n",
              "      <td>2002</td>\n",
              "      <td>2006</td>\n",
              "      <td>NaN</td>\n",
              "      <td>0</td>\n",
              "      <td>209</td>\n",
              "    </tr>\n",
              "    <tr>\n",
              "      <th>84</th>\n",
              "      <td>Katekyō Hitman Reborn!</td>\n",
              "      <td>2006</td>\n",
              "      <td>2010</td>\n",
              "      <td>NaN</td>\n",
              "      <td>0</td>\n",
              "      <td>204</td>\n",
              "    </tr>\n",
              "    <tr>\n",
              "      <th>85</th>\n",
              "      <td>The Kindaichi Case Files</td>\n",
              "      <td>1997</td>\n",
              "      <td>2016</td>\n",
              "      <td>NaN</td>\n",
              "      <td>0</td>\n",
              "      <td>200</td>\n",
              "    </tr>\n",
              "    <tr>\n",
              "      <th>86</th>\n",
              "      <td>Holly the Ghost</td>\n",
              "      <td>1991</td>\n",
              "      <td>1993</td>\n",
              "      <td>NaN</td>\n",
              "      <td>0</td>\n",
              "      <td>200</td>\n",
              "    </tr>\n",
              "    <tr>\n",
              "      <th>87</th>\n",
              "      <td>Parasol Henbee</td>\n",
              "      <td>1989</td>\n",
              "      <td>1991</td>\n",
              "      <td>NaN</td>\n",
              "      <td>0</td>\n",
              "      <td>200</td>\n",
              "    </tr>\n",
              "  </tbody>\n",
              "</table>\n",
              "<p>88 rows × 6 columns</p>\n",
              "</div>\n",
              "      <button class=\"colab-df-convert\" onclick=\"convertToInteractive('df-be23d656-30e7-4b6c-9c2a-f4d05b2d129c')\"\n",
              "              title=\"Convert this dataframe to an interactive table.\"\n",
              "              style=\"display:none;\">\n",
              "        \n",
              "  <svg xmlns=\"http://www.w3.org/2000/svg\" height=\"24px\"viewBox=\"0 0 24 24\"\n",
              "       width=\"24px\">\n",
              "    <path d=\"M0 0h24v24H0V0z\" fill=\"none\"/>\n",
              "    <path d=\"M18.56 5.44l.94 2.06.94-2.06 2.06-.94-2.06-.94-.94-2.06-.94 2.06-2.06.94zm-11 1L8.5 8.5l.94-2.06 2.06-.94-2.06-.94L8.5 2.5l-.94 2.06-2.06.94zm10 10l.94 2.06.94-2.06 2.06-.94-2.06-.94-.94-2.06-.94 2.06-2.06.94z\"/><path d=\"M17.41 7.96l-1.37-1.37c-.4-.4-.92-.59-1.43-.59-.52 0-1.04.2-1.43.59L10.3 9.45l-7.72 7.72c-.78.78-.78 2.05 0 2.83L4 21.41c.39.39.9.59 1.41.59.51 0 1.02-.2 1.41-.59l7.78-7.78 2.81-2.81c.8-.78.8-2.07 0-2.86zM5.41 20L4 18.59l7.72-7.72 1.47 1.35L5.41 20z\"/>\n",
              "  </svg>\n",
              "      </button>\n",
              "      \n",
              "  <style>\n",
              "    .colab-df-container {\n",
              "      display:flex;\n",
              "      flex-wrap:wrap;\n",
              "      gap: 12px;\n",
              "    }\n",
              "\n",
              "    .colab-df-convert {\n",
              "      background-color: #E8F0FE;\n",
              "      border: none;\n",
              "      border-radius: 50%;\n",
              "      cursor: pointer;\n",
              "      display: none;\n",
              "      fill: #1967D2;\n",
              "      height: 32px;\n",
              "      padding: 0 0 0 0;\n",
              "      width: 32px;\n",
              "    }\n",
              "\n",
              "    .colab-df-convert:hover {\n",
              "      background-color: #E2EBFA;\n",
              "      box-shadow: 0px 1px 2px rgba(60, 64, 67, 0.3), 0px 1px 3px 1px rgba(60, 64, 67, 0.15);\n",
              "      fill: #174EA6;\n",
              "    }\n",
              "\n",
              "    [theme=dark] .colab-df-convert {\n",
              "      background-color: #3B4455;\n",
              "      fill: #D2E3FC;\n",
              "    }\n",
              "\n",
              "    [theme=dark] .colab-df-convert:hover {\n",
              "      background-color: #434B5C;\n",
              "      box-shadow: 0px 1px 3px 1px rgba(0, 0, 0, 0.15);\n",
              "      filter: drop-shadow(0px 1px 2px rgba(0, 0, 0, 0.3));\n",
              "      fill: #FFFFFF;\n",
              "    }\n",
              "  </style>\n",
              "\n",
              "      <script>\n",
              "        const buttonEl =\n",
              "          document.querySelector('#df-be23d656-30e7-4b6c-9c2a-f4d05b2d129c button.colab-df-convert');\n",
              "        buttonEl.style.display =\n",
              "          google.colab.kernel.accessAllowed ? 'block' : 'none';\n",
              "\n",
              "        async function convertToInteractive(key) {\n",
              "          const element = document.querySelector('#df-be23d656-30e7-4b6c-9c2a-f4d05b2d129c');\n",
              "          const dataTable =\n",
              "            await google.colab.kernel.invokeFunction('convertToInteractive',\n",
              "                                                     [key], {});\n",
              "          if (!dataTable) return;\n",
              "\n",
              "          const docLinkHtml = 'Like what you see? Visit the ' +\n",
              "            '<a target=\"_blank\" href=https://colab.research.google.com/notebooks/data_table.ipynb>data table notebook</a>'\n",
              "            + ' to learn more about interactive tables.';\n",
              "          element.innerHTML = '';\n",
              "          dataTable['output_type'] = 'display_data';\n",
              "          await google.colab.output.renderOutput(dataTable, element);\n",
              "          const docLink = document.createElement('div');\n",
              "          docLink.innerHTML = docLinkHtml;\n",
              "          element.appendChild(docLink);\n",
              "        }\n",
              "      </script>\n",
              "    </div>\n",
              "  </div>\n",
              "  "
            ]
          },
          "metadata": {},
          "execution_count": 15
        }
      ]
    },
    {
      "cell_type": "markdown",
      "source": [
        "For DataFrame df - 50 Anime series by franchise series total episode count, we can find the relationship between any two of the following for anime series: Year release, End Broadcasting Time, Runtime (min on TV), Episode count, Others, Total count. "
      ],
      "metadata": {
        "id": "mgk4DKFUFfEL"
      }
    },
    {
      "cell_type": "code",
      "execution_count": 16,
      "metadata": {
        "id": "Wu9lZmLxQJpG"
      },
      "outputs": [],
      "source": [
        "# Grossing of Japanese Films\n",
        "path = 'https://en.wikipedia.org/wiki/List_of_highest-grossing_Japanese_films#Highest-grossing_Japanese_films_worldwide'"
      ]
    },
    {
      "cell_type": "code",
      "execution_count": 17,
      "metadata": {
        "id": "gBxvT1Aup-QP"
      },
      "outputs": [],
      "source": [
        "res = requests.get(path)\n",
        "\n",
        "wiki_html = res.text\n",
        "htmlparser = etree.HTMLParser()\n",
        "try:\n",
        "    # This one should work\n",
        "    tree = etree.parse(io.StringIO(wiki_html), parser=htmlparser)\n",
        "    # root of the whole wiki page in HTML\n",
        "    root0 = tree.getroot()\n",
        "except:\n",
        "    print(\"Failed to parse as HTML\")\n",
        "node0 = root0.xpath(\"//table[contains(@class,'plainrowheaders')]\")\n",
        "# node0 = root0.xpath(\"//table[position()=1]\")"
      ]
    },
    {
      "cell_type": "markdown",
      "metadata": {
        "id": "xmUnkLZfpz1A"
      },
      "source": [
        "Based on the data from the url, we create three DataFrames that reflect 3 lists of top Japanese anime movie: \n",
        "* Top 50 highest gross Japanese films worldwide - df0\n",
        "* Top 50 highest gross japanese films in Japan - df1\n",
        "* Top 50 box ticket sales all the time - df2\n",
        "\n",
        "These lists help us answer the main question: What are the predictors for a high-grossing anime (only box office earnings), among rankings, number of views, ratings, franchise revenues, and anime formats?"
      ]
    },
    {
      "cell_type": "code",
      "execution_count": 18,
      "metadata": {
        "colab": {
          "base_uri": "https://localhost:8080/"
        },
        "id": "_RfGpnxTq9Ff",
        "outputId": "87bbe59d-87af-408f-8893-aa481af8d809"
      },
      "outputs": [
        {
          "output_type": "stream",
          "name": "stdout",
          "text": [
            "[['Demon Slayer the Movie: Mugen Train', 506523013, '2020', 'Anime', 0], ['Spirited Away', 395580000, '2001', 'Anime', 0], ['Your Name', 380140500, '2016', 'Anime', 0], [\"Howl's Moving Castle\", 236323601, '2004', 'Anime', 0], ['One Piece Film: Red', 206740295, '2022', 'Anime', 0], ['Ponyo', 204826668, '2008', 'Anime', 0], ['Jujutsu Kaisen 0', 195870885, '2021', 'Anime', 0], ['Weathering with You', 193715360, '2019', 'Anime', 0], ['Stand by Me Doraemon', 183442714, '2014', 'Anime', 0], ['Pokémon: The First Movie', 172744662, '1998', 'Anime', 0], ['Princess Mononoke', 170005875, '1997', 'Anime', 0], ['Bayside Shakedown 2', 164450000, '2003', 0, 0], ['The Secret World of Arrietty', 149411550, '2010', 'Anime', 0], ['The Wind Rises', 136533257, '2013', 'Anime', 0], ['Pokémon: The Movie 2000', 133949270, '1999', 'Anime', 0], ['Dragon Ball Super: Broly', 122747755, '2018', 'Anime', 0], ['Detective Conan: The Fist of Blue Sapphire', 115570314, '2019', 'Anime', 0], ['Bayside Shakedown: The Movie', 115000000, '1998', 'Live-action', 0], ['Detective Conan: Zero the Enforcer', 108207000, '2018', 'Anime', 0], ['The Adventures of Milo and Otis', 104121749, '1986', 'Live-action', 0], ['Detective Conan: The Scarlet Bullet', 102541282, '2021', 'Anime', 0], ['Antarctica', 101000000, '1983', 'Live-action', 0], ['Yo-kai Watch: The Movie', 99481307, '2014', 'Anime', 0], ['Umizaru 3: The Last Message', 98663381, '2010', 'Live-action', 0], ['One Piece: Stampede', 93000000, '2019', 'Anime', 0], ['Evangelion: 3.0+1.0 Thrice Upon a Time', 92246218, '2021', 'Anime', 0], ['Brave Hearts: Umizaru', 91884352, '2012', 'Live-action', 0], ['Rookies: Graduation', 88055243, '2009', 'Live-action', 0], ['Nodame Cantabile: The Movie II', 86192740, '2010', 'Live-action', 0], ['Bayside Shakedown 3', 85347374, '2010', 'Live-action', 0], ['Dragon Ball Super: Super Hero', 85100000, '2022', 'Anime', 0], ['The Eternal Zero', 84500000, '2013', 'Live-action', 0], [\"Doraemon the Movie: Nobita's Treasure Island\", 80920916, '2018', 'Anime', 0], ['Hero', 80400000, '2007', 'Live-action', 0], ['Code Blue: The Movie', 78778562, '2018', 'Live-action', 0], ['Shin Godzilla', 78053145, '2016', 'Live-action', 0], ['Tales from Earthsea', 75500000, '2006', 'Anime', 0], ['Thermae Romae', 75387554, '2012', 'Live-action', 0], ['Crying Out Love, in the Center of the World', 74849073, '2004', 'Live-action', 0], ['One Piece Film: Z', 74223861, '2012', 'Anime', 0], ['The Silk Road', 74123959, '1988', 'Live-action', 0], ['Detective Conan: The Bride of Halloween', 73766887, '2022', 'Anime', 0], ['Bayside Shakedown: The Final', 72867395, '2012', 'Live-action', 0], ['Hana Yori Dango Final', 72243609, '2008', 'Live-action', 0], ['Pokémon Zoroark: Master of Illusions', 71143529, '2010', 'Anime', 0], ['Pokémon 3: The Movie', 68411275, '2000', 'Anime', 0], ['Shoplifters', 67999335, '2018', 'Live-action', 0], ['Detective Conan: The Darkest Nightmare', 66265957, '2016', 'Anime', 0], ['One Piece Film: Gold', 66207073, '2016', 'Anime', 0], [\"Doraemon: Nobita's Chronicle of the Moon Exploration\", 65406606, '2019', 'Anime', 0]]\n"
          ]
        }
      ],
      "source": [
        "#Top 50 highest gross Japanese films worldwide\n",
        "table0, columns0, index0 = performXML(node0,0)\n",
        "table0[0][3] = 'Anime'\n",
        "table0[3][0] = \"Howl's Moving Castle\"\n",
        "for x in table0:\n",
        "  a = x[1][1:]\n",
        "  a = a.replace(',', '')\n",
        "  a = a.replace('$', '')\n",
        "  x[1] = int(a)\n",
        "print (table0)"
      ]
    },
    {
      "cell_type": "code",
      "source": [
        "df0 = pd.DataFrame(table0)\n",
        "df0.columns = ['Movie name', 'Revenue (USD)', 'Year release', 'Genre', 'a']\n",
        "df0"
      ],
      "metadata": {
        "id": "AUdodakDIg4z",
        "colab": {
          "base_uri": "https://localhost:8080/",
          "height": 1000
        },
        "outputId": "69ba6e7e-e683-45c9-ad55-0c9c31b183c4"
      },
      "execution_count": 19,
      "outputs": [
        {
          "output_type": "execute_result",
          "data": {
            "text/plain": [
              "                                           Movie name  Revenue (USD)  \\\n",
              "0                 Demon Slayer the Movie: Mugen Train      506523013   \n",
              "1                                       Spirited Away      395580000   \n",
              "2                                           Your Name      380140500   \n",
              "3                                Howl's Moving Castle      236323601   \n",
              "4                                 One Piece Film: Red      206740295   \n",
              "5                                               Ponyo      204826668   \n",
              "6                                    Jujutsu Kaisen 0      195870885   \n",
              "7                                 Weathering with You      193715360   \n",
              "8                                Stand by Me Doraemon      183442714   \n",
              "9                            Pokémon: The First Movie      172744662   \n",
              "10                                  Princess Mononoke      170005875   \n",
              "11                                Bayside Shakedown 2      164450000   \n",
              "12                       The Secret World of Arrietty      149411550   \n",
              "13                                     The Wind Rises      136533257   \n",
              "14                            Pokémon: The Movie 2000      133949270   \n",
              "15                           Dragon Ball Super: Broly      122747755   \n",
              "16         Detective Conan: The Fist of Blue Sapphire      115570314   \n",
              "17                       Bayside Shakedown: The Movie      115000000   \n",
              "18                 Detective Conan: Zero the Enforcer      108207000   \n",
              "19                    The Adventures of Milo and Otis      104121749   \n",
              "20                Detective Conan: The Scarlet Bullet      102541282   \n",
              "21                                         Antarctica      101000000   \n",
              "22                            Yo-kai Watch: The Movie       99481307   \n",
              "23                        Umizaru 3: The Last Message       98663381   \n",
              "24                                One Piece: Stampede       93000000   \n",
              "25             Evangelion: 3.0+1.0 Thrice Upon a Time       92246218   \n",
              "26                              Brave Hearts: Umizaru       91884352   \n",
              "27                                Rookies: Graduation       88055243   \n",
              "28                     Nodame Cantabile: The Movie II       86192740   \n",
              "29                                Bayside Shakedown 3       85347374   \n",
              "30                      Dragon Ball Super: Super Hero       85100000   \n",
              "31                                   The Eternal Zero       84500000   \n",
              "32       Doraemon the Movie: Nobita's Treasure Island       80920916   \n",
              "33                                               Hero       80400000   \n",
              "34                               Code Blue: The Movie       78778562   \n",
              "35                                      Shin Godzilla       78053145   \n",
              "36                                Tales from Earthsea       75500000   \n",
              "37                                      Thermae Romae       75387554   \n",
              "38        Crying Out Love, in the Center of the World       74849073   \n",
              "39                                  One Piece Film: Z       74223861   \n",
              "40                                      The Silk Road       74123959   \n",
              "41            Detective Conan: The Bride of Halloween       73766887   \n",
              "42                       Bayside Shakedown: The Final       72867395   \n",
              "43                              Hana Yori Dango Final       72243609   \n",
              "44               Pokémon Zoroark: Master of Illusions       71143529   \n",
              "45                               Pokémon 3: The Movie       68411275   \n",
              "46                                        Shoplifters       67999335   \n",
              "47             Detective Conan: The Darkest Nightmare       66265957   \n",
              "48                               One Piece Film: Gold       66207073   \n",
              "49  Doraemon: Nobita's Chronicle of the Moon Explo...       65406606   \n",
              "\n",
              "   Year release        Genre  a  \n",
              "0          2020        Anime  0  \n",
              "1          2001        Anime  0  \n",
              "2          2016        Anime  0  \n",
              "3          2004        Anime  0  \n",
              "4          2022        Anime  0  \n",
              "5          2008        Anime  0  \n",
              "6          2021        Anime  0  \n",
              "7          2019        Anime  0  \n",
              "8          2014        Anime  0  \n",
              "9          1998        Anime  0  \n",
              "10         1997        Anime  0  \n",
              "11         2003            0  0  \n",
              "12         2010        Anime  0  \n",
              "13         2013        Anime  0  \n",
              "14         1999        Anime  0  \n",
              "15         2018        Anime  0  \n",
              "16         2019        Anime  0  \n",
              "17         1998  Live-action  0  \n",
              "18         2018        Anime  0  \n",
              "19         1986  Live-action  0  \n",
              "20         2021        Anime  0  \n",
              "21         1983  Live-action  0  \n",
              "22         2014        Anime  0  \n",
              "23         2010  Live-action  0  \n",
              "24         2019        Anime  0  \n",
              "25         2021        Anime  0  \n",
              "26         2012  Live-action  0  \n",
              "27         2009  Live-action  0  \n",
              "28         2010  Live-action  0  \n",
              "29         2010  Live-action  0  \n",
              "30         2022        Anime  0  \n",
              "31         2013  Live-action  0  \n",
              "32         2018        Anime  0  \n",
              "33         2007  Live-action  0  \n",
              "34         2018  Live-action  0  \n",
              "35         2016  Live-action  0  \n",
              "36         2006        Anime  0  \n",
              "37         2012  Live-action  0  \n",
              "38         2004  Live-action  0  \n",
              "39         2012        Anime  0  \n",
              "40         1988  Live-action  0  \n",
              "41         2022        Anime  0  \n",
              "42         2012  Live-action  0  \n",
              "43         2008  Live-action  0  \n",
              "44         2010        Anime  0  \n",
              "45         2000        Anime  0  \n",
              "46         2018  Live-action  0  \n",
              "47         2016        Anime  0  \n",
              "48         2016        Anime  0  \n",
              "49         2019        Anime  0  "
            ],
            "text/html": [
              "\n",
              "  <div id=\"df-02b33dd5-12d5-437f-8de8-33e328bf6855\">\n",
              "    <div class=\"colab-df-container\">\n",
              "      <div>\n",
              "<style scoped>\n",
              "    .dataframe tbody tr th:only-of-type {\n",
              "        vertical-align: middle;\n",
              "    }\n",
              "\n",
              "    .dataframe tbody tr th {\n",
              "        vertical-align: top;\n",
              "    }\n",
              "\n",
              "    .dataframe thead th {\n",
              "        text-align: right;\n",
              "    }\n",
              "</style>\n",
              "<table border=\"1\" class=\"dataframe\">\n",
              "  <thead>\n",
              "    <tr style=\"text-align: right;\">\n",
              "      <th></th>\n",
              "      <th>Movie name</th>\n",
              "      <th>Revenue (USD)</th>\n",
              "      <th>Year release</th>\n",
              "      <th>Genre</th>\n",
              "      <th>a</th>\n",
              "    </tr>\n",
              "  </thead>\n",
              "  <tbody>\n",
              "    <tr>\n",
              "      <th>0</th>\n",
              "      <td>Demon Slayer the Movie: Mugen Train</td>\n",
              "      <td>506523013</td>\n",
              "      <td>2020</td>\n",
              "      <td>Anime</td>\n",
              "      <td>0</td>\n",
              "    </tr>\n",
              "    <tr>\n",
              "      <th>1</th>\n",
              "      <td>Spirited Away</td>\n",
              "      <td>395580000</td>\n",
              "      <td>2001</td>\n",
              "      <td>Anime</td>\n",
              "      <td>0</td>\n",
              "    </tr>\n",
              "    <tr>\n",
              "      <th>2</th>\n",
              "      <td>Your Name</td>\n",
              "      <td>380140500</td>\n",
              "      <td>2016</td>\n",
              "      <td>Anime</td>\n",
              "      <td>0</td>\n",
              "    </tr>\n",
              "    <tr>\n",
              "      <th>3</th>\n",
              "      <td>Howl's Moving Castle</td>\n",
              "      <td>236323601</td>\n",
              "      <td>2004</td>\n",
              "      <td>Anime</td>\n",
              "      <td>0</td>\n",
              "    </tr>\n",
              "    <tr>\n",
              "      <th>4</th>\n",
              "      <td>One Piece Film: Red</td>\n",
              "      <td>206740295</td>\n",
              "      <td>2022</td>\n",
              "      <td>Anime</td>\n",
              "      <td>0</td>\n",
              "    </tr>\n",
              "    <tr>\n",
              "      <th>5</th>\n",
              "      <td>Ponyo</td>\n",
              "      <td>204826668</td>\n",
              "      <td>2008</td>\n",
              "      <td>Anime</td>\n",
              "      <td>0</td>\n",
              "    </tr>\n",
              "    <tr>\n",
              "      <th>6</th>\n",
              "      <td>Jujutsu Kaisen 0</td>\n",
              "      <td>195870885</td>\n",
              "      <td>2021</td>\n",
              "      <td>Anime</td>\n",
              "      <td>0</td>\n",
              "    </tr>\n",
              "    <tr>\n",
              "      <th>7</th>\n",
              "      <td>Weathering with You</td>\n",
              "      <td>193715360</td>\n",
              "      <td>2019</td>\n",
              "      <td>Anime</td>\n",
              "      <td>0</td>\n",
              "    </tr>\n",
              "    <tr>\n",
              "      <th>8</th>\n",
              "      <td>Stand by Me Doraemon</td>\n",
              "      <td>183442714</td>\n",
              "      <td>2014</td>\n",
              "      <td>Anime</td>\n",
              "      <td>0</td>\n",
              "    </tr>\n",
              "    <tr>\n",
              "      <th>9</th>\n",
              "      <td>Pokémon: The First Movie</td>\n",
              "      <td>172744662</td>\n",
              "      <td>1998</td>\n",
              "      <td>Anime</td>\n",
              "      <td>0</td>\n",
              "    </tr>\n",
              "    <tr>\n",
              "      <th>10</th>\n",
              "      <td>Princess Mononoke</td>\n",
              "      <td>170005875</td>\n",
              "      <td>1997</td>\n",
              "      <td>Anime</td>\n",
              "      <td>0</td>\n",
              "    </tr>\n",
              "    <tr>\n",
              "      <th>11</th>\n",
              "      <td>Bayside Shakedown 2</td>\n",
              "      <td>164450000</td>\n",
              "      <td>2003</td>\n",
              "      <td>0</td>\n",
              "      <td>0</td>\n",
              "    </tr>\n",
              "    <tr>\n",
              "      <th>12</th>\n",
              "      <td>The Secret World of Arrietty</td>\n",
              "      <td>149411550</td>\n",
              "      <td>2010</td>\n",
              "      <td>Anime</td>\n",
              "      <td>0</td>\n",
              "    </tr>\n",
              "    <tr>\n",
              "      <th>13</th>\n",
              "      <td>The Wind Rises</td>\n",
              "      <td>136533257</td>\n",
              "      <td>2013</td>\n",
              "      <td>Anime</td>\n",
              "      <td>0</td>\n",
              "    </tr>\n",
              "    <tr>\n",
              "      <th>14</th>\n",
              "      <td>Pokémon: The Movie 2000</td>\n",
              "      <td>133949270</td>\n",
              "      <td>1999</td>\n",
              "      <td>Anime</td>\n",
              "      <td>0</td>\n",
              "    </tr>\n",
              "    <tr>\n",
              "      <th>15</th>\n",
              "      <td>Dragon Ball Super: Broly</td>\n",
              "      <td>122747755</td>\n",
              "      <td>2018</td>\n",
              "      <td>Anime</td>\n",
              "      <td>0</td>\n",
              "    </tr>\n",
              "    <tr>\n",
              "      <th>16</th>\n",
              "      <td>Detective Conan: The Fist of Blue Sapphire</td>\n",
              "      <td>115570314</td>\n",
              "      <td>2019</td>\n",
              "      <td>Anime</td>\n",
              "      <td>0</td>\n",
              "    </tr>\n",
              "    <tr>\n",
              "      <th>17</th>\n",
              "      <td>Bayside Shakedown: The Movie</td>\n",
              "      <td>115000000</td>\n",
              "      <td>1998</td>\n",
              "      <td>Live-action</td>\n",
              "      <td>0</td>\n",
              "    </tr>\n",
              "    <tr>\n",
              "      <th>18</th>\n",
              "      <td>Detective Conan: Zero the Enforcer</td>\n",
              "      <td>108207000</td>\n",
              "      <td>2018</td>\n",
              "      <td>Anime</td>\n",
              "      <td>0</td>\n",
              "    </tr>\n",
              "    <tr>\n",
              "      <th>19</th>\n",
              "      <td>The Adventures of Milo and Otis</td>\n",
              "      <td>104121749</td>\n",
              "      <td>1986</td>\n",
              "      <td>Live-action</td>\n",
              "      <td>0</td>\n",
              "    </tr>\n",
              "    <tr>\n",
              "      <th>20</th>\n",
              "      <td>Detective Conan: The Scarlet Bullet</td>\n",
              "      <td>102541282</td>\n",
              "      <td>2021</td>\n",
              "      <td>Anime</td>\n",
              "      <td>0</td>\n",
              "    </tr>\n",
              "    <tr>\n",
              "      <th>21</th>\n",
              "      <td>Antarctica</td>\n",
              "      <td>101000000</td>\n",
              "      <td>1983</td>\n",
              "      <td>Live-action</td>\n",
              "      <td>0</td>\n",
              "    </tr>\n",
              "    <tr>\n",
              "      <th>22</th>\n",
              "      <td>Yo-kai Watch: The Movie</td>\n",
              "      <td>99481307</td>\n",
              "      <td>2014</td>\n",
              "      <td>Anime</td>\n",
              "      <td>0</td>\n",
              "    </tr>\n",
              "    <tr>\n",
              "      <th>23</th>\n",
              "      <td>Umizaru 3: The Last Message</td>\n",
              "      <td>98663381</td>\n",
              "      <td>2010</td>\n",
              "      <td>Live-action</td>\n",
              "      <td>0</td>\n",
              "    </tr>\n",
              "    <tr>\n",
              "      <th>24</th>\n",
              "      <td>One Piece: Stampede</td>\n",
              "      <td>93000000</td>\n",
              "      <td>2019</td>\n",
              "      <td>Anime</td>\n",
              "      <td>0</td>\n",
              "    </tr>\n",
              "    <tr>\n",
              "      <th>25</th>\n",
              "      <td>Evangelion: 3.0+1.0 Thrice Upon a Time</td>\n",
              "      <td>92246218</td>\n",
              "      <td>2021</td>\n",
              "      <td>Anime</td>\n",
              "      <td>0</td>\n",
              "    </tr>\n",
              "    <tr>\n",
              "      <th>26</th>\n",
              "      <td>Brave Hearts: Umizaru</td>\n",
              "      <td>91884352</td>\n",
              "      <td>2012</td>\n",
              "      <td>Live-action</td>\n",
              "      <td>0</td>\n",
              "    </tr>\n",
              "    <tr>\n",
              "      <th>27</th>\n",
              "      <td>Rookies: Graduation</td>\n",
              "      <td>88055243</td>\n",
              "      <td>2009</td>\n",
              "      <td>Live-action</td>\n",
              "      <td>0</td>\n",
              "    </tr>\n",
              "    <tr>\n",
              "      <th>28</th>\n",
              "      <td>Nodame Cantabile: The Movie II</td>\n",
              "      <td>86192740</td>\n",
              "      <td>2010</td>\n",
              "      <td>Live-action</td>\n",
              "      <td>0</td>\n",
              "    </tr>\n",
              "    <tr>\n",
              "      <th>29</th>\n",
              "      <td>Bayside Shakedown 3</td>\n",
              "      <td>85347374</td>\n",
              "      <td>2010</td>\n",
              "      <td>Live-action</td>\n",
              "      <td>0</td>\n",
              "    </tr>\n",
              "    <tr>\n",
              "      <th>30</th>\n",
              "      <td>Dragon Ball Super: Super Hero</td>\n",
              "      <td>85100000</td>\n",
              "      <td>2022</td>\n",
              "      <td>Anime</td>\n",
              "      <td>0</td>\n",
              "    </tr>\n",
              "    <tr>\n",
              "      <th>31</th>\n",
              "      <td>The Eternal Zero</td>\n",
              "      <td>84500000</td>\n",
              "      <td>2013</td>\n",
              "      <td>Live-action</td>\n",
              "      <td>0</td>\n",
              "    </tr>\n",
              "    <tr>\n",
              "      <th>32</th>\n",
              "      <td>Doraemon the Movie: Nobita's Treasure Island</td>\n",
              "      <td>80920916</td>\n",
              "      <td>2018</td>\n",
              "      <td>Anime</td>\n",
              "      <td>0</td>\n",
              "    </tr>\n",
              "    <tr>\n",
              "      <th>33</th>\n",
              "      <td>Hero</td>\n",
              "      <td>80400000</td>\n",
              "      <td>2007</td>\n",
              "      <td>Live-action</td>\n",
              "      <td>0</td>\n",
              "    </tr>\n",
              "    <tr>\n",
              "      <th>34</th>\n",
              "      <td>Code Blue: The Movie</td>\n",
              "      <td>78778562</td>\n",
              "      <td>2018</td>\n",
              "      <td>Live-action</td>\n",
              "      <td>0</td>\n",
              "    </tr>\n",
              "    <tr>\n",
              "      <th>35</th>\n",
              "      <td>Shin Godzilla</td>\n",
              "      <td>78053145</td>\n",
              "      <td>2016</td>\n",
              "      <td>Live-action</td>\n",
              "      <td>0</td>\n",
              "    </tr>\n",
              "    <tr>\n",
              "      <th>36</th>\n",
              "      <td>Tales from Earthsea</td>\n",
              "      <td>75500000</td>\n",
              "      <td>2006</td>\n",
              "      <td>Anime</td>\n",
              "      <td>0</td>\n",
              "    </tr>\n",
              "    <tr>\n",
              "      <th>37</th>\n",
              "      <td>Thermae Romae</td>\n",
              "      <td>75387554</td>\n",
              "      <td>2012</td>\n",
              "      <td>Live-action</td>\n",
              "      <td>0</td>\n",
              "    </tr>\n",
              "    <tr>\n",
              "      <th>38</th>\n",
              "      <td>Crying Out Love, in the Center of the World</td>\n",
              "      <td>74849073</td>\n",
              "      <td>2004</td>\n",
              "      <td>Live-action</td>\n",
              "      <td>0</td>\n",
              "    </tr>\n",
              "    <tr>\n",
              "      <th>39</th>\n",
              "      <td>One Piece Film: Z</td>\n",
              "      <td>74223861</td>\n",
              "      <td>2012</td>\n",
              "      <td>Anime</td>\n",
              "      <td>0</td>\n",
              "    </tr>\n",
              "    <tr>\n",
              "      <th>40</th>\n",
              "      <td>The Silk Road</td>\n",
              "      <td>74123959</td>\n",
              "      <td>1988</td>\n",
              "      <td>Live-action</td>\n",
              "      <td>0</td>\n",
              "    </tr>\n",
              "    <tr>\n",
              "      <th>41</th>\n",
              "      <td>Detective Conan: The Bride of Halloween</td>\n",
              "      <td>73766887</td>\n",
              "      <td>2022</td>\n",
              "      <td>Anime</td>\n",
              "      <td>0</td>\n",
              "    </tr>\n",
              "    <tr>\n",
              "      <th>42</th>\n",
              "      <td>Bayside Shakedown: The Final</td>\n",
              "      <td>72867395</td>\n",
              "      <td>2012</td>\n",
              "      <td>Live-action</td>\n",
              "      <td>0</td>\n",
              "    </tr>\n",
              "    <tr>\n",
              "      <th>43</th>\n",
              "      <td>Hana Yori Dango Final</td>\n",
              "      <td>72243609</td>\n",
              "      <td>2008</td>\n",
              "      <td>Live-action</td>\n",
              "      <td>0</td>\n",
              "    </tr>\n",
              "    <tr>\n",
              "      <th>44</th>\n",
              "      <td>Pokémon Zoroark: Master of Illusions</td>\n",
              "      <td>71143529</td>\n",
              "      <td>2010</td>\n",
              "      <td>Anime</td>\n",
              "      <td>0</td>\n",
              "    </tr>\n",
              "    <tr>\n",
              "      <th>45</th>\n",
              "      <td>Pokémon 3: The Movie</td>\n",
              "      <td>68411275</td>\n",
              "      <td>2000</td>\n",
              "      <td>Anime</td>\n",
              "      <td>0</td>\n",
              "    </tr>\n",
              "    <tr>\n",
              "      <th>46</th>\n",
              "      <td>Shoplifters</td>\n",
              "      <td>67999335</td>\n",
              "      <td>2018</td>\n",
              "      <td>Live-action</td>\n",
              "      <td>0</td>\n",
              "    </tr>\n",
              "    <tr>\n",
              "      <th>47</th>\n",
              "      <td>Detective Conan: The Darkest Nightmare</td>\n",
              "      <td>66265957</td>\n",
              "      <td>2016</td>\n",
              "      <td>Anime</td>\n",
              "      <td>0</td>\n",
              "    </tr>\n",
              "    <tr>\n",
              "      <th>48</th>\n",
              "      <td>One Piece Film: Gold</td>\n",
              "      <td>66207073</td>\n",
              "      <td>2016</td>\n",
              "      <td>Anime</td>\n",
              "      <td>0</td>\n",
              "    </tr>\n",
              "    <tr>\n",
              "      <th>49</th>\n",
              "      <td>Doraemon: Nobita's Chronicle of the Moon Explo...</td>\n",
              "      <td>65406606</td>\n",
              "      <td>2019</td>\n",
              "      <td>Anime</td>\n",
              "      <td>0</td>\n",
              "    </tr>\n",
              "  </tbody>\n",
              "</table>\n",
              "</div>\n",
              "      <button class=\"colab-df-convert\" onclick=\"convertToInteractive('df-02b33dd5-12d5-437f-8de8-33e328bf6855')\"\n",
              "              title=\"Convert this dataframe to an interactive table.\"\n",
              "              style=\"display:none;\">\n",
              "        \n",
              "  <svg xmlns=\"http://www.w3.org/2000/svg\" height=\"24px\"viewBox=\"0 0 24 24\"\n",
              "       width=\"24px\">\n",
              "    <path d=\"M0 0h24v24H0V0z\" fill=\"none\"/>\n",
              "    <path d=\"M18.56 5.44l.94 2.06.94-2.06 2.06-.94-2.06-.94-.94-2.06-.94 2.06-2.06.94zm-11 1L8.5 8.5l.94-2.06 2.06-.94-2.06-.94L8.5 2.5l-.94 2.06-2.06.94zm10 10l.94 2.06.94-2.06 2.06-.94-2.06-.94-.94-2.06-.94 2.06-2.06.94z\"/><path d=\"M17.41 7.96l-1.37-1.37c-.4-.4-.92-.59-1.43-.59-.52 0-1.04.2-1.43.59L10.3 9.45l-7.72 7.72c-.78.78-.78 2.05 0 2.83L4 21.41c.39.39.9.59 1.41.59.51 0 1.02-.2 1.41-.59l7.78-7.78 2.81-2.81c.8-.78.8-2.07 0-2.86zM5.41 20L4 18.59l7.72-7.72 1.47 1.35L5.41 20z\"/>\n",
              "  </svg>\n",
              "      </button>\n",
              "      \n",
              "  <style>\n",
              "    .colab-df-container {\n",
              "      display:flex;\n",
              "      flex-wrap:wrap;\n",
              "      gap: 12px;\n",
              "    }\n",
              "\n",
              "    .colab-df-convert {\n",
              "      background-color: #E8F0FE;\n",
              "      border: none;\n",
              "      border-radius: 50%;\n",
              "      cursor: pointer;\n",
              "      display: none;\n",
              "      fill: #1967D2;\n",
              "      height: 32px;\n",
              "      padding: 0 0 0 0;\n",
              "      width: 32px;\n",
              "    }\n",
              "\n",
              "    .colab-df-convert:hover {\n",
              "      background-color: #E2EBFA;\n",
              "      box-shadow: 0px 1px 2px rgba(60, 64, 67, 0.3), 0px 1px 3px 1px rgba(60, 64, 67, 0.15);\n",
              "      fill: #174EA6;\n",
              "    }\n",
              "\n",
              "    [theme=dark] .colab-df-convert {\n",
              "      background-color: #3B4455;\n",
              "      fill: #D2E3FC;\n",
              "    }\n",
              "\n",
              "    [theme=dark] .colab-df-convert:hover {\n",
              "      background-color: #434B5C;\n",
              "      box-shadow: 0px 1px 3px 1px rgba(0, 0, 0, 0.15);\n",
              "      filter: drop-shadow(0px 1px 2px rgba(0, 0, 0, 0.3));\n",
              "      fill: #FFFFFF;\n",
              "    }\n",
              "  </style>\n",
              "\n",
              "      <script>\n",
              "        const buttonEl =\n",
              "          document.querySelector('#df-02b33dd5-12d5-437f-8de8-33e328bf6855 button.colab-df-convert');\n",
              "        buttonEl.style.display =\n",
              "          google.colab.kernel.accessAllowed ? 'block' : 'none';\n",
              "\n",
              "        async function convertToInteractive(key) {\n",
              "          const element = document.querySelector('#df-02b33dd5-12d5-437f-8de8-33e328bf6855');\n",
              "          const dataTable =\n",
              "            await google.colab.kernel.invokeFunction('convertToInteractive',\n",
              "                                                     [key], {});\n",
              "          if (!dataTable) return;\n",
              "\n",
              "          const docLinkHtml = 'Like what you see? Visit the ' +\n",
              "            '<a target=\"_blank\" href=https://colab.research.google.com/notebooks/data_table.ipynb>data table notebook</a>'\n",
              "            + ' to learn more about interactive tables.';\n",
              "          element.innerHTML = '';\n",
              "          dataTable['output_type'] = 'display_data';\n",
              "          await google.colab.output.renderOutput(dataTable, element);\n",
              "          const docLink = document.createElement('div');\n",
              "          docLink.innerHTML = docLinkHtml;\n",
              "          element.appendChild(docLink);\n",
              "        }\n",
              "      </script>\n",
              "    </div>\n",
              "  </div>\n",
              "  "
            ]
          },
          "metadata": {},
          "execution_count": 19
        }
      ]
    },
    {
      "cell_type": "markdown",
      "metadata": {
        "id": "TkemgSo1p5EF"
      },
      "source": [
        "For dataframe df0 - \"Top 50 highest gross Japanese films worldwide\", we have three predictors : the year released of the movie, the movie revenue and the movie genre. These data will be used to compare Japanese films' revenue, year release, and genres in the location of Japan."
      ]
    },
    {
      "cell_type": "code",
      "execution_count": 20,
      "metadata": {
        "id": "_9IxunRO0txN",
        "colab": {
          "base_uri": "https://localhost:8080/",
          "height": 882
        },
        "outputId": "6478edc8-3d60-445c-b1a5-2a9c18fb47dd"
      },
      "outputs": [
        {
          "output_type": "stream",
          "name": "stdout",
          "text": [
            "26\n"
          ]
        },
        {
          "output_type": "execute_result",
          "data": {
            "text/plain": [
              "                                     Movie name  Revenue (Yen) Year release  \\\n",
              "0           Demon Slayer the Movie: Mugen Train    40430000000         2020   \n",
              "1                                 Spirited Away    31680000000         2001   \n",
              "2                                     Your Name    25030000000         2016   \n",
              "3                             Princess Mononoke    20180000000         1997   \n",
              "4                          Howl's Moving Castle    19600000000         2004   \n",
              "5                           One Piece Film: Red    18670000000         2022   \n",
              "6                           Bayside Shakedown 2    17350000000         2003   \n",
              "7                                         Ponyo    15500000000         2008   \n",
              "8                           Weathering with You    14190000000         2019   \n",
              "9                              Jujutsu Kaisen 0    13750000000         2021   \n",
              "10                               The Wind Rises    12020000000         2013   \n",
              "11                                   Antarctica    11000000000         1983   \n",
              "12       Evangelion: 3.0+1.0 Thrice Upon a Time    10280000000         2021   \n",
              "13                 Bayside Shakedown: The Movie    10100000000         1998   \n",
              "14              The Adventures of Milo and Otis     9800000000         1986   \n",
              "15      Detective Conan: The Bride of Halloween     9740000000         2022   \n",
              "16   Detective Conan: The Fist of Blue Sapphire     9370000000         2019   \n",
              "17                         Code Blue: The Movie     9300000000         2018   \n",
              "18                                     Arrietty     9260000000         2010   \n",
              "19                             Heaven and Earth     9200000000         1990   \n",
              "20           Detective Conan: Zero the Enforcer     9180000000         2018   \n",
              "21                             The Eternal Zero     8760000000         2013   \n",
              "22                          Rookies: Graduation     8550000000         2009   \n",
              "23  Crying Out Love, in the Center of the World     8500000000         2004   \n",
              "24                         Stand by Me Doraemon     8380000000         2014   \n",
              "25                                Shin Godzilla     8250000000         2016   \n",
              "\n",
              "          Genre  Other  \n",
              "0         Anime      0  \n",
              "1         Anime      0  \n",
              "2         Anime      0  \n",
              "3         Anime      0  \n",
              "4         Anime      0  \n",
              "5         Anime      0  \n",
              "6   Live-action      0  \n",
              "7         Anime      0  \n",
              "8         Anime      0  \n",
              "9         Anime      0  \n",
              "10        Anime      0  \n",
              "11  Live-action      0  \n",
              "12        Anime      0  \n",
              "13  Live-action      0  \n",
              "14  Live-action      0  \n",
              "15        Anime      0  \n",
              "16        Anime      0  \n",
              "17  Live-action      0  \n",
              "18        Anime      0  \n",
              "19  Live-action      0  \n",
              "20        Anime      0  \n",
              "21  Live-action      0  \n",
              "22  Live-action      0  \n",
              "23  Live-action      0  \n",
              "24        Anime      0  \n",
              "25  Live-action      0  "
            ],
            "text/html": [
              "\n",
              "  <div id=\"df-f8d03ae3-6d65-4021-88b5-43e744b4f6e5\">\n",
              "    <div class=\"colab-df-container\">\n",
              "      <div>\n",
              "<style scoped>\n",
              "    .dataframe tbody tr th:only-of-type {\n",
              "        vertical-align: middle;\n",
              "    }\n",
              "\n",
              "    .dataframe tbody tr th {\n",
              "        vertical-align: top;\n",
              "    }\n",
              "\n",
              "    .dataframe thead th {\n",
              "        text-align: right;\n",
              "    }\n",
              "</style>\n",
              "<table border=\"1\" class=\"dataframe\">\n",
              "  <thead>\n",
              "    <tr style=\"text-align: right;\">\n",
              "      <th></th>\n",
              "      <th>Movie name</th>\n",
              "      <th>Revenue (Yen)</th>\n",
              "      <th>Year release</th>\n",
              "      <th>Genre</th>\n",
              "      <th>Other</th>\n",
              "    </tr>\n",
              "  </thead>\n",
              "  <tbody>\n",
              "    <tr>\n",
              "      <th>0</th>\n",
              "      <td>Demon Slayer the Movie: Mugen Train</td>\n",
              "      <td>40430000000</td>\n",
              "      <td>2020</td>\n",
              "      <td>Anime</td>\n",
              "      <td>0</td>\n",
              "    </tr>\n",
              "    <tr>\n",
              "      <th>1</th>\n",
              "      <td>Spirited Away</td>\n",
              "      <td>31680000000</td>\n",
              "      <td>2001</td>\n",
              "      <td>Anime</td>\n",
              "      <td>0</td>\n",
              "    </tr>\n",
              "    <tr>\n",
              "      <th>2</th>\n",
              "      <td>Your Name</td>\n",
              "      <td>25030000000</td>\n",
              "      <td>2016</td>\n",
              "      <td>Anime</td>\n",
              "      <td>0</td>\n",
              "    </tr>\n",
              "    <tr>\n",
              "      <th>3</th>\n",
              "      <td>Princess Mononoke</td>\n",
              "      <td>20180000000</td>\n",
              "      <td>1997</td>\n",
              "      <td>Anime</td>\n",
              "      <td>0</td>\n",
              "    </tr>\n",
              "    <tr>\n",
              "      <th>4</th>\n",
              "      <td>Howl's Moving Castle</td>\n",
              "      <td>19600000000</td>\n",
              "      <td>2004</td>\n",
              "      <td>Anime</td>\n",
              "      <td>0</td>\n",
              "    </tr>\n",
              "    <tr>\n",
              "      <th>5</th>\n",
              "      <td>One Piece Film: Red</td>\n",
              "      <td>18670000000</td>\n",
              "      <td>2022</td>\n",
              "      <td>Anime</td>\n",
              "      <td>0</td>\n",
              "    </tr>\n",
              "    <tr>\n",
              "      <th>6</th>\n",
              "      <td>Bayside Shakedown 2</td>\n",
              "      <td>17350000000</td>\n",
              "      <td>2003</td>\n",
              "      <td>Live-action</td>\n",
              "      <td>0</td>\n",
              "    </tr>\n",
              "    <tr>\n",
              "      <th>7</th>\n",
              "      <td>Ponyo</td>\n",
              "      <td>15500000000</td>\n",
              "      <td>2008</td>\n",
              "      <td>Anime</td>\n",
              "      <td>0</td>\n",
              "    </tr>\n",
              "    <tr>\n",
              "      <th>8</th>\n",
              "      <td>Weathering with You</td>\n",
              "      <td>14190000000</td>\n",
              "      <td>2019</td>\n",
              "      <td>Anime</td>\n",
              "      <td>0</td>\n",
              "    </tr>\n",
              "    <tr>\n",
              "      <th>9</th>\n",
              "      <td>Jujutsu Kaisen 0</td>\n",
              "      <td>13750000000</td>\n",
              "      <td>2021</td>\n",
              "      <td>Anime</td>\n",
              "      <td>0</td>\n",
              "    </tr>\n",
              "    <tr>\n",
              "      <th>10</th>\n",
              "      <td>The Wind Rises</td>\n",
              "      <td>12020000000</td>\n",
              "      <td>2013</td>\n",
              "      <td>Anime</td>\n",
              "      <td>0</td>\n",
              "    </tr>\n",
              "    <tr>\n",
              "      <th>11</th>\n",
              "      <td>Antarctica</td>\n",
              "      <td>11000000000</td>\n",
              "      <td>1983</td>\n",
              "      <td>Live-action</td>\n",
              "      <td>0</td>\n",
              "    </tr>\n",
              "    <tr>\n",
              "      <th>12</th>\n",
              "      <td>Evangelion: 3.0+1.0 Thrice Upon a Time</td>\n",
              "      <td>10280000000</td>\n",
              "      <td>2021</td>\n",
              "      <td>Anime</td>\n",
              "      <td>0</td>\n",
              "    </tr>\n",
              "    <tr>\n",
              "      <th>13</th>\n",
              "      <td>Bayside Shakedown: The Movie</td>\n",
              "      <td>10100000000</td>\n",
              "      <td>1998</td>\n",
              "      <td>Live-action</td>\n",
              "      <td>0</td>\n",
              "    </tr>\n",
              "    <tr>\n",
              "      <th>14</th>\n",
              "      <td>The Adventures of Milo and Otis</td>\n",
              "      <td>9800000000</td>\n",
              "      <td>1986</td>\n",
              "      <td>Live-action</td>\n",
              "      <td>0</td>\n",
              "    </tr>\n",
              "    <tr>\n",
              "      <th>15</th>\n",
              "      <td>Detective Conan: The Bride of Halloween</td>\n",
              "      <td>9740000000</td>\n",
              "      <td>2022</td>\n",
              "      <td>Anime</td>\n",
              "      <td>0</td>\n",
              "    </tr>\n",
              "    <tr>\n",
              "      <th>16</th>\n",
              "      <td>Detective Conan: The Fist of Blue Sapphire</td>\n",
              "      <td>9370000000</td>\n",
              "      <td>2019</td>\n",
              "      <td>Anime</td>\n",
              "      <td>0</td>\n",
              "    </tr>\n",
              "    <tr>\n",
              "      <th>17</th>\n",
              "      <td>Code Blue: The Movie</td>\n",
              "      <td>9300000000</td>\n",
              "      <td>2018</td>\n",
              "      <td>Live-action</td>\n",
              "      <td>0</td>\n",
              "    </tr>\n",
              "    <tr>\n",
              "      <th>18</th>\n",
              "      <td>Arrietty</td>\n",
              "      <td>9260000000</td>\n",
              "      <td>2010</td>\n",
              "      <td>Anime</td>\n",
              "      <td>0</td>\n",
              "    </tr>\n",
              "    <tr>\n",
              "      <th>19</th>\n",
              "      <td>Heaven and Earth</td>\n",
              "      <td>9200000000</td>\n",
              "      <td>1990</td>\n",
              "      <td>Live-action</td>\n",
              "      <td>0</td>\n",
              "    </tr>\n",
              "    <tr>\n",
              "      <th>20</th>\n",
              "      <td>Detective Conan: Zero the Enforcer</td>\n",
              "      <td>9180000000</td>\n",
              "      <td>2018</td>\n",
              "      <td>Anime</td>\n",
              "      <td>0</td>\n",
              "    </tr>\n",
              "    <tr>\n",
              "      <th>21</th>\n",
              "      <td>The Eternal Zero</td>\n",
              "      <td>8760000000</td>\n",
              "      <td>2013</td>\n",
              "      <td>Live-action</td>\n",
              "      <td>0</td>\n",
              "    </tr>\n",
              "    <tr>\n",
              "      <th>22</th>\n",
              "      <td>Rookies: Graduation</td>\n",
              "      <td>8550000000</td>\n",
              "      <td>2009</td>\n",
              "      <td>Live-action</td>\n",
              "      <td>0</td>\n",
              "    </tr>\n",
              "    <tr>\n",
              "      <th>23</th>\n",
              "      <td>Crying Out Love, in the Center of the World</td>\n",
              "      <td>8500000000</td>\n",
              "      <td>2004</td>\n",
              "      <td>Live-action</td>\n",
              "      <td>0</td>\n",
              "    </tr>\n",
              "    <tr>\n",
              "      <th>24</th>\n",
              "      <td>Stand by Me Doraemon</td>\n",
              "      <td>8380000000</td>\n",
              "      <td>2014</td>\n",
              "      <td>Anime</td>\n",
              "      <td>0</td>\n",
              "    </tr>\n",
              "    <tr>\n",
              "      <th>25</th>\n",
              "      <td>Shin Godzilla</td>\n",
              "      <td>8250000000</td>\n",
              "      <td>2016</td>\n",
              "      <td>Live-action</td>\n",
              "      <td>0</td>\n",
              "    </tr>\n",
              "  </tbody>\n",
              "</table>\n",
              "</div>\n",
              "      <button class=\"colab-df-convert\" onclick=\"convertToInteractive('df-f8d03ae3-6d65-4021-88b5-43e744b4f6e5')\"\n",
              "              title=\"Convert this dataframe to an interactive table.\"\n",
              "              style=\"display:none;\">\n",
              "        \n",
              "  <svg xmlns=\"http://www.w3.org/2000/svg\" height=\"24px\"viewBox=\"0 0 24 24\"\n",
              "       width=\"24px\">\n",
              "    <path d=\"M0 0h24v24H0V0z\" fill=\"none\"/>\n",
              "    <path d=\"M18.56 5.44l.94 2.06.94-2.06 2.06-.94-2.06-.94-.94-2.06-.94 2.06-2.06.94zm-11 1L8.5 8.5l.94-2.06 2.06-.94-2.06-.94L8.5 2.5l-.94 2.06-2.06.94zm10 10l.94 2.06.94-2.06 2.06-.94-2.06-.94-.94-2.06-.94 2.06-2.06.94z\"/><path d=\"M17.41 7.96l-1.37-1.37c-.4-.4-.92-.59-1.43-.59-.52 0-1.04.2-1.43.59L10.3 9.45l-7.72 7.72c-.78.78-.78 2.05 0 2.83L4 21.41c.39.39.9.59 1.41.59.51 0 1.02-.2 1.41-.59l7.78-7.78 2.81-2.81c.8-.78.8-2.07 0-2.86zM5.41 20L4 18.59l7.72-7.72 1.47 1.35L5.41 20z\"/>\n",
              "  </svg>\n",
              "      </button>\n",
              "      \n",
              "  <style>\n",
              "    .colab-df-container {\n",
              "      display:flex;\n",
              "      flex-wrap:wrap;\n",
              "      gap: 12px;\n",
              "    }\n",
              "\n",
              "    .colab-df-convert {\n",
              "      background-color: #E8F0FE;\n",
              "      border: none;\n",
              "      border-radius: 50%;\n",
              "      cursor: pointer;\n",
              "      display: none;\n",
              "      fill: #1967D2;\n",
              "      height: 32px;\n",
              "      padding: 0 0 0 0;\n",
              "      width: 32px;\n",
              "    }\n",
              "\n",
              "    .colab-df-convert:hover {\n",
              "      background-color: #E2EBFA;\n",
              "      box-shadow: 0px 1px 2px rgba(60, 64, 67, 0.3), 0px 1px 3px 1px rgba(60, 64, 67, 0.15);\n",
              "      fill: #174EA6;\n",
              "    }\n",
              "\n",
              "    [theme=dark] .colab-df-convert {\n",
              "      background-color: #3B4455;\n",
              "      fill: #D2E3FC;\n",
              "    }\n",
              "\n",
              "    [theme=dark] .colab-df-convert:hover {\n",
              "      background-color: #434B5C;\n",
              "      box-shadow: 0px 1px 3px 1px rgba(0, 0, 0, 0.15);\n",
              "      filter: drop-shadow(0px 1px 2px rgba(0, 0, 0, 0.3));\n",
              "      fill: #FFFFFF;\n",
              "    }\n",
              "  </style>\n",
              "\n",
              "      <script>\n",
              "        const buttonEl =\n",
              "          document.querySelector('#df-f8d03ae3-6d65-4021-88b5-43e744b4f6e5 button.colab-df-convert');\n",
              "        buttonEl.style.display =\n",
              "          google.colab.kernel.accessAllowed ? 'block' : 'none';\n",
              "\n",
              "        async function convertToInteractive(key) {\n",
              "          const element = document.querySelector('#df-f8d03ae3-6d65-4021-88b5-43e744b4f6e5');\n",
              "          const dataTable =\n",
              "            await google.colab.kernel.invokeFunction('convertToInteractive',\n",
              "                                                     [key], {});\n",
              "          if (!dataTable) return;\n",
              "\n",
              "          const docLinkHtml = 'Like what you see? Visit the ' +\n",
              "            '<a target=\"_blank\" href=https://colab.research.google.com/notebooks/data_table.ipynb>data table notebook</a>'\n",
              "            + ' to learn more about interactive tables.';\n",
              "          element.innerHTML = '';\n",
              "          dataTable['output_type'] = 'display_data';\n",
              "          await google.colab.output.renderOutput(dataTable, element);\n",
              "          const docLink = document.createElement('div');\n",
              "          docLink.innerHTML = docLinkHtml;\n",
              "          element.appendChild(docLink);\n",
              "        }\n",
              "      </script>\n",
              "    </div>\n",
              "  </div>\n",
              "  "
            ]
          },
          "metadata": {},
          "execution_count": 20
        }
      ],
      "source": [
        "# Top 50 highest gross japanese films in Japan\n",
        "table1, columns1, index1 = performXML(node0,1)\n",
        "table1[0][1] = '¥40,430,000,000'\n",
        "table1[0][3] = 'Anime'\n",
        "table1[6][3] = 'Live-action'\n",
        "for x in table1:\n",
        "  a = x[1][1:]\n",
        "  x[1] = int(a.replace(',', ''))\n",
        "  \n",
        "df1 = pd.DataFrame(table1)\n",
        "print (len(table1))\n",
        "# df1.rename(columns={df.columns[0]:'Movie name',df.columns[1]:'Revenue',df.columns[2]:'Year release',df.columns[3]:'Genre'},inplace=True)\n",
        "df1.columns = ['Movie name', 'Revenue (Yen)', 'Year release', 'Genre', 'Other']\n",
        "df1"
      ]
    },
    {
      "cell_type": "markdown",
      "metadata": {
        "id": "TfzFi9yiqVwW"
      },
      "source": [
        "For dataFrame df1 - \"Top 50 highest gross Japanese films in Japan\", our predictors still keep as the same: the year released of the movie, the movie revenue and the movie genre. From these two DataFrames, we can analyze what kind of Japanese movie will be favorite both in Japan and worldwide, and from there predict what factor made to that success."
      ]
    },
    {
      "cell_type": "code",
      "execution_count": 21,
      "metadata": {
        "id": "astmYHfN59sd"
      },
      "outputs": [],
      "source": [
        "table2, columns2, index2 = performXML(node0,4)"
      ]
    },
    {
      "cell_type": "code",
      "source": [
        "print(table2)"
      ],
      "metadata": {
        "id": "K_dVnqV2MNyJ",
        "colab": {
          "base_uri": "https://localhost:8080/"
        },
        "outputId": "c26f4924-0ba7-4b0e-ffdc-5d432ca2d014"
      },
      "execution_count": 22,
      "outputs": [
        {
          "output_type": "stream",
          "name": "stdout",
          "text": [
            "[['Kimi yo Fundo no Kawa o Watare', '1976', '720,000', '433,700,000', '434,400,000', 'Live-action'], ['1978', '2,400,000', '100,000,000', '102,400,000', 'Live-action'], ['Sandakan No. 8', '1974', 'Un\\xadknown', '100,000,000', '100,000,000', 'Live-action'], ['Legend of Dinosaurs & Monster Birds', '1977', '650,000', '48,700,000', '49,400,000', 'Live-action'], ['Spirited Away', '2001', '24,280,000', '22,095,221', '46,375,221', 'Anime'], ['Your Name', '2016', '19,300,000', '25,878,383', '45,178,383', 'Anime'], ['Demon Slayer the Movie: Mugen Train', '2020', '29,151,041', '15,354,900', '44,505,941', 'Anime'], ['Who Are You, Mr. Sorge?', '1961', 'Un\\xadknown', '39,200,000', '39,200,000', 'Live-action'], ['Pokémon: The First Movie', '1998', '6,650,000', '30,187,706', '36,837,706', 'Anime'], ['Koi no Kisetsu', '1969', 'Un\\xadknown', '27,600,000', '27,600,000', 'Live-action'], ['The Bullet Train', '1975', 'Un\\xadknown', '25,440,638', '25,440,638', 'Live-action'], ['Tokyo Olympiad', '1965', '23,500,000', '993,555', '24,493,555', 'Live-action'], ['The Ballad of Narayama', '1983', '1,600,000', '21,945,197', '23,500,000', 'Live-action'], ['Stand by Me Doraemon', '2014', '6,250,000', '16,833,251', '23,083,251', 'Anime'], ['Weathering with You', '2019', '10,539,869', '12,147,184', '22,687,053', 'Anime'], [\"Howl's Moving Castle\", '2004', '15,500,000', '6,443,336', '21,943,336', 'Anime'], ['Dersu Uzala', '1975', 'Un\\xadknown', '21,475,653', '21,475,653', 'Live-action'], ['Emperor Meiji and the Great Russo-Japanese War', '1957', '20,000,000', '—', '20,000,000', 'Live-action'], ['Pokémon: The Movie 2000', '1999', '5,600,000', '13,968,660', '19,568,660', 'Anime'], ['Ponyo', '2008', '12,900,000', '5,202,354', '18,102,354', 'Anime'], ['Dragon Ball Super: Broly', '2018', '3,070,000', '14,417,445', '17,487,445', 'Anime'], ['Princess Mononoke', '1997', '14,970,000', '2,014,830', '16,984,830', 'Anime'], ['Detective Conan: The Fist of Blue Sapphire', '2019', '7,400,000', '7,659,418', '15,059,418', 'Anime'], ['One Piece Film: Red', '2022', '13,000,000', '1,075,100', '14,075,100', 'Anime'], ['Jujutsu Kaisen 0', '2021', '9,840,000', '4,371,597', '13,875,926', 'Anime'], ['King Kong vs. Godzilla', '1962', '12,600,000', '554,695', '13,154,695', 'Live-action'], ['Bayside Shakedown 2', '2003', '12,600,000', '151,823', '12,751,823', 'Live-action'], ['Antarctica', '1983', '12,000,000', '543,470', '12,543,470', 'Live-action'], ['The Secret World of Arrietty', '2012', '7,560,000', '4,865,830', '12,425,830', 'Anime'], ['The Adventures of Milo and Otis', '1986', '7,500,000', '4,518,750', '12,018,750', 'Live-action'], [\"Doraemon: Nobita's Treasure Island\", '2018', '4,680,000', '7,214,020', '11,894,020', 'Anime'], ['Detective Conan: The Scarlet Bullet', '2021', '5,480,000', '6,413,200', '11,893,200', 'Anime'], ['The Wind Rises', '2013', '9,720,000', '2,131,749', '11,851,749', 'Anime'], ['The Loyal 47 Ronin', '1958', '11,700,000', 'Un\\xadknown', '11,700,000', 'Live-action'], ['Detective Conan: Zero the Enforcer', '2018', '6,880,000', '4,608,375', '11,488,375', 'Anime'], ['Sanjuro', '1962', '11,200,000', '12,066', '11,212,066', 'Live-action'], ['Stand by Me Doraemon 2', '2020', '2,260,000', '8,350,611', '10,610,611', 'Anime'], ['Godzilla', '1954', '9,610,000', '839,154', '10,449,154', 'Live-action'], ['One Piece: Stampede', '2019', '3,700,000', '6,701,192', '10,401,192', 'Anime'], ['Pokémon 3: The Movie', '2001', '4,500,000', '5,614,749', '10,114,749', 'Anime']]\n"
          ]
        }
      ]
    },
    {
      "cell_type": "code",
      "source": [
        "table2[1] = ['Kitakitsune Monogatari'] + table2[1]\n",
        "for x in table2:\n",
        "  a,b,c = x[2],x[3],x[4]\n",
        "  if a != 'Un\\xadknown': a = int(a.replace(',',''))\n",
        "  if b!= 'Un\\xadknown' and b != '—': b = int(b.replace(',', ''))\n",
        "  if c != 'Un\\xadknown': c = int(c.replace(',', ''))\n",
        "  x[2],x[3],x[4] = a,b,c\n",
        "print (table2)"
      ],
      "metadata": {
        "colab": {
          "base_uri": "https://localhost:8080/"
        },
        "id": "_qz2TR174Pxw",
        "outputId": "798d1bd8-225f-4db9-ee9e-0212836760ff"
      },
      "execution_count": 23,
      "outputs": [
        {
          "output_type": "stream",
          "name": "stdout",
          "text": [
            "[['Kimi yo Fundo no Kawa o Watare', '1976', 720000, 433700000, 434400000, 'Live-action'], ['Kitakitsune Monogatari', '1978', 2400000, 100000000, 102400000, 'Live-action'], ['Sandakan No. 8', '1974', 'Un\\xadknown', 100000000, 100000000, 'Live-action'], ['Legend of Dinosaurs & Monster Birds', '1977', 650000, 48700000, 49400000, 'Live-action'], ['Spirited Away', '2001', 24280000, 22095221, 46375221, 'Anime'], ['Your Name', '2016', 19300000, 25878383, 45178383, 'Anime'], ['Demon Slayer the Movie: Mugen Train', '2020', 29151041, 15354900, 44505941, 'Anime'], ['Who Are You, Mr. Sorge?', '1961', 'Un\\xadknown', 39200000, 39200000, 'Live-action'], ['Pokémon: The First Movie', '1998', 6650000, 30187706, 36837706, 'Anime'], ['Koi no Kisetsu', '1969', 'Un\\xadknown', 27600000, 27600000, 'Live-action'], ['The Bullet Train', '1975', 'Un\\xadknown', 25440638, 25440638, 'Live-action'], ['Tokyo Olympiad', '1965', 23500000, 993555, 24493555, 'Live-action'], ['The Ballad of Narayama', '1983', 1600000, 21945197, 23500000, 'Live-action'], ['Stand by Me Doraemon', '2014', 6250000, 16833251, 23083251, 'Anime'], ['Weathering with You', '2019', 10539869, 12147184, 22687053, 'Anime'], [\"Howl's Moving Castle\", '2004', 15500000, 6443336, 21943336, 'Anime'], ['Dersu Uzala', '1975', 'Un\\xadknown', 21475653, 21475653, 'Live-action'], ['Emperor Meiji and the Great Russo-Japanese War', '1957', 20000000, '—', 20000000, 'Live-action'], ['Pokémon: The Movie 2000', '1999', 5600000, 13968660, 19568660, 'Anime'], ['Ponyo', '2008', 12900000, 5202354, 18102354, 'Anime'], ['Dragon Ball Super: Broly', '2018', 3070000, 14417445, 17487445, 'Anime'], ['Princess Mononoke', '1997', 14970000, 2014830, 16984830, 'Anime'], ['Detective Conan: The Fist of Blue Sapphire', '2019', 7400000, 7659418, 15059418, 'Anime'], ['One Piece Film: Red', '2022', 13000000, 1075100, 14075100, 'Anime'], ['Jujutsu Kaisen 0', '2021', 9840000, 4371597, 13875926, 'Anime'], ['King Kong vs. Godzilla', '1962', 12600000, 554695, 13154695, 'Live-action'], ['Bayside Shakedown 2', '2003', 12600000, 151823, 12751823, 'Live-action'], ['Antarctica', '1983', 12000000, 543470, 12543470, 'Live-action'], ['The Secret World of Arrietty', '2012', 7560000, 4865830, 12425830, 'Anime'], ['The Adventures of Milo and Otis', '1986', 7500000, 4518750, 12018750, 'Live-action'], [\"Doraemon: Nobita's Treasure Island\", '2018', 4680000, 7214020, 11894020, 'Anime'], ['Detective Conan: The Scarlet Bullet', '2021', 5480000, 6413200, 11893200, 'Anime'], ['The Wind Rises', '2013', 9720000, 2131749, 11851749, 'Anime'], ['The Loyal 47 Ronin', '1958', 11700000, 'Un\\xadknown', 11700000, 'Live-action'], ['Detective Conan: Zero the Enforcer', '2018', 6880000, 4608375, 11488375, 'Anime'], ['Sanjuro', '1962', 11200000, 12066, 11212066, 'Live-action'], ['Stand by Me Doraemon 2', '2020', 2260000, 8350611, 10610611, 'Anime'], ['Godzilla', '1954', 9610000, 839154, 10449154, 'Live-action'], ['One Piece: Stampede', '2019', 3700000, 6701192, 10401192, 'Anime'], ['Pokémon 3: The Movie', '2001', 4500000, 5614749, 10114749, 'Anime']]\n"
          ]
        }
      ]
    },
    {
      "cell_type": "code",
      "execution_count": 24,
      "metadata": {
        "id": "PN1P2ICC7E3X",
        "colab": {
          "base_uri": "https://localhost:8080/",
          "height": 1000
        },
        "outputId": "8f34b69b-c6a3-4c51-8737-6e0b17df61b1"
      },
      "outputs": [
        {
          "output_type": "execute_result",
          "data": {
            "text/plain": [
              "                                                 0     1         2          3  \\\n",
              "0                   Kimi yo Fundo no Kawa o Watare  1976    720000  433700000   \n",
              "1                           Kitakitsune Monogatari  1978   2400000  100000000   \n",
              "2                                   Sandakan No. 8  1974  Un­known  100000000   \n",
              "3              Legend of Dinosaurs & Monster Birds  1977    650000   48700000   \n",
              "4                                    Spirited Away  2001  24280000   22095221   \n",
              "5                                        Your Name  2016  19300000   25878383   \n",
              "6              Demon Slayer the Movie: Mugen Train  2020  29151041   15354900   \n",
              "7                          Who Are You, Mr. Sorge?  1961  Un­known   39200000   \n",
              "8                         Pokémon: The First Movie  1998   6650000   30187706   \n",
              "9                                   Koi no Kisetsu  1969  Un­known   27600000   \n",
              "10                                The Bullet Train  1975  Un­known   25440638   \n",
              "11                                  Tokyo Olympiad  1965  23500000     993555   \n",
              "12                          The Ballad of Narayama  1983   1600000   21945197   \n",
              "13                            Stand by Me Doraemon  2014   6250000   16833251   \n",
              "14                             Weathering with You  2019  10539869   12147184   \n",
              "15                            Howl's Moving Castle  2004  15500000    6443336   \n",
              "16                                     Dersu Uzala  1975  Un­known   21475653   \n",
              "17  Emperor Meiji and the Great Russo-Japanese War  1957  20000000          —   \n",
              "18                         Pokémon: The Movie 2000  1999   5600000   13968660   \n",
              "19                                           Ponyo  2008  12900000    5202354   \n",
              "20                        Dragon Ball Super: Broly  2018   3070000   14417445   \n",
              "21                               Princess Mononoke  1997  14970000    2014830   \n",
              "22      Detective Conan: The Fist of Blue Sapphire  2019   7400000    7659418   \n",
              "23                             One Piece Film: Red  2022  13000000    1075100   \n",
              "24                                Jujutsu Kaisen 0  2021   9840000    4371597   \n",
              "25                          King Kong vs. Godzilla  1962  12600000     554695   \n",
              "26                             Bayside Shakedown 2  2003  12600000     151823   \n",
              "27                                      Antarctica  1983  12000000     543470   \n",
              "28                    The Secret World of Arrietty  2012   7560000    4865830   \n",
              "29                 The Adventures of Milo and Otis  1986   7500000    4518750   \n",
              "30              Doraemon: Nobita's Treasure Island  2018   4680000    7214020   \n",
              "31             Detective Conan: The Scarlet Bullet  2021   5480000    6413200   \n",
              "32                                  The Wind Rises  2013   9720000    2131749   \n",
              "33                              The Loyal 47 Ronin  1958  11700000   Un­known   \n",
              "34              Detective Conan: Zero the Enforcer  2018   6880000    4608375   \n",
              "35                                         Sanjuro  1962  11200000      12066   \n",
              "36                          Stand by Me Doraemon 2  2020   2260000    8350611   \n",
              "37                                        Godzilla  1954   9610000     839154   \n",
              "38                             One Piece: Stampede  2019   3700000    6701192   \n",
              "39                            Pokémon 3: The Movie  2001   4500000    5614749   \n",
              "\n",
              "            4            5  \n",
              "0   434400000  Live-action  \n",
              "1   102400000  Live-action  \n",
              "2   100000000  Live-action  \n",
              "3    49400000  Live-action  \n",
              "4    46375221        Anime  \n",
              "5    45178383        Anime  \n",
              "6    44505941        Anime  \n",
              "7    39200000  Live-action  \n",
              "8    36837706        Anime  \n",
              "9    27600000  Live-action  \n",
              "10   25440638  Live-action  \n",
              "11   24493555  Live-action  \n",
              "12   23500000  Live-action  \n",
              "13   23083251        Anime  \n",
              "14   22687053        Anime  \n",
              "15   21943336        Anime  \n",
              "16   21475653  Live-action  \n",
              "17   20000000  Live-action  \n",
              "18   19568660        Anime  \n",
              "19   18102354        Anime  \n",
              "20   17487445        Anime  \n",
              "21   16984830        Anime  \n",
              "22   15059418        Anime  \n",
              "23   14075100        Anime  \n",
              "24   13875926        Anime  \n",
              "25   13154695  Live-action  \n",
              "26   12751823  Live-action  \n",
              "27   12543470  Live-action  \n",
              "28   12425830        Anime  \n",
              "29   12018750  Live-action  \n",
              "30   11894020        Anime  \n",
              "31   11893200        Anime  \n",
              "32   11851749        Anime  \n",
              "33   11700000  Live-action  \n",
              "34   11488375        Anime  \n",
              "35   11212066  Live-action  \n",
              "36   10610611        Anime  \n",
              "37   10449154  Live-action  \n",
              "38   10401192        Anime  \n",
              "39   10114749        Anime  "
            ],
            "text/html": [
              "\n",
              "  <div id=\"df-15e982be-517f-4259-b828-afc6c0e4a475\">\n",
              "    <div class=\"colab-df-container\">\n",
              "      <div>\n",
              "<style scoped>\n",
              "    .dataframe tbody tr th:only-of-type {\n",
              "        vertical-align: middle;\n",
              "    }\n",
              "\n",
              "    .dataframe tbody tr th {\n",
              "        vertical-align: top;\n",
              "    }\n",
              "\n",
              "    .dataframe thead th {\n",
              "        text-align: right;\n",
              "    }\n",
              "</style>\n",
              "<table border=\"1\" class=\"dataframe\">\n",
              "  <thead>\n",
              "    <tr style=\"text-align: right;\">\n",
              "      <th></th>\n",
              "      <th>0</th>\n",
              "      <th>1</th>\n",
              "      <th>2</th>\n",
              "      <th>3</th>\n",
              "      <th>4</th>\n",
              "      <th>5</th>\n",
              "    </tr>\n",
              "  </thead>\n",
              "  <tbody>\n",
              "    <tr>\n",
              "      <th>0</th>\n",
              "      <td>Kimi yo Fundo no Kawa o Watare</td>\n",
              "      <td>1976</td>\n",
              "      <td>720000</td>\n",
              "      <td>433700000</td>\n",
              "      <td>434400000</td>\n",
              "      <td>Live-action</td>\n",
              "    </tr>\n",
              "    <tr>\n",
              "      <th>1</th>\n",
              "      <td>Kitakitsune Monogatari</td>\n",
              "      <td>1978</td>\n",
              "      <td>2400000</td>\n",
              "      <td>100000000</td>\n",
              "      <td>102400000</td>\n",
              "      <td>Live-action</td>\n",
              "    </tr>\n",
              "    <tr>\n",
              "      <th>2</th>\n",
              "      <td>Sandakan No. 8</td>\n",
              "      <td>1974</td>\n",
              "      <td>Un­known</td>\n",
              "      <td>100000000</td>\n",
              "      <td>100000000</td>\n",
              "      <td>Live-action</td>\n",
              "    </tr>\n",
              "    <tr>\n",
              "      <th>3</th>\n",
              "      <td>Legend of Dinosaurs &amp; Monster Birds</td>\n",
              "      <td>1977</td>\n",
              "      <td>650000</td>\n",
              "      <td>48700000</td>\n",
              "      <td>49400000</td>\n",
              "      <td>Live-action</td>\n",
              "    </tr>\n",
              "    <tr>\n",
              "      <th>4</th>\n",
              "      <td>Spirited Away</td>\n",
              "      <td>2001</td>\n",
              "      <td>24280000</td>\n",
              "      <td>22095221</td>\n",
              "      <td>46375221</td>\n",
              "      <td>Anime</td>\n",
              "    </tr>\n",
              "    <tr>\n",
              "      <th>5</th>\n",
              "      <td>Your Name</td>\n",
              "      <td>2016</td>\n",
              "      <td>19300000</td>\n",
              "      <td>25878383</td>\n",
              "      <td>45178383</td>\n",
              "      <td>Anime</td>\n",
              "    </tr>\n",
              "    <tr>\n",
              "      <th>6</th>\n",
              "      <td>Demon Slayer the Movie: Mugen Train</td>\n",
              "      <td>2020</td>\n",
              "      <td>29151041</td>\n",
              "      <td>15354900</td>\n",
              "      <td>44505941</td>\n",
              "      <td>Anime</td>\n",
              "    </tr>\n",
              "    <tr>\n",
              "      <th>7</th>\n",
              "      <td>Who Are You, Mr. Sorge?</td>\n",
              "      <td>1961</td>\n",
              "      <td>Un­known</td>\n",
              "      <td>39200000</td>\n",
              "      <td>39200000</td>\n",
              "      <td>Live-action</td>\n",
              "    </tr>\n",
              "    <tr>\n",
              "      <th>8</th>\n",
              "      <td>Pokémon: The First Movie</td>\n",
              "      <td>1998</td>\n",
              "      <td>6650000</td>\n",
              "      <td>30187706</td>\n",
              "      <td>36837706</td>\n",
              "      <td>Anime</td>\n",
              "    </tr>\n",
              "    <tr>\n",
              "      <th>9</th>\n",
              "      <td>Koi no Kisetsu</td>\n",
              "      <td>1969</td>\n",
              "      <td>Un­known</td>\n",
              "      <td>27600000</td>\n",
              "      <td>27600000</td>\n",
              "      <td>Live-action</td>\n",
              "    </tr>\n",
              "    <tr>\n",
              "      <th>10</th>\n",
              "      <td>The Bullet Train</td>\n",
              "      <td>1975</td>\n",
              "      <td>Un­known</td>\n",
              "      <td>25440638</td>\n",
              "      <td>25440638</td>\n",
              "      <td>Live-action</td>\n",
              "    </tr>\n",
              "    <tr>\n",
              "      <th>11</th>\n",
              "      <td>Tokyo Olympiad</td>\n",
              "      <td>1965</td>\n",
              "      <td>23500000</td>\n",
              "      <td>993555</td>\n",
              "      <td>24493555</td>\n",
              "      <td>Live-action</td>\n",
              "    </tr>\n",
              "    <tr>\n",
              "      <th>12</th>\n",
              "      <td>The Ballad of Narayama</td>\n",
              "      <td>1983</td>\n",
              "      <td>1600000</td>\n",
              "      <td>21945197</td>\n",
              "      <td>23500000</td>\n",
              "      <td>Live-action</td>\n",
              "    </tr>\n",
              "    <tr>\n",
              "      <th>13</th>\n",
              "      <td>Stand by Me Doraemon</td>\n",
              "      <td>2014</td>\n",
              "      <td>6250000</td>\n",
              "      <td>16833251</td>\n",
              "      <td>23083251</td>\n",
              "      <td>Anime</td>\n",
              "    </tr>\n",
              "    <tr>\n",
              "      <th>14</th>\n",
              "      <td>Weathering with You</td>\n",
              "      <td>2019</td>\n",
              "      <td>10539869</td>\n",
              "      <td>12147184</td>\n",
              "      <td>22687053</td>\n",
              "      <td>Anime</td>\n",
              "    </tr>\n",
              "    <tr>\n",
              "      <th>15</th>\n",
              "      <td>Howl's Moving Castle</td>\n",
              "      <td>2004</td>\n",
              "      <td>15500000</td>\n",
              "      <td>6443336</td>\n",
              "      <td>21943336</td>\n",
              "      <td>Anime</td>\n",
              "    </tr>\n",
              "    <tr>\n",
              "      <th>16</th>\n",
              "      <td>Dersu Uzala</td>\n",
              "      <td>1975</td>\n",
              "      <td>Un­known</td>\n",
              "      <td>21475653</td>\n",
              "      <td>21475653</td>\n",
              "      <td>Live-action</td>\n",
              "    </tr>\n",
              "    <tr>\n",
              "      <th>17</th>\n",
              "      <td>Emperor Meiji and the Great Russo-Japanese War</td>\n",
              "      <td>1957</td>\n",
              "      <td>20000000</td>\n",
              "      <td>—</td>\n",
              "      <td>20000000</td>\n",
              "      <td>Live-action</td>\n",
              "    </tr>\n",
              "    <tr>\n",
              "      <th>18</th>\n",
              "      <td>Pokémon: The Movie 2000</td>\n",
              "      <td>1999</td>\n",
              "      <td>5600000</td>\n",
              "      <td>13968660</td>\n",
              "      <td>19568660</td>\n",
              "      <td>Anime</td>\n",
              "    </tr>\n",
              "    <tr>\n",
              "      <th>19</th>\n",
              "      <td>Ponyo</td>\n",
              "      <td>2008</td>\n",
              "      <td>12900000</td>\n",
              "      <td>5202354</td>\n",
              "      <td>18102354</td>\n",
              "      <td>Anime</td>\n",
              "    </tr>\n",
              "    <tr>\n",
              "      <th>20</th>\n",
              "      <td>Dragon Ball Super: Broly</td>\n",
              "      <td>2018</td>\n",
              "      <td>3070000</td>\n",
              "      <td>14417445</td>\n",
              "      <td>17487445</td>\n",
              "      <td>Anime</td>\n",
              "    </tr>\n",
              "    <tr>\n",
              "      <th>21</th>\n",
              "      <td>Princess Mononoke</td>\n",
              "      <td>1997</td>\n",
              "      <td>14970000</td>\n",
              "      <td>2014830</td>\n",
              "      <td>16984830</td>\n",
              "      <td>Anime</td>\n",
              "    </tr>\n",
              "    <tr>\n",
              "      <th>22</th>\n",
              "      <td>Detective Conan: The Fist of Blue Sapphire</td>\n",
              "      <td>2019</td>\n",
              "      <td>7400000</td>\n",
              "      <td>7659418</td>\n",
              "      <td>15059418</td>\n",
              "      <td>Anime</td>\n",
              "    </tr>\n",
              "    <tr>\n",
              "      <th>23</th>\n",
              "      <td>One Piece Film: Red</td>\n",
              "      <td>2022</td>\n",
              "      <td>13000000</td>\n",
              "      <td>1075100</td>\n",
              "      <td>14075100</td>\n",
              "      <td>Anime</td>\n",
              "    </tr>\n",
              "    <tr>\n",
              "      <th>24</th>\n",
              "      <td>Jujutsu Kaisen 0</td>\n",
              "      <td>2021</td>\n",
              "      <td>9840000</td>\n",
              "      <td>4371597</td>\n",
              "      <td>13875926</td>\n",
              "      <td>Anime</td>\n",
              "    </tr>\n",
              "    <tr>\n",
              "      <th>25</th>\n",
              "      <td>King Kong vs. Godzilla</td>\n",
              "      <td>1962</td>\n",
              "      <td>12600000</td>\n",
              "      <td>554695</td>\n",
              "      <td>13154695</td>\n",
              "      <td>Live-action</td>\n",
              "    </tr>\n",
              "    <tr>\n",
              "      <th>26</th>\n",
              "      <td>Bayside Shakedown 2</td>\n",
              "      <td>2003</td>\n",
              "      <td>12600000</td>\n",
              "      <td>151823</td>\n",
              "      <td>12751823</td>\n",
              "      <td>Live-action</td>\n",
              "    </tr>\n",
              "    <tr>\n",
              "      <th>27</th>\n",
              "      <td>Antarctica</td>\n",
              "      <td>1983</td>\n",
              "      <td>12000000</td>\n",
              "      <td>543470</td>\n",
              "      <td>12543470</td>\n",
              "      <td>Live-action</td>\n",
              "    </tr>\n",
              "    <tr>\n",
              "      <th>28</th>\n",
              "      <td>The Secret World of Arrietty</td>\n",
              "      <td>2012</td>\n",
              "      <td>7560000</td>\n",
              "      <td>4865830</td>\n",
              "      <td>12425830</td>\n",
              "      <td>Anime</td>\n",
              "    </tr>\n",
              "    <tr>\n",
              "      <th>29</th>\n",
              "      <td>The Adventures of Milo and Otis</td>\n",
              "      <td>1986</td>\n",
              "      <td>7500000</td>\n",
              "      <td>4518750</td>\n",
              "      <td>12018750</td>\n",
              "      <td>Live-action</td>\n",
              "    </tr>\n",
              "    <tr>\n",
              "      <th>30</th>\n",
              "      <td>Doraemon: Nobita's Treasure Island</td>\n",
              "      <td>2018</td>\n",
              "      <td>4680000</td>\n",
              "      <td>7214020</td>\n",
              "      <td>11894020</td>\n",
              "      <td>Anime</td>\n",
              "    </tr>\n",
              "    <tr>\n",
              "      <th>31</th>\n",
              "      <td>Detective Conan: The Scarlet Bullet</td>\n",
              "      <td>2021</td>\n",
              "      <td>5480000</td>\n",
              "      <td>6413200</td>\n",
              "      <td>11893200</td>\n",
              "      <td>Anime</td>\n",
              "    </tr>\n",
              "    <tr>\n",
              "      <th>32</th>\n",
              "      <td>The Wind Rises</td>\n",
              "      <td>2013</td>\n",
              "      <td>9720000</td>\n",
              "      <td>2131749</td>\n",
              "      <td>11851749</td>\n",
              "      <td>Anime</td>\n",
              "    </tr>\n",
              "    <tr>\n",
              "      <th>33</th>\n",
              "      <td>The Loyal 47 Ronin</td>\n",
              "      <td>1958</td>\n",
              "      <td>11700000</td>\n",
              "      <td>Un­known</td>\n",
              "      <td>11700000</td>\n",
              "      <td>Live-action</td>\n",
              "    </tr>\n",
              "    <tr>\n",
              "      <th>34</th>\n",
              "      <td>Detective Conan: Zero the Enforcer</td>\n",
              "      <td>2018</td>\n",
              "      <td>6880000</td>\n",
              "      <td>4608375</td>\n",
              "      <td>11488375</td>\n",
              "      <td>Anime</td>\n",
              "    </tr>\n",
              "    <tr>\n",
              "      <th>35</th>\n",
              "      <td>Sanjuro</td>\n",
              "      <td>1962</td>\n",
              "      <td>11200000</td>\n",
              "      <td>12066</td>\n",
              "      <td>11212066</td>\n",
              "      <td>Live-action</td>\n",
              "    </tr>\n",
              "    <tr>\n",
              "      <th>36</th>\n",
              "      <td>Stand by Me Doraemon 2</td>\n",
              "      <td>2020</td>\n",
              "      <td>2260000</td>\n",
              "      <td>8350611</td>\n",
              "      <td>10610611</td>\n",
              "      <td>Anime</td>\n",
              "    </tr>\n",
              "    <tr>\n",
              "      <th>37</th>\n",
              "      <td>Godzilla</td>\n",
              "      <td>1954</td>\n",
              "      <td>9610000</td>\n",
              "      <td>839154</td>\n",
              "      <td>10449154</td>\n",
              "      <td>Live-action</td>\n",
              "    </tr>\n",
              "    <tr>\n",
              "      <th>38</th>\n",
              "      <td>One Piece: Stampede</td>\n",
              "      <td>2019</td>\n",
              "      <td>3700000</td>\n",
              "      <td>6701192</td>\n",
              "      <td>10401192</td>\n",
              "      <td>Anime</td>\n",
              "    </tr>\n",
              "    <tr>\n",
              "      <th>39</th>\n",
              "      <td>Pokémon 3: The Movie</td>\n",
              "      <td>2001</td>\n",
              "      <td>4500000</td>\n",
              "      <td>5614749</td>\n",
              "      <td>10114749</td>\n",
              "      <td>Anime</td>\n",
              "    </tr>\n",
              "  </tbody>\n",
              "</table>\n",
              "</div>\n",
              "      <button class=\"colab-df-convert\" onclick=\"convertToInteractive('df-15e982be-517f-4259-b828-afc6c0e4a475')\"\n",
              "              title=\"Convert this dataframe to an interactive table.\"\n",
              "              style=\"display:none;\">\n",
              "        \n",
              "  <svg xmlns=\"http://www.w3.org/2000/svg\" height=\"24px\"viewBox=\"0 0 24 24\"\n",
              "       width=\"24px\">\n",
              "    <path d=\"M0 0h24v24H0V0z\" fill=\"none\"/>\n",
              "    <path d=\"M18.56 5.44l.94 2.06.94-2.06 2.06-.94-2.06-.94-.94-2.06-.94 2.06-2.06.94zm-11 1L8.5 8.5l.94-2.06 2.06-.94-2.06-.94L8.5 2.5l-.94 2.06-2.06.94zm10 10l.94 2.06.94-2.06 2.06-.94-2.06-.94-.94-2.06-.94 2.06-2.06.94z\"/><path d=\"M17.41 7.96l-1.37-1.37c-.4-.4-.92-.59-1.43-.59-.52 0-1.04.2-1.43.59L10.3 9.45l-7.72 7.72c-.78.78-.78 2.05 0 2.83L4 21.41c.39.39.9.59 1.41.59.51 0 1.02-.2 1.41-.59l7.78-7.78 2.81-2.81c.8-.78.8-2.07 0-2.86zM5.41 20L4 18.59l7.72-7.72 1.47 1.35L5.41 20z\"/>\n",
              "  </svg>\n",
              "      </button>\n",
              "      \n",
              "  <style>\n",
              "    .colab-df-container {\n",
              "      display:flex;\n",
              "      flex-wrap:wrap;\n",
              "      gap: 12px;\n",
              "    }\n",
              "\n",
              "    .colab-df-convert {\n",
              "      background-color: #E8F0FE;\n",
              "      border: none;\n",
              "      border-radius: 50%;\n",
              "      cursor: pointer;\n",
              "      display: none;\n",
              "      fill: #1967D2;\n",
              "      height: 32px;\n",
              "      padding: 0 0 0 0;\n",
              "      width: 32px;\n",
              "    }\n",
              "\n",
              "    .colab-df-convert:hover {\n",
              "      background-color: #E2EBFA;\n",
              "      box-shadow: 0px 1px 2px rgba(60, 64, 67, 0.3), 0px 1px 3px 1px rgba(60, 64, 67, 0.15);\n",
              "      fill: #174EA6;\n",
              "    }\n",
              "\n",
              "    [theme=dark] .colab-df-convert {\n",
              "      background-color: #3B4455;\n",
              "      fill: #D2E3FC;\n",
              "    }\n",
              "\n",
              "    [theme=dark] .colab-df-convert:hover {\n",
              "      background-color: #434B5C;\n",
              "      box-shadow: 0px 1px 3px 1px rgba(0, 0, 0, 0.15);\n",
              "      filter: drop-shadow(0px 1px 2px rgba(0, 0, 0, 0.3));\n",
              "      fill: #FFFFFF;\n",
              "    }\n",
              "  </style>\n",
              "\n",
              "      <script>\n",
              "        const buttonEl =\n",
              "          document.querySelector('#df-15e982be-517f-4259-b828-afc6c0e4a475 button.colab-df-convert');\n",
              "        buttonEl.style.display =\n",
              "          google.colab.kernel.accessAllowed ? 'block' : 'none';\n",
              "\n",
              "        async function convertToInteractive(key) {\n",
              "          const element = document.querySelector('#df-15e982be-517f-4259-b828-afc6c0e4a475');\n",
              "          const dataTable =\n",
              "            await google.colab.kernel.invokeFunction('convertToInteractive',\n",
              "                                                     [key], {});\n",
              "          if (!dataTable) return;\n",
              "\n",
              "          const docLinkHtml = 'Like what you see? Visit the ' +\n",
              "            '<a target=\"_blank\" href=https://colab.research.google.com/notebooks/data_table.ipynb>data table notebook</a>'\n",
              "            + ' to learn more about interactive tables.';\n",
              "          element.innerHTML = '';\n",
              "          dataTable['output_type'] = 'display_data';\n",
              "          await google.colab.output.renderOutput(dataTable, element);\n",
              "          const docLink = document.createElement('div');\n",
              "          docLink.innerHTML = docLinkHtml;\n",
              "          element.appendChild(docLink);\n",
              "        }\n",
              "      </script>\n",
              "    </div>\n",
              "  </div>\n",
              "  "
            ]
          },
          "metadata": {},
          "execution_count": 24
        }
      ],
      "source": [
        "# Top 50 box ticket sales all the time\n",
        "df2 = pd.DataFrame(table2)\n",
        "# df2.rename(columns={df.columns[0]:'Year released',df.columns[1]:'Ticket sale in Japan',df.columns[2]:'Ticket sale oversea',df.columns[3]:'Ticket sale worldwide', df.columns[4]:'Movie genre'},inplace=True)\n",
        "df2"
      ]
    },
    {
      "cell_type": "code",
      "source": [
        "table4 = []\n",
        "for x in table2:\n",
        "  for y in table0:\n",
        "    if x[0] == y[0]:\n",
        "      table4.append(x + [y[1]])\n",
        "      break\n",
        "\n",
        "print (table4)"
      ],
      "metadata": {
        "colab": {
          "base_uri": "https://localhost:8080/"
        },
        "id": "lrV5CMD19S9-",
        "outputId": "e350ae57-f977-44a8-d955-28c0b72f1745"
      },
      "execution_count": 25,
      "outputs": [
        {
          "output_type": "stream",
          "name": "stdout",
          "text": [
            "[['Spirited Away', '2001', 24280000, 22095221, 46375221, 'Anime', 395580000], ['Your Name', '2016', 19300000, 25878383, 45178383, 'Anime', 380140500], ['Demon Slayer the Movie: Mugen Train', '2020', 29151041, 15354900, 44505941, 'Anime', 506523013], ['Pokémon: The First Movie', '1998', 6650000, 30187706, 36837706, 'Anime', 172744662], ['Stand by Me Doraemon', '2014', 6250000, 16833251, 23083251, 'Anime', 183442714], ['Weathering with You', '2019', 10539869, 12147184, 22687053, 'Anime', 193715360], [\"Howl's Moving Castle\", '2004', 15500000, 6443336, 21943336, 'Anime', 236323601], ['Pokémon: The Movie 2000', '1999', 5600000, 13968660, 19568660, 'Anime', 133949270], ['Ponyo', '2008', 12900000, 5202354, 18102354, 'Anime', 204826668], ['Dragon Ball Super: Broly', '2018', 3070000, 14417445, 17487445, 'Anime', 122747755], ['Princess Mononoke', '1997', 14970000, 2014830, 16984830, 'Anime', 170005875], ['Detective Conan: The Fist of Blue Sapphire', '2019', 7400000, 7659418, 15059418, 'Anime', 115570314], ['One Piece Film: Red', '2022', 13000000, 1075100, 14075100, 'Anime', 206740295], ['Jujutsu Kaisen 0', '2021', 9840000, 4371597, 13875926, 'Anime', 195870885], ['Bayside Shakedown 2', '2003', 12600000, 151823, 12751823, 'Live-action', 164450000], ['Antarctica', '1983', 12000000, 543470, 12543470, 'Live-action', 101000000], ['The Secret World of Arrietty', '2012', 7560000, 4865830, 12425830, 'Anime', 149411550], ['The Adventures of Milo and Otis', '1986', 7500000, 4518750, 12018750, 'Live-action', 104121749], ['Detective Conan: The Scarlet Bullet', '2021', 5480000, 6413200, 11893200, 'Anime', 102541282], ['The Wind Rises', '2013', 9720000, 2131749, 11851749, 'Anime', 136533257], ['Detective Conan: Zero the Enforcer', '2018', 6880000, 4608375, 11488375, 'Anime', 108207000], ['One Piece: Stampede', '2019', 3700000, 6701192, 10401192, 'Anime', 93000000], ['Pokémon 3: The Movie', '2001', 4500000, 5614749, 10114749, 'Anime', 68411275]]\n"
          ]
        }
      ]
    },
    {
      "cell_type": "markdown",
      "metadata": {
        "id": "7W6KbbZGq2ew"
      },
      "source": [
        "At DataFrame df2 - box ticket sales all the time, we use a different factor: the ticket sale to comparing what is the gap among ticket sales in Japan, oversea and in worldwide. This step can help us to see the trending movie through the time, and analyze what factors that make a movie stays legend. "
      ]
    },
    {
      "cell_type": "code",
      "source": [
        "ref_url = 'https://en.wikipedia.org/wiki/List_of_highest-grossing_Japanese_films#cite_ref-153'\n",
        "res = requests.get(ref_url)\n",
        "\n",
        "wiki_html = res.text\n",
        "\n",
        "htmlparser = etree.HTMLParser()\n",
        "try:\n",
        "    # This one should work\n",
        "    tree = etree.parse(io.StringIO(wiki_html), parser=htmlparser)\n",
        "    # root of the whole wiki page in HTML\n",
        "    root = tree.getroot()\n",
        "except:\n",
        "    print(\"Failed to parse as HTML\")\n",
        "\n",
        "node = root.xpath(\"//ol[contains(@class,'references')]\")\n",
        "\n",
        "table3 = []\n",
        "for x in node[0].getchildren():\n",
        "  a = []\n",
        "  for y in x.getchildren():\n",
        "    for z in y.getchildren():\n",
        "      if z.tag == 'i':\n",
        "        # print (z.text)\n",
        "        a.append(z.text)\n",
        "      if z.tag == 'ul':\n",
        "        for t in z.getchildren():\n",
        "          if t.tag == 'li':\n",
        "            a.append(t.text)\n",
        "  if len(a) > 0: table3.append(a)\n",
        "  # print (etree.tostring(z, pretty_print = True).decode())\n",
        "\n",
        "print (table3)"
      ],
      "metadata": {
        "colab": {
          "base_uri": "https://localhost:8080/"
        },
        "id": "sV4C78eI6ASd",
        "outputId": "50f0420c-1fe0-408c-a4c0-00beab0b6616"
      },
      "execution_count": 26,
      "outputs": [
        {
          "output_type": "stream",
          "name": "stdout",
          "text": [
            "[['Kimi yo Fundo no Kawa o Watare', 'Manhunt', None, None], ['Mothra vs. Godzilla'], ['Spirited Away', 'China – 15,722,581', 'Europe – 2,995,684', 'United States and Canada – 1,961,800', 'South Korea (', 'Brazil and Argentina – 477,697'], ['Your Name', 'China – 20,728,000', 'South Korea – 3,712,891', 'Europe (excluding Russia and Spain) – 627,384', 'United States and Canada – 580,000', 'Russia and Argentina – 169,600', 'Spain – 60,508'], ['Demon Slayer the Movie: Mugen Train', 'Taiwan, Hong Kong, Macau, Southeast Asia, Latin America, Australia, New Zealand, Middle East, Africa – 6,340,000', 'United States and Canada – 5,090,000', 'South Korea – 2,151,861', 'Europe (excluding Russia) – 1,259,895', 'Russia – 513,144'], ['Pokémon: The First Movie', 'United States and Canada – 16,858,300', 'Europe – 12,679,046', 'Brazil – 468,000', 'South Korea (Seoul City) – 182,360'], ['The Bullet Train', 'France – 440,638', 'Soviet Union – 25,000,000+'], ['The Ballad of Narayama', None, 'France – 844,077', 'Netherlands – 1,120'], ['Stand by Me Doraemon', 'China – 15,296,400', 'Europe – 754,321', 'South Korea – 504,153', 'Spain – 278,377'], ['Weathering with You', 'China – 9,329,700', 'United States and Canada – 852,398', 'South Korea – 704,206', 'Taiwan – 700,000', 'Europe – 560,880\\n'], [\"Howl's Moving Castle\", 'South Korea – 3.02', 'France and Germany – 1,741,585', 'United States and Canada – 831,000', 'Europe (excluding France and Germany) – 764,445', 'Brazil – 86,306'], ['Dersu Uzala', 'Soviet Union and Sweden – 20,432,400', 'France – 994,988', 'Other EU territories (since 1996) – 48,265'], ['Pokemon: The Movie 2000', 'United States and Canada – 8,184,000', 'Europe (excluding France) – 5,034,378', 'France – 730,002', 'South Korea (Seoul City) – 20,280'], ['Ponyo', 'United States and Canada – 2,094,000', 'South Korea – 1,521,842', 'France and Germany – 1,019,425', 'Europe (excl. France, Germany, Russia) – 514,690', 'Russia and Brazil – 52,397'], ['Dragon Ball Super: Broly', 'Latin America – 8,420,410+\\n', 'United States and Canada – 3,408,700', 'Europe – 1,518,016\\n', 'China – 1,034,444', 'South Korea – 35,869'], ['Princess Mononoke', 'Europe (excluding Russia) – 1,164,364', 'United States and Canada – 628,800', 'South Korea – 195,630', 'Russia – 26,036'], ['Detective Conan: The Fist of Blue Sapphire', 'China – 7,440,300', 'South Korea – 219,118'], ['Jujutsu Kaisen 0', 'United States – 3,168,000', 'France and Germany – 631,330', 'South Korea – 572,267'], ['The Secret World of Arrietty', 'United States and Canada – 2,432,000', 'South Korea – 1,083,746', 'France – 934,073', 'Other European territories – 416,011'], ['The Adventures of Milo and Otis', 'United States – 3,200,000', 'Germany and France – 1,318,750'], [\"Doraemon: Nobita's Treasure Island\", 'China – 7,030,800', 'South Korea – 183,220'], ['Detective Conan: The Scarlet Bullet', 'China – 6,413,200', 'South Korea – 232,871'], ['The Wind Rises', 'Russia – 127,400', 'Europe (excluding Russia and Spain) – 1,186,384', 'United States and Canada – 652,200', 'South Korea – 106,439', 'Spain – 59,326'], ['Detective Conan: The Scarlet Bullet', 'China – 4,172,600', 'South Korea – 419,998', 'Spain – 15,777'], ['Stand by Me Doraemon 2', 'China – 8,268,300', 'South Korea – 82,311'], ['Godzilla', 'France – 835,511', 'United Kingdom (2005–2017) – 3,643'], ['One Piece: Stampede', 'China – 6,678,800', 'South Korea – 22,392'], ['Pokémon 3', 'United States and Canada – 3,055,000', 'Europe (excluding France) – 1,861,273', 'Brazil – 538,075', 'France – 160,401']]\n"
          ]
        }
      ]
    },
    {
      "cell_type": "markdown",
      "source": [
        "## SQL Database \n",
        "\n",
        "(requirement 6)\n",
        "* Our first created table is top_series, implementing the top highest franchise anime series. We select the following columns to create the table: series_id, title, date_release, status, runtime_per_episode, episode_count, others. \n",
        "\n",
        "* Our second created table is top_movies, the top highest grossing anime movies. We select the following columns to create the table: movie_id, title, revenue, year_release, genre, others. Then we update a new column, or variable, called revenue_category. This new variable has the following values: 500M+, Between 100M and 500M, Between 50M and 100M. "
      ],
      "metadata": {
        "id": "hoDWO578Sgo7"
      }
    },
    {
      "cell_type": "markdown",
      "source": [
        "* At first, we need to import sqlite3 library to use it later"
      ],
      "metadata": {
        "id": "Zdu5G8ZJPDu7"
      }
    },
    {
      "cell_type": "code",
      "execution_count": 27,
      "metadata": {
        "id": "nU1fp5N6Uk7f"
      },
      "outputs": [],
      "source": [
        "import sqlite3 as sql"
      ]
    },
    {
      "cell_type": "markdown",
      "source": [
        "* We also created a database called 'jp_films.db' to store the tables we will create in the next step."
      ],
      "metadata": {
        "id": "V79Xea32Pb-p"
      }
    },
    {
      "cell_type": "code",
      "source": [
        "conn = sql.connect('jp_films.db')  \n",
        "cur = conn.cursor() "
      ],
      "metadata": {
        "id": "b0TKDfPeRcM5"
      },
      "execution_count": 28,
      "outputs": []
    },
    {
      "cell_type": "code",
      "source": [
        "# engine.execute(\"SELECT * FROM top_series\").fetchall()"
      ],
      "metadata": {
        "id": "YbNT82ibOMpm"
      },
      "execution_count": 29,
      "outputs": []
    },
    {
      "cell_type": "code",
      "source": [
        "series_table = [x[:-1] for x in table]\n",
        "movies_japan_revenue_table = table0"
      ],
      "metadata": {
        "id": "czW6tj51iKlK"
      },
      "execution_count": 30,
      "outputs": []
    },
    {
      "cell_type": "code",
      "source": [
        "# films = sql.connect('films')\n",
        "# film_cur = films.cursor()"
      ],
      "metadata": {
        "id": "Qau-xxyJxUHa"
      },
      "execution_count": 31,
      "outputs": []
    },
    {
      "cell_type": "markdown",
      "source": [
        "* The two below queries help to create the two tables called 'top_series' and 'top_movies', respectively, with 'series_id' and 'movies_id', the two unique values in each table."
      ],
      "metadata": {
        "id": "l6crFv2OPtBZ"
      }
    },
    {
      "cell_type": "code",
      "source": [
        "query = \"\"\"\n",
        "        CREATE TABLE IF NOT EXISTS top_series \n",
        "        ([series_id] INTEGER PRIMARY KEY, [title] TEXT, [date_release] TEXT, [status] TEXT, [runtime_per_episode] TEXT, [episode_count] INTEGER, [others] INTEGER)\n",
        "        \"\"\"\n",
        "cur.execute(query)"
      ],
      "metadata": {
        "colab": {
          "base_uri": "https://localhost:8080/"
        },
        "id": "XA-8XDXei05W",
        "outputId": "4bfec5d4-68d5-4ad9-d82a-5f0ceabd4c98"
      },
      "execution_count": 32,
      "outputs": [
        {
          "output_type": "execute_result",
          "data": {
            "text/plain": [
              "<sqlite3.Cursor at 0x7fb84a024500>"
            ]
          },
          "metadata": {},
          "execution_count": 32
        }
      ]
    },
    {
      "cell_type": "code",
      "source": [
        "query1 = \"\"\"\n",
        "        CREATE TABLE IF NOT EXISTS top_movies\n",
        "        ([movie_id] INTEGER PRIMARY KEY, [title] TEXT, [revenue] INTEGER, [year_release] TEXT, [genre] TEXT, [others] INTEGER)\n",
        "        \"\"\"\n",
        "cur.execute(query1)"
      ],
      "metadata": {
        "colab": {
          "base_uri": "https://localhost:8080/"
        },
        "id": "4pKYgdCAi4B5",
        "outputId": "b46dcc84-8882-419f-a28e-60fd3e572ecb"
      },
      "execution_count": 33,
      "outputs": [
        {
          "output_type": "execute_result",
          "data": {
            "text/plain": [
              "<sqlite3.Cursor at 0x7fb84a024500>"
            ]
          },
          "metadata": {},
          "execution_count": 33
        }
      ]
    },
    {
      "cell_type": "markdown",
      "source": [
        "* We also implement a function called 'insertion' to modify the empty tables that we created before. By inserting new values, we will have a complete/normal SQL databases."
      ],
      "metadata": {
        "id": "YeEis3HMP-k3"
      }
    },
    {
      "cell_type": "code",
      "source": [
        "def insertion(table, sqltable, cols, cursor):\n",
        "  i = 1\n",
        "  n = len(cols)\n",
        "  for row in sqltable[0:50]:\n",
        "    r = [i] + row\n",
        "    b = str(tuple(r))\n",
        "    # print (b)\n",
        "    # a = f\"({i}, {row[0]}, {row[1]}, {row[2]}, {row[3]}, {row[4]}, {row[5]})\"\n",
        "    query = f\"\"\"\n",
        "          INSERT INTO {table} {cols}\n",
        "          VALUES\n",
        "          {b}\n",
        "          \"\"\"\n",
        "    # print (query)\n",
        "    cursor.execute(query)\n",
        "    conn.commit()\n",
        "    i += 1\n",
        "  # print (query)"
      ],
      "metadata": {
        "id": "VhL2vjcBivWJ"
      },
      "execution_count": 34,
      "outputs": []
    },
    {
      "cell_type": "code",
      "source": [
        "## implement the top-highest-franchise-anime-series\n",
        "cols0 = '(series_id, title, date_release, status, runtime_per_episode, episode_count, others)'\n",
        "insertion('top_series', series_table, cols0, cur)"
      ],
      "metadata": {
        "id": "0z-sREFXiyyO"
      },
      "execution_count": 35,
      "outputs": []
    },
    {
      "cell_type": "markdown",
      "source": [
        "* After using inserting function to take the values into the table, we will have some queries to request some essential data for analysis process."
      ],
      "metadata": {
        "id": "fmzAu7DDQSHm"
      }
    },
    {
      "cell_type": "code",
      "source": [
        "## select some values from 'top_series' table\n",
        "qry = \"\"\"\n",
        "      SELECT * FROM top_series WHERE status = 'Ongoing'\n",
        "      \"\"\"\n",
        "b = cur.execute(qry)\n",
        "res = b.fetchall()\n",
        "print (res)\n",
        "\n",
        "qry = \"\"\"\n",
        "      SELECT COUNT(status)\n",
        "      FROM top_series\n",
        "      WHERE status = 'Ongoing';\n",
        "      \"\"\"\n",
        "c = cur.execute(qry)\n",
        "res1 = c.fetchall()\n",
        "print (res1)\n",
        "\n",
        "qry = \"\"\"\n",
        "      SELECT COUNT(status)\n",
        "      FROM top_series\n",
        "      WHERE status = 'Ongoing' AND runtime_per_episode = '22-24 minutes' OR runtime_per_episode = '24 minutes';\n",
        "      \"\"\"\n",
        "d = cur.execute(qry)\n",
        "res2 = d.fetchall()\n",
        "print (res2)\n",
        "\n",
        "qry = \"\"\"\n",
        "      SELECT *, (episode_count + others) AS total_count\n",
        "      FROM top_series\n",
        "      \"\"\"\n",
        "total_count = cur.execute(qry)\n",
        "res3 = total_count.fetchall()\n",
        "print (res3)\n",
        "\n",
        "qry = \"\"\"\n",
        "      SELECT episode_count, others\n",
        "      FROM top_series\n",
        "      \"\"\"\n",
        "ratio_episode_count_others = cur.execute(qry)\n",
        "res4 = ratio_episode_count_others.fetchall()\n",
        "print (res4)\n",
        "\n",
        "qry = \"\"\"\n",
        "      SELECT (episode_count / others)\n",
        "      FROM top_series\n",
        "      WHERE others > 0 AND episode_count > 0\n",
        "      \"\"\"\n",
        "ratio_episode_count_others = cur.execute(qry)\n",
        "res5 = ratio_episode_count_others.fetchall()\n",
        "print (res5)\n",
        "\n",
        "qry = \"\"\"\n",
        "      SELECT *\n",
        "      FROM top_series\n",
        "      WHERE (episode_count / others) == 2\n",
        "      \"\"\"\n",
        "ratio_episode_count_others = cur.execute(qry)\n",
        "res6 = ratio_episode_count_others.fetchall()\n",
        "print (res6)"
      ],
      "metadata": {
        "id": "phhR2XDQjWtU",
        "colab": {
          "base_uri": "https://localhost:8080/"
        },
        "outputId": "8e51e40d-0f24-45f9-df7b-b4b4d2768b08"
      },
      "execution_count": 36,
      "outputs": [
        {
          "output_type": "stream",
          "name": "stdout",
          "text": [
            "[]\n",
            "[(0,)]\n",
            "[(0,)]\n",
            "[(1, 'Doraemon', '1973', '2022', '22', 3003, 67, 3070), (2, 'Sazae-san', '1969', '2022', '22', 2640, 0, 2640), (3, 'Nintama Rantarō', '1993', '2022', '10', 2199, 3, 2202), (4, 'Ojarumaru', '1998', '2022', '10', 1827, 4, 1831), (5, 'Oyako Club', '1994', '2013', '5', 1818, 0, 1818), (6, 'Soreike! Anpanman', '1988', '2022', '24', 1587, 113, 1700), (7, 'Kirin Monoshiri Yakata', '1975', '1979', '5', 1565, 0, 1565), (8, 'Chibi Maruko-chan', '1990', '2022', '24', 1493, 64, 1557), (9, 'Kirin Ashita no Calendar', '1980', '1984', '5', 1498, 0, 1498), (10, 'Manga Nippon Mukashi Banashi', '1975', '1995', '24', 1494, 0, 1494), (11, 'Hoka Hoka Kazoku', '1976', '1982', '5', 1428, 0, 1428), (12, 'Shimajirō', '1993', '2022', '24', 1403, 8, 1411), (13, 'Pokémon', '1997', '2022', '24', 1220, 144, 1364), (14, 'Monoshiri Daigaku Ashita no Calendar', '1966', '1970', '5', 1274, 0, 1274), (15, 'Transformers', '1984', '2022', '0', 1199, 5, 1204), (16, 'Crayon Shin-chan', '1992', '2022', '24', 1083, 124, 1207), (17, 'Yu-Gi-Oh!', '1998', '2022', '24', 1126, 7, 1133), (18, 'Case Closed', '1996', '2022', '24', 0, 60, 60), (19, 'One Piece', '1999', '2022', '24', 0, 47, 47), (20, 'Naruto', '2002', '2022', '24', 720, 348, 1068), (21, 'Gundam', '1979', '2022', '0', 755, 279, 1034), (22, 'Sekai Monoshiri Ryoko', '1971', '1974', '5', 1006, 0, 1006), (23, 'Pretty Cure', '2004', '2022', '24', 879, 31, 910), (24, 'Dragon Ball', '1986', '2022', '24', 639, 241, 880), (25, 'Duel Masters', '2002', '2022', '0', 848, 5, 853), (26, 'Kotowaza House', '1987', '1994', '24', 773, 0, 773), (27, 'Ninja Hattori-kun', '1981', '2015', '10', 746, 5, 751), (28, 'Obake no Q-tarō', '1965', '1987', '24', 741, 3, 744), (29, 'Beyblade', '2001', '2022', '12', 662, 54, 716), (30, 'Otogi Manga Calendar', '1961', '1964', '0', 624, 0, 624), (31, 'Perman', '1983', '2004', '12', 591, 8, 599), (32, 'GeGeGe no Kitarō', '1968', '2022', '24', 547, 0, 547), (33, 'Cardfight!! Vanguard', '2011', '2022', '0', 0, 0, 0), (34, 'Hamtaro', '2000', '2013', '0', 0, 0, 0), (35, 'Digimon', '1999', '2022', '24', 0, 0, 0), (36, 'Jewelpet', '2009', '2022', '0', 463, 0, 463), (37, 'Brave series', '1990', '2005', '0', 0, 0, 0), (38, 'Keroro Gunso', '2004', '2012', '24', 0, 0, 0), (39, 'Battle Spirits', '2008', '2022', '0', 0, 0, 0), (40, 'Kochira Katsushika-ku', '1996', '2004', '0', 0, 0, 0), (41, 'B-Daman', '1998', '2013', '0', 0, 0, 0), (42, 'Gin Tama', '2003', '2018', '24', 0, 9, 9), (43, 'Bleach', '2004', '2012', '24', 366, 6, 372), (44, 'Manga Jinbutsushi', '1970', '1971', '0', 0, 0, 0), (45, 'Charady no Joke na Mainichi', '2009', '2010', '0', 0, 0, 0), (46, 'Lupin III', '1971', '2022', '24', 316, 47, 363), (47, 'Inazuma Eleven', '2008', '2019', '0', 0, 0, 0), (48, 'Dr. Slump', '1981', '2007', '24', 0, 0, 0), (49, 'Fairy Tail', '2009', '2019', '24', 328, 11, 339), (50, 'Yo-kai Watch', '2014', '2022', '0', 0, 0, 0)]\n",
            "[(3003, 67), (2640, 0), (2199, 3), (1827, 4), (1818, 0), (1587, 113), (1565, 0), (1493, 64), (1498, 0), (1494, 0), (1428, 0), (1403, 8), (1220, 144), (1274, 0), (1199, 5), (1083, 124), (1126, 7), (0, 60), (0, 47), (720, 348), (755, 279), (1006, 0), (879, 31), (639, 241), (848, 5), (773, 0), (746, 5), (741, 3), (662, 54), (624, 0), (591, 8), (547, 0), (0, 0), (0, 0), (0, 0), (463, 0), (0, 0), (0, 0), (0, 0), (0, 0), (0, 0), (0, 9), (366, 6), (0, 0), (0, 0), (316, 47), (0, 0), (0, 0), (328, 11), (0, 0)]\n",
            "[(44,), (733,), (456,), (14,), (23,), (175,), (8,), (239,), (8,), (160,), (2,), (2,), (28,), (2,), (169,), (149,), (247,), (12,), (73,), (61,), (6,), (29,)]\n",
            "[(20, 'Naruto', '2002', '2022', '24', 720, 348), (21, 'Gundam', '1979', '2022', '0', 755, 279), (24, 'Dragon Ball', '1986', '2022', '24', 639, 241)]\n"
          ]
        }
      ]
    },
    {
      "cell_type": "markdown",
      "source": [
        "* We can see that from getting data about the ratio of some films' episode counts and others, there is a fact that these two have no relationship. The three films having the lowest ratios (which is nearly equal to 2) are Naruto, Gundam, and Dragon Ball. We also do same thing with 'top_series' table."
      ],
      "metadata": {
        "id": "Y5tvUY34QfKQ"
      }
    },
    {
      "cell_type": "code",
      "source": [
        "## implement the top-highest-grossing-anime-movies\n",
        "cols1 = '(movie_id, title, revenue, year_release, genre, others)'\n",
        "insertion('top_movies', movies_japan_revenue_table, cols1, cur)"
      ],
      "metadata": {
        "id": "HyAkSKVMjwon"
      },
      "execution_count": 37,
      "outputs": []
    },
    {
      "cell_type": "code",
      "source": [
        "qry = \"\"\"\n",
        "      SELECT COUNT(*) FROM top_movies WHERE revenue > 100000000 OR revenue == 100000000\n",
        "      \"\"\"\n",
        "revenue_higher_1m = cur.execute(qry)\n",
        "res7 = revenue_higher_1m.fetchall()\n",
        "print (res7)"
      ],
      "metadata": {
        "id": "dwYS-y6cla6g",
        "colab": {
          "base_uri": "https://localhost:8080/"
        },
        "outputId": "a20b06d9-1b71-4449-ca78-e03363e1d3e7"
      },
      "execution_count": 38,
      "outputs": [
        {
          "output_type": "stream",
          "name": "stdout",
          "text": [
            "[(22,)]\n"
          ]
        }
      ]
    },
    {
      "cell_type": "code",
      "source": [
        "qry = f'''\n",
        "        ALTER TABLE top_movies\n",
        "        ADD revenue_category TEXT(50);\n",
        "        '''\n",
        "cur.execute(qry)"
      ],
      "metadata": {
        "id": "5Vq7fdZChRIQ",
        "colab": {
          "base_uri": "https://localhost:8080/"
        },
        "outputId": "e8b288df-704c-45a4-cab7-5668ffdfec38"
      },
      "execution_count": 39,
      "outputs": [
        {
          "output_type": "execute_result",
          "data": {
            "text/plain": [
              "<sqlite3.Cursor at 0x7fb84a024500>"
            ]
          },
          "metadata": {},
          "execution_count": 39
        }
      ]
    },
    {
      "cell_type": "markdown",
      "source": [
        "* Also, we want to modify the 'top_movies' by categorizing the film's revenue. We use 'UPDATE' statement to add new column to existing table and insert new value into it."
      ],
      "metadata": {
        "id": "-KGnlGBiRKtv"
      }
    },
    {
      "cell_type": "code",
      "source": [
        "n = len(movies_japan_revenue_table)\n",
        "\n",
        "# categorize the films based on revenues with 'UPDATE' statement\n",
        "for i in range (n):\n",
        "  id = i + 1\n",
        "  if movies_japan_revenue_table[i][1] >= 500000000:\n",
        "    qry = f\"\"\"\n",
        "          UPDATE top_movies SET revenue_category = '500M+' WHERE movie_id = {id};\n",
        "          \"\"\"\n",
        "  elif movies_japan_revenue_table[i][1] >= 100000000 and movies_japan_revenue_table[i][1] < 500000000:\n",
        "    qry = f\"\"\"\n",
        "          UPDATE top_movies SET revenue_category = 'Between 100M and 500M' WHERE movie_id = {id};\n",
        "          \"\"\"\n",
        "  elif movies_japan_revenue_table[i][1] < 100000000 and movies_japan_revenue_table[i][1] >= 50000000:\n",
        "    qry = f\"\"\"\n",
        "          UPDATE top_movies SET revenue_category = 'Between 50M and 100M' WHERE movie_id = {id};\n",
        "          \"\"\"\n",
        "  else:\n",
        "    qry = f\"\"\"\n",
        "          UPDATE top_movies SET revenue_category = '<50M' WHERE movie_id = {id};\n",
        "          \"\"\"\n",
        "  cur.execute(qry)\n",
        "  conn.commit()\n"
      ],
      "metadata": {
        "id": "onI6wwtme4Yr"
      },
      "execution_count": 40,
      "outputs": []
    },
    {
      "cell_type": "code",
      "source": [
        "qry = '''\n",
        "      SELECT * FROM top_movies\n",
        "      '''\n",
        "all = cur.execute(qry)\n",
        "res8 = all.fetchall()\n",
        "print (res8)\n",
        "\n",
        "qry = '''\n",
        "      SELECT COUNT(*) FROM top_movies\n",
        "      WHERE revenue_category == 'Between 100M and 500M'\n",
        "      '''\n",
        "revenue_100_500 = cur.execute(qry)\n",
        "res9 = revenue_100_500.fetchall()\n",
        "print (res9)\n",
        "\n",
        "qry = '''\n",
        "      SELECT COUNT(*) FROM top_movies\n",
        "      WHERE revenue_category == 'Between 50M and 100M'\n",
        "      '''\n",
        "revenue_below_50 = cur.execute(qry)\n",
        "res10 = revenue_below_50.fetchall()\n",
        "print (res10)\n"
      ],
      "metadata": {
        "id": "ZG2MVV_Oiz_x",
        "colab": {
          "base_uri": "https://localhost:8080/"
        },
        "outputId": "d585c395-b9fb-4023-f053-0091203f0420"
      },
      "execution_count": 41,
      "outputs": [
        {
          "output_type": "stream",
          "name": "stdout",
          "text": [
            "[(1, 'Demon Slayer the Movie: Mugen Train', 506523013, '2020', 'Anime', 0, '500M+'), (2, 'Spirited Away', 395580000, '2001', 'Anime', 0, 'Between 100M and 500M'), (3, 'Your Name', 380140500, '2016', 'Anime', 0, 'Between 100M and 500M'), (4, \"Howl's Moving Castle\", 236323601, '2004', 'Anime', 0, 'Between 100M and 500M'), (5, 'One Piece Film: Red', 206740295, '2022', 'Anime', 0, 'Between 100M and 500M'), (6, 'Ponyo', 204826668, '2008', 'Anime', 0, 'Between 100M and 500M'), (7, 'Jujutsu Kaisen 0', 195870885, '2021', 'Anime', 0, 'Between 100M and 500M'), (8, 'Weathering with You', 193715360, '2019', 'Anime', 0, 'Between 100M and 500M'), (9, 'Stand by Me Doraemon', 183442714, '2014', 'Anime', 0, 'Between 100M and 500M'), (10, 'Pokémon: The First Movie', 172744662, '1998', 'Anime', 0, 'Between 100M and 500M'), (11, 'Princess Mononoke', 170005875, '1997', 'Anime', 0, 'Between 100M and 500M'), (12, 'Bayside Shakedown 2', 164450000, '2003', '0', 0, 'Between 100M and 500M'), (13, 'The Secret World of Arrietty', 149411550, '2010', 'Anime', 0, 'Between 100M and 500M'), (14, 'The Wind Rises', 136533257, '2013', 'Anime', 0, 'Between 100M and 500M'), (15, 'Pokémon: The Movie 2000', 133949270, '1999', 'Anime', 0, 'Between 100M and 500M'), (16, 'Dragon Ball Super: Broly', 122747755, '2018', 'Anime', 0, 'Between 100M and 500M'), (17, 'Detective Conan: The Fist of Blue Sapphire', 115570314, '2019', 'Anime', 0, 'Between 100M and 500M'), (18, 'Bayside Shakedown: The Movie', 115000000, '1998', 'Live-action', 0, 'Between 100M and 500M'), (19, 'Detective Conan: Zero the Enforcer', 108207000, '2018', 'Anime', 0, 'Between 100M and 500M'), (20, 'The Adventures of Milo and Otis', 104121749, '1986', 'Live-action', 0, 'Between 100M and 500M'), (21, 'Detective Conan: The Scarlet Bullet', 102541282, '2021', 'Anime', 0, 'Between 100M and 500M'), (22, 'Antarctica', 101000000, '1983', 'Live-action', 0, 'Between 100M and 500M'), (23, 'Yo-kai Watch: The Movie', 99481307, '2014', 'Anime', 0, 'Between 50M and 100M'), (24, 'Umizaru 3: The Last Message', 98663381, '2010', 'Live-action', 0, 'Between 50M and 100M'), (25, 'One Piece: Stampede', 93000000, '2019', 'Anime', 0, 'Between 50M and 100M'), (26, 'Evangelion: 3.0+1.0 Thrice Upon a Time', 92246218, '2021', 'Anime', 0, 'Between 50M and 100M'), (27, 'Brave Hearts: Umizaru', 91884352, '2012', 'Live-action', 0, 'Between 50M and 100M'), (28, 'Rookies: Graduation', 88055243, '2009', 'Live-action', 0, 'Between 50M and 100M'), (29, 'Nodame Cantabile: The Movie II', 86192740, '2010', 'Live-action', 0, 'Between 50M and 100M'), (30, 'Bayside Shakedown 3', 85347374, '2010', 'Live-action', 0, 'Between 50M and 100M'), (31, 'Dragon Ball Super: Super Hero', 85100000, '2022', 'Anime', 0, 'Between 50M and 100M'), (32, 'The Eternal Zero', 84500000, '2013', 'Live-action', 0, 'Between 50M and 100M'), (33, \"Doraemon the Movie: Nobita's Treasure Island\", 80920916, '2018', 'Anime', 0, 'Between 50M and 100M'), (34, 'Hero', 80400000, '2007', 'Live-action', 0, 'Between 50M and 100M'), (35, 'Code Blue: The Movie', 78778562, '2018', 'Live-action', 0, 'Between 50M and 100M'), (36, 'Shin Godzilla', 78053145, '2016', 'Live-action', 0, 'Between 50M and 100M'), (37, 'Tales from Earthsea', 75500000, '2006', 'Anime', 0, 'Between 50M and 100M'), (38, 'Thermae Romae', 75387554, '2012', 'Live-action', 0, 'Between 50M and 100M'), (39, 'Crying Out Love, in the Center of the World', 74849073, '2004', 'Live-action', 0, 'Between 50M and 100M'), (40, 'One Piece Film: Z', 74223861, '2012', 'Anime', 0, 'Between 50M and 100M'), (41, 'The Silk Road', 74123959, '1988', 'Live-action', 0, 'Between 50M and 100M'), (42, 'Detective Conan: The Bride of Halloween', 73766887, '2022', 'Anime', 0, 'Between 50M and 100M'), (43, 'Bayside Shakedown: The Final', 72867395, '2012', 'Live-action', 0, 'Between 50M and 100M'), (44, 'Hana Yori Dango Final', 72243609, '2008', 'Live-action', 0, 'Between 50M and 100M'), (45, 'Pokémon Zoroark: Master of Illusions', 71143529, '2010', 'Anime', 0, 'Between 50M and 100M'), (46, 'Pokémon 3: The Movie', 68411275, '2000', 'Anime', 0, 'Between 50M and 100M'), (47, 'Shoplifters', 67999335, '2018', 'Live-action', 0, 'Between 50M and 100M'), (48, 'Detective Conan: The Darkest Nightmare', 66265957, '2016', 'Anime', 0, 'Between 50M and 100M'), (49, 'One Piece Film: Gold', 66207073, '2016', 'Anime', 0, 'Between 50M and 100M'), (50, \"Doraemon: Nobita's Chronicle of the Moon Exploration\", 65406606, '2019', 'Anime', 0, 'Between 50M and 100M')]\n",
            "[(21,)]\n",
            "[(28,)]\n"
          ]
        }
      ]
    },
    {
      "cell_type": "markdown",
      "source": [
        "* We can see that all of the films having revenue in two main groups: 'Between 100M and 500M' and 'Between 50M and 100M'. Only one film 'Demon Slayer The Movie' has the revenue beyond 500M (USD)."
      ],
      "metadata": {
        "id": "7OxYstzbR4rp"
      }
    },
    {
      "cell_type": "code",
      "source": [
        "### end SQL DATABASE"
      ],
      "metadata": {
        "id": "BV1RtrZvjqkm"
      },
      "execution_count": 42,
      "outputs": []
    },
    {
      "cell_type": "markdown",
      "source": [
        "#### Storage Challenges (requirement 6):\n",
        "\n",
        "When working on the insertion() function, we had several fail attempts to make the SQL tables because we didn't realize that the data values were a mix of string and numeric. We had to tuple them and turn them into string."
      ],
      "metadata": {
        "id": "PoigMOUwChlh"
      }
    },
    {
      "cell_type": "markdown",
      "source": [
        "## DATA ANALYSIS AND VISUALIZATION\n",
        "\n",
        "(requirement 6)\n",
        "* Our first created table is top_series, implementing the top highest franchise anime series. We select the following columns to create the table: series_id, title, date_release, status, runtime_per_episode, episode_count, others. \n",
        "\n",
        "* Our second created table is top_movies, the top highest grossing anime movies. We select the following columns to create the table: movie_id, title, revenue, year_release, genre, others. Then we update a new column, or variable, called revenue_category. This new variable has the following values: 500M+, Between 100M and 500M, Between 50M and 100M. \n",
        "\n",
        "\n",
        "\n",
        "\n",
        "*Markdown cells explaining how you use the data frame(s) to process the data. (Requirement #6).*\n",
        "\n",
        "*A final Markdown cell explaining the answer(s) to your central question (Requirement #7).*"
      ],
      "metadata": {
        "id": "ow4DmxQhZXgz"
      }
    },
    {
      "cell_type": "code",
      "source": [
        "import plotly.express as px\n",
        "import matplotlib.pyplot as plt\n",
        "# Top 50 Highest Grossing Anime Worldwide\n",
        "# Scatter plot of Revenue (USD) over Year release for each anime movie, with the revenue also indicated by the bubble size\n",
        "fig1 = px.scatter(df0, x=\"Year release\", y=\"Revenue (USD)\", size=\"Revenue (USD)\", color=\"Movie name\", log_x=1000, size_max=40)\n",
        "fig1.update_layout(\n",
        "    title={'text': \"Movies' Revenues (USD) over Year release (Worldwide)\"})\n",
        "\n",
        "fig1.show()"
      ],
      "metadata": {
        "id": "JeivCzMwQt9J",
        "outputId": "c33f9506-19a9-4170-f533-0409cabcb966",
        "colab": {
          "base_uri": "https://localhost:8080/",
          "height": 542
        }
      },
      "execution_count": 43,
      "outputs": [
        {
          "output_type": "display_data",
          "data": {
            "text/html": [
              "<html>\n",
              "<head><meta charset=\"utf-8\" /></head>\n",
              "<body>\n",
              "    <div>            <script src=\"https://cdnjs.cloudflare.com/ajax/libs/mathjax/2.7.5/MathJax.js?config=TeX-AMS-MML_SVG\"></script><script type=\"text/javascript\">if (window.MathJax) {MathJax.Hub.Config({SVG: {font: \"STIX-Web\"}});}</script>                <script type=\"text/javascript\">window.PlotlyConfig = {MathJaxConfig: 'local'};</script>\n",
              "        <script src=\"https://cdn.plot.ly/plotly-2.8.3.min.js\"></script>                <div id=\"baae1641-31df-4429-bd7c-5f829e71f84a\" class=\"plotly-graph-div\" style=\"height:525px; width:100%;\"></div>            <script type=\"text/javascript\">                                    window.PLOTLYENV=window.PLOTLYENV || {};                                    if (document.getElementById(\"baae1641-31df-4429-bd7c-5f829e71f84a\")) {                    Plotly.newPlot(                        \"baae1641-31df-4429-bd7c-5f829e71f84a\",                        [{\"hovertemplate\":\"Movie name=Demon Slayer the Movie: Mugen Train<br>Year release=%{x}<br>Revenue (USD)=%{marker.size}<extra></extra>\",\"legendgroup\":\"Demon Slayer the Movie: Mugen Train\",\"marker\":{\"color\":\"#636efa\",\"size\":[506523013],\"sizemode\":\"area\",\"sizeref\":316576.883125,\"symbol\":\"circle\"},\"mode\":\"markers\",\"name\":\"Demon Slayer the Movie: Mugen Train\",\"orientation\":\"v\",\"showlegend\":true,\"x\":[\"2020\"],\"xaxis\":\"x\",\"y\":[506523013],\"yaxis\":\"y\",\"type\":\"scatter\"},{\"hovertemplate\":\"Movie name=Spirited Away<br>Year release=%{x}<br>Revenue (USD)=%{marker.size}<extra></extra>\",\"legendgroup\":\"Spirited Away\",\"marker\":{\"color\":\"#EF553B\",\"size\":[395580000],\"sizemode\":\"area\",\"sizeref\":316576.883125,\"symbol\":\"circle\"},\"mode\":\"markers\",\"name\":\"Spirited Away\",\"orientation\":\"v\",\"showlegend\":true,\"x\":[\"2001\"],\"xaxis\":\"x\",\"y\":[395580000],\"yaxis\":\"y\",\"type\":\"scatter\"},{\"hovertemplate\":\"Movie name=Your Name<br>Year release=%{x}<br>Revenue (USD)=%{marker.size}<extra></extra>\",\"legendgroup\":\"Your Name\",\"marker\":{\"color\":\"#00cc96\",\"size\":[380140500],\"sizemode\":\"area\",\"sizeref\":316576.883125,\"symbol\":\"circle\"},\"mode\":\"markers\",\"name\":\"Your Name\",\"orientation\":\"v\",\"showlegend\":true,\"x\":[\"2016\"],\"xaxis\":\"x\",\"y\":[380140500],\"yaxis\":\"y\",\"type\":\"scatter\"},{\"hovertemplate\":\"Movie name=Howl's Moving Castle<br>Year release=%{x}<br>Revenue (USD)=%{marker.size}<extra></extra>\",\"legendgroup\":\"Howl's Moving Castle\",\"marker\":{\"color\":\"#ab63fa\",\"size\":[236323601],\"sizemode\":\"area\",\"sizeref\":316576.883125,\"symbol\":\"circle\"},\"mode\":\"markers\",\"name\":\"Howl's Moving Castle\",\"orientation\":\"v\",\"showlegend\":true,\"x\":[\"2004\"],\"xaxis\":\"x\",\"y\":[236323601],\"yaxis\":\"y\",\"type\":\"scatter\"},{\"hovertemplate\":\"Movie name=One Piece Film: Red<br>Year release=%{x}<br>Revenue (USD)=%{marker.size}<extra></extra>\",\"legendgroup\":\"One Piece Film: Red\",\"marker\":{\"color\":\"#FFA15A\",\"size\":[206740295],\"sizemode\":\"area\",\"sizeref\":316576.883125,\"symbol\":\"circle\"},\"mode\":\"markers\",\"name\":\"One Piece Film: Red\",\"orientation\":\"v\",\"showlegend\":true,\"x\":[\"2022\"],\"xaxis\":\"x\",\"y\":[206740295],\"yaxis\":\"y\",\"type\":\"scatter\"},{\"hovertemplate\":\"Movie name=Ponyo<br>Year release=%{x}<br>Revenue (USD)=%{marker.size}<extra></extra>\",\"legendgroup\":\"Ponyo\",\"marker\":{\"color\":\"#19d3f3\",\"size\":[204826668],\"sizemode\":\"area\",\"sizeref\":316576.883125,\"symbol\":\"circle\"},\"mode\":\"markers\",\"name\":\"Ponyo\",\"orientation\":\"v\",\"showlegend\":true,\"x\":[\"2008\"],\"xaxis\":\"x\",\"y\":[204826668],\"yaxis\":\"y\",\"type\":\"scatter\"},{\"hovertemplate\":\"Movie name=Jujutsu Kaisen 0<br>Year release=%{x}<br>Revenue (USD)=%{marker.size}<extra></extra>\",\"legendgroup\":\"Jujutsu Kaisen 0\",\"marker\":{\"color\":\"#FF6692\",\"size\":[195870885],\"sizemode\":\"area\",\"sizeref\":316576.883125,\"symbol\":\"circle\"},\"mode\":\"markers\",\"name\":\"Jujutsu Kaisen 0\",\"orientation\":\"v\",\"showlegend\":true,\"x\":[\"2021\"],\"xaxis\":\"x\",\"y\":[195870885],\"yaxis\":\"y\",\"type\":\"scatter\"},{\"hovertemplate\":\"Movie name=Weathering with You<br>Year release=%{x}<br>Revenue (USD)=%{marker.size}<extra></extra>\",\"legendgroup\":\"Weathering with You\",\"marker\":{\"color\":\"#B6E880\",\"size\":[193715360],\"sizemode\":\"area\",\"sizeref\":316576.883125,\"symbol\":\"circle\"},\"mode\":\"markers\",\"name\":\"Weathering with You\",\"orientation\":\"v\",\"showlegend\":true,\"x\":[\"2019\"],\"xaxis\":\"x\",\"y\":[193715360],\"yaxis\":\"y\",\"type\":\"scatter\"},{\"hovertemplate\":\"Movie name=Stand by Me Doraemon<br>Year release=%{x}<br>Revenue (USD)=%{marker.size}<extra></extra>\",\"legendgroup\":\"Stand by Me Doraemon\",\"marker\":{\"color\":\"#FF97FF\",\"size\":[183442714],\"sizemode\":\"area\",\"sizeref\":316576.883125,\"symbol\":\"circle\"},\"mode\":\"markers\",\"name\":\"Stand by Me Doraemon\",\"orientation\":\"v\",\"showlegend\":true,\"x\":[\"2014\"],\"xaxis\":\"x\",\"y\":[183442714],\"yaxis\":\"y\",\"type\":\"scatter\"},{\"hovertemplate\":\"Movie name=Pok\\u00e9mon: The First Movie<br>Year release=%{x}<br>Revenue (USD)=%{marker.size}<extra></extra>\",\"legendgroup\":\"Pok\\u00e9mon: The First Movie\",\"marker\":{\"color\":\"#FECB52\",\"size\":[172744662],\"sizemode\":\"area\",\"sizeref\":316576.883125,\"symbol\":\"circle\"},\"mode\":\"markers\",\"name\":\"Pok\\u00e9mon: The First Movie\",\"orientation\":\"v\",\"showlegend\":true,\"x\":[\"1998\"],\"xaxis\":\"x\",\"y\":[172744662],\"yaxis\":\"y\",\"type\":\"scatter\"},{\"hovertemplate\":\"Movie name=Princess Mononoke<br>Year release=%{x}<br>Revenue (USD)=%{marker.size}<extra></extra>\",\"legendgroup\":\"Princess Mononoke\",\"marker\":{\"color\":\"#636efa\",\"size\":[170005875],\"sizemode\":\"area\",\"sizeref\":316576.883125,\"symbol\":\"circle\"},\"mode\":\"markers\",\"name\":\"Princess Mononoke\",\"orientation\":\"v\",\"showlegend\":true,\"x\":[\"1997\"],\"xaxis\":\"x\",\"y\":[170005875],\"yaxis\":\"y\",\"type\":\"scatter\"},{\"hovertemplate\":\"Movie name=Bayside Shakedown 2<br>Year release=%{x}<br>Revenue (USD)=%{marker.size}<extra></extra>\",\"legendgroup\":\"Bayside Shakedown 2\",\"marker\":{\"color\":\"#EF553B\",\"size\":[164450000],\"sizemode\":\"area\",\"sizeref\":316576.883125,\"symbol\":\"circle\"},\"mode\":\"markers\",\"name\":\"Bayside Shakedown 2\",\"orientation\":\"v\",\"showlegend\":true,\"x\":[\"2003\"],\"xaxis\":\"x\",\"y\":[164450000],\"yaxis\":\"y\",\"type\":\"scatter\"},{\"hovertemplate\":\"Movie name=The Secret World of Arrietty<br>Year release=%{x}<br>Revenue (USD)=%{marker.size}<extra></extra>\",\"legendgroup\":\"The Secret World of Arrietty\",\"marker\":{\"color\":\"#00cc96\",\"size\":[149411550],\"sizemode\":\"area\",\"sizeref\":316576.883125,\"symbol\":\"circle\"},\"mode\":\"markers\",\"name\":\"The Secret World of Arrietty\",\"orientation\":\"v\",\"showlegend\":true,\"x\":[\"2010\"],\"xaxis\":\"x\",\"y\":[149411550],\"yaxis\":\"y\",\"type\":\"scatter\"},{\"hovertemplate\":\"Movie name=The Wind Rises<br>Year release=%{x}<br>Revenue (USD)=%{marker.size}<extra></extra>\",\"legendgroup\":\"The Wind Rises\",\"marker\":{\"color\":\"#ab63fa\",\"size\":[136533257],\"sizemode\":\"area\",\"sizeref\":316576.883125,\"symbol\":\"circle\"},\"mode\":\"markers\",\"name\":\"The Wind Rises\",\"orientation\":\"v\",\"showlegend\":true,\"x\":[\"2013\"],\"xaxis\":\"x\",\"y\":[136533257],\"yaxis\":\"y\",\"type\":\"scatter\"},{\"hovertemplate\":\"Movie name=Pok\\u00e9mon: The Movie 2000<br>Year release=%{x}<br>Revenue (USD)=%{marker.size}<extra></extra>\",\"legendgroup\":\"Pok\\u00e9mon: The Movie 2000\",\"marker\":{\"color\":\"#FFA15A\",\"size\":[133949270],\"sizemode\":\"area\",\"sizeref\":316576.883125,\"symbol\":\"circle\"},\"mode\":\"markers\",\"name\":\"Pok\\u00e9mon: The Movie 2000\",\"orientation\":\"v\",\"showlegend\":true,\"x\":[\"1999\"],\"xaxis\":\"x\",\"y\":[133949270],\"yaxis\":\"y\",\"type\":\"scatter\"},{\"hovertemplate\":\"Movie name=Dragon Ball Super: Broly<br>Year release=%{x}<br>Revenue (USD)=%{marker.size}<extra></extra>\",\"legendgroup\":\"Dragon Ball Super: Broly\",\"marker\":{\"color\":\"#19d3f3\",\"size\":[122747755],\"sizemode\":\"area\",\"sizeref\":316576.883125,\"symbol\":\"circle\"},\"mode\":\"markers\",\"name\":\"Dragon Ball Super: Broly\",\"orientation\":\"v\",\"showlegend\":true,\"x\":[\"2018\"],\"xaxis\":\"x\",\"y\":[122747755],\"yaxis\":\"y\",\"type\":\"scatter\"},{\"hovertemplate\":\"Movie name=Detective Conan: The Fist of Blue Sapphire<br>Year release=%{x}<br>Revenue (USD)=%{marker.size}<extra></extra>\",\"legendgroup\":\"Detective Conan: The Fist of Blue Sapphire\",\"marker\":{\"color\":\"#FF6692\",\"size\":[115570314],\"sizemode\":\"area\",\"sizeref\":316576.883125,\"symbol\":\"circle\"},\"mode\":\"markers\",\"name\":\"Detective Conan: The Fist of Blue Sapphire\",\"orientation\":\"v\",\"showlegend\":true,\"x\":[\"2019\"],\"xaxis\":\"x\",\"y\":[115570314],\"yaxis\":\"y\",\"type\":\"scatter\"},{\"hovertemplate\":\"Movie name=Bayside Shakedown: The Movie<br>Year release=%{x}<br>Revenue (USD)=%{marker.size}<extra></extra>\",\"legendgroup\":\"Bayside Shakedown: The Movie\",\"marker\":{\"color\":\"#B6E880\",\"size\":[115000000],\"sizemode\":\"area\",\"sizeref\":316576.883125,\"symbol\":\"circle\"},\"mode\":\"markers\",\"name\":\"Bayside Shakedown: The Movie\",\"orientation\":\"v\",\"showlegend\":true,\"x\":[\"1998\"],\"xaxis\":\"x\",\"y\":[115000000],\"yaxis\":\"y\",\"type\":\"scatter\"},{\"hovertemplate\":\"Movie name=Detective Conan: Zero the Enforcer<br>Year release=%{x}<br>Revenue (USD)=%{marker.size}<extra></extra>\",\"legendgroup\":\"Detective Conan: Zero the Enforcer\",\"marker\":{\"color\":\"#FF97FF\",\"size\":[108207000],\"sizemode\":\"area\",\"sizeref\":316576.883125,\"symbol\":\"circle\"},\"mode\":\"markers\",\"name\":\"Detective Conan: Zero the Enforcer\",\"orientation\":\"v\",\"showlegend\":true,\"x\":[\"2018\"],\"xaxis\":\"x\",\"y\":[108207000],\"yaxis\":\"y\",\"type\":\"scatter\"},{\"hovertemplate\":\"Movie name=The Adventures of Milo and Otis<br>Year release=%{x}<br>Revenue (USD)=%{marker.size}<extra></extra>\",\"legendgroup\":\"The Adventures of Milo and Otis\",\"marker\":{\"color\":\"#FECB52\",\"size\":[104121749],\"sizemode\":\"area\",\"sizeref\":316576.883125,\"symbol\":\"circle\"},\"mode\":\"markers\",\"name\":\"The Adventures of Milo and Otis\",\"orientation\":\"v\",\"showlegend\":true,\"x\":[\"1986\"],\"xaxis\":\"x\",\"y\":[104121749],\"yaxis\":\"y\",\"type\":\"scatter\"},{\"hovertemplate\":\"Movie name=Detective Conan: The Scarlet Bullet<br>Year release=%{x}<br>Revenue (USD)=%{marker.size}<extra></extra>\",\"legendgroup\":\"Detective Conan: The Scarlet Bullet\",\"marker\":{\"color\":\"#636efa\",\"size\":[102541282],\"sizemode\":\"area\",\"sizeref\":316576.883125,\"symbol\":\"circle\"},\"mode\":\"markers\",\"name\":\"Detective Conan: The Scarlet Bullet\",\"orientation\":\"v\",\"showlegend\":true,\"x\":[\"2021\"],\"xaxis\":\"x\",\"y\":[102541282],\"yaxis\":\"y\",\"type\":\"scatter\"},{\"hovertemplate\":\"Movie name=Antarctica<br>Year release=%{x}<br>Revenue (USD)=%{marker.size}<extra></extra>\",\"legendgroup\":\"Antarctica\",\"marker\":{\"color\":\"#EF553B\",\"size\":[101000000],\"sizemode\":\"area\",\"sizeref\":316576.883125,\"symbol\":\"circle\"},\"mode\":\"markers\",\"name\":\"Antarctica\",\"orientation\":\"v\",\"showlegend\":true,\"x\":[\"1983\"],\"xaxis\":\"x\",\"y\":[101000000],\"yaxis\":\"y\",\"type\":\"scatter\"},{\"hovertemplate\":\"Movie name=Yo-kai Watch: The Movie<br>Year release=%{x}<br>Revenue (USD)=%{marker.size}<extra></extra>\",\"legendgroup\":\"Yo-kai Watch: The Movie\",\"marker\":{\"color\":\"#00cc96\",\"size\":[99481307],\"sizemode\":\"area\",\"sizeref\":316576.883125,\"symbol\":\"circle\"},\"mode\":\"markers\",\"name\":\"Yo-kai Watch: The Movie\",\"orientation\":\"v\",\"showlegend\":true,\"x\":[\"2014\"],\"xaxis\":\"x\",\"y\":[99481307],\"yaxis\":\"y\",\"type\":\"scatter\"},{\"hovertemplate\":\"Movie name=Umizaru 3: The Last Message<br>Year release=%{x}<br>Revenue (USD)=%{marker.size}<extra></extra>\",\"legendgroup\":\"Umizaru 3: The Last Message\",\"marker\":{\"color\":\"#ab63fa\",\"size\":[98663381],\"sizemode\":\"area\",\"sizeref\":316576.883125,\"symbol\":\"circle\"},\"mode\":\"markers\",\"name\":\"Umizaru 3: The Last Message\",\"orientation\":\"v\",\"showlegend\":true,\"x\":[\"2010\"],\"xaxis\":\"x\",\"y\":[98663381],\"yaxis\":\"y\",\"type\":\"scatter\"},{\"hovertemplate\":\"Movie name=One Piece: Stampede<br>Year release=%{x}<br>Revenue (USD)=%{marker.size}<extra></extra>\",\"legendgroup\":\"One Piece: Stampede\",\"marker\":{\"color\":\"#FFA15A\",\"size\":[93000000],\"sizemode\":\"area\",\"sizeref\":316576.883125,\"symbol\":\"circle\"},\"mode\":\"markers\",\"name\":\"One Piece: Stampede\",\"orientation\":\"v\",\"showlegend\":true,\"x\":[\"2019\"],\"xaxis\":\"x\",\"y\":[93000000],\"yaxis\":\"y\",\"type\":\"scatter\"},{\"hovertemplate\":\"Movie name=Evangelion: 3.0+1.0 Thrice Upon a Time<br>Year release=%{x}<br>Revenue (USD)=%{marker.size}<extra></extra>\",\"legendgroup\":\"Evangelion: 3.0+1.0 Thrice Upon a Time\",\"marker\":{\"color\":\"#19d3f3\",\"size\":[92246218],\"sizemode\":\"area\",\"sizeref\":316576.883125,\"symbol\":\"circle\"},\"mode\":\"markers\",\"name\":\"Evangelion: 3.0+1.0 Thrice Upon a Time\",\"orientation\":\"v\",\"showlegend\":true,\"x\":[\"2021\"],\"xaxis\":\"x\",\"y\":[92246218],\"yaxis\":\"y\",\"type\":\"scatter\"},{\"hovertemplate\":\"Movie name=Brave Hearts: Umizaru<br>Year release=%{x}<br>Revenue (USD)=%{marker.size}<extra></extra>\",\"legendgroup\":\"Brave Hearts: Umizaru\",\"marker\":{\"color\":\"#FF6692\",\"size\":[91884352],\"sizemode\":\"area\",\"sizeref\":316576.883125,\"symbol\":\"circle\"},\"mode\":\"markers\",\"name\":\"Brave Hearts: Umizaru\",\"orientation\":\"v\",\"showlegend\":true,\"x\":[\"2012\"],\"xaxis\":\"x\",\"y\":[91884352],\"yaxis\":\"y\",\"type\":\"scatter\"},{\"hovertemplate\":\"Movie name=Rookies: Graduation<br>Year release=%{x}<br>Revenue (USD)=%{marker.size}<extra></extra>\",\"legendgroup\":\"Rookies: Graduation\",\"marker\":{\"color\":\"#B6E880\",\"size\":[88055243],\"sizemode\":\"area\",\"sizeref\":316576.883125,\"symbol\":\"circle\"},\"mode\":\"markers\",\"name\":\"Rookies: Graduation\",\"orientation\":\"v\",\"showlegend\":true,\"x\":[\"2009\"],\"xaxis\":\"x\",\"y\":[88055243],\"yaxis\":\"y\",\"type\":\"scatter\"},{\"hovertemplate\":\"Movie name=Nodame Cantabile: The Movie II<br>Year release=%{x}<br>Revenue (USD)=%{marker.size}<extra></extra>\",\"legendgroup\":\"Nodame Cantabile: The Movie II\",\"marker\":{\"color\":\"#FF97FF\",\"size\":[86192740],\"sizemode\":\"area\",\"sizeref\":316576.883125,\"symbol\":\"circle\"},\"mode\":\"markers\",\"name\":\"Nodame Cantabile: The Movie II\",\"orientation\":\"v\",\"showlegend\":true,\"x\":[\"2010\"],\"xaxis\":\"x\",\"y\":[86192740],\"yaxis\":\"y\",\"type\":\"scatter\"},{\"hovertemplate\":\"Movie name=Bayside Shakedown 3<br>Year release=%{x}<br>Revenue (USD)=%{marker.size}<extra></extra>\",\"legendgroup\":\"Bayside Shakedown 3\",\"marker\":{\"color\":\"#FECB52\",\"size\":[85347374],\"sizemode\":\"area\",\"sizeref\":316576.883125,\"symbol\":\"circle\"},\"mode\":\"markers\",\"name\":\"Bayside Shakedown 3\",\"orientation\":\"v\",\"showlegend\":true,\"x\":[\"2010\"],\"xaxis\":\"x\",\"y\":[85347374],\"yaxis\":\"y\",\"type\":\"scatter\"},{\"hovertemplate\":\"Movie name=Dragon Ball Super: Super Hero<br>Year release=%{x}<br>Revenue (USD)=%{marker.size}<extra></extra>\",\"legendgroup\":\"Dragon Ball Super: Super Hero\",\"marker\":{\"color\":\"#636efa\",\"size\":[85100000],\"sizemode\":\"area\",\"sizeref\":316576.883125,\"symbol\":\"circle\"},\"mode\":\"markers\",\"name\":\"Dragon Ball Super: Super Hero\",\"orientation\":\"v\",\"showlegend\":true,\"x\":[\"2022\"],\"xaxis\":\"x\",\"y\":[85100000],\"yaxis\":\"y\",\"type\":\"scatter\"},{\"hovertemplate\":\"Movie name=The Eternal Zero<br>Year release=%{x}<br>Revenue (USD)=%{marker.size}<extra></extra>\",\"legendgroup\":\"The Eternal Zero\",\"marker\":{\"color\":\"#EF553B\",\"size\":[84500000],\"sizemode\":\"area\",\"sizeref\":316576.883125,\"symbol\":\"circle\"},\"mode\":\"markers\",\"name\":\"The Eternal Zero\",\"orientation\":\"v\",\"showlegend\":true,\"x\":[\"2013\"],\"xaxis\":\"x\",\"y\":[84500000],\"yaxis\":\"y\",\"type\":\"scatter\"},{\"hovertemplate\":\"Movie name=Doraemon the Movie: Nobita's Treasure Island<br>Year release=%{x}<br>Revenue (USD)=%{marker.size}<extra></extra>\",\"legendgroup\":\"Doraemon the Movie: Nobita's Treasure Island\",\"marker\":{\"color\":\"#00cc96\",\"size\":[80920916],\"sizemode\":\"area\",\"sizeref\":316576.883125,\"symbol\":\"circle\"},\"mode\":\"markers\",\"name\":\"Doraemon the Movie: Nobita's Treasure Island\",\"orientation\":\"v\",\"showlegend\":true,\"x\":[\"2018\"],\"xaxis\":\"x\",\"y\":[80920916],\"yaxis\":\"y\",\"type\":\"scatter\"},{\"hovertemplate\":\"Movie name=Hero<br>Year release=%{x}<br>Revenue (USD)=%{marker.size}<extra></extra>\",\"legendgroup\":\"Hero\",\"marker\":{\"color\":\"#ab63fa\",\"size\":[80400000],\"sizemode\":\"area\",\"sizeref\":316576.883125,\"symbol\":\"circle\"},\"mode\":\"markers\",\"name\":\"Hero\",\"orientation\":\"v\",\"showlegend\":true,\"x\":[\"2007\"],\"xaxis\":\"x\",\"y\":[80400000],\"yaxis\":\"y\",\"type\":\"scatter\"},{\"hovertemplate\":\"Movie name=Code Blue: The Movie<br>Year release=%{x}<br>Revenue (USD)=%{marker.size}<extra></extra>\",\"legendgroup\":\"Code Blue: The Movie\",\"marker\":{\"color\":\"#FFA15A\",\"size\":[78778562],\"sizemode\":\"area\",\"sizeref\":316576.883125,\"symbol\":\"circle\"},\"mode\":\"markers\",\"name\":\"Code Blue: The Movie\",\"orientation\":\"v\",\"showlegend\":true,\"x\":[\"2018\"],\"xaxis\":\"x\",\"y\":[78778562],\"yaxis\":\"y\",\"type\":\"scatter\"},{\"hovertemplate\":\"Movie name=Shin Godzilla<br>Year release=%{x}<br>Revenue (USD)=%{marker.size}<extra></extra>\",\"legendgroup\":\"Shin Godzilla\",\"marker\":{\"color\":\"#19d3f3\",\"size\":[78053145],\"sizemode\":\"area\",\"sizeref\":316576.883125,\"symbol\":\"circle\"},\"mode\":\"markers\",\"name\":\"Shin Godzilla\",\"orientation\":\"v\",\"showlegend\":true,\"x\":[\"2016\"],\"xaxis\":\"x\",\"y\":[78053145],\"yaxis\":\"y\",\"type\":\"scatter\"},{\"hovertemplate\":\"Movie name=Tales from Earthsea<br>Year release=%{x}<br>Revenue (USD)=%{marker.size}<extra></extra>\",\"legendgroup\":\"Tales from Earthsea\",\"marker\":{\"color\":\"#FF6692\",\"size\":[75500000],\"sizemode\":\"area\",\"sizeref\":316576.883125,\"symbol\":\"circle\"},\"mode\":\"markers\",\"name\":\"Tales from Earthsea\",\"orientation\":\"v\",\"showlegend\":true,\"x\":[\"2006\"],\"xaxis\":\"x\",\"y\":[75500000],\"yaxis\":\"y\",\"type\":\"scatter\"},{\"hovertemplate\":\"Movie name=Thermae Romae<br>Year release=%{x}<br>Revenue (USD)=%{marker.size}<extra></extra>\",\"legendgroup\":\"Thermae Romae\",\"marker\":{\"color\":\"#B6E880\",\"size\":[75387554],\"sizemode\":\"area\",\"sizeref\":316576.883125,\"symbol\":\"circle\"},\"mode\":\"markers\",\"name\":\"Thermae Romae\",\"orientation\":\"v\",\"showlegend\":true,\"x\":[\"2012\"],\"xaxis\":\"x\",\"y\":[75387554],\"yaxis\":\"y\",\"type\":\"scatter\"},{\"hovertemplate\":\"Movie name=Crying Out Love, in the Center of the World<br>Year release=%{x}<br>Revenue (USD)=%{marker.size}<extra></extra>\",\"legendgroup\":\"Crying Out Love, in the Center of the World\",\"marker\":{\"color\":\"#FF97FF\",\"size\":[74849073],\"sizemode\":\"area\",\"sizeref\":316576.883125,\"symbol\":\"circle\"},\"mode\":\"markers\",\"name\":\"Crying Out Love, in the Center of the World\",\"orientation\":\"v\",\"showlegend\":true,\"x\":[\"2004\"],\"xaxis\":\"x\",\"y\":[74849073],\"yaxis\":\"y\",\"type\":\"scatter\"},{\"hovertemplate\":\"Movie name=One Piece Film: Z<br>Year release=%{x}<br>Revenue (USD)=%{marker.size}<extra></extra>\",\"legendgroup\":\"One Piece Film: Z\",\"marker\":{\"color\":\"#FECB52\",\"size\":[74223861],\"sizemode\":\"area\",\"sizeref\":316576.883125,\"symbol\":\"circle\"},\"mode\":\"markers\",\"name\":\"One Piece Film: Z\",\"orientation\":\"v\",\"showlegend\":true,\"x\":[\"2012\"],\"xaxis\":\"x\",\"y\":[74223861],\"yaxis\":\"y\",\"type\":\"scatter\"},{\"hovertemplate\":\"Movie name=The Silk Road<br>Year release=%{x}<br>Revenue (USD)=%{marker.size}<extra></extra>\",\"legendgroup\":\"The Silk Road\",\"marker\":{\"color\":\"#636efa\",\"size\":[74123959],\"sizemode\":\"area\",\"sizeref\":316576.883125,\"symbol\":\"circle\"},\"mode\":\"markers\",\"name\":\"The Silk Road\",\"orientation\":\"v\",\"showlegend\":true,\"x\":[\"1988\"],\"xaxis\":\"x\",\"y\":[74123959],\"yaxis\":\"y\",\"type\":\"scatter\"},{\"hovertemplate\":\"Movie name=Detective Conan: The Bride of Halloween<br>Year release=%{x}<br>Revenue (USD)=%{marker.size}<extra></extra>\",\"legendgroup\":\"Detective Conan: The Bride of Halloween\",\"marker\":{\"color\":\"#EF553B\",\"size\":[73766887],\"sizemode\":\"area\",\"sizeref\":316576.883125,\"symbol\":\"circle\"},\"mode\":\"markers\",\"name\":\"Detective Conan: The Bride of Halloween\",\"orientation\":\"v\",\"showlegend\":true,\"x\":[\"2022\"],\"xaxis\":\"x\",\"y\":[73766887],\"yaxis\":\"y\",\"type\":\"scatter\"},{\"hovertemplate\":\"Movie name=Bayside Shakedown: The Final<br>Year release=%{x}<br>Revenue (USD)=%{marker.size}<extra></extra>\",\"legendgroup\":\"Bayside Shakedown: The Final\",\"marker\":{\"color\":\"#00cc96\",\"size\":[72867395],\"sizemode\":\"area\",\"sizeref\":316576.883125,\"symbol\":\"circle\"},\"mode\":\"markers\",\"name\":\"Bayside Shakedown: The Final\",\"orientation\":\"v\",\"showlegend\":true,\"x\":[\"2012\"],\"xaxis\":\"x\",\"y\":[72867395],\"yaxis\":\"y\",\"type\":\"scatter\"},{\"hovertemplate\":\"Movie name=Hana Yori Dango Final<br>Year release=%{x}<br>Revenue (USD)=%{marker.size}<extra></extra>\",\"legendgroup\":\"Hana Yori Dango Final\",\"marker\":{\"color\":\"#ab63fa\",\"size\":[72243609],\"sizemode\":\"area\",\"sizeref\":316576.883125,\"symbol\":\"circle\"},\"mode\":\"markers\",\"name\":\"Hana Yori Dango Final\",\"orientation\":\"v\",\"showlegend\":true,\"x\":[\"2008\"],\"xaxis\":\"x\",\"y\":[72243609],\"yaxis\":\"y\",\"type\":\"scatter\"},{\"hovertemplate\":\"Movie name=Pok\\u00e9mon Zoroark: Master of Illusions<br>Year release=%{x}<br>Revenue (USD)=%{marker.size}<extra></extra>\",\"legendgroup\":\"Pok\\u00e9mon Zoroark: Master of Illusions\",\"marker\":{\"color\":\"#FFA15A\",\"size\":[71143529],\"sizemode\":\"area\",\"sizeref\":316576.883125,\"symbol\":\"circle\"},\"mode\":\"markers\",\"name\":\"Pok\\u00e9mon Zoroark: Master of Illusions\",\"orientation\":\"v\",\"showlegend\":true,\"x\":[\"2010\"],\"xaxis\":\"x\",\"y\":[71143529],\"yaxis\":\"y\",\"type\":\"scatter\"},{\"hovertemplate\":\"Movie name=Pok\\u00e9mon 3: The Movie<br>Year release=%{x}<br>Revenue (USD)=%{marker.size}<extra></extra>\",\"legendgroup\":\"Pok\\u00e9mon 3: The Movie\",\"marker\":{\"color\":\"#19d3f3\",\"size\":[68411275],\"sizemode\":\"area\",\"sizeref\":316576.883125,\"symbol\":\"circle\"},\"mode\":\"markers\",\"name\":\"Pok\\u00e9mon 3: The Movie\",\"orientation\":\"v\",\"showlegend\":true,\"x\":[\"2000\"],\"xaxis\":\"x\",\"y\":[68411275],\"yaxis\":\"y\",\"type\":\"scatter\"},{\"hovertemplate\":\"Movie name=Shoplifters<br>Year release=%{x}<br>Revenue (USD)=%{marker.size}<extra></extra>\",\"legendgroup\":\"Shoplifters\",\"marker\":{\"color\":\"#FF6692\",\"size\":[67999335],\"sizemode\":\"area\",\"sizeref\":316576.883125,\"symbol\":\"circle\"},\"mode\":\"markers\",\"name\":\"Shoplifters\",\"orientation\":\"v\",\"showlegend\":true,\"x\":[\"2018\"],\"xaxis\":\"x\",\"y\":[67999335],\"yaxis\":\"y\",\"type\":\"scatter\"},{\"hovertemplate\":\"Movie name=Detective Conan: The Darkest Nightmare<br>Year release=%{x}<br>Revenue (USD)=%{marker.size}<extra></extra>\",\"legendgroup\":\"Detective Conan: The Darkest Nightmare\",\"marker\":{\"color\":\"#B6E880\",\"size\":[66265957],\"sizemode\":\"area\",\"sizeref\":316576.883125,\"symbol\":\"circle\"},\"mode\":\"markers\",\"name\":\"Detective Conan: The Darkest Nightmare\",\"orientation\":\"v\",\"showlegend\":true,\"x\":[\"2016\"],\"xaxis\":\"x\",\"y\":[66265957],\"yaxis\":\"y\",\"type\":\"scatter\"},{\"hovertemplate\":\"Movie name=One Piece Film: Gold<br>Year release=%{x}<br>Revenue (USD)=%{marker.size}<extra></extra>\",\"legendgroup\":\"One Piece Film: Gold\",\"marker\":{\"color\":\"#FF97FF\",\"size\":[66207073],\"sizemode\":\"area\",\"sizeref\":316576.883125,\"symbol\":\"circle\"},\"mode\":\"markers\",\"name\":\"One Piece Film: Gold\",\"orientation\":\"v\",\"showlegend\":true,\"x\":[\"2016\"],\"xaxis\":\"x\",\"y\":[66207073],\"yaxis\":\"y\",\"type\":\"scatter\"},{\"hovertemplate\":\"Movie name=Doraemon: Nobita's Chronicle of the Moon Exploration<br>Year release=%{x}<br>Revenue (USD)=%{marker.size}<extra></extra>\",\"legendgroup\":\"Doraemon: Nobita's Chronicle of the Moon Exploration\",\"marker\":{\"color\":\"#FECB52\",\"size\":[65406606],\"sizemode\":\"area\",\"sizeref\":316576.883125,\"symbol\":\"circle\"},\"mode\":\"markers\",\"name\":\"Doraemon: Nobita's Chronicle of the Moon Exploration\",\"orientation\":\"v\",\"showlegend\":true,\"x\":[\"2019\"],\"xaxis\":\"x\",\"y\":[65406606],\"yaxis\":\"y\",\"type\":\"scatter\"}],                        {\"template\":{\"data\":{\"bar\":[{\"error_x\":{\"color\":\"#2a3f5f\"},\"error_y\":{\"color\":\"#2a3f5f\"},\"marker\":{\"line\":{\"color\":\"#E5ECF6\",\"width\":0.5},\"pattern\":{\"fillmode\":\"overlay\",\"size\":10,\"solidity\":0.2}},\"type\":\"bar\"}],\"barpolar\":[{\"marker\":{\"line\":{\"color\":\"#E5ECF6\",\"width\":0.5},\"pattern\":{\"fillmode\":\"overlay\",\"size\":10,\"solidity\":0.2}},\"type\":\"barpolar\"}],\"carpet\":[{\"aaxis\":{\"endlinecolor\":\"#2a3f5f\",\"gridcolor\":\"white\",\"linecolor\":\"white\",\"minorgridcolor\":\"white\",\"startlinecolor\":\"#2a3f5f\"},\"baxis\":{\"endlinecolor\":\"#2a3f5f\",\"gridcolor\":\"white\",\"linecolor\":\"white\",\"minorgridcolor\":\"white\",\"startlinecolor\":\"#2a3f5f\"},\"type\":\"carpet\"}],\"choropleth\":[{\"colorbar\":{\"outlinewidth\":0,\"ticks\":\"\"},\"type\":\"choropleth\"}],\"contour\":[{\"colorbar\":{\"outlinewidth\":0,\"ticks\":\"\"},\"colorscale\":[[0.0,\"#0d0887\"],[0.1111111111111111,\"#46039f\"],[0.2222222222222222,\"#7201a8\"],[0.3333333333333333,\"#9c179e\"],[0.4444444444444444,\"#bd3786\"],[0.5555555555555556,\"#d8576b\"],[0.6666666666666666,\"#ed7953\"],[0.7777777777777778,\"#fb9f3a\"],[0.8888888888888888,\"#fdca26\"],[1.0,\"#f0f921\"]],\"type\":\"contour\"}],\"contourcarpet\":[{\"colorbar\":{\"outlinewidth\":0,\"ticks\":\"\"},\"type\":\"contourcarpet\"}],\"heatmap\":[{\"colorbar\":{\"outlinewidth\":0,\"ticks\":\"\"},\"colorscale\":[[0.0,\"#0d0887\"],[0.1111111111111111,\"#46039f\"],[0.2222222222222222,\"#7201a8\"],[0.3333333333333333,\"#9c179e\"],[0.4444444444444444,\"#bd3786\"],[0.5555555555555556,\"#d8576b\"],[0.6666666666666666,\"#ed7953\"],[0.7777777777777778,\"#fb9f3a\"],[0.8888888888888888,\"#fdca26\"],[1.0,\"#f0f921\"]],\"type\":\"heatmap\"}],\"heatmapgl\":[{\"colorbar\":{\"outlinewidth\":0,\"ticks\":\"\"},\"colorscale\":[[0.0,\"#0d0887\"],[0.1111111111111111,\"#46039f\"],[0.2222222222222222,\"#7201a8\"],[0.3333333333333333,\"#9c179e\"],[0.4444444444444444,\"#bd3786\"],[0.5555555555555556,\"#d8576b\"],[0.6666666666666666,\"#ed7953\"],[0.7777777777777778,\"#fb9f3a\"],[0.8888888888888888,\"#fdca26\"],[1.0,\"#f0f921\"]],\"type\":\"heatmapgl\"}],\"histogram\":[{\"marker\":{\"pattern\":{\"fillmode\":\"overlay\",\"size\":10,\"solidity\":0.2}},\"type\":\"histogram\"}],\"histogram2d\":[{\"colorbar\":{\"outlinewidth\":0,\"ticks\":\"\"},\"colorscale\":[[0.0,\"#0d0887\"],[0.1111111111111111,\"#46039f\"],[0.2222222222222222,\"#7201a8\"],[0.3333333333333333,\"#9c179e\"],[0.4444444444444444,\"#bd3786\"],[0.5555555555555556,\"#d8576b\"],[0.6666666666666666,\"#ed7953\"],[0.7777777777777778,\"#fb9f3a\"],[0.8888888888888888,\"#fdca26\"],[1.0,\"#f0f921\"]],\"type\":\"histogram2d\"}],\"histogram2dcontour\":[{\"colorbar\":{\"outlinewidth\":0,\"ticks\":\"\"},\"colorscale\":[[0.0,\"#0d0887\"],[0.1111111111111111,\"#46039f\"],[0.2222222222222222,\"#7201a8\"],[0.3333333333333333,\"#9c179e\"],[0.4444444444444444,\"#bd3786\"],[0.5555555555555556,\"#d8576b\"],[0.6666666666666666,\"#ed7953\"],[0.7777777777777778,\"#fb9f3a\"],[0.8888888888888888,\"#fdca26\"],[1.0,\"#f0f921\"]],\"type\":\"histogram2dcontour\"}],\"mesh3d\":[{\"colorbar\":{\"outlinewidth\":0,\"ticks\":\"\"},\"type\":\"mesh3d\"}],\"parcoords\":[{\"line\":{\"colorbar\":{\"outlinewidth\":0,\"ticks\":\"\"}},\"type\":\"parcoords\"}],\"pie\":[{\"automargin\":true,\"type\":\"pie\"}],\"scatter\":[{\"marker\":{\"colorbar\":{\"outlinewidth\":0,\"ticks\":\"\"}},\"type\":\"scatter\"}],\"scatter3d\":[{\"line\":{\"colorbar\":{\"outlinewidth\":0,\"ticks\":\"\"}},\"marker\":{\"colorbar\":{\"outlinewidth\":0,\"ticks\":\"\"}},\"type\":\"scatter3d\"}],\"scattercarpet\":[{\"marker\":{\"colorbar\":{\"outlinewidth\":0,\"ticks\":\"\"}},\"type\":\"scattercarpet\"}],\"scattergeo\":[{\"marker\":{\"colorbar\":{\"outlinewidth\":0,\"ticks\":\"\"}},\"type\":\"scattergeo\"}],\"scattergl\":[{\"marker\":{\"colorbar\":{\"outlinewidth\":0,\"ticks\":\"\"}},\"type\":\"scattergl\"}],\"scattermapbox\":[{\"marker\":{\"colorbar\":{\"outlinewidth\":0,\"ticks\":\"\"}},\"type\":\"scattermapbox\"}],\"scatterpolar\":[{\"marker\":{\"colorbar\":{\"outlinewidth\":0,\"ticks\":\"\"}},\"type\":\"scatterpolar\"}],\"scatterpolargl\":[{\"marker\":{\"colorbar\":{\"outlinewidth\":0,\"ticks\":\"\"}},\"type\":\"scatterpolargl\"}],\"scatterternary\":[{\"marker\":{\"colorbar\":{\"outlinewidth\":0,\"ticks\":\"\"}},\"type\":\"scatterternary\"}],\"surface\":[{\"colorbar\":{\"outlinewidth\":0,\"ticks\":\"\"},\"colorscale\":[[0.0,\"#0d0887\"],[0.1111111111111111,\"#46039f\"],[0.2222222222222222,\"#7201a8\"],[0.3333333333333333,\"#9c179e\"],[0.4444444444444444,\"#bd3786\"],[0.5555555555555556,\"#d8576b\"],[0.6666666666666666,\"#ed7953\"],[0.7777777777777778,\"#fb9f3a\"],[0.8888888888888888,\"#fdca26\"],[1.0,\"#f0f921\"]],\"type\":\"surface\"}],\"table\":[{\"cells\":{\"fill\":{\"color\":\"#EBF0F8\"},\"line\":{\"color\":\"white\"}},\"header\":{\"fill\":{\"color\":\"#C8D4E3\"},\"line\":{\"color\":\"white\"}},\"type\":\"table\"}]},\"layout\":{\"annotationdefaults\":{\"arrowcolor\":\"#2a3f5f\",\"arrowhead\":0,\"arrowwidth\":1},\"autotypenumbers\":\"strict\",\"coloraxis\":{\"colorbar\":{\"outlinewidth\":0,\"ticks\":\"\"}},\"colorscale\":{\"diverging\":[[0,\"#8e0152\"],[0.1,\"#c51b7d\"],[0.2,\"#de77ae\"],[0.3,\"#f1b6da\"],[0.4,\"#fde0ef\"],[0.5,\"#f7f7f7\"],[0.6,\"#e6f5d0\"],[0.7,\"#b8e186\"],[0.8,\"#7fbc41\"],[0.9,\"#4d9221\"],[1,\"#276419\"]],\"sequential\":[[0.0,\"#0d0887\"],[0.1111111111111111,\"#46039f\"],[0.2222222222222222,\"#7201a8\"],[0.3333333333333333,\"#9c179e\"],[0.4444444444444444,\"#bd3786\"],[0.5555555555555556,\"#d8576b\"],[0.6666666666666666,\"#ed7953\"],[0.7777777777777778,\"#fb9f3a\"],[0.8888888888888888,\"#fdca26\"],[1.0,\"#f0f921\"]],\"sequentialminus\":[[0.0,\"#0d0887\"],[0.1111111111111111,\"#46039f\"],[0.2222222222222222,\"#7201a8\"],[0.3333333333333333,\"#9c179e\"],[0.4444444444444444,\"#bd3786\"],[0.5555555555555556,\"#d8576b\"],[0.6666666666666666,\"#ed7953\"],[0.7777777777777778,\"#fb9f3a\"],[0.8888888888888888,\"#fdca26\"],[1.0,\"#f0f921\"]]},\"colorway\":[\"#636efa\",\"#EF553B\",\"#00cc96\",\"#ab63fa\",\"#FFA15A\",\"#19d3f3\",\"#FF6692\",\"#B6E880\",\"#FF97FF\",\"#FECB52\"],\"font\":{\"color\":\"#2a3f5f\"},\"geo\":{\"bgcolor\":\"white\",\"lakecolor\":\"white\",\"landcolor\":\"#E5ECF6\",\"showlakes\":true,\"showland\":true,\"subunitcolor\":\"white\"},\"hoverlabel\":{\"align\":\"left\"},\"hovermode\":\"closest\",\"mapbox\":{\"style\":\"light\"},\"paper_bgcolor\":\"white\",\"plot_bgcolor\":\"#E5ECF6\",\"polar\":{\"angularaxis\":{\"gridcolor\":\"white\",\"linecolor\":\"white\",\"ticks\":\"\"},\"bgcolor\":\"#E5ECF6\",\"radialaxis\":{\"gridcolor\":\"white\",\"linecolor\":\"white\",\"ticks\":\"\"}},\"scene\":{\"xaxis\":{\"backgroundcolor\":\"#E5ECF6\",\"gridcolor\":\"white\",\"gridwidth\":2,\"linecolor\":\"white\",\"showbackground\":true,\"ticks\":\"\",\"zerolinecolor\":\"white\"},\"yaxis\":{\"backgroundcolor\":\"#E5ECF6\",\"gridcolor\":\"white\",\"gridwidth\":2,\"linecolor\":\"white\",\"showbackground\":true,\"ticks\":\"\",\"zerolinecolor\":\"white\"},\"zaxis\":{\"backgroundcolor\":\"#E5ECF6\",\"gridcolor\":\"white\",\"gridwidth\":2,\"linecolor\":\"white\",\"showbackground\":true,\"ticks\":\"\",\"zerolinecolor\":\"white\"}},\"shapedefaults\":{\"line\":{\"color\":\"#2a3f5f\"}},\"ternary\":{\"aaxis\":{\"gridcolor\":\"white\",\"linecolor\":\"white\",\"ticks\":\"\"},\"baxis\":{\"gridcolor\":\"white\",\"linecolor\":\"white\",\"ticks\":\"\"},\"bgcolor\":\"#E5ECF6\",\"caxis\":{\"gridcolor\":\"white\",\"linecolor\":\"white\",\"ticks\":\"\"}},\"title\":{\"x\":0.05},\"xaxis\":{\"automargin\":true,\"gridcolor\":\"white\",\"linecolor\":\"white\",\"ticks\":\"\",\"title\":{\"standoff\":15},\"zerolinecolor\":\"white\",\"zerolinewidth\":2},\"yaxis\":{\"automargin\":true,\"gridcolor\":\"white\",\"linecolor\":\"white\",\"ticks\":\"\",\"title\":{\"standoff\":15},\"zerolinecolor\":\"white\",\"zerolinewidth\":2}}},\"xaxis\":{\"anchor\":\"y\",\"domain\":[0.0,1.0],\"title\":{\"text\":\"Year release\"},\"type\":\"log\"},\"yaxis\":{\"anchor\":\"x\",\"domain\":[0.0,1.0],\"title\":{\"text\":\"Revenue (USD)\"}},\"legend\":{\"title\":{\"text\":\"Movie name\"},\"tracegroupgap\":0,\"itemsizing\":\"constant\"},\"margin\":{\"t\":60},\"title\":{\"text\":\"Movies' Revenues (USD) over Year release (Worldwide)\"}},                        {\"responsive\": true}                    ).then(function(){\n",
              "                            \n",
              "var gd = document.getElementById('baae1641-31df-4429-bd7c-5f829e71f84a');\n",
              "var x = new MutationObserver(function (mutations, observer) {{\n",
              "        var display = window.getComputedStyle(gd).display;\n",
              "        if (!display || display === 'none') {{\n",
              "            console.log([gd, 'removed!']);\n",
              "            Plotly.purge(gd);\n",
              "            observer.disconnect();\n",
              "        }}\n",
              "}});\n",
              "\n",
              "// Listen for the removal of the full notebook cells\n",
              "var notebookContainer = gd.closest('#notebook-container');\n",
              "if (notebookContainer) {{\n",
              "    x.observe(notebookContainer, {childList: true});\n",
              "}}\n",
              "\n",
              "// Listen for the clearing of the current output cell\n",
              "var outputEl = gd.closest('.output');\n",
              "if (outputEl) {{\n",
              "    x.observe(outputEl, {childList: true});\n",
              "}}\n",
              "\n",
              "                        })                };                            </script>        </div>\n",
              "</body>\n",
              "</html>"
            ]
          },
          "metadata": {}
        }
      ]
    },
    {
      "cell_type": "markdown",
      "source": [
        "We use df0 - Top 50 Highest Grossing Anime Worldwide - to plot a scatter chart for the year release and worldwide revenue of top 50 animes. Year release is our x-axis. Worldwide revenue in USD is our y-axis and also is indicated by the width of each data point's bubble. Each anime name is differentiated by colors. "
      ],
      "metadata": {
        "id": "WeVBe9MqsIv1"
      }
    },
    {
      "cell_type": "markdown",
      "source": [
        "As we observe for the scatterplot above, we can see determine the top 5 movies with the highest revenue: “Demon Slayer the Movie: Mugen Train”, “Spirited Way”, “Your Name,” “Howl’s Moving Castle,” and “One Piece Film: Red.” for the Worldwide market. Look at each point, we can also view the attached information, such as Year Release and Revenue. "
      ],
      "metadata": {
        "id": "OPF7bvGYfFFa"
      }
    },
    {
      "cell_type": "code",
      "source": [
        "# Top 50 Highest Grossing Anime In Japan\n",
        "# Scatter plot of Revenue (Yen) over Year release for each anime movie, with the revenue also indicated by the bubble size\n",
        "fig2 = px.scatter(df1, x=\"Year release\", y=\"Revenue (Yen)\", size=\"Revenue (Yen)\", color=\"Movie name\", log_x=1000, size_max=40)\n",
        "fig2.update_layout(\n",
        "    title = {\n",
        "        'text': \"Movies' Revenues (Yen) over Year release (Japan)\"})\n",
        "fig2.show()"
      ],
      "metadata": {
        "id": "CfKZCyAtyXLK",
        "outputId": "c08b81f0-ecf1-45bc-cc0f-8be7365d96c1",
        "colab": {
          "base_uri": "https://localhost:8080/",
          "height": 542
        }
      },
      "execution_count": 44,
      "outputs": [
        {
          "output_type": "display_data",
          "data": {
            "text/html": [
              "<html>\n",
              "<head><meta charset=\"utf-8\" /></head>\n",
              "<body>\n",
              "    <div>            <script src=\"https://cdnjs.cloudflare.com/ajax/libs/mathjax/2.7.5/MathJax.js?config=TeX-AMS-MML_SVG\"></script><script type=\"text/javascript\">if (window.MathJax) {MathJax.Hub.Config({SVG: {font: \"STIX-Web\"}});}</script>                <script type=\"text/javascript\">window.PlotlyConfig = {MathJaxConfig: 'local'};</script>\n",
              "        <script src=\"https://cdn.plot.ly/plotly-2.8.3.min.js\"></script>                <div id=\"f1d18c2e-6570-46f1-a255-ea1d29237161\" class=\"plotly-graph-div\" style=\"height:525px; width:100%;\"></div>            <script type=\"text/javascript\">                                    window.PLOTLYENV=window.PLOTLYENV || {};                                    if (document.getElementById(\"f1d18c2e-6570-46f1-a255-ea1d29237161\")) {                    Plotly.newPlot(                        \"f1d18c2e-6570-46f1-a255-ea1d29237161\",                        [{\"hovertemplate\":\"Movie name=Demon Slayer the Movie: Mugen Train<br>Year release=%{x}<br>Revenue (Yen)=%{marker.size}<extra></extra>\",\"legendgroup\":\"Demon Slayer the Movie: Mugen Train\",\"marker\":{\"color\":\"#636efa\",\"size\":[40430000000],\"sizemode\":\"area\",\"sizeref\":25268750.0,\"symbol\":\"circle\"},\"mode\":\"markers\",\"name\":\"Demon Slayer the Movie: Mugen Train\",\"orientation\":\"v\",\"showlegend\":true,\"x\":[\"2020\"],\"xaxis\":\"x\",\"y\":[40430000000],\"yaxis\":\"y\",\"type\":\"scatter\"},{\"hovertemplate\":\"Movie name=Spirited Away<br>Year release=%{x}<br>Revenue (Yen)=%{marker.size}<extra></extra>\",\"legendgroup\":\"Spirited Away\",\"marker\":{\"color\":\"#EF553B\",\"size\":[31680000000],\"sizemode\":\"area\",\"sizeref\":25268750.0,\"symbol\":\"circle\"},\"mode\":\"markers\",\"name\":\"Spirited Away\",\"orientation\":\"v\",\"showlegend\":true,\"x\":[\"2001\"],\"xaxis\":\"x\",\"y\":[31680000000],\"yaxis\":\"y\",\"type\":\"scatter\"},{\"hovertemplate\":\"Movie name=Your Name<br>Year release=%{x}<br>Revenue (Yen)=%{marker.size}<extra></extra>\",\"legendgroup\":\"Your Name\",\"marker\":{\"color\":\"#00cc96\",\"size\":[25030000000],\"sizemode\":\"area\",\"sizeref\":25268750.0,\"symbol\":\"circle\"},\"mode\":\"markers\",\"name\":\"Your Name\",\"orientation\":\"v\",\"showlegend\":true,\"x\":[\"2016\"],\"xaxis\":\"x\",\"y\":[25030000000],\"yaxis\":\"y\",\"type\":\"scatter\"},{\"hovertemplate\":\"Movie name=Princess Mononoke<br>Year release=%{x}<br>Revenue (Yen)=%{marker.size}<extra></extra>\",\"legendgroup\":\"Princess Mononoke\",\"marker\":{\"color\":\"#ab63fa\",\"size\":[20180000000],\"sizemode\":\"area\",\"sizeref\":25268750.0,\"symbol\":\"circle\"},\"mode\":\"markers\",\"name\":\"Princess Mononoke\",\"orientation\":\"v\",\"showlegend\":true,\"x\":[\"1997\"],\"xaxis\":\"x\",\"y\":[20180000000],\"yaxis\":\"y\",\"type\":\"scatter\"},{\"hovertemplate\":\"Movie name=Howl's Moving Castle<br>Year release=%{x}<br>Revenue (Yen)=%{marker.size}<extra></extra>\",\"legendgroup\":\"Howl's Moving Castle\",\"marker\":{\"color\":\"#FFA15A\",\"size\":[19600000000],\"sizemode\":\"area\",\"sizeref\":25268750.0,\"symbol\":\"circle\"},\"mode\":\"markers\",\"name\":\"Howl's Moving Castle\",\"orientation\":\"v\",\"showlegend\":true,\"x\":[\"2004\"],\"xaxis\":\"x\",\"y\":[19600000000],\"yaxis\":\"y\",\"type\":\"scatter\"},{\"hovertemplate\":\"Movie name=One Piece Film: Red<br>Year release=%{x}<br>Revenue (Yen)=%{marker.size}<extra></extra>\",\"legendgroup\":\"One Piece Film: Red\",\"marker\":{\"color\":\"#19d3f3\",\"size\":[18670000000],\"sizemode\":\"area\",\"sizeref\":25268750.0,\"symbol\":\"circle\"},\"mode\":\"markers\",\"name\":\"One Piece Film: Red\",\"orientation\":\"v\",\"showlegend\":true,\"x\":[\"2022\"],\"xaxis\":\"x\",\"y\":[18670000000],\"yaxis\":\"y\",\"type\":\"scatter\"},{\"hovertemplate\":\"Movie name=Bayside Shakedown 2<br>Year release=%{x}<br>Revenue (Yen)=%{marker.size}<extra></extra>\",\"legendgroup\":\"Bayside Shakedown 2\",\"marker\":{\"color\":\"#FF6692\",\"size\":[17350000000],\"sizemode\":\"area\",\"sizeref\":25268750.0,\"symbol\":\"circle\"},\"mode\":\"markers\",\"name\":\"Bayside Shakedown 2\",\"orientation\":\"v\",\"showlegend\":true,\"x\":[\"2003\"],\"xaxis\":\"x\",\"y\":[17350000000],\"yaxis\":\"y\",\"type\":\"scatter\"},{\"hovertemplate\":\"Movie name=Ponyo<br>Year release=%{x}<br>Revenue (Yen)=%{marker.size}<extra></extra>\",\"legendgroup\":\"Ponyo\",\"marker\":{\"color\":\"#B6E880\",\"size\":[15500000000],\"sizemode\":\"area\",\"sizeref\":25268750.0,\"symbol\":\"circle\"},\"mode\":\"markers\",\"name\":\"Ponyo\",\"orientation\":\"v\",\"showlegend\":true,\"x\":[\"2008\"],\"xaxis\":\"x\",\"y\":[15500000000],\"yaxis\":\"y\",\"type\":\"scatter\"},{\"hovertemplate\":\"Movie name=Weathering with You<br>Year release=%{x}<br>Revenue (Yen)=%{marker.size}<extra></extra>\",\"legendgroup\":\"Weathering with You\",\"marker\":{\"color\":\"#FF97FF\",\"size\":[14190000000],\"sizemode\":\"area\",\"sizeref\":25268750.0,\"symbol\":\"circle\"},\"mode\":\"markers\",\"name\":\"Weathering with You\",\"orientation\":\"v\",\"showlegend\":true,\"x\":[\"2019\"],\"xaxis\":\"x\",\"y\":[14190000000],\"yaxis\":\"y\",\"type\":\"scatter\"},{\"hovertemplate\":\"Movie name=Jujutsu Kaisen 0<br>Year release=%{x}<br>Revenue (Yen)=%{marker.size}<extra></extra>\",\"legendgroup\":\"Jujutsu Kaisen 0\",\"marker\":{\"color\":\"#FECB52\",\"size\":[13750000000],\"sizemode\":\"area\",\"sizeref\":25268750.0,\"symbol\":\"circle\"},\"mode\":\"markers\",\"name\":\"Jujutsu Kaisen 0\",\"orientation\":\"v\",\"showlegend\":true,\"x\":[\"2021\"],\"xaxis\":\"x\",\"y\":[13750000000],\"yaxis\":\"y\",\"type\":\"scatter\"},{\"hovertemplate\":\"Movie name=The Wind Rises<br>Year release=%{x}<br>Revenue (Yen)=%{marker.size}<extra></extra>\",\"legendgroup\":\"The Wind Rises\",\"marker\":{\"color\":\"#636efa\",\"size\":[12020000000],\"sizemode\":\"area\",\"sizeref\":25268750.0,\"symbol\":\"circle\"},\"mode\":\"markers\",\"name\":\"The Wind Rises\",\"orientation\":\"v\",\"showlegend\":true,\"x\":[\"2013\"],\"xaxis\":\"x\",\"y\":[12020000000],\"yaxis\":\"y\",\"type\":\"scatter\"},{\"hovertemplate\":\"Movie name=Antarctica<br>Year release=%{x}<br>Revenue (Yen)=%{marker.size}<extra></extra>\",\"legendgroup\":\"Antarctica\",\"marker\":{\"color\":\"#EF553B\",\"size\":[11000000000],\"sizemode\":\"area\",\"sizeref\":25268750.0,\"symbol\":\"circle\"},\"mode\":\"markers\",\"name\":\"Antarctica\",\"orientation\":\"v\",\"showlegend\":true,\"x\":[\"1983\"],\"xaxis\":\"x\",\"y\":[11000000000],\"yaxis\":\"y\",\"type\":\"scatter\"},{\"hovertemplate\":\"Movie name=Evangelion: 3.0+1.0 Thrice Upon a Time<br>Year release=%{x}<br>Revenue (Yen)=%{marker.size}<extra></extra>\",\"legendgroup\":\"Evangelion: 3.0+1.0 Thrice Upon a Time\",\"marker\":{\"color\":\"#00cc96\",\"size\":[10280000000],\"sizemode\":\"area\",\"sizeref\":25268750.0,\"symbol\":\"circle\"},\"mode\":\"markers\",\"name\":\"Evangelion: 3.0+1.0 Thrice Upon a Time\",\"orientation\":\"v\",\"showlegend\":true,\"x\":[\"2021\"],\"xaxis\":\"x\",\"y\":[10280000000],\"yaxis\":\"y\",\"type\":\"scatter\"},{\"hovertemplate\":\"Movie name=Bayside Shakedown: The Movie<br>Year release=%{x}<br>Revenue (Yen)=%{marker.size}<extra></extra>\",\"legendgroup\":\"Bayside Shakedown: The Movie\",\"marker\":{\"color\":\"#ab63fa\",\"size\":[10100000000],\"sizemode\":\"area\",\"sizeref\":25268750.0,\"symbol\":\"circle\"},\"mode\":\"markers\",\"name\":\"Bayside Shakedown: The Movie\",\"orientation\":\"v\",\"showlegend\":true,\"x\":[\"1998\"],\"xaxis\":\"x\",\"y\":[10100000000],\"yaxis\":\"y\",\"type\":\"scatter\"},{\"hovertemplate\":\"Movie name=The Adventures of Milo and Otis<br>Year release=%{x}<br>Revenue (Yen)=%{marker.size}<extra></extra>\",\"legendgroup\":\"The Adventures of Milo and Otis\",\"marker\":{\"color\":\"#FFA15A\",\"size\":[9800000000],\"sizemode\":\"area\",\"sizeref\":25268750.0,\"symbol\":\"circle\"},\"mode\":\"markers\",\"name\":\"The Adventures of Milo and Otis\",\"orientation\":\"v\",\"showlegend\":true,\"x\":[\"1986\"],\"xaxis\":\"x\",\"y\":[9800000000],\"yaxis\":\"y\",\"type\":\"scatter\"},{\"hovertemplate\":\"Movie name=Detective Conan: The Bride of Halloween<br>Year release=%{x}<br>Revenue (Yen)=%{marker.size}<extra></extra>\",\"legendgroup\":\"Detective Conan: The Bride of Halloween\",\"marker\":{\"color\":\"#19d3f3\",\"size\":[9740000000],\"sizemode\":\"area\",\"sizeref\":25268750.0,\"symbol\":\"circle\"},\"mode\":\"markers\",\"name\":\"Detective Conan: The Bride of Halloween\",\"orientation\":\"v\",\"showlegend\":true,\"x\":[\"2022\"],\"xaxis\":\"x\",\"y\":[9740000000],\"yaxis\":\"y\",\"type\":\"scatter\"},{\"hovertemplate\":\"Movie name=Detective Conan: The Fist of Blue Sapphire<br>Year release=%{x}<br>Revenue (Yen)=%{marker.size}<extra></extra>\",\"legendgroup\":\"Detective Conan: The Fist of Blue Sapphire\",\"marker\":{\"color\":\"#FF6692\",\"size\":[9370000000],\"sizemode\":\"area\",\"sizeref\":25268750.0,\"symbol\":\"circle\"},\"mode\":\"markers\",\"name\":\"Detective Conan: The Fist of Blue Sapphire\",\"orientation\":\"v\",\"showlegend\":true,\"x\":[\"2019\"],\"xaxis\":\"x\",\"y\":[9370000000],\"yaxis\":\"y\",\"type\":\"scatter\"},{\"hovertemplate\":\"Movie name=Code Blue: The Movie<br>Year release=%{x}<br>Revenue (Yen)=%{marker.size}<extra></extra>\",\"legendgroup\":\"Code Blue: The Movie\",\"marker\":{\"color\":\"#B6E880\",\"size\":[9300000000],\"sizemode\":\"area\",\"sizeref\":25268750.0,\"symbol\":\"circle\"},\"mode\":\"markers\",\"name\":\"Code Blue: The Movie\",\"orientation\":\"v\",\"showlegend\":true,\"x\":[\"2018\"],\"xaxis\":\"x\",\"y\":[9300000000],\"yaxis\":\"y\",\"type\":\"scatter\"},{\"hovertemplate\":\"Movie name=Arrietty<br>Year release=%{x}<br>Revenue (Yen)=%{marker.size}<extra></extra>\",\"legendgroup\":\"Arrietty\",\"marker\":{\"color\":\"#FF97FF\",\"size\":[9260000000],\"sizemode\":\"area\",\"sizeref\":25268750.0,\"symbol\":\"circle\"},\"mode\":\"markers\",\"name\":\"Arrietty\",\"orientation\":\"v\",\"showlegend\":true,\"x\":[\"2010\"],\"xaxis\":\"x\",\"y\":[9260000000],\"yaxis\":\"y\",\"type\":\"scatter\"},{\"hovertemplate\":\"Movie name=Heaven and Earth<br>Year release=%{x}<br>Revenue (Yen)=%{marker.size}<extra></extra>\",\"legendgroup\":\"Heaven and Earth\",\"marker\":{\"color\":\"#FECB52\",\"size\":[9200000000],\"sizemode\":\"area\",\"sizeref\":25268750.0,\"symbol\":\"circle\"},\"mode\":\"markers\",\"name\":\"Heaven and Earth\",\"orientation\":\"v\",\"showlegend\":true,\"x\":[\"1990\"],\"xaxis\":\"x\",\"y\":[9200000000],\"yaxis\":\"y\",\"type\":\"scatter\"},{\"hovertemplate\":\"Movie name=Detective Conan: Zero the Enforcer<br>Year release=%{x}<br>Revenue (Yen)=%{marker.size}<extra></extra>\",\"legendgroup\":\"Detective Conan: Zero the Enforcer\",\"marker\":{\"color\":\"#636efa\",\"size\":[9180000000],\"sizemode\":\"area\",\"sizeref\":25268750.0,\"symbol\":\"circle\"},\"mode\":\"markers\",\"name\":\"Detective Conan: Zero the Enforcer\",\"orientation\":\"v\",\"showlegend\":true,\"x\":[\"2018\"],\"xaxis\":\"x\",\"y\":[9180000000],\"yaxis\":\"y\",\"type\":\"scatter\"},{\"hovertemplate\":\"Movie name=The Eternal Zero<br>Year release=%{x}<br>Revenue (Yen)=%{marker.size}<extra></extra>\",\"legendgroup\":\"The Eternal Zero\",\"marker\":{\"color\":\"#EF553B\",\"size\":[8760000000],\"sizemode\":\"area\",\"sizeref\":25268750.0,\"symbol\":\"circle\"},\"mode\":\"markers\",\"name\":\"The Eternal Zero\",\"orientation\":\"v\",\"showlegend\":true,\"x\":[\"2013\"],\"xaxis\":\"x\",\"y\":[8760000000],\"yaxis\":\"y\",\"type\":\"scatter\"},{\"hovertemplate\":\"Movie name=Rookies: Graduation<br>Year release=%{x}<br>Revenue (Yen)=%{marker.size}<extra></extra>\",\"legendgroup\":\"Rookies: Graduation\",\"marker\":{\"color\":\"#00cc96\",\"size\":[8550000000],\"sizemode\":\"area\",\"sizeref\":25268750.0,\"symbol\":\"circle\"},\"mode\":\"markers\",\"name\":\"Rookies: Graduation\",\"orientation\":\"v\",\"showlegend\":true,\"x\":[\"2009\"],\"xaxis\":\"x\",\"y\":[8550000000],\"yaxis\":\"y\",\"type\":\"scatter\"},{\"hovertemplate\":\"Movie name=Crying Out Love, in the Center of the World<br>Year release=%{x}<br>Revenue (Yen)=%{marker.size}<extra></extra>\",\"legendgroup\":\"Crying Out Love, in the Center of the World\",\"marker\":{\"color\":\"#ab63fa\",\"size\":[8500000000],\"sizemode\":\"area\",\"sizeref\":25268750.0,\"symbol\":\"circle\"},\"mode\":\"markers\",\"name\":\"Crying Out Love, in the Center of the World\",\"orientation\":\"v\",\"showlegend\":true,\"x\":[\"2004\"],\"xaxis\":\"x\",\"y\":[8500000000],\"yaxis\":\"y\",\"type\":\"scatter\"},{\"hovertemplate\":\"Movie name=Stand by Me Doraemon<br>Year release=%{x}<br>Revenue (Yen)=%{marker.size}<extra></extra>\",\"legendgroup\":\"Stand by Me Doraemon\",\"marker\":{\"color\":\"#FFA15A\",\"size\":[8380000000],\"sizemode\":\"area\",\"sizeref\":25268750.0,\"symbol\":\"circle\"},\"mode\":\"markers\",\"name\":\"Stand by Me Doraemon\",\"orientation\":\"v\",\"showlegend\":true,\"x\":[\"2014\"],\"xaxis\":\"x\",\"y\":[8380000000],\"yaxis\":\"y\",\"type\":\"scatter\"},{\"hovertemplate\":\"Movie name=Shin Godzilla<br>Year release=%{x}<br>Revenue (Yen)=%{marker.size}<extra></extra>\",\"legendgroup\":\"Shin Godzilla\",\"marker\":{\"color\":\"#19d3f3\",\"size\":[8250000000],\"sizemode\":\"area\",\"sizeref\":25268750.0,\"symbol\":\"circle\"},\"mode\":\"markers\",\"name\":\"Shin Godzilla\",\"orientation\":\"v\",\"showlegend\":true,\"x\":[\"2016\"],\"xaxis\":\"x\",\"y\":[8250000000],\"yaxis\":\"y\",\"type\":\"scatter\"}],                        {\"template\":{\"data\":{\"bar\":[{\"error_x\":{\"color\":\"#2a3f5f\"},\"error_y\":{\"color\":\"#2a3f5f\"},\"marker\":{\"line\":{\"color\":\"#E5ECF6\",\"width\":0.5},\"pattern\":{\"fillmode\":\"overlay\",\"size\":10,\"solidity\":0.2}},\"type\":\"bar\"}],\"barpolar\":[{\"marker\":{\"line\":{\"color\":\"#E5ECF6\",\"width\":0.5},\"pattern\":{\"fillmode\":\"overlay\",\"size\":10,\"solidity\":0.2}},\"type\":\"barpolar\"}],\"carpet\":[{\"aaxis\":{\"endlinecolor\":\"#2a3f5f\",\"gridcolor\":\"white\",\"linecolor\":\"white\",\"minorgridcolor\":\"white\",\"startlinecolor\":\"#2a3f5f\"},\"baxis\":{\"endlinecolor\":\"#2a3f5f\",\"gridcolor\":\"white\",\"linecolor\":\"white\",\"minorgridcolor\":\"white\",\"startlinecolor\":\"#2a3f5f\"},\"type\":\"carpet\"}],\"choropleth\":[{\"colorbar\":{\"outlinewidth\":0,\"ticks\":\"\"},\"type\":\"choropleth\"}],\"contour\":[{\"colorbar\":{\"outlinewidth\":0,\"ticks\":\"\"},\"colorscale\":[[0.0,\"#0d0887\"],[0.1111111111111111,\"#46039f\"],[0.2222222222222222,\"#7201a8\"],[0.3333333333333333,\"#9c179e\"],[0.4444444444444444,\"#bd3786\"],[0.5555555555555556,\"#d8576b\"],[0.6666666666666666,\"#ed7953\"],[0.7777777777777778,\"#fb9f3a\"],[0.8888888888888888,\"#fdca26\"],[1.0,\"#f0f921\"]],\"type\":\"contour\"}],\"contourcarpet\":[{\"colorbar\":{\"outlinewidth\":0,\"ticks\":\"\"},\"type\":\"contourcarpet\"}],\"heatmap\":[{\"colorbar\":{\"outlinewidth\":0,\"ticks\":\"\"},\"colorscale\":[[0.0,\"#0d0887\"],[0.1111111111111111,\"#46039f\"],[0.2222222222222222,\"#7201a8\"],[0.3333333333333333,\"#9c179e\"],[0.4444444444444444,\"#bd3786\"],[0.5555555555555556,\"#d8576b\"],[0.6666666666666666,\"#ed7953\"],[0.7777777777777778,\"#fb9f3a\"],[0.8888888888888888,\"#fdca26\"],[1.0,\"#f0f921\"]],\"type\":\"heatmap\"}],\"heatmapgl\":[{\"colorbar\":{\"outlinewidth\":0,\"ticks\":\"\"},\"colorscale\":[[0.0,\"#0d0887\"],[0.1111111111111111,\"#46039f\"],[0.2222222222222222,\"#7201a8\"],[0.3333333333333333,\"#9c179e\"],[0.4444444444444444,\"#bd3786\"],[0.5555555555555556,\"#d8576b\"],[0.6666666666666666,\"#ed7953\"],[0.7777777777777778,\"#fb9f3a\"],[0.8888888888888888,\"#fdca26\"],[1.0,\"#f0f921\"]],\"type\":\"heatmapgl\"}],\"histogram\":[{\"marker\":{\"pattern\":{\"fillmode\":\"overlay\",\"size\":10,\"solidity\":0.2}},\"type\":\"histogram\"}],\"histogram2d\":[{\"colorbar\":{\"outlinewidth\":0,\"ticks\":\"\"},\"colorscale\":[[0.0,\"#0d0887\"],[0.1111111111111111,\"#46039f\"],[0.2222222222222222,\"#7201a8\"],[0.3333333333333333,\"#9c179e\"],[0.4444444444444444,\"#bd3786\"],[0.5555555555555556,\"#d8576b\"],[0.6666666666666666,\"#ed7953\"],[0.7777777777777778,\"#fb9f3a\"],[0.8888888888888888,\"#fdca26\"],[1.0,\"#f0f921\"]],\"type\":\"histogram2d\"}],\"histogram2dcontour\":[{\"colorbar\":{\"outlinewidth\":0,\"ticks\":\"\"},\"colorscale\":[[0.0,\"#0d0887\"],[0.1111111111111111,\"#46039f\"],[0.2222222222222222,\"#7201a8\"],[0.3333333333333333,\"#9c179e\"],[0.4444444444444444,\"#bd3786\"],[0.5555555555555556,\"#d8576b\"],[0.6666666666666666,\"#ed7953\"],[0.7777777777777778,\"#fb9f3a\"],[0.8888888888888888,\"#fdca26\"],[1.0,\"#f0f921\"]],\"type\":\"histogram2dcontour\"}],\"mesh3d\":[{\"colorbar\":{\"outlinewidth\":0,\"ticks\":\"\"},\"type\":\"mesh3d\"}],\"parcoords\":[{\"line\":{\"colorbar\":{\"outlinewidth\":0,\"ticks\":\"\"}},\"type\":\"parcoords\"}],\"pie\":[{\"automargin\":true,\"type\":\"pie\"}],\"scatter\":[{\"marker\":{\"colorbar\":{\"outlinewidth\":0,\"ticks\":\"\"}},\"type\":\"scatter\"}],\"scatter3d\":[{\"line\":{\"colorbar\":{\"outlinewidth\":0,\"ticks\":\"\"}},\"marker\":{\"colorbar\":{\"outlinewidth\":0,\"ticks\":\"\"}},\"type\":\"scatter3d\"}],\"scattercarpet\":[{\"marker\":{\"colorbar\":{\"outlinewidth\":0,\"ticks\":\"\"}},\"type\":\"scattercarpet\"}],\"scattergeo\":[{\"marker\":{\"colorbar\":{\"outlinewidth\":0,\"ticks\":\"\"}},\"type\":\"scattergeo\"}],\"scattergl\":[{\"marker\":{\"colorbar\":{\"outlinewidth\":0,\"ticks\":\"\"}},\"type\":\"scattergl\"}],\"scattermapbox\":[{\"marker\":{\"colorbar\":{\"outlinewidth\":0,\"ticks\":\"\"}},\"type\":\"scattermapbox\"}],\"scatterpolar\":[{\"marker\":{\"colorbar\":{\"outlinewidth\":0,\"ticks\":\"\"}},\"type\":\"scatterpolar\"}],\"scatterpolargl\":[{\"marker\":{\"colorbar\":{\"outlinewidth\":0,\"ticks\":\"\"}},\"type\":\"scatterpolargl\"}],\"scatterternary\":[{\"marker\":{\"colorbar\":{\"outlinewidth\":0,\"ticks\":\"\"}},\"type\":\"scatterternary\"}],\"surface\":[{\"colorbar\":{\"outlinewidth\":0,\"ticks\":\"\"},\"colorscale\":[[0.0,\"#0d0887\"],[0.1111111111111111,\"#46039f\"],[0.2222222222222222,\"#7201a8\"],[0.3333333333333333,\"#9c179e\"],[0.4444444444444444,\"#bd3786\"],[0.5555555555555556,\"#d8576b\"],[0.6666666666666666,\"#ed7953\"],[0.7777777777777778,\"#fb9f3a\"],[0.8888888888888888,\"#fdca26\"],[1.0,\"#f0f921\"]],\"type\":\"surface\"}],\"table\":[{\"cells\":{\"fill\":{\"color\":\"#EBF0F8\"},\"line\":{\"color\":\"white\"}},\"header\":{\"fill\":{\"color\":\"#C8D4E3\"},\"line\":{\"color\":\"white\"}},\"type\":\"table\"}]},\"layout\":{\"annotationdefaults\":{\"arrowcolor\":\"#2a3f5f\",\"arrowhead\":0,\"arrowwidth\":1},\"autotypenumbers\":\"strict\",\"coloraxis\":{\"colorbar\":{\"outlinewidth\":0,\"ticks\":\"\"}},\"colorscale\":{\"diverging\":[[0,\"#8e0152\"],[0.1,\"#c51b7d\"],[0.2,\"#de77ae\"],[0.3,\"#f1b6da\"],[0.4,\"#fde0ef\"],[0.5,\"#f7f7f7\"],[0.6,\"#e6f5d0\"],[0.7,\"#b8e186\"],[0.8,\"#7fbc41\"],[0.9,\"#4d9221\"],[1,\"#276419\"]],\"sequential\":[[0.0,\"#0d0887\"],[0.1111111111111111,\"#46039f\"],[0.2222222222222222,\"#7201a8\"],[0.3333333333333333,\"#9c179e\"],[0.4444444444444444,\"#bd3786\"],[0.5555555555555556,\"#d8576b\"],[0.6666666666666666,\"#ed7953\"],[0.7777777777777778,\"#fb9f3a\"],[0.8888888888888888,\"#fdca26\"],[1.0,\"#f0f921\"]],\"sequentialminus\":[[0.0,\"#0d0887\"],[0.1111111111111111,\"#46039f\"],[0.2222222222222222,\"#7201a8\"],[0.3333333333333333,\"#9c179e\"],[0.4444444444444444,\"#bd3786\"],[0.5555555555555556,\"#d8576b\"],[0.6666666666666666,\"#ed7953\"],[0.7777777777777778,\"#fb9f3a\"],[0.8888888888888888,\"#fdca26\"],[1.0,\"#f0f921\"]]},\"colorway\":[\"#636efa\",\"#EF553B\",\"#00cc96\",\"#ab63fa\",\"#FFA15A\",\"#19d3f3\",\"#FF6692\",\"#B6E880\",\"#FF97FF\",\"#FECB52\"],\"font\":{\"color\":\"#2a3f5f\"},\"geo\":{\"bgcolor\":\"white\",\"lakecolor\":\"white\",\"landcolor\":\"#E5ECF6\",\"showlakes\":true,\"showland\":true,\"subunitcolor\":\"white\"},\"hoverlabel\":{\"align\":\"left\"},\"hovermode\":\"closest\",\"mapbox\":{\"style\":\"light\"},\"paper_bgcolor\":\"white\",\"plot_bgcolor\":\"#E5ECF6\",\"polar\":{\"angularaxis\":{\"gridcolor\":\"white\",\"linecolor\":\"white\",\"ticks\":\"\"},\"bgcolor\":\"#E5ECF6\",\"radialaxis\":{\"gridcolor\":\"white\",\"linecolor\":\"white\",\"ticks\":\"\"}},\"scene\":{\"xaxis\":{\"backgroundcolor\":\"#E5ECF6\",\"gridcolor\":\"white\",\"gridwidth\":2,\"linecolor\":\"white\",\"showbackground\":true,\"ticks\":\"\",\"zerolinecolor\":\"white\"},\"yaxis\":{\"backgroundcolor\":\"#E5ECF6\",\"gridcolor\":\"white\",\"gridwidth\":2,\"linecolor\":\"white\",\"showbackground\":true,\"ticks\":\"\",\"zerolinecolor\":\"white\"},\"zaxis\":{\"backgroundcolor\":\"#E5ECF6\",\"gridcolor\":\"white\",\"gridwidth\":2,\"linecolor\":\"white\",\"showbackground\":true,\"ticks\":\"\",\"zerolinecolor\":\"white\"}},\"shapedefaults\":{\"line\":{\"color\":\"#2a3f5f\"}},\"ternary\":{\"aaxis\":{\"gridcolor\":\"white\",\"linecolor\":\"white\",\"ticks\":\"\"},\"baxis\":{\"gridcolor\":\"white\",\"linecolor\":\"white\",\"ticks\":\"\"},\"bgcolor\":\"#E5ECF6\",\"caxis\":{\"gridcolor\":\"white\",\"linecolor\":\"white\",\"ticks\":\"\"}},\"title\":{\"x\":0.05},\"xaxis\":{\"automargin\":true,\"gridcolor\":\"white\",\"linecolor\":\"white\",\"ticks\":\"\",\"title\":{\"standoff\":15},\"zerolinecolor\":\"white\",\"zerolinewidth\":2},\"yaxis\":{\"automargin\":true,\"gridcolor\":\"white\",\"linecolor\":\"white\",\"ticks\":\"\",\"title\":{\"standoff\":15},\"zerolinecolor\":\"white\",\"zerolinewidth\":2}}},\"xaxis\":{\"anchor\":\"y\",\"domain\":[0.0,1.0],\"title\":{\"text\":\"Year release\"},\"type\":\"log\"},\"yaxis\":{\"anchor\":\"x\",\"domain\":[0.0,1.0],\"title\":{\"text\":\"Revenue (Yen)\"}},\"legend\":{\"title\":{\"text\":\"Movie name\"},\"tracegroupgap\":0,\"itemsizing\":\"constant\"},\"margin\":{\"t\":60},\"title\":{\"text\":\"Movies' Revenues (Yen) over Year release (Japan)\"}},                        {\"responsive\": true}                    ).then(function(){\n",
              "                            \n",
              "var gd = document.getElementById('f1d18c2e-6570-46f1-a255-ea1d29237161');\n",
              "var x = new MutationObserver(function (mutations, observer) {{\n",
              "        var display = window.getComputedStyle(gd).display;\n",
              "        if (!display || display === 'none') {{\n",
              "            console.log([gd, 'removed!']);\n",
              "            Plotly.purge(gd);\n",
              "            observer.disconnect();\n",
              "        }}\n",
              "}});\n",
              "\n",
              "// Listen for the removal of the full notebook cells\n",
              "var notebookContainer = gd.closest('#notebook-container');\n",
              "if (notebookContainer) {{\n",
              "    x.observe(notebookContainer, {childList: true});\n",
              "}}\n",
              "\n",
              "// Listen for the clearing of the current output cell\n",
              "var outputEl = gd.closest('.output');\n",
              "if (outputEl) {{\n",
              "    x.observe(outputEl, {childList: true});\n",
              "}}\n",
              "\n",
              "                        })                };                            </script>        </div>\n",
              "</body>\n",
              "</html>"
            ]
          },
          "metadata": {}
        }
      ]
    },
    {
      "cell_type": "markdown",
      "source": [
        "We use df1 - Top 50 Highest Grossing Anime In Japan - to plot a scatter chart for the year release and revenue of top 50 animes in Japanese market. Year release is our x-axis. Japan revenue in Yen is our y-axis and also is indicated by the width of each data point's bubble. Each anime name is differentiated by colors. "
      ],
      "metadata": {
        "id": "-tNPsNL1s7Vh"
      }
    },
    {
      "cell_type": "markdown",
      "source": [
        "With a similar scatterplot, we can see the top 5 movies with the highest revenue in Japan. Interestingly, these top 5 are closely the same as the worldwide ones. The only difference is the 5th ranking, for Japan, it is “Princess Mononoke,” and for the worldwide, it is “One Piece Film.” Comparing these two graphs, we can conclude that the number of anime movies in worldwide is more trending than in Japan."
      ],
      "metadata": {
        "id": "kieoPBX8fG6U"
      }
    },
    {
      "cell_type": "code",
      "source": [
        "# Top 50 Highest Grossing Anime Worldwide\n",
        "# Scatter plot of Revenue (USD) over Year release for each anime movie, based on the two main genres (Anime and Live-action) with the revenue also indicated by the bubble size\n",
        "fig3 = px.scatter(df0, x=\"Year release\", y=\"Revenue (USD)\", size=\"Revenue (USD)\", color=\"Genre\", log_x=1000, size_max=40)\n",
        "fig3.update_layout(\n",
        "    title = {\n",
        "        'text': 'Movies Revenues (USD) over Year release (Worldwide), categorized by Genre'})\n",
        "fig3.show()"
      ],
      "metadata": {
        "id": "Ry0F-K7dd_vI",
        "outputId": "0aeea335-cda4-43a7-fede-7f57a2f97f3b",
        "colab": {
          "base_uri": "https://localhost:8080/",
          "height": 542
        }
      },
      "execution_count": 45,
      "outputs": [
        {
          "output_type": "display_data",
          "data": {
            "text/html": [
              "<html>\n",
              "<head><meta charset=\"utf-8\" /></head>\n",
              "<body>\n",
              "    <div>            <script src=\"https://cdnjs.cloudflare.com/ajax/libs/mathjax/2.7.5/MathJax.js?config=TeX-AMS-MML_SVG\"></script><script type=\"text/javascript\">if (window.MathJax) {MathJax.Hub.Config({SVG: {font: \"STIX-Web\"}});}</script>                <script type=\"text/javascript\">window.PlotlyConfig = {MathJaxConfig: 'local'};</script>\n",
              "        <script src=\"https://cdn.plot.ly/plotly-2.8.3.min.js\"></script>                <div id=\"f8d5b4ed-660a-438c-9304-bebae944377f\" class=\"plotly-graph-div\" style=\"height:525px; width:100%;\"></div>            <script type=\"text/javascript\">                                    window.PLOTLYENV=window.PLOTLYENV || {};                                    if (document.getElementById(\"f8d5b4ed-660a-438c-9304-bebae944377f\")) {                    Plotly.newPlot(                        \"f8d5b4ed-660a-438c-9304-bebae944377f\",                        [{\"hovertemplate\":\"Genre=Anime<br>Year release=%{x}<br>Revenue (USD)=%{marker.size}<extra></extra>\",\"legendgroup\":\"Anime\",\"marker\":{\"color\":\"#636efa\",\"size\":[506523013,395580000,380140500,236323601,206740295,204826668,195870885,193715360,183442714,172744662,170005875,149411550,136533257,133949270,122747755,115570314,108207000,102541282,99481307,93000000,92246218,85100000,80920916,75500000,74223861,73766887,71143529,68411275,66265957,66207073,65406606],\"sizemode\":\"area\",\"sizeref\":316576.883125,\"symbol\":\"circle\"},\"mode\":\"markers\",\"name\":\"Anime\",\"orientation\":\"v\",\"showlegend\":true,\"x\":[\"2020\",\"2001\",\"2016\",\"2004\",\"2022\",\"2008\",\"2021\",\"2019\",\"2014\",\"1998\",\"1997\",\"2010\",\"2013\",\"1999\",\"2018\",\"2019\",\"2018\",\"2021\",\"2014\",\"2019\",\"2021\",\"2022\",\"2018\",\"2006\",\"2012\",\"2022\",\"2010\",\"2000\",\"2016\",\"2016\",\"2019\"],\"xaxis\":\"x\",\"y\":[506523013,395580000,380140500,236323601,206740295,204826668,195870885,193715360,183442714,172744662,170005875,149411550,136533257,133949270,122747755,115570314,108207000,102541282,99481307,93000000,92246218,85100000,80920916,75500000,74223861,73766887,71143529,68411275,66265957,66207073,65406606],\"yaxis\":\"y\",\"type\":\"scatter\"},{\"hovertemplate\":\"Genre=0<br>Year release=%{x}<br>Revenue (USD)=%{marker.size}<extra></extra>\",\"legendgroup\":\"0\",\"marker\":{\"color\":\"#EF553B\",\"size\":[164450000],\"sizemode\":\"area\",\"sizeref\":316576.883125,\"symbol\":\"circle\"},\"mode\":\"markers\",\"name\":\"0\",\"orientation\":\"v\",\"showlegend\":true,\"x\":[\"2003\"],\"xaxis\":\"x\",\"y\":[164450000],\"yaxis\":\"y\",\"type\":\"scatter\"},{\"hovertemplate\":\"Genre=Live-action<br>Year release=%{x}<br>Revenue (USD)=%{marker.size}<extra></extra>\",\"legendgroup\":\"Live-action\",\"marker\":{\"color\":\"#00cc96\",\"size\":[115000000,104121749,101000000,98663381,91884352,88055243,86192740,85347374,84500000,80400000,78778562,78053145,75387554,74849073,74123959,72867395,72243609,67999335],\"sizemode\":\"area\",\"sizeref\":316576.883125,\"symbol\":\"circle\"},\"mode\":\"markers\",\"name\":\"Live-action\",\"orientation\":\"v\",\"showlegend\":true,\"x\":[\"1998\",\"1986\",\"1983\",\"2010\",\"2012\",\"2009\",\"2010\",\"2010\",\"2013\",\"2007\",\"2018\",\"2016\",\"2012\",\"2004\",\"1988\",\"2012\",\"2008\",\"2018\"],\"xaxis\":\"x\",\"y\":[115000000,104121749,101000000,98663381,91884352,88055243,86192740,85347374,84500000,80400000,78778562,78053145,75387554,74849073,74123959,72867395,72243609,67999335],\"yaxis\":\"y\",\"type\":\"scatter\"}],                        {\"template\":{\"data\":{\"bar\":[{\"error_x\":{\"color\":\"#2a3f5f\"},\"error_y\":{\"color\":\"#2a3f5f\"},\"marker\":{\"line\":{\"color\":\"#E5ECF6\",\"width\":0.5},\"pattern\":{\"fillmode\":\"overlay\",\"size\":10,\"solidity\":0.2}},\"type\":\"bar\"}],\"barpolar\":[{\"marker\":{\"line\":{\"color\":\"#E5ECF6\",\"width\":0.5},\"pattern\":{\"fillmode\":\"overlay\",\"size\":10,\"solidity\":0.2}},\"type\":\"barpolar\"}],\"carpet\":[{\"aaxis\":{\"endlinecolor\":\"#2a3f5f\",\"gridcolor\":\"white\",\"linecolor\":\"white\",\"minorgridcolor\":\"white\",\"startlinecolor\":\"#2a3f5f\"},\"baxis\":{\"endlinecolor\":\"#2a3f5f\",\"gridcolor\":\"white\",\"linecolor\":\"white\",\"minorgridcolor\":\"white\",\"startlinecolor\":\"#2a3f5f\"},\"type\":\"carpet\"}],\"choropleth\":[{\"colorbar\":{\"outlinewidth\":0,\"ticks\":\"\"},\"type\":\"choropleth\"}],\"contour\":[{\"colorbar\":{\"outlinewidth\":0,\"ticks\":\"\"},\"colorscale\":[[0.0,\"#0d0887\"],[0.1111111111111111,\"#46039f\"],[0.2222222222222222,\"#7201a8\"],[0.3333333333333333,\"#9c179e\"],[0.4444444444444444,\"#bd3786\"],[0.5555555555555556,\"#d8576b\"],[0.6666666666666666,\"#ed7953\"],[0.7777777777777778,\"#fb9f3a\"],[0.8888888888888888,\"#fdca26\"],[1.0,\"#f0f921\"]],\"type\":\"contour\"}],\"contourcarpet\":[{\"colorbar\":{\"outlinewidth\":0,\"ticks\":\"\"},\"type\":\"contourcarpet\"}],\"heatmap\":[{\"colorbar\":{\"outlinewidth\":0,\"ticks\":\"\"},\"colorscale\":[[0.0,\"#0d0887\"],[0.1111111111111111,\"#46039f\"],[0.2222222222222222,\"#7201a8\"],[0.3333333333333333,\"#9c179e\"],[0.4444444444444444,\"#bd3786\"],[0.5555555555555556,\"#d8576b\"],[0.6666666666666666,\"#ed7953\"],[0.7777777777777778,\"#fb9f3a\"],[0.8888888888888888,\"#fdca26\"],[1.0,\"#f0f921\"]],\"type\":\"heatmap\"}],\"heatmapgl\":[{\"colorbar\":{\"outlinewidth\":0,\"ticks\":\"\"},\"colorscale\":[[0.0,\"#0d0887\"],[0.1111111111111111,\"#46039f\"],[0.2222222222222222,\"#7201a8\"],[0.3333333333333333,\"#9c179e\"],[0.4444444444444444,\"#bd3786\"],[0.5555555555555556,\"#d8576b\"],[0.6666666666666666,\"#ed7953\"],[0.7777777777777778,\"#fb9f3a\"],[0.8888888888888888,\"#fdca26\"],[1.0,\"#f0f921\"]],\"type\":\"heatmapgl\"}],\"histogram\":[{\"marker\":{\"pattern\":{\"fillmode\":\"overlay\",\"size\":10,\"solidity\":0.2}},\"type\":\"histogram\"}],\"histogram2d\":[{\"colorbar\":{\"outlinewidth\":0,\"ticks\":\"\"},\"colorscale\":[[0.0,\"#0d0887\"],[0.1111111111111111,\"#46039f\"],[0.2222222222222222,\"#7201a8\"],[0.3333333333333333,\"#9c179e\"],[0.4444444444444444,\"#bd3786\"],[0.5555555555555556,\"#d8576b\"],[0.6666666666666666,\"#ed7953\"],[0.7777777777777778,\"#fb9f3a\"],[0.8888888888888888,\"#fdca26\"],[1.0,\"#f0f921\"]],\"type\":\"histogram2d\"}],\"histogram2dcontour\":[{\"colorbar\":{\"outlinewidth\":0,\"ticks\":\"\"},\"colorscale\":[[0.0,\"#0d0887\"],[0.1111111111111111,\"#46039f\"],[0.2222222222222222,\"#7201a8\"],[0.3333333333333333,\"#9c179e\"],[0.4444444444444444,\"#bd3786\"],[0.5555555555555556,\"#d8576b\"],[0.6666666666666666,\"#ed7953\"],[0.7777777777777778,\"#fb9f3a\"],[0.8888888888888888,\"#fdca26\"],[1.0,\"#f0f921\"]],\"type\":\"histogram2dcontour\"}],\"mesh3d\":[{\"colorbar\":{\"outlinewidth\":0,\"ticks\":\"\"},\"type\":\"mesh3d\"}],\"parcoords\":[{\"line\":{\"colorbar\":{\"outlinewidth\":0,\"ticks\":\"\"}},\"type\":\"parcoords\"}],\"pie\":[{\"automargin\":true,\"type\":\"pie\"}],\"scatter\":[{\"marker\":{\"colorbar\":{\"outlinewidth\":0,\"ticks\":\"\"}},\"type\":\"scatter\"}],\"scatter3d\":[{\"line\":{\"colorbar\":{\"outlinewidth\":0,\"ticks\":\"\"}},\"marker\":{\"colorbar\":{\"outlinewidth\":0,\"ticks\":\"\"}},\"type\":\"scatter3d\"}],\"scattercarpet\":[{\"marker\":{\"colorbar\":{\"outlinewidth\":0,\"ticks\":\"\"}},\"type\":\"scattercarpet\"}],\"scattergeo\":[{\"marker\":{\"colorbar\":{\"outlinewidth\":0,\"ticks\":\"\"}},\"type\":\"scattergeo\"}],\"scattergl\":[{\"marker\":{\"colorbar\":{\"outlinewidth\":0,\"ticks\":\"\"}},\"type\":\"scattergl\"}],\"scattermapbox\":[{\"marker\":{\"colorbar\":{\"outlinewidth\":0,\"ticks\":\"\"}},\"type\":\"scattermapbox\"}],\"scatterpolar\":[{\"marker\":{\"colorbar\":{\"outlinewidth\":0,\"ticks\":\"\"}},\"type\":\"scatterpolar\"}],\"scatterpolargl\":[{\"marker\":{\"colorbar\":{\"outlinewidth\":0,\"ticks\":\"\"}},\"type\":\"scatterpolargl\"}],\"scatterternary\":[{\"marker\":{\"colorbar\":{\"outlinewidth\":0,\"ticks\":\"\"}},\"type\":\"scatterternary\"}],\"surface\":[{\"colorbar\":{\"outlinewidth\":0,\"ticks\":\"\"},\"colorscale\":[[0.0,\"#0d0887\"],[0.1111111111111111,\"#46039f\"],[0.2222222222222222,\"#7201a8\"],[0.3333333333333333,\"#9c179e\"],[0.4444444444444444,\"#bd3786\"],[0.5555555555555556,\"#d8576b\"],[0.6666666666666666,\"#ed7953\"],[0.7777777777777778,\"#fb9f3a\"],[0.8888888888888888,\"#fdca26\"],[1.0,\"#f0f921\"]],\"type\":\"surface\"}],\"table\":[{\"cells\":{\"fill\":{\"color\":\"#EBF0F8\"},\"line\":{\"color\":\"white\"}},\"header\":{\"fill\":{\"color\":\"#C8D4E3\"},\"line\":{\"color\":\"white\"}},\"type\":\"table\"}]},\"layout\":{\"annotationdefaults\":{\"arrowcolor\":\"#2a3f5f\",\"arrowhead\":0,\"arrowwidth\":1},\"autotypenumbers\":\"strict\",\"coloraxis\":{\"colorbar\":{\"outlinewidth\":0,\"ticks\":\"\"}},\"colorscale\":{\"diverging\":[[0,\"#8e0152\"],[0.1,\"#c51b7d\"],[0.2,\"#de77ae\"],[0.3,\"#f1b6da\"],[0.4,\"#fde0ef\"],[0.5,\"#f7f7f7\"],[0.6,\"#e6f5d0\"],[0.7,\"#b8e186\"],[0.8,\"#7fbc41\"],[0.9,\"#4d9221\"],[1,\"#276419\"]],\"sequential\":[[0.0,\"#0d0887\"],[0.1111111111111111,\"#46039f\"],[0.2222222222222222,\"#7201a8\"],[0.3333333333333333,\"#9c179e\"],[0.4444444444444444,\"#bd3786\"],[0.5555555555555556,\"#d8576b\"],[0.6666666666666666,\"#ed7953\"],[0.7777777777777778,\"#fb9f3a\"],[0.8888888888888888,\"#fdca26\"],[1.0,\"#f0f921\"]],\"sequentialminus\":[[0.0,\"#0d0887\"],[0.1111111111111111,\"#46039f\"],[0.2222222222222222,\"#7201a8\"],[0.3333333333333333,\"#9c179e\"],[0.4444444444444444,\"#bd3786\"],[0.5555555555555556,\"#d8576b\"],[0.6666666666666666,\"#ed7953\"],[0.7777777777777778,\"#fb9f3a\"],[0.8888888888888888,\"#fdca26\"],[1.0,\"#f0f921\"]]},\"colorway\":[\"#636efa\",\"#EF553B\",\"#00cc96\",\"#ab63fa\",\"#FFA15A\",\"#19d3f3\",\"#FF6692\",\"#B6E880\",\"#FF97FF\",\"#FECB52\"],\"font\":{\"color\":\"#2a3f5f\"},\"geo\":{\"bgcolor\":\"white\",\"lakecolor\":\"white\",\"landcolor\":\"#E5ECF6\",\"showlakes\":true,\"showland\":true,\"subunitcolor\":\"white\"},\"hoverlabel\":{\"align\":\"left\"},\"hovermode\":\"closest\",\"mapbox\":{\"style\":\"light\"},\"paper_bgcolor\":\"white\",\"plot_bgcolor\":\"#E5ECF6\",\"polar\":{\"angularaxis\":{\"gridcolor\":\"white\",\"linecolor\":\"white\",\"ticks\":\"\"},\"bgcolor\":\"#E5ECF6\",\"radialaxis\":{\"gridcolor\":\"white\",\"linecolor\":\"white\",\"ticks\":\"\"}},\"scene\":{\"xaxis\":{\"backgroundcolor\":\"#E5ECF6\",\"gridcolor\":\"white\",\"gridwidth\":2,\"linecolor\":\"white\",\"showbackground\":true,\"ticks\":\"\",\"zerolinecolor\":\"white\"},\"yaxis\":{\"backgroundcolor\":\"#E5ECF6\",\"gridcolor\":\"white\",\"gridwidth\":2,\"linecolor\":\"white\",\"showbackground\":true,\"ticks\":\"\",\"zerolinecolor\":\"white\"},\"zaxis\":{\"backgroundcolor\":\"#E5ECF6\",\"gridcolor\":\"white\",\"gridwidth\":2,\"linecolor\":\"white\",\"showbackground\":true,\"ticks\":\"\",\"zerolinecolor\":\"white\"}},\"shapedefaults\":{\"line\":{\"color\":\"#2a3f5f\"}},\"ternary\":{\"aaxis\":{\"gridcolor\":\"white\",\"linecolor\":\"white\",\"ticks\":\"\"},\"baxis\":{\"gridcolor\":\"white\",\"linecolor\":\"white\",\"ticks\":\"\"},\"bgcolor\":\"#E5ECF6\",\"caxis\":{\"gridcolor\":\"white\",\"linecolor\":\"white\",\"ticks\":\"\"}},\"title\":{\"x\":0.05},\"xaxis\":{\"automargin\":true,\"gridcolor\":\"white\",\"linecolor\":\"white\",\"ticks\":\"\",\"title\":{\"standoff\":15},\"zerolinecolor\":\"white\",\"zerolinewidth\":2},\"yaxis\":{\"automargin\":true,\"gridcolor\":\"white\",\"linecolor\":\"white\",\"ticks\":\"\",\"title\":{\"standoff\":15},\"zerolinecolor\":\"white\",\"zerolinewidth\":2}}},\"xaxis\":{\"anchor\":\"y\",\"domain\":[0.0,1.0],\"title\":{\"text\":\"Year release\"},\"type\":\"log\"},\"yaxis\":{\"anchor\":\"x\",\"domain\":[0.0,1.0],\"title\":{\"text\":\"Revenue (USD)\"}},\"legend\":{\"title\":{\"text\":\"Genre\"},\"tracegroupgap\":0,\"itemsizing\":\"constant\"},\"margin\":{\"t\":60},\"title\":{\"text\":\"Movies Revenues (USD) over Year release (Worldwide), categorized by Genre\"}},                        {\"responsive\": true}                    ).then(function(){\n",
              "                            \n",
              "var gd = document.getElementById('f8d5b4ed-660a-438c-9304-bebae944377f');\n",
              "var x = new MutationObserver(function (mutations, observer) {{\n",
              "        var display = window.getComputedStyle(gd).display;\n",
              "        if (!display || display === 'none') {{\n",
              "            console.log([gd, 'removed!']);\n",
              "            Plotly.purge(gd);\n",
              "            observer.disconnect();\n",
              "        }}\n",
              "}});\n",
              "\n",
              "// Listen for the removal of the full notebook cells\n",
              "var notebookContainer = gd.closest('#notebook-container');\n",
              "if (notebookContainer) {{\n",
              "    x.observe(notebookContainer, {childList: true});\n",
              "}}\n",
              "\n",
              "// Listen for the clearing of the current output cell\n",
              "var outputEl = gd.closest('.output');\n",
              "if (outputEl) {{\n",
              "    x.observe(outputEl, {childList: true});\n",
              "}}\n",
              "\n",
              "                        })                };                            </script>        </div>\n",
              "</body>\n",
              "</html>"
            ]
          },
          "metadata": {}
        }
      ]
    },
    {
      "cell_type": "markdown",
      "source": [
        "We use df0 - Top 50 Highest Grossing Anime Worldwide - to plot a scatter chart for the year release, worldwide revenue, and genres of top 50 animes. Year release is our x-axis. Worldwide revenue in USD is our y-axis and also is indicated by the width of each data point's bubble. Each anime genre is differentiated by colors. Genre 0 is the unknown genre. "
      ],
      "metadata": {
        "id": "RwCh0-RJtSnf"
      }
    },
    {
      "cell_type": "markdown",
      "source": [
        "Instead of analyzing the movie under the revenue category, in this scatterplot, we want to observe the movie genre factors. There are two main movie genres: anime and live-action. It is clear in the graph that the number of anime movies is much more than the number of live-action, which also leads to more profits. The evidence is top 10 anime movie with the highest revenue is all anime genre. "
      ],
      "metadata": {
        "id": "xwpdAks-fJC2"
      }
    },
    {
      "cell_type": "code",
      "source": [
        "# Top 50 Highest Grossing Anime In Japan\n",
        "# Scatter plot of Revenue (Yen) over Year release for each anime movie, based on the two main genres (Anime and Live-action) with the revenue also indicated by the bubble size\n",
        "fig4 = px.scatter(df1, x=\"Year release\", y=\"Revenue (Yen)\", size=\"Revenue (Yen)\", color=\"Genre\", log_x=1000, size_max=40)\n",
        "fig4.update_layout(\n",
        "    title = {\n",
        "        'text': 'Movies Revenues (Yen) over Year release (Japan), categorized by Genre'})\n",
        "fig4.show()"
      ],
      "metadata": {
        "id": "vtKw9e8dzhav",
        "outputId": "b5ac7a0d-f5fb-406f-9be8-e4fc59297d68",
        "colab": {
          "base_uri": "https://localhost:8080/",
          "height": 542
        }
      },
      "execution_count": 46,
      "outputs": [
        {
          "output_type": "display_data",
          "data": {
            "text/html": [
              "<html>\n",
              "<head><meta charset=\"utf-8\" /></head>\n",
              "<body>\n",
              "    <div>            <script src=\"https://cdnjs.cloudflare.com/ajax/libs/mathjax/2.7.5/MathJax.js?config=TeX-AMS-MML_SVG\"></script><script type=\"text/javascript\">if (window.MathJax) {MathJax.Hub.Config({SVG: {font: \"STIX-Web\"}});}</script>                <script type=\"text/javascript\">window.PlotlyConfig = {MathJaxConfig: 'local'};</script>\n",
              "        <script src=\"https://cdn.plot.ly/plotly-2.8.3.min.js\"></script>                <div id=\"6745ea61-a1f2-4af5-8090-558315023137\" class=\"plotly-graph-div\" style=\"height:525px; width:100%;\"></div>            <script type=\"text/javascript\">                                    window.PLOTLYENV=window.PLOTLYENV || {};                                    if (document.getElementById(\"6745ea61-a1f2-4af5-8090-558315023137\")) {                    Plotly.newPlot(                        \"6745ea61-a1f2-4af5-8090-558315023137\",                        [{\"hovertemplate\":\"Genre=Anime<br>Year release=%{x}<br>Revenue (Yen)=%{marker.size}<extra></extra>\",\"legendgroup\":\"Anime\",\"marker\":{\"color\":\"#636efa\",\"size\":[40430000000,31680000000,25030000000,20180000000,19600000000,18670000000,15500000000,14190000000,13750000000,12020000000,10280000000,9740000000,9370000000,9260000000,9180000000,8380000000],\"sizemode\":\"area\",\"sizeref\":25268750.0,\"symbol\":\"circle\"},\"mode\":\"markers\",\"name\":\"Anime\",\"orientation\":\"v\",\"showlegend\":true,\"x\":[\"2020\",\"2001\",\"2016\",\"1997\",\"2004\",\"2022\",\"2008\",\"2019\",\"2021\",\"2013\",\"2021\",\"2022\",\"2019\",\"2010\",\"2018\",\"2014\"],\"xaxis\":\"x\",\"y\":[40430000000,31680000000,25030000000,20180000000,19600000000,18670000000,15500000000,14190000000,13750000000,12020000000,10280000000,9740000000,9370000000,9260000000,9180000000,8380000000],\"yaxis\":\"y\",\"type\":\"scatter\"},{\"hovertemplate\":\"Genre=Live-action<br>Year release=%{x}<br>Revenue (Yen)=%{marker.size}<extra></extra>\",\"legendgroup\":\"Live-action\",\"marker\":{\"color\":\"#EF553B\",\"size\":[17350000000,11000000000,10100000000,9800000000,9300000000,9200000000,8760000000,8550000000,8500000000,8250000000],\"sizemode\":\"area\",\"sizeref\":25268750.0,\"symbol\":\"circle\"},\"mode\":\"markers\",\"name\":\"Live-action\",\"orientation\":\"v\",\"showlegend\":true,\"x\":[\"2003\",\"1983\",\"1998\",\"1986\",\"2018\",\"1990\",\"2013\",\"2009\",\"2004\",\"2016\"],\"xaxis\":\"x\",\"y\":[17350000000,11000000000,10100000000,9800000000,9300000000,9200000000,8760000000,8550000000,8500000000,8250000000],\"yaxis\":\"y\",\"type\":\"scatter\"}],                        {\"template\":{\"data\":{\"bar\":[{\"error_x\":{\"color\":\"#2a3f5f\"},\"error_y\":{\"color\":\"#2a3f5f\"},\"marker\":{\"line\":{\"color\":\"#E5ECF6\",\"width\":0.5},\"pattern\":{\"fillmode\":\"overlay\",\"size\":10,\"solidity\":0.2}},\"type\":\"bar\"}],\"barpolar\":[{\"marker\":{\"line\":{\"color\":\"#E5ECF6\",\"width\":0.5},\"pattern\":{\"fillmode\":\"overlay\",\"size\":10,\"solidity\":0.2}},\"type\":\"barpolar\"}],\"carpet\":[{\"aaxis\":{\"endlinecolor\":\"#2a3f5f\",\"gridcolor\":\"white\",\"linecolor\":\"white\",\"minorgridcolor\":\"white\",\"startlinecolor\":\"#2a3f5f\"},\"baxis\":{\"endlinecolor\":\"#2a3f5f\",\"gridcolor\":\"white\",\"linecolor\":\"white\",\"minorgridcolor\":\"white\",\"startlinecolor\":\"#2a3f5f\"},\"type\":\"carpet\"}],\"choropleth\":[{\"colorbar\":{\"outlinewidth\":0,\"ticks\":\"\"},\"type\":\"choropleth\"}],\"contour\":[{\"colorbar\":{\"outlinewidth\":0,\"ticks\":\"\"},\"colorscale\":[[0.0,\"#0d0887\"],[0.1111111111111111,\"#46039f\"],[0.2222222222222222,\"#7201a8\"],[0.3333333333333333,\"#9c179e\"],[0.4444444444444444,\"#bd3786\"],[0.5555555555555556,\"#d8576b\"],[0.6666666666666666,\"#ed7953\"],[0.7777777777777778,\"#fb9f3a\"],[0.8888888888888888,\"#fdca26\"],[1.0,\"#f0f921\"]],\"type\":\"contour\"}],\"contourcarpet\":[{\"colorbar\":{\"outlinewidth\":0,\"ticks\":\"\"},\"type\":\"contourcarpet\"}],\"heatmap\":[{\"colorbar\":{\"outlinewidth\":0,\"ticks\":\"\"},\"colorscale\":[[0.0,\"#0d0887\"],[0.1111111111111111,\"#46039f\"],[0.2222222222222222,\"#7201a8\"],[0.3333333333333333,\"#9c179e\"],[0.4444444444444444,\"#bd3786\"],[0.5555555555555556,\"#d8576b\"],[0.6666666666666666,\"#ed7953\"],[0.7777777777777778,\"#fb9f3a\"],[0.8888888888888888,\"#fdca26\"],[1.0,\"#f0f921\"]],\"type\":\"heatmap\"}],\"heatmapgl\":[{\"colorbar\":{\"outlinewidth\":0,\"ticks\":\"\"},\"colorscale\":[[0.0,\"#0d0887\"],[0.1111111111111111,\"#46039f\"],[0.2222222222222222,\"#7201a8\"],[0.3333333333333333,\"#9c179e\"],[0.4444444444444444,\"#bd3786\"],[0.5555555555555556,\"#d8576b\"],[0.6666666666666666,\"#ed7953\"],[0.7777777777777778,\"#fb9f3a\"],[0.8888888888888888,\"#fdca26\"],[1.0,\"#f0f921\"]],\"type\":\"heatmapgl\"}],\"histogram\":[{\"marker\":{\"pattern\":{\"fillmode\":\"overlay\",\"size\":10,\"solidity\":0.2}},\"type\":\"histogram\"}],\"histogram2d\":[{\"colorbar\":{\"outlinewidth\":0,\"ticks\":\"\"},\"colorscale\":[[0.0,\"#0d0887\"],[0.1111111111111111,\"#46039f\"],[0.2222222222222222,\"#7201a8\"],[0.3333333333333333,\"#9c179e\"],[0.4444444444444444,\"#bd3786\"],[0.5555555555555556,\"#d8576b\"],[0.6666666666666666,\"#ed7953\"],[0.7777777777777778,\"#fb9f3a\"],[0.8888888888888888,\"#fdca26\"],[1.0,\"#f0f921\"]],\"type\":\"histogram2d\"}],\"histogram2dcontour\":[{\"colorbar\":{\"outlinewidth\":0,\"ticks\":\"\"},\"colorscale\":[[0.0,\"#0d0887\"],[0.1111111111111111,\"#46039f\"],[0.2222222222222222,\"#7201a8\"],[0.3333333333333333,\"#9c179e\"],[0.4444444444444444,\"#bd3786\"],[0.5555555555555556,\"#d8576b\"],[0.6666666666666666,\"#ed7953\"],[0.7777777777777778,\"#fb9f3a\"],[0.8888888888888888,\"#fdca26\"],[1.0,\"#f0f921\"]],\"type\":\"histogram2dcontour\"}],\"mesh3d\":[{\"colorbar\":{\"outlinewidth\":0,\"ticks\":\"\"},\"type\":\"mesh3d\"}],\"parcoords\":[{\"line\":{\"colorbar\":{\"outlinewidth\":0,\"ticks\":\"\"}},\"type\":\"parcoords\"}],\"pie\":[{\"automargin\":true,\"type\":\"pie\"}],\"scatter\":[{\"marker\":{\"colorbar\":{\"outlinewidth\":0,\"ticks\":\"\"}},\"type\":\"scatter\"}],\"scatter3d\":[{\"line\":{\"colorbar\":{\"outlinewidth\":0,\"ticks\":\"\"}},\"marker\":{\"colorbar\":{\"outlinewidth\":0,\"ticks\":\"\"}},\"type\":\"scatter3d\"}],\"scattercarpet\":[{\"marker\":{\"colorbar\":{\"outlinewidth\":0,\"ticks\":\"\"}},\"type\":\"scattercarpet\"}],\"scattergeo\":[{\"marker\":{\"colorbar\":{\"outlinewidth\":0,\"ticks\":\"\"}},\"type\":\"scattergeo\"}],\"scattergl\":[{\"marker\":{\"colorbar\":{\"outlinewidth\":0,\"ticks\":\"\"}},\"type\":\"scattergl\"}],\"scattermapbox\":[{\"marker\":{\"colorbar\":{\"outlinewidth\":0,\"ticks\":\"\"}},\"type\":\"scattermapbox\"}],\"scatterpolar\":[{\"marker\":{\"colorbar\":{\"outlinewidth\":0,\"ticks\":\"\"}},\"type\":\"scatterpolar\"}],\"scatterpolargl\":[{\"marker\":{\"colorbar\":{\"outlinewidth\":0,\"ticks\":\"\"}},\"type\":\"scatterpolargl\"}],\"scatterternary\":[{\"marker\":{\"colorbar\":{\"outlinewidth\":0,\"ticks\":\"\"}},\"type\":\"scatterternary\"}],\"surface\":[{\"colorbar\":{\"outlinewidth\":0,\"ticks\":\"\"},\"colorscale\":[[0.0,\"#0d0887\"],[0.1111111111111111,\"#46039f\"],[0.2222222222222222,\"#7201a8\"],[0.3333333333333333,\"#9c179e\"],[0.4444444444444444,\"#bd3786\"],[0.5555555555555556,\"#d8576b\"],[0.6666666666666666,\"#ed7953\"],[0.7777777777777778,\"#fb9f3a\"],[0.8888888888888888,\"#fdca26\"],[1.0,\"#f0f921\"]],\"type\":\"surface\"}],\"table\":[{\"cells\":{\"fill\":{\"color\":\"#EBF0F8\"},\"line\":{\"color\":\"white\"}},\"header\":{\"fill\":{\"color\":\"#C8D4E3\"},\"line\":{\"color\":\"white\"}},\"type\":\"table\"}]},\"layout\":{\"annotationdefaults\":{\"arrowcolor\":\"#2a3f5f\",\"arrowhead\":0,\"arrowwidth\":1},\"autotypenumbers\":\"strict\",\"coloraxis\":{\"colorbar\":{\"outlinewidth\":0,\"ticks\":\"\"}},\"colorscale\":{\"diverging\":[[0,\"#8e0152\"],[0.1,\"#c51b7d\"],[0.2,\"#de77ae\"],[0.3,\"#f1b6da\"],[0.4,\"#fde0ef\"],[0.5,\"#f7f7f7\"],[0.6,\"#e6f5d0\"],[0.7,\"#b8e186\"],[0.8,\"#7fbc41\"],[0.9,\"#4d9221\"],[1,\"#276419\"]],\"sequential\":[[0.0,\"#0d0887\"],[0.1111111111111111,\"#46039f\"],[0.2222222222222222,\"#7201a8\"],[0.3333333333333333,\"#9c179e\"],[0.4444444444444444,\"#bd3786\"],[0.5555555555555556,\"#d8576b\"],[0.6666666666666666,\"#ed7953\"],[0.7777777777777778,\"#fb9f3a\"],[0.8888888888888888,\"#fdca26\"],[1.0,\"#f0f921\"]],\"sequentialminus\":[[0.0,\"#0d0887\"],[0.1111111111111111,\"#46039f\"],[0.2222222222222222,\"#7201a8\"],[0.3333333333333333,\"#9c179e\"],[0.4444444444444444,\"#bd3786\"],[0.5555555555555556,\"#d8576b\"],[0.6666666666666666,\"#ed7953\"],[0.7777777777777778,\"#fb9f3a\"],[0.8888888888888888,\"#fdca26\"],[1.0,\"#f0f921\"]]},\"colorway\":[\"#636efa\",\"#EF553B\",\"#00cc96\",\"#ab63fa\",\"#FFA15A\",\"#19d3f3\",\"#FF6692\",\"#B6E880\",\"#FF97FF\",\"#FECB52\"],\"font\":{\"color\":\"#2a3f5f\"},\"geo\":{\"bgcolor\":\"white\",\"lakecolor\":\"white\",\"landcolor\":\"#E5ECF6\",\"showlakes\":true,\"showland\":true,\"subunitcolor\":\"white\"},\"hoverlabel\":{\"align\":\"left\"},\"hovermode\":\"closest\",\"mapbox\":{\"style\":\"light\"},\"paper_bgcolor\":\"white\",\"plot_bgcolor\":\"#E5ECF6\",\"polar\":{\"angularaxis\":{\"gridcolor\":\"white\",\"linecolor\":\"white\",\"ticks\":\"\"},\"bgcolor\":\"#E5ECF6\",\"radialaxis\":{\"gridcolor\":\"white\",\"linecolor\":\"white\",\"ticks\":\"\"}},\"scene\":{\"xaxis\":{\"backgroundcolor\":\"#E5ECF6\",\"gridcolor\":\"white\",\"gridwidth\":2,\"linecolor\":\"white\",\"showbackground\":true,\"ticks\":\"\",\"zerolinecolor\":\"white\"},\"yaxis\":{\"backgroundcolor\":\"#E5ECF6\",\"gridcolor\":\"white\",\"gridwidth\":2,\"linecolor\":\"white\",\"showbackground\":true,\"ticks\":\"\",\"zerolinecolor\":\"white\"},\"zaxis\":{\"backgroundcolor\":\"#E5ECF6\",\"gridcolor\":\"white\",\"gridwidth\":2,\"linecolor\":\"white\",\"showbackground\":true,\"ticks\":\"\",\"zerolinecolor\":\"white\"}},\"shapedefaults\":{\"line\":{\"color\":\"#2a3f5f\"}},\"ternary\":{\"aaxis\":{\"gridcolor\":\"white\",\"linecolor\":\"white\",\"ticks\":\"\"},\"baxis\":{\"gridcolor\":\"white\",\"linecolor\":\"white\",\"ticks\":\"\"},\"bgcolor\":\"#E5ECF6\",\"caxis\":{\"gridcolor\":\"white\",\"linecolor\":\"white\",\"ticks\":\"\"}},\"title\":{\"x\":0.05},\"xaxis\":{\"automargin\":true,\"gridcolor\":\"white\",\"linecolor\":\"white\",\"ticks\":\"\",\"title\":{\"standoff\":15},\"zerolinecolor\":\"white\",\"zerolinewidth\":2},\"yaxis\":{\"automargin\":true,\"gridcolor\":\"white\",\"linecolor\":\"white\",\"ticks\":\"\",\"title\":{\"standoff\":15},\"zerolinecolor\":\"white\",\"zerolinewidth\":2}}},\"xaxis\":{\"anchor\":\"y\",\"domain\":[0.0,1.0],\"title\":{\"text\":\"Year release\"},\"type\":\"log\"},\"yaxis\":{\"anchor\":\"x\",\"domain\":[0.0,1.0],\"title\":{\"text\":\"Revenue (Yen)\"}},\"legend\":{\"title\":{\"text\":\"Genre\"},\"tracegroupgap\":0,\"itemsizing\":\"constant\"},\"margin\":{\"t\":60},\"title\":{\"text\":\"Movies Revenues (Yen) over Year release (Japan), categorized by Genre\"}},                        {\"responsive\": true}                    ).then(function(){\n",
              "                            \n",
              "var gd = document.getElementById('6745ea61-a1f2-4af5-8090-558315023137');\n",
              "var x = new MutationObserver(function (mutations, observer) {{\n",
              "        var display = window.getComputedStyle(gd).display;\n",
              "        if (!display || display === 'none') {{\n",
              "            console.log([gd, 'removed!']);\n",
              "            Plotly.purge(gd);\n",
              "            observer.disconnect();\n",
              "        }}\n",
              "}});\n",
              "\n",
              "// Listen for the removal of the full notebook cells\n",
              "var notebookContainer = gd.closest('#notebook-container');\n",
              "if (notebookContainer) {{\n",
              "    x.observe(notebookContainer, {childList: true});\n",
              "}}\n",
              "\n",
              "// Listen for the clearing of the current output cell\n",
              "var outputEl = gd.closest('.output');\n",
              "if (outputEl) {{\n",
              "    x.observe(outputEl, {childList: true});\n",
              "}}\n",
              "\n",
              "                        })                };                            </script>        </div>\n",
              "</body>\n",
              "</html>"
            ]
          },
          "metadata": {}
        }
      ]
    },
    {
      "cell_type": "markdown",
      "source": [
        "We use df1 - Top 50 Highest Grossing Anime In Japan - to plot a scatter chart for the year release, Japan's revenue, and genres of top 50 animes. Year release is our x-axis. Japan's revenue in Yen is our y-axis and also is indicated by the width of each data point's bubble. Each anime genre is differentiated by colors. "
      ],
      "metadata": {
        "id": "epAFN8GytmeC"
      }
    },
    {
      "cell_type": "markdown",
      "source": [
        "In Japan, the number of anime movies also exceeds the number of live-action movies. Especially, the period from 2015 to 2020 remark a period that the anime movie makes huge profits than the live-action. The best movie, “Demon Slayer the Movie: Mugen Train,” with 40,430,000,000 yen revenue also is made in this period (2020). Comparing these two movie-genre scatterplot, we can take an insight that the audience taste in worldwide and Japanese is kind of similar - however, the movie sold in worldwide makes more profit than in Japan. "
      ],
      "metadata": {
        "id": "rLJuZUiPfLKm"
      }
    },
    {
      "cell_type": "code",
      "source": [
        "# 50 Anime series' franchises by episode count\n",
        "\n",
        "# Scatter plot of Anime series' Runtimes (min) over Year release, with their linear fit trendline\n",
        "fig5 = px.scatter(df, x=\"Year release\", y=\"Runtime (min on TV)\", trendline=\"ols\", log_x=100, size_max=40)\n",
        "fig5.update_layout(title = {'text': 'Runtime (min) of Anime Series over Year release'})\n",
        "fig5.show()"
      ],
      "metadata": {
        "id": "gUyqnrokjhfw",
        "outputId": "d4c4eec9-4e58-421f-c0f5-7f663a5a70ee",
        "colab": {
          "base_uri": "https://localhost:8080/",
          "height": 542
        }
      },
      "execution_count": 47,
      "outputs": [
        {
          "output_type": "display_data",
          "data": {
            "text/html": [
              "<html>\n",
              "<head><meta charset=\"utf-8\" /></head>\n",
              "<body>\n",
              "    <div>            <script src=\"https://cdnjs.cloudflare.com/ajax/libs/mathjax/2.7.5/MathJax.js?config=TeX-AMS-MML_SVG\"></script><script type=\"text/javascript\">if (window.MathJax) {MathJax.Hub.Config({SVG: {font: \"STIX-Web\"}});}</script>                <script type=\"text/javascript\">window.PlotlyConfig = {MathJaxConfig: 'local'};</script>\n",
              "        <script src=\"https://cdn.plot.ly/plotly-2.8.3.min.js\"></script>                <div id=\"85334518-7f0a-4e29-980e-685c1efc4831\" class=\"plotly-graph-div\" style=\"height:525px; width:100%;\"></div>            <script type=\"text/javascript\">                                    window.PLOTLYENV=window.PLOTLYENV || {};                                    if (document.getElementById(\"85334518-7f0a-4e29-980e-685c1efc4831\")) {                    Plotly.newPlot(                        \"85334518-7f0a-4e29-980e-685c1efc4831\",                        [{\"hovertemplate\":\"Year release=%{x}<br>Runtime (min on TV)=%{y}<extra></extra>\",\"legendgroup\":\"\",\"marker\":{\"color\":\"#636efa\",\"symbol\":\"circle\"},\"mode\":\"markers\",\"name\":\"\",\"orientation\":\"v\",\"showlegend\":false,\"x\":[1973,1969,1993,1998,1994,1988,1975,1990,1980,1975,1976,1993,1997,1966,1984,1992,1998,1996,1999,2002,1979,1971,2004,1986,2002,1987,1981,1965,2001,1961,1983,1968,2011,2000,1999,2009,1990,2004,2008,1996,1998,2003,2004,1970,2009,1971,2008,1981,2009,2014,2002,1988,1986,1994,1983,1978,1975,1971,2006,2009,1963,2008,1984,2007,1968,1974,1974,2008,1978,1999,1992,1983,1999,2001,1970,1982,1972,1981,1971,1969,1972,2014,1997,2002,2006,1997,1991,1989],\"xaxis\":\"x\",\"y\":[22.0,22.0,10.0,10.0,5.0,24.0,5.0,24.0,5.0,24.0,5.0,24.0,24.0,5.0,null,24.0,24.0,24.0,24.0,24.0,null,5.0,24.0,24.0,null,24.0,10.0,24.0,12.0,null,12.0,24.0,null,null,24.0,null,null,24.0,null,null,null,24.0,24.0,null,null,24.0,null,24.0,24.0,null,null,null,24.0,null,null,null,null,null,null,null,null,null,null,null,null,null,null,null,null,24.0,24.0,null,24.0,null,null,null,null,null,null,null,null,null,null,null,null,null,null,null],\"yaxis\":\"y\",\"type\":\"scatter\"},{\"hovertemplate\":\"<b>OLS trendline</b><br>Runtime (min on TV) = 0.197487 * Year release + -373.398<br>R<sup>2</sup>=0.107235<br><br>Year release=%{x}<br>Runtime (min on TV)=%{y} <b>(trend)</b><extra></extra>\",\"legendgroup\":\"\",\"marker\":{\"color\":\"#636efa\",\"symbol\":\"circle\"},\"mode\":\"lines\",\"name\":\"\",\"showlegend\":false,\"x\":[1965,1966,1968,1969,1971,1971,1973,1975,1975,1976,1980,1981,1981,1983,1986,1986,1987,1988,1990,1992,1992,1993,1993,1994,1996,1997,1998,1998,1999,1999,1999,1999,2001,2002,2003,2004,2004,2004,2009],\"xaxis\":\"x\",\"y\":[14.663897080822437,14.861383938111828,15.25635765269061,15.453844509980001,15.84881822455884,15.84881822455884,16.243791939137623,16.638765653716405,16.638765653716405,16.836252511005853,17.626199940163417,17.823686797452865,17.823686797452865,18.218660512031647,18.81112108389982,18.81112108389982,19.00860794118927,19.20609479847866,19.60106851305744,19.996042227636224,19.996042227636224,20.19352908492567,20.19352908492567,20.391015942215063,20.785989656793845,20.983476514083236,21.180963371372627,21.180963371372627,21.378450228662075,21.378450228662075,21.378450228662075,21.378450228662075,21.773423943240857,21.97091080053025,22.16839765781964,22.36588451510903,22.36588451510903,22.36588451510903,23.353318801556043],\"yaxis\":\"y\",\"type\":\"scatter\"}],                        {\"template\":{\"data\":{\"bar\":[{\"error_x\":{\"color\":\"#2a3f5f\"},\"error_y\":{\"color\":\"#2a3f5f\"},\"marker\":{\"line\":{\"color\":\"#E5ECF6\",\"width\":0.5},\"pattern\":{\"fillmode\":\"overlay\",\"size\":10,\"solidity\":0.2}},\"type\":\"bar\"}],\"barpolar\":[{\"marker\":{\"line\":{\"color\":\"#E5ECF6\",\"width\":0.5},\"pattern\":{\"fillmode\":\"overlay\",\"size\":10,\"solidity\":0.2}},\"type\":\"barpolar\"}],\"carpet\":[{\"aaxis\":{\"endlinecolor\":\"#2a3f5f\",\"gridcolor\":\"white\",\"linecolor\":\"white\",\"minorgridcolor\":\"white\",\"startlinecolor\":\"#2a3f5f\"},\"baxis\":{\"endlinecolor\":\"#2a3f5f\",\"gridcolor\":\"white\",\"linecolor\":\"white\",\"minorgridcolor\":\"white\",\"startlinecolor\":\"#2a3f5f\"},\"type\":\"carpet\"}],\"choropleth\":[{\"colorbar\":{\"outlinewidth\":0,\"ticks\":\"\"},\"type\":\"choropleth\"}],\"contour\":[{\"colorbar\":{\"outlinewidth\":0,\"ticks\":\"\"},\"colorscale\":[[0.0,\"#0d0887\"],[0.1111111111111111,\"#46039f\"],[0.2222222222222222,\"#7201a8\"],[0.3333333333333333,\"#9c179e\"],[0.4444444444444444,\"#bd3786\"],[0.5555555555555556,\"#d8576b\"],[0.6666666666666666,\"#ed7953\"],[0.7777777777777778,\"#fb9f3a\"],[0.8888888888888888,\"#fdca26\"],[1.0,\"#f0f921\"]],\"type\":\"contour\"}],\"contourcarpet\":[{\"colorbar\":{\"outlinewidth\":0,\"ticks\":\"\"},\"type\":\"contourcarpet\"}],\"heatmap\":[{\"colorbar\":{\"outlinewidth\":0,\"ticks\":\"\"},\"colorscale\":[[0.0,\"#0d0887\"],[0.1111111111111111,\"#46039f\"],[0.2222222222222222,\"#7201a8\"],[0.3333333333333333,\"#9c179e\"],[0.4444444444444444,\"#bd3786\"],[0.5555555555555556,\"#d8576b\"],[0.6666666666666666,\"#ed7953\"],[0.7777777777777778,\"#fb9f3a\"],[0.8888888888888888,\"#fdca26\"],[1.0,\"#f0f921\"]],\"type\":\"heatmap\"}],\"heatmapgl\":[{\"colorbar\":{\"outlinewidth\":0,\"ticks\":\"\"},\"colorscale\":[[0.0,\"#0d0887\"],[0.1111111111111111,\"#46039f\"],[0.2222222222222222,\"#7201a8\"],[0.3333333333333333,\"#9c179e\"],[0.4444444444444444,\"#bd3786\"],[0.5555555555555556,\"#d8576b\"],[0.6666666666666666,\"#ed7953\"],[0.7777777777777778,\"#fb9f3a\"],[0.8888888888888888,\"#fdca26\"],[1.0,\"#f0f921\"]],\"type\":\"heatmapgl\"}],\"histogram\":[{\"marker\":{\"pattern\":{\"fillmode\":\"overlay\",\"size\":10,\"solidity\":0.2}},\"type\":\"histogram\"}],\"histogram2d\":[{\"colorbar\":{\"outlinewidth\":0,\"ticks\":\"\"},\"colorscale\":[[0.0,\"#0d0887\"],[0.1111111111111111,\"#46039f\"],[0.2222222222222222,\"#7201a8\"],[0.3333333333333333,\"#9c179e\"],[0.4444444444444444,\"#bd3786\"],[0.5555555555555556,\"#d8576b\"],[0.6666666666666666,\"#ed7953\"],[0.7777777777777778,\"#fb9f3a\"],[0.8888888888888888,\"#fdca26\"],[1.0,\"#f0f921\"]],\"type\":\"histogram2d\"}],\"histogram2dcontour\":[{\"colorbar\":{\"outlinewidth\":0,\"ticks\":\"\"},\"colorscale\":[[0.0,\"#0d0887\"],[0.1111111111111111,\"#46039f\"],[0.2222222222222222,\"#7201a8\"],[0.3333333333333333,\"#9c179e\"],[0.4444444444444444,\"#bd3786\"],[0.5555555555555556,\"#d8576b\"],[0.6666666666666666,\"#ed7953\"],[0.7777777777777778,\"#fb9f3a\"],[0.8888888888888888,\"#fdca26\"],[1.0,\"#f0f921\"]],\"type\":\"histogram2dcontour\"}],\"mesh3d\":[{\"colorbar\":{\"outlinewidth\":0,\"ticks\":\"\"},\"type\":\"mesh3d\"}],\"parcoords\":[{\"line\":{\"colorbar\":{\"outlinewidth\":0,\"ticks\":\"\"}},\"type\":\"parcoords\"}],\"pie\":[{\"automargin\":true,\"type\":\"pie\"}],\"scatter\":[{\"marker\":{\"colorbar\":{\"outlinewidth\":0,\"ticks\":\"\"}},\"type\":\"scatter\"}],\"scatter3d\":[{\"line\":{\"colorbar\":{\"outlinewidth\":0,\"ticks\":\"\"}},\"marker\":{\"colorbar\":{\"outlinewidth\":0,\"ticks\":\"\"}},\"type\":\"scatter3d\"}],\"scattercarpet\":[{\"marker\":{\"colorbar\":{\"outlinewidth\":0,\"ticks\":\"\"}},\"type\":\"scattercarpet\"}],\"scattergeo\":[{\"marker\":{\"colorbar\":{\"outlinewidth\":0,\"ticks\":\"\"}},\"type\":\"scattergeo\"}],\"scattergl\":[{\"marker\":{\"colorbar\":{\"outlinewidth\":0,\"ticks\":\"\"}},\"type\":\"scattergl\"}],\"scattermapbox\":[{\"marker\":{\"colorbar\":{\"outlinewidth\":0,\"ticks\":\"\"}},\"type\":\"scattermapbox\"}],\"scatterpolar\":[{\"marker\":{\"colorbar\":{\"outlinewidth\":0,\"ticks\":\"\"}},\"type\":\"scatterpolar\"}],\"scatterpolargl\":[{\"marker\":{\"colorbar\":{\"outlinewidth\":0,\"ticks\":\"\"}},\"type\":\"scatterpolargl\"}],\"scatterternary\":[{\"marker\":{\"colorbar\":{\"outlinewidth\":0,\"ticks\":\"\"}},\"type\":\"scatterternary\"}],\"surface\":[{\"colorbar\":{\"outlinewidth\":0,\"ticks\":\"\"},\"colorscale\":[[0.0,\"#0d0887\"],[0.1111111111111111,\"#46039f\"],[0.2222222222222222,\"#7201a8\"],[0.3333333333333333,\"#9c179e\"],[0.4444444444444444,\"#bd3786\"],[0.5555555555555556,\"#d8576b\"],[0.6666666666666666,\"#ed7953\"],[0.7777777777777778,\"#fb9f3a\"],[0.8888888888888888,\"#fdca26\"],[1.0,\"#f0f921\"]],\"type\":\"surface\"}],\"table\":[{\"cells\":{\"fill\":{\"color\":\"#EBF0F8\"},\"line\":{\"color\":\"white\"}},\"header\":{\"fill\":{\"color\":\"#C8D4E3\"},\"line\":{\"color\":\"white\"}},\"type\":\"table\"}]},\"layout\":{\"annotationdefaults\":{\"arrowcolor\":\"#2a3f5f\",\"arrowhead\":0,\"arrowwidth\":1},\"autotypenumbers\":\"strict\",\"coloraxis\":{\"colorbar\":{\"outlinewidth\":0,\"ticks\":\"\"}},\"colorscale\":{\"diverging\":[[0,\"#8e0152\"],[0.1,\"#c51b7d\"],[0.2,\"#de77ae\"],[0.3,\"#f1b6da\"],[0.4,\"#fde0ef\"],[0.5,\"#f7f7f7\"],[0.6,\"#e6f5d0\"],[0.7,\"#b8e186\"],[0.8,\"#7fbc41\"],[0.9,\"#4d9221\"],[1,\"#276419\"]],\"sequential\":[[0.0,\"#0d0887\"],[0.1111111111111111,\"#46039f\"],[0.2222222222222222,\"#7201a8\"],[0.3333333333333333,\"#9c179e\"],[0.4444444444444444,\"#bd3786\"],[0.5555555555555556,\"#d8576b\"],[0.6666666666666666,\"#ed7953\"],[0.7777777777777778,\"#fb9f3a\"],[0.8888888888888888,\"#fdca26\"],[1.0,\"#f0f921\"]],\"sequentialminus\":[[0.0,\"#0d0887\"],[0.1111111111111111,\"#46039f\"],[0.2222222222222222,\"#7201a8\"],[0.3333333333333333,\"#9c179e\"],[0.4444444444444444,\"#bd3786\"],[0.5555555555555556,\"#d8576b\"],[0.6666666666666666,\"#ed7953\"],[0.7777777777777778,\"#fb9f3a\"],[0.8888888888888888,\"#fdca26\"],[1.0,\"#f0f921\"]]},\"colorway\":[\"#636efa\",\"#EF553B\",\"#00cc96\",\"#ab63fa\",\"#FFA15A\",\"#19d3f3\",\"#FF6692\",\"#B6E880\",\"#FF97FF\",\"#FECB52\"],\"font\":{\"color\":\"#2a3f5f\"},\"geo\":{\"bgcolor\":\"white\",\"lakecolor\":\"white\",\"landcolor\":\"#E5ECF6\",\"showlakes\":true,\"showland\":true,\"subunitcolor\":\"white\"},\"hoverlabel\":{\"align\":\"left\"},\"hovermode\":\"closest\",\"mapbox\":{\"style\":\"light\"},\"paper_bgcolor\":\"white\",\"plot_bgcolor\":\"#E5ECF6\",\"polar\":{\"angularaxis\":{\"gridcolor\":\"white\",\"linecolor\":\"white\",\"ticks\":\"\"},\"bgcolor\":\"#E5ECF6\",\"radialaxis\":{\"gridcolor\":\"white\",\"linecolor\":\"white\",\"ticks\":\"\"}},\"scene\":{\"xaxis\":{\"backgroundcolor\":\"#E5ECF6\",\"gridcolor\":\"white\",\"gridwidth\":2,\"linecolor\":\"white\",\"showbackground\":true,\"ticks\":\"\",\"zerolinecolor\":\"white\"},\"yaxis\":{\"backgroundcolor\":\"#E5ECF6\",\"gridcolor\":\"white\",\"gridwidth\":2,\"linecolor\":\"white\",\"showbackground\":true,\"ticks\":\"\",\"zerolinecolor\":\"white\"},\"zaxis\":{\"backgroundcolor\":\"#E5ECF6\",\"gridcolor\":\"white\",\"gridwidth\":2,\"linecolor\":\"white\",\"showbackground\":true,\"ticks\":\"\",\"zerolinecolor\":\"white\"}},\"shapedefaults\":{\"line\":{\"color\":\"#2a3f5f\"}},\"ternary\":{\"aaxis\":{\"gridcolor\":\"white\",\"linecolor\":\"white\",\"ticks\":\"\"},\"baxis\":{\"gridcolor\":\"white\",\"linecolor\":\"white\",\"ticks\":\"\"},\"bgcolor\":\"#E5ECF6\",\"caxis\":{\"gridcolor\":\"white\",\"linecolor\":\"white\",\"ticks\":\"\"}},\"title\":{\"x\":0.05},\"xaxis\":{\"automargin\":true,\"gridcolor\":\"white\",\"linecolor\":\"white\",\"ticks\":\"\",\"title\":{\"standoff\":15},\"zerolinecolor\":\"white\",\"zerolinewidth\":2},\"yaxis\":{\"automargin\":true,\"gridcolor\":\"white\",\"linecolor\":\"white\",\"ticks\":\"\",\"title\":{\"standoff\":15},\"zerolinecolor\":\"white\",\"zerolinewidth\":2}}},\"xaxis\":{\"anchor\":\"y\",\"domain\":[0.0,1.0],\"title\":{\"text\":\"Year release\"},\"type\":\"log\"},\"yaxis\":{\"anchor\":\"x\",\"domain\":[0.0,1.0],\"title\":{\"text\":\"Runtime (min on TV)\"}},\"legend\":{\"tracegroupgap\":0},\"margin\":{\"t\":60},\"title\":{\"text\":\"Runtime (min) of Anime Series over Year release\"}},                        {\"responsive\": true}                    ).then(function(){\n",
              "                            \n",
              "var gd = document.getElementById('85334518-7f0a-4e29-980e-685c1efc4831');\n",
              "var x = new MutationObserver(function (mutations, observer) {{\n",
              "        var display = window.getComputedStyle(gd).display;\n",
              "        if (!display || display === 'none') {{\n",
              "            console.log([gd, 'removed!']);\n",
              "            Plotly.purge(gd);\n",
              "            observer.disconnect();\n",
              "        }}\n",
              "}});\n",
              "\n",
              "// Listen for the removal of the full notebook cells\n",
              "var notebookContainer = gd.closest('#notebook-container');\n",
              "if (notebookContainer) {{\n",
              "    x.observe(notebookContainer, {childList: true});\n",
              "}}\n",
              "\n",
              "// Listen for the clearing of the current output cell\n",
              "var outputEl = gd.closest('.output');\n",
              "if (outputEl) {{\n",
              "    x.observe(outputEl, {childList: true});\n",
              "}}\n",
              "\n",
              "                        })                };                            </script>        </div>\n",
              "</body>\n",
              "</html>"
            ]
          },
          "metadata": {}
        }
      ]
    },
    {
      "cell_type": "markdown",
      "source": [
        "We used df - 50 Anime series' franchises by episode count - to plot a scatter chart for the year release and runtime in min of a sample of 50 anime series as well as their fit line. Year release is set as x-axis. Runtime is set as y-axis. The fit line is linear fit line that also shows R^2 that indicates how well the model fits the observed data. "
      ],
      "metadata": {
        "id": "Dy6mmP3Tt9Vo"
      }
    },
    {
      "cell_type": "markdown",
      "source": [
        "The scatter plot shows a positive relationship between the runtime (min) of anime series over their year release, as indicated by the upward linear trendline. The runtime for each episode of the anime series gets longer over years of release. However, the R^2 is low -10.7%, indicating that the regression model doesn't fit the observed data well.\n",
        "\n",
        "There are a lot of outliers to this fit line. A lot of anime that started long ago have the same amount of runtime as the newer animes\n",
        "\n"
      ],
      "metadata": {
        "id": "wu1JNM1gVeTM"
      }
    },
    {
      "cell_type": "code",
      "source": [
        "# Scatter plot of Anime series' Runtimes (min) over End Broadcasting Year, with their linear fit trendline\n",
        "fig6 = px.scatter(df, x=\"End Broadcasting Year\", y=\"Runtime (min on TV)\", trendline=\"ols\", color_discrete_sequence=['crimson'], log_x=100, size_max=40)\n",
        "fig6.update_layout(title = {'text': \"Runtime (min) of Anime Series over End Broadcasting Year\"})\n",
        "fig6.show()"
      ],
      "metadata": {
        "id": "-S0vyea9Veny",
        "outputId": "dfd83494-eeed-4372-b2a1-36e941710d40",
        "colab": {
          "base_uri": "https://localhost:8080/",
          "height": 542
        }
      },
      "execution_count": 48,
      "outputs": [
        {
          "output_type": "display_data",
          "data": {
            "text/html": [
              "<html>\n",
              "<head><meta charset=\"utf-8\" /></head>\n",
              "<body>\n",
              "    <div>            <script src=\"https://cdnjs.cloudflare.com/ajax/libs/mathjax/2.7.5/MathJax.js?config=TeX-AMS-MML_SVG\"></script><script type=\"text/javascript\">if (window.MathJax) {MathJax.Hub.Config({SVG: {font: \"STIX-Web\"}});}</script>                <script type=\"text/javascript\">window.PlotlyConfig = {MathJaxConfig: 'local'};</script>\n",
              "        <script src=\"https://cdn.plot.ly/plotly-2.8.3.min.js\"></script>                <div id=\"e53c1871-82c2-4b4d-9e5a-9acf8140f655\" class=\"plotly-graph-div\" style=\"height:525px; width:100%;\"></div>            <script type=\"text/javascript\">                                    window.PLOTLYENV=window.PLOTLYENV || {};                                    if (document.getElementById(\"e53c1871-82c2-4b4d-9e5a-9acf8140f655\")) {                    Plotly.newPlot(                        \"e53c1871-82c2-4b4d-9e5a-9acf8140f655\",                        [{\"hovertemplate\":\"End Broadcasting Year=%{x}<br>Runtime (min on TV)=%{y}<extra></extra>\",\"legendgroup\":\"\",\"marker\":{\"color\":\"crimson\",\"symbol\":\"circle\"},\"mode\":\"markers\",\"name\":\"\",\"orientation\":\"v\",\"showlegend\":false,\"x\":[2022,2022,2022,2022,2013,2022,1979,2022,1984,1995,1982,2022,2022,1970,2022,2022,2022,2022,2022,2022,2022,1974,2022,2022,2022,1994,2015,1987,2022,1964,2004,2022,2022,2013,2022,2022,2005,2012,2022,2004,2013,2018,2012,1971,2010,2022,2019,2007,2019,2022,2009,1996,2022,2008,2006,1984,1982,1972,2009,2022,2004,2018,1987,2013,1979,1975,1975,2013,2003,2020,2022,2002,2014,2015,1970,2016,2015,2022,2018,1992,2017,2022,2002,2006,2010,2016,1993,1991],\"xaxis\":\"x\",\"y\":[22.0,22.0,10.0,10.0,5.0,24.0,5.0,24.0,5.0,24.0,5.0,24.0,24.0,5.0,null,24.0,24.0,24.0,24.0,24.0,null,5.0,24.0,24.0,null,24.0,10.0,24.0,12.0,null,12.0,24.0,null,null,24.0,null,null,24.0,null,null,null,24.0,24.0,null,null,24.0,null,24.0,24.0,null,null,null,24.0,null,null,null,null,null,null,null,null,null,null,null,null,null,null,null,null,24.0,24.0,null,24.0,null,null,null,null,null,null,null,null,null,null,null,null,null,null,null],\"yaxis\":\"y\",\"type\":\"scatter\"},{\"hovertemplate\":\"<b>OLS trendline</b><br>Runtime (min on TV) = 0.293736 * End Broadcasting Year + -571.661<br>R<sup>2</sup>=0.378424<br><br>End Broadcasting Year=%{x}<br>Runtime (min on TV)=%{y} <b>(trend)</b><extra></extra>\",\"legendgroup\":\"\",\"marker\":{\"color\":\"crimson\",\"symbol\":\"circle\"},\"mode\":\"lines\",\"name\":\"\",\"showlegend\":false,\"x\":[1970,1974,1979,1982,1984,1987,1994,1995,2004,2007,2012,2012,2013,2014,2015,2018,2019,2020,2022,2022,2022,2022,2022,2022,2022,2022,2022,2022,2022,2022,2022,2022,2022,2022,2022,2022,2022,2022,2022],\"xaxis\":\"x\",\"y\":[6.997877927227478,8.17282032045398,9.641498311987107,10.522705106907097,11.110176303520348,11.991383098440224,14.047532286586602,14.341267884893341,16.98488826965297,17.866095064572846,19.334773056106087,19.334773056106087,19.628508654412713,19.922244252719338,20.215979851025963,21.09718664594584,21.390922244252465,21.68465784255909,22.27212903917234,22.27212903917234,22.27212903917234,22.27212903917234,22.27212903917234,22.27212903917234,22.27212903917234,22.27212903917234,22.27212903917234,22.27212903917234,22.27212903917234,22.27212903917234,22.27212903917234,22.27212903917234,22.27212903917234,22.27212903917234,22.27212903917234,22.27212903917234,22.27212903917234,22.27212903917234,22.27212903917234],\"yaxis\":\"y\",\"type\":\"scatter\"}],                        {\"template\":{\"data\":{\"bar\":[{\"error_x\":{\"color\":\"#2a3f5f\"},\"error_y\":{\"color\":\"#2a3f5f\"},\"marker\":{\"line\":{\"color\":\"#E5ECF6\",\"width\":0.5},\"pattern\":{\"fillmode\":\"overlay\",\"size\":10,\"solidity\":0.2}},\"type\":\"bar\"}],\"barpolar\":[{\"marker\":{\"line\":{\"color\":\"#E5ECF6\",\"width\":0.5},\"pattern\":{\"fillmode\":\"overlay\",\"size\":10,\"solidity\":0.2}},\"type\":\"barpolar\"}],\"carpet\":[{\"aaxis\":{\"endlinecolor\":\"#2a3f5f\",\"gridcolor\":\"white\",\"linecolor\":\"white\",\"minorgridcolor\":\"white\",\"startlinecolor\":\"#2a3f5f\"},\"baxis\":{\"endlinecolor\":\"#2a3f5f\",\"gridcolor\":\"white\",\"linecolor\":\"white\",\"minorgridcolor\":\"white\",\"startlinecolor\":\"#2a3f5f\"},\"type\":\"carpet\"}],\"choropleth\":[{\"colorbar\":{\"outlinewidth\":0,\"ticks\":\"\"},\"type\":\"choropleth\"}],\"contour\":[{\"colorbar\":{\"outlinewidth\":0,\"ticks\":\"\"},\"colorscale\":[[0.0,\"#0d0887\"],[0.1111111111111111,\"#46039f\"],[0.2222222222222222,\"#7201a8\"],[0.3333333333333333,\"#9c179e\"],[0.4444444444444444,\"#bd3786\"],[0.5555555555555556,\"#d8576b\"],[0.6666666666666666,\"#ed7953\"],[0.7777777777777778,\"#fb9f3a\"],[0.8888888888888888,\"#fdca26\"],[1.0,\"#f0f921\"]],\"type\":\"contour\"}],\"contourcarpet\":[{\"colorbar\":{\"outlinewidth\":0,\"ticks\":\"\"},\"type\":\"contourcarpet\"}],\"heatmap\":[{\"colorbar\":{\"outlinewidth\":0,\"ticks\":\"\"},\"colorscale\":[[0.0,\"#0d0887\"],[0.1111111111111111,\"#46039f\"],[0.2222222222222222,\"#7201a8\"],[0.3333333333333333,\"#9c179e\"],[0.4444444444444444,\"#bd3786\"],[0.5555555555555556,\"#d8576b\"],[0.6666666666666666,\"#ed7953\"],[0.7777777777777778,\"#fb9f3a\"],[0.8888888888888888,\"#fdca26\"],[1.0,\"#f0f921\"]],\"type\":\"heatmap\"}],\"heatmapgl\":[{\"colorbar\":{\"outlinewidth\":0,\"ticks\":\"\"},\"colorscale\":[[0.0,\"#0d0887\"],[0.1111111111111111,\"#46039f\"],[0.2222222222222222,\"#7201a8\"],[0.3333333333333333,\"#9c179e\"],[0.4444444444444444,\"#bd3786\"],[0.5555555555555556,\"#d8576b\"],[0.6666666666666666,\"#ed7953\"],[0.7777777777777778,\"#fb9f3a\"],[0.8888888888888888,\"#fdca26\"],[1.0,\"#f0f921\"]],\"type\":\"heatmapgl\"}],\"histogram\":[{\"marker\":{\"pattern\":{\"fillmode\":\"overlay\",\"size\":10,\"solidity\":0.2}},\"type\":\"histogram\"}],\"histogram2d\":[{\"colorbar\":{\"outlinewidth\":0,\"ticks\":\"\"},\"colorscale\":[[0.0,\"#0d0887\"],[0.1111111111111111,\"#46039f\"],[0.2222222222222222,\"#7201a8\"],[0.3333333333333333,\"#9c179e\"],[0.4444444444444444,\"#bd3786\"],[0.5555555555555556,\"#d8576b\"],[0.6666666666666666,\"#ed7953\"],[0.7777777777777778,\"#fb9f3a\"],[0.8888888888888888,\"#fdca26\"],[1.0,\"#f0f921\"]],\"type\":\"histogram2d\"}],\"histogram2dcontour\":[{\"colorbar\":{\"outlinewidth\":0,\"ticks\":\"\"},\"colorscale\":[[0.0,\"#0d0887\"],[0.1111111111111111,\"#46039f\"],[0.2222222222222222,\"#7201a8\"],[0.3333333333333333,\"#9c179e\"],[0.4444444444444444,\"#bd3786\"],[0.5555555555555556,\"#d8576b\"],[0.6666666666666666,\"#ed7953\"],[0.7777777777777778,\"#fb9f3a\"],[0.8888888888888888,\"#fdca26\"],[1.0,\"#f0f921\"]],\"type\":\"histogram2dcontour\"}],\"mesh3d\":[{\"colorbar\":{\"outlinewidth\":0,\"ticks\":\"\"},\"type\":\"mesh3d\"}],\"parcoords\":[{\"line\":{\"colorbar\":{\"outlinewidth\":0,\"ticks\":\"\"}},\"type\":\"parcoords\"}],\"pie\":[{\"automargin\":true,\"type\":\"pie\"}],\"scatter\":[{\"marker\":{\"colorbar\":{\"outlinewidth\":0,\"ticks\":\"\"}},\"type\":\"scatter\"}],\"scatter3d\":[{\"line\":{\"colorbar\":{\"outlinewidth\":0,\"ticks\":\"\"}},\"marker\":{\"colorbar\":{\"outlinewidth\":0,\"ticks\":\"\"}},\"type\":\"scatter3d\"}],\"scattercarpet\":[{\"marker\":{\"colorbar\":{\"outlinewidth\":0,\"ticks\":\"\"}},\"type\":\"scattercarpet\"}],\"scattergeo\":[{\"marker\":{\"colorbar\":{\"outlinewidth\":0,\"ticks\":\"\"}},\"type\":\"scattergeo\"}],\"scattergl\":[{\"marker\":{\"colorbar\":{\"outlinewidth\":0,\"ticks\":\"\"}},\"type\":\"scattergl\"}],\"scattermapbox\":[{\"marker\":{\"colorbar\":{\"outlinewidth\":0,\"ticks\":\"\"}},\"type\":\"scattermapbox\"}],\"scatterpolar\":[{\"marker\":{\"colorbar\":{\"outlinewidth\":0,\"ticks\":\"\"}},\"type\":\"scatterpolar\"}],\"scatterpolargl\":[{\"marker\":{\"colorbar\":{\"outlinewidth\":0,\"ticks\":\"\"}},\"type\":\"scatterpolargl\"}],\"scatterternary\":[{\"marker\":{\"colorbar\":{\"outlinewidth\":0,\"ticks\":\"\"}},\"type\":\"scatterternary\"}],\"surface\":[{\"colorbar\":{\"outlinewidth\":0,\"ticks\":\"\"},\"colorscale\":[[0.0,\"#0d0887\"],[0.1111111111111111,\"#46039f\"],[0.2222222222222222,\"#7201a8\"],[0.3333333333333333,\"#9c179e\"],[0.4444444444444444,\"#bd3786\"],[0.5555555555555556,\"#d8576b\"],[0.6666666666666666,\"#ed7953\"],[0.7777777777777778,\"#fb9f3a\"],[0.8888888888888888,\"#fdca26\"],[1.0,\"#f0f921\"]],\"type\":\"surface\"}],\"table\":[{\"cells\":{\"fill\":{\"color\":\"#EBF0F8\"},\"line\":{\"color\":\"white\"}},\"header\":{\"fill\":{\"color\":\"#C8D4E3\"},\"line\":{\"color\":\"white\"}},\"type\":\"table\"}]},\"layout\":{\"annotationdefaults\":{\"arrowcolor\":\"#2a3f5f\",\"arrowhead\":0,\"arrowwidth\":1},\"autotypenumbers\":\"strict\",\"coloraxis\":{\"colorbar\":{\"outlinewidth\":0,\"ticks\":\"\"}},\"colorscale\":{\"diverging\":[[0,\"#8e0152\"],[0.1,\"#c51b7d\"],[0.2,\"#de77ae\"],[0.3,\"#f1b6da\"],[0.4,\"#fde0ef\"],[0.5,\"#f7f7f7\"],[0.6,\"#e6f5d0\"],[0.7,\"#b8e186\"],[0.8,\"#7fbc41\"],[0.9,\"#4d9221\"],[1,\"#276419\"]],\"sequential\":[[0.0,\"#0d0887\"],[0.1111111111111111,\"#46039f\"],[0.2222222222222222,\"#7201a8\"],[0.3333333333333333,\"#9c179e\"],[0.4444444444444444,\"#bd3786\"],[0.5555555555555556,\"#d8576b\"],[0.6666666666666666,\"#ed7953\"],[0.7777777777777778,\"#fb9f3a\"],[0.8888888888888888,\"#fdca26\"],[1.0,\"#f0f921\"]],\"sequentialminus\":[[0.0,\"#0d0887\"],[0.1111111111111111,\"#46039f\"],[0.2222222222222222,\"#7201a8\"],[0.3333333333333333,\"#9c179e\"],[0.4444444444444444,\"#bd3786\"],[0.5555555555555556,\"#d8576b\"],[0.6666666666666666,\"#ed7953\"],[0.7777777777777778,\"#fb9f3a\"],[0.8888888888888888,\"#fdca26\"],[1.0,\"#f0f921\"]]},\"colorway\":[\"#636efa\",\"#EF553B\",\"#00cc96\",\"#ab63fa\",\"#FFA15A\",\"#19d3f3\",\"#FF6692\",\"#B6E880\",\"#FF97FF\",\"#FECB52\"],\"font\":{\"color\":\"#2a3f5f\"},\"geo\":{\"bgcolor\":\"white\",\"lakecolor\":\"white\",\"landcolor\":\"#E5ECF6\",\"showlakes\":true,\"showland\":true,\"subunitcolor\":\"white\"},\"hoverlabel\":{\"align\":\"left\"},\"hovermode\":\"closest\",\"mapbox\":{\"style\":\"light\"},\"paper_bgcolor\":\"white\",\"plot_bgcolor\":\"#E5ECF6\",\"polar\":{\"angularaxis\":{\"gridcolor\":\"white\",\"linecolor\":\"white\",\"ticks\":\"\"},\"bgcolor\":\"#E5ECF6\",\"radialaxis\":{\"gridcolor\":\"white\",\"linecolor\":\"white\",\"ticks\":\"\"}},\"scene\":{\"xaxis\":{\"backgroundcolor\":\"#E5ECF6\",\"gridcolor\":\"white\",\"gridwidth\":2,\"linecolor\":\"white\",\"showbackground\":true,\"ticks\":\"\",\"zerolinecolor\":\"white\"},\"yaxis\":{\"backgroundcolor\":\"#E5ECF6\",\"gridcolor\":\"white\",\"gridwidth\":2,\"linecolor\":\"white\",\"showbackground\":true,\"ticks\":\"\",\"zerolinecolor\":\"white\"},\"zaxis\":{\"backgroundcolor\":\"#E5ECF6\",\"gridcolor\":\"white\",\"gridwidth\":2,\"linecolor\":\"white\",\"showbackground\":true,\"ticks\":\"\",\"zerolinecolor\":\"white\"}},\"shapedefaults\":{\"line\":{\"color\":\"#2a3f5f\"}},\"ternary\":{\"aaxis\":{\"gridcolor\":\"white\",\"linecolor\":\"white\",\"ticks\":\"\"},\"baxis\":{\"gridcolor\":\"white\",\"linecolor\":\"white\",\"ticks\":\"\"},\"bgcolor\":\"#E5ECF6\",\"caxis\":{\"gridcolor\":\"white\",\"linecolor\":\"white\",\"ticks\":\"\"}},\"title\":{\"x\":0.05},\"xaxis\":{\"automargin\":true,\"gridcolor\":\"white\",\"linecolor\":\"white\",\"ticks\":\"\",\"title\":{\"standoff\":15},\"zerolinecolor\":\"white\",\"zerolinewidth\":2},\"yaxis\":{\"automargin\":true,\"gridcolor\":\"white\",\"linecolor\":\"white\",\"ticks\":\"\",\"title\":{\"standoff\":15},\"zerolinecolor\":\"white\",\"zerolinewidth\":2}}},\"xaxis\":{\"anchor\":\"y\",\"domain\":[0.0,1.0],\"title\":{\"text\":\"End Broadcasting Year\"},\"type\":\"log\"},\"yaxis\":{\"anchor\":\"x\",\"domain\":[0.0,1.0],\"title\":{\"text\":\"Runtime (min on TV)\"}},\"legend\":{\"tracegroupgap\":0},\"margin\":{\"t\":60},\"title\":{\"text\":\"Runtime (min) of Anime Series over End Broadcasting Year\"}},                        {\"responsive\": true}                    ).then(function(){\n",
              "                            \n",
              "var gd = document.getElementById('e53c1871-82c2-4b4d-9e5a-9acf8140f655');\n",
              "var x = new MutationObserver(function (mutations, observer) {{\n",
              "        var display = window.getComputedStyle(gd).display;\n",
              "        if (!display || display === 'none') {{\n",
              "            console.log([gd, 'removed!']);\n",
              "            Plotly.purge(gd);\n",
              "            observer.disconnect();\n",
              "        }}\n",
              "}});\n",
              "\n",
              "// Listen for the removal of the full notebook cells\n",
              "var notebookContainer = gd.closest('#notebook-container');\n",
              "if (notebookContainer) {{\n",
              "    x.observe(notebookContainer, {childList: true});\n",
              "}}\n",
              "\n",
              "// Listen for the clearing of the current output cell\n",
              "var outputEl = gd.closest('.output');\n",
              "if (outputEl) {{\n",
              "    x.observe(outputEl, {childList: true});\n",
              "}}\n",
              "\n",
              "                        })                };                            </script>        </div>\n",
              "</body>\n",
              "</html>"
            ]
          },
          "metadata": {}
        }
      ]
    },
    {
      "cell_type": "markdown",
      "source": [
        "We used df - 50 Anime series by franchise series total episode count - to plot a scatter chart for the ending year and runtime in min of a sample of 50 anime series as well as their fit line. Ending year is set as x-axis. Runtime is set as y-axis. The fit line is linear fit line that also shows R^2 that indicates how well the model fits the observed data. "
      ],
      "metadata": {
        "id": "FU-6pzBjuszY"
      }
    },
    {
      "cell_type": "markdown",
      "source": [
        "The scatter plot shows a positive relationship between the runtime (min) of anime series and their ending year, as indicated by the upward linear trendline. The runtime for each episode of the anime series gets longer over the end broadcasting years. However, the R^2 is moderately low - 37.8%, indicating that the regression model doesn't fit the observed data well.\n",
        "\n",
        "There are fewer outliers compared to the relationship of runtime with the year of release. The r^2 is also higher. This implies that runtime might be more strongly associated with the ending year\n"
      ],
      "metadata": {
        "id": "_eFvqxMTW17x"
      }
    },
    {
      "cell_type": "code",
      "source": [
        "# Scatter plot of Anime series' Total counts of eps over Runtimes (min), with the counts of Others(filler eps)\n",
        "fig7 = px.scatter(df_v1, x=\"Runtime (min on TV)\", y=\"Total count\", size='Others', color='Series name', log_x=100, size_max=40)\n",
        "fig7.update_layout(title = {'text': 'Episode count of Anime Series over Runtime (min)'})\n",
        "fig7.show()"
      ],
      "metadata": {
        "id": "71HMxpJTXKum",
        "outputId": "040cf508-a180-48b1-88c7-0a8cf86adfbd",
        "colab": {
          "base_uri": "https://localhost:8080/",
          "height": 542
        }
      },
      "execution_count": 49,
      "outputs": [
        {
          "output_type": "display_data",
          "data": {
            "text/html": [
              "<html>\n",
              "<head><meta charset=\"utf-8\" /></head>\n",
              "<body>\n",
              "    <div>            <script src=\"https://cdnjs.cloudflare.com/ajax/libs/mathjax/2.7.5/MathJax.js?config=TeX-AMS-MML_SVG\"></script><script type=\"text/javascript\">if (window.MathJax) {MathJax.Hub.Config({SVG: {font: \"STIX-Web\"}});}</script>                <script type=\"text/javascript\">window.PlotlyConfig = {MathJaxConfig: 'local'};</script>\n",
              "        <script src=\"https://cdn.plot.ly/plotly-2.8.3.min.js\"></script>                <div id=\"7da4eec3-15f1-4b21-84cf-bb5f61de5fa0\" class=\"plotly-graph-div\" style=\"height:525px; width:100%;\"></div>            <script type=\"text/javascript\">                                    window.PLOTLYENV=window.PLOTLYENV || {};                                    if (document.getElementById(\"7da4eec3-15f1-4b21-84cf-bb5f61de5fa0\")) {                    Plotly.newPlot(                        \"7da4eec3-15f1-4b21-84cf-bb5f61de5fa0\",                        [{\"hovertemplate\":\"Series name=Doraemon<br>Runtime (min on TV)=%{x}<br>Total count=%{y}<br>Others=%{marker.size}<extra></extra>\",\"legendgroup\":\"Doraemon\",\"marker\":{\"color\":\"#636efa\",\"size\":[67],\"sizemode\":\"area\",\"sizeref\":0.2175,\"symbol\":\"circle\"},\"mode\":\"markers\",\"name\":\"Doraemon\",\"orientation\":\"v\",\"showlegend\":true,\"x\":[22.0],\"xaxis\":\"x\",\"y\":[3070],\"yaxis\":\"y\",\"type\":\"scatter\"},{\"hovertemplate\":\"Series name=Sazae-san<br>Runtime (min on TV)=%{x}<br>Total count=%{y}<br>Others=%{marker.size}<extra></extra>\",\"legendgroup\":\"Sazae-san\",\"marker\":{\"color\":\"#EF553B\",\"size\":[0],\"sizemode\":\"area\",\"sizeref\":0.2175,\"symbol\":\"circle\"},\"mode\":\"markers\",\"name\":\"Sazae-san\",\"orientation\":\"v\",\"showlegend\":true,\"x\":[22.0],\"xaxis\":\"x\",\"y\":[2640],\"yaxis\":\"y\",\"type\":\"scatter\"},{\"hovertemplate\":\"Series name=Nintama Rantar\\u014d<br>Runtime (min on TV)=%{x}<br>Total count=%{y}<br>Others=%{marker.size}<extra></extra>\",\"legendgroup\":\"Nintama Rantar\\u014d\",\"marker\":{\"color\":\"#00cc96\",\"size\":[3],\"sizemode\":\"area\",\"sizeref\":0.2175,\"symbol\":\"circle\"},\"mode\":\"markers\",\"name\":\"Nintama Rantar\\u014d\",\"orientation\":\"v\",\"showlegend\":true,\"x\":[10.0],\"xaxis\":\"x\",\"y\":[2202],\"yaxis\":\"y\",\"type\":\"scatter\"},{\"hovertemplate\":\"Series name=Ojarumaru<br>Runtime (min on TV)=%{x}<br>Total count=%{y}<br>Others=%{marker.size}<extra></extra>\",\"legendgroup\":\"Ojarumaru\",\"marker\":{\"color\":\"#ab63fa\",\"size\":[4],\"sizemode\":\"area\",\"sizeref\":0.2175,\"symbol\":\"circle\"},\"mode\":\"markers\",\"name\":\"Ojarumaru\",\"orientation\":\"v\",\"showlegend\":true,\"x\":[10.0],\"xaxis\":\"x\",\"y\":[1831],\"yaxis\":\"y\",\"type\":\"scatter\"},{\"hovertemplate\":\"Series name=Oyako Club<br>Runtime (min on TV)=%{x}<br>Total count=%{y}<br>Others=%{marker.size}<extra></extra>\",\"legendgroup\":\"Oyako Club\",\"marker\":{\"color\":\"#FFA15A\",\"size\":[0],\"sizemode\":\"area\",\"sizeref\":0.2175,\"symbol\":\"circle\"},\"mode\":\"markers\",\"name\":\"Oyako Club\",\"orientation\":\"v\",\"showlegend\":true,\"x\":[5.0],\"xaxis\":\"x\",\"y\":[1818],\"yaxis\":\"y\",\"type\":\"scatter\"},{\"hovertemplate\":\"Series name=Soreike! Anpanman<br>Runtime (min on TV)=%{x}<br>Total count=%{y}<br>Others=%{marker.size}<extra></extra>\",\"legendgroup\":\"Soreike! Anpanman\",\"marker\":{\"color\":\"#19d3f3\",\"size\":[113],\"sizemode\":\"area\",\"sizeref\":0.2175,\"symbol\":\"circle\"},\"mode\":\"markers\",\"name\":\"Soreike! Anpanman\",\"orientation\":\"v\",\"showlegend\":true,\"x\":[24.0],\"xaxis\":\"x\",\"y\":[1700],\"yaxis\":\"y\",\"type\":\"scatter\"},{\"hovertemplate\":\"Series name=Kirin Monoshiri Yakata<br>Runtime (min on TV)=%{x}<br>Total count=%{y}<br>Others=%{marker.size}<extra></extra>\",\"legendgroup\":\"Kirin Monoshiri Yakata\",\"marker\":{\"color\":\"#FF6692\",\"size\":[0],\"sizemode\":\"area\",\"sizeref\":0.2175,\"symbol\":\"circle\"},\"mode\":\"markers\",\"name\":\"Kirin Monoshiri Yakata\",\"orientation\":\"v\",\"showlegend\":true,\"x\":[5.0],\"xaxis\":\"x\",\"y\":[1565],\"yaxis\":\"y\",\"type\":\"scatter\"},{\"hovertemplate\":\"Series name=Chibi Maruko-chan<br>Runtime (min on TV)=%{x}<br>Total count=%{y}<br>Others=%{marker.size}<extra></extra>\",\"legendgroup\":\"Chibi Maruko-chan\",\"marker\":{\"color\":\"#B6E880\",\"size\":[64],\"sizemode\":\"area\",\"sizeref\":0.2175,\"symbol\":\"circle\"},\"mode\":\"markers\",\"name\":\"Chibi Maruko-chan\",\"orientation\":\"v\",\"showlegend\":true,\"x\":[24.0],\"xaxis\":\"x\",\"y\":[1557],\"yaxis\":\"y\",\"type\":\"scatter\"},{\"hovertemplate\":\"Series name=Kirin Ashita no Calendar<br>Runtime (min on TV)=%{x}<br>Total count=%{y}<br>Others=%{marker.size}<extra></extra>\",\"legendgroup\":\"Kirin Ashita no Calendar\",\"marker\":{\"color\":\"#FF97FF\",\"size\":[0],\"sizemode\":\"area\",\"sizeref\":0.2175,\"symbol\":\"circle\"},\"mode\":\"markers\",\"name\":\"Kirin Ashita no Calendar\",\"orientation\":\"v\",\"showlegend\":true,\"x\":[5.0],\"xaxis\":\"x\",\"y\":[1498],\"yaxis\":\"y\",\"type\":\"scatter\"},{\"hovertemplate\":\"Series name=Manga Nippon Mukashi Banashi<br>Runtime (min on TV)=%{x}<br>Total count=%{y}<br>Others=%{marker.size}<extra></extra>\",\"legendgroup\":\"Manga Nippon Mukashi Banashi\",\"marker\":{\"color\":\"#FECB52\",\"size\":[0],\"sizemode\":\"area\",\"sizeref\":0.2175,\"symbol\":\"circle\"},\"mode\":\"markers\",\"name\":\"Manga Nippon Mukashi Banashi\",\"orientation\":\"v\",\"showlegend\":true,\"x\":[24.0],\"xaxis\":\"x\",\"y\":[1494],\"yaxis\":\"y\",\"type\":\"scatter\"},{\"hovertemplate\":\"Series name=Hoka Hoka Kazoku<br>Runtime (min on TV)=%{x}<br>Total count=%{y}<br>Others=%{marker.size}<extra></extra>\",\"legendgroup\":\"Hoka Hoka Kazoku\",\"marker\":{\"color\":\"#636efa\",\"size\":[0],\"sizemode\":\"area\",\"sizeref\":0.2175,\"symbol\":\"circle\"},\"mode\":\"markers\",\"name\":\"Hoka Hoka Kazoku\",\"orientation\":\"v\",\"showlegend\":true,\"x\":[5.0],\"xaxis\":\"x\",\"y\":[1428],\"yaxis\":\"y\",\"type\":\"scatter\"},{\"hovertemplate\":\"Series name=Shimajir\\u014d<br>Runtime (min on TV)=%{x}<br>Total count=%{y}<br>Others=%{marker.size}<extra></extra>\",\"legendgroup\":\"Shimajir\\u014d\",\"marker\":{\"color\":\"#EF553B\",\"size\":[8],\"sizemode\":\"area\",\"sizeref\":0.2175,\"symbol\":\"circle\"},\"mode\":\"markers\",\"name\":\"Shimajir\\u014d\",\"orientation\":\"v\",\"showlegend\":true,\"x\":[24.0],\"xaxis\":\"x\",\"y\":[1411],\"yaxis\":\"y\",\"type\":\"scatter\"},{\"hovertemplate\":\"Series name=Pok\\u00e9mon<br>Runtime (min on TV)=%{x}<br>Total count=%{y}<br>Others=%{marker.size}<extra></extra>\",\"legendgroup\":\"Pok\\u00e9mon\",\"marker\":{\"color\":\"#00cc96\",\"size\":[144],\"sizemode\":\"area\",\"sizeref\":0.2175,\"symbol\":\"circle\"},\"mode\":\"markers\",\"name\":\"Pok\\u00e9mon\",\"orientation\":\"v\",\"showlegend\":true,\"x\":[24.0],\"xaxis\":\"x\",\"y\":[1366],\"yaxis\":\"y\",\"type\":\"scatter\"},{\"hovertemplate\":\"Series name=Monoshiri Daigaku Ashita no Calendar<br>Runtime (min on TV)=%{x}<br>Total count=%{y}<br>Others=%{marker.size}<extra></extra>\",\"legendgroup\":\"Monoshiri Daigaku Ashita no Calendar\",\"marker\":{\"color\":\"#ab63fa\",\"size\":[0],\"sizemode\":\"area\",\"sizeref\":0.2175,\"symbol\":\"circle\"},\"mode\":\"markers\",\"name\":\"Monoshiri Daigaku Ashita no Calendar\",\"orientation\":\"v\",\"showlegend\":true,\"x\":[5.0],\"xaxis\":\"x\",\"y\":[1274],\"yaxis\":\"y\",\"type\":\"scatter\"},{\"hovertemplate\":\"Series name=Transformers<br>Runtime (min on TV)=%{x}<br>Total count=%{y}<br>Others=%{marker.size}<extra></extra>\",\"legendgroup\":\"Transformers\",\"marker\":{\"color\":\"#FFA15A\",\"size\":[5],\"sizemode\":\"area\",\"sizeref\":0.2175,\"symbol\":\"circle\"},\"mode\":\"markers\",\"name\":\"Transformers\",\"orientation\":\"v\",\"showlegend\":true,\"x\":[null],\"xaxis\":\"x\",\"y\":[1204],\"yaxis\":\"y\",\"type\":\"scatter\"},{\"hovertemplate\":\"Series name=Crayon Shin-chan<br>Runtime (min on TV)=%{x}<br>Total count=%{y}<br>Others=%{marker.size}<extra></extra>\",\"legendgroup\":\"Crayon Shin-chan\",\"marker\":{\"color\":\"#19d3f3\",\"size\":[124],\"sizemode\":\"area\",\"sizeref\":0.2175,\"symbol\":\"circle\"},\"mode\":\"markers\",\"name\":\"Crayon Shin-chan\",\"orientation\":\"v\",\"showlegend\":true,\"x\":[24.0],\"xaxis\":\"x\",\"y\":[1207],\"yaxis\":\"y\",\"type\":\"scatter\"},{\"hovertemplate\":\"Series name=Yu-Gi-Oh!<br>Runtime (min on TV)=%{x}<br>Total count=%{y}<br>Others=%{marker.size}<extra></extra>\",\"legendgroup\":\"Yu-Gi-Oh!\",\"marker\":{\"color\":\"#FF6692\",\"size\":[7],\"sizemode\":\"area\",\"sizeref\":0.2175,\"symbol\":\"circle\"},\"mode\":\"markers\",\"name\":\"Yu-Gi-Oh!\",\"orientation\":\"v\",\"showlegend\":true,\"x\":[24.0],\"xaxis\":\"x\",\"y\":[0],\"yaxis\":\"y\",\"type\":\"scatter\"},{\"hovertemplate\":\"Series name=Case Closed<br>Runtime (min on TV)=%{x}<br>Total count=%{y}<br>Others=%{marker.size}<extra></extra>\",\"legendgroup\":\"Case Closed\",\"marker\":{\"color\":\"#B6E880\",\"size\":[60],\"sizemode\":\"area\",\"sizeref\":0.2175,\"symbol\":\"circle\"},\"mode\":\"markers\",\"name\":\"Case Closed\",\"orientation\":\"v\",\"showlegend\":true,\"x\":[24.0],\"xaxis\":\"x\",\"y\":[1113],\"yaxis\":\"y\",\"type\":\"scatter\"},{\"hovertemplate\":\"Series name=One Piece<br>Runtime (min on TV)=%{x}<br>Total count=%{y}<br>Others=%{marker.size}<extra></extra>\",\"legendgroup\":\"One Piece\",\"marker\":{\"color\":\"#FF97FF\",\"size\":[47],\"sizemode\":\"area\",\"sizeref\":0.2175,\"symbol\":\"circle\"},\"mode\":\"markers\",\"name\":\"One Piece\",\"orientation\":\"v\",\"showlegend\":true,\"x\":[24.0],\"xaxis\":\"x\",\"y\":[1091],\"yaxis\":\"y\",\"type\":\"scatter\"},{\"hovertemplate\":\"Series name=Naruto<br>Runtime (min on TV)=%{x}<br>Total count=%{y}<br>Others=%{marker.size}<extra></extra>\",\"legendgroup\":\"Naruto\",\"marker\":{\"color\":\"#FECB52\",\"size\":[348],\"sizemode\":\"area\",\"sizeref\":0.2175,\"symbol\":\"circle\"},\"mode\":\"markers\",\"name\":\"Naruto\",\"orientation\":\"v\",\"showlegend\":true,\"x\":[24.0],\"xaxis\":\"x\",\"y\":[1068],\"yaxis\":\"y\",\"type\":\"scatter\"},{\"hovertemplate\":\"Series name=Gundam<br>Runtime (min on TV)=%{x}<br>Total count=%{y}<br>Others=%{marker.size}<extra></extra>\",\"legendgroup\":\"Gundam\",\"marker\":{\"color\":\"#636efa\",\"size\":[279],\"sizemode\":\"area\",\"sizeref\":0.2175,\"symbol\":\"circle\"},\"mode\":\"markers\",\"name\":\"Gundam\",\"orientation\":\"v\",\"showlegend\":true,\"x\":[null],\"xaxis\":\"x\",\"y\":[1034],\"yaxis\":\"y\",\"type\":\"scatter\"},{\"hovertemplate\":\"Series name=Sekai Monoshiri Ryoko<br>Runtime (min on TV)=%{x}<br>Total count=%{y}<br>Others=%{marker.size}<extra></extra>\",\"legendgroup\":\"Sekai Monoshiri Ryoko\",\"marker\":{\"color\":\"#EF553B\",\"size\":[0],\"sizemode\":\"area\",\"sizeref\":0.2175,\"symbol\":\"circle\"},\"mode\":\"markers\",\"name\":\"Sekai Monoshiri Ryoko\",\"orientation\":\"v\",\"showlegend\":true,\"x\":[5.0],\"xaxis\":\"x\",\"y\":[1006],\"yaxis\":\"y\",\"type\":\"scatter\"},{\"hovertemplate\":\"Series name=Pretty Cure<br>Runtime (min on TV)=%{x}<br>Total count=%{y}<br>Others=%{marker.size}<extra></extra>\",\"legendgroup\":\"Pretty Cure\",\"marker\":{\"color\":\"#00cc96\",\"size\":[31],\"sizemode\":\"area\",\"sizeref\":0.2175,\"symbol\":\"circle\"},\"mode\":\"markers\",\"name\":\"Pretty Cure\",\"orientation\":\"v\",\"showlegend\":true,\"x\":[24.0],\"xaxis\":\"x\",\"y\":[910],\"yaxis\":\"y\",\"type\":\"scatter\"},{\"hovertemplate\":\"Series name=Dragon Ball<br>Runtime (min on TV)=%{x}<br>Total count=%{y}<br>Others=%{marker.size}<extra></extra>\",\"legendgroup\":\"Dragon Ball\",\"marker\":{\"color\":\"#ab63fa\",\"size\":[241],\"sizemode\":\"area\",\"sizeref\":0.2175,\"symbol\":\"circle\"},\"mode\":\"markers\",\"name\":\"Dragon Ball\",\"orientation\":\"v\",\"showlegend\":true,\"x\":[24.0],\"xaxis\":\"x\",\"y\":[881],\"yaxis\":\"y\",\"type\":\"scatter\"},{\"hovertemplate\":\"Series name=Duel Masters<br>Runtime (min on TV)=%{x}<br>Total count=%{y}<br>Others=%{marker.size}<extra></extra>\",\"legendgroup\":\"Duel Masters\",\"marker\":{\"color\":\"#FFA15A\",\"size\":[5],\"sizemode\":\"area\",\"sizeref\":0.2175,\"symbol\":\"circle\"},\"mode\":\"markers\",\"name\":\"Duel Masters\",\"orientation\":\"v\",\"showlegend\":true,\"x\":[null],\"xaxis\":\"x\",\"y\":[853],\"yaxis\":\"y\",\"type\":\"scatter\"},{\"hovertemplate\":\"Series name=Kotowaza House<br>Runtime (min on TV)=%{x}<br>Total count=%{y}<br>Others=%{marker.size}<extra></extra>\",\"legendgroup\":\"Kotowaza House\",\"marker\":{\"color\":\"#19d3f3\",\"size\":[0],\"sizemode\":\"area\",\"sizeref\":0.2175,\"symbol\":\"circle\"},\"mode\":\"markers\",\"name\":\"Kotowaza House\",\"orientation\":\"v\",\"showlegend\":true,\"x\":[24.0],\"xaxis\":\"x\",\"y\":[773],\"yaxis\":\"y\",\"type\":\"scatter\"},{\"hovertemplate\":\"Series name=Ninja Hattori-kun<br>Runtime (min on TV)=%{x}<br>Total count=%{y}<br>Others=%{marker.size}<extra></extra>\",\"legendgroup\":\"Ninja Hattori-kun\",\"marker\":{\"color\":\"#FF6692\",\"size\":[5],\"sizemode\":\"area\",\"sizeref\":0.2175,\"symbol\":\"circle\"},\"mode\":\"markers\",\"name\":\"Ninja Hattori-kun\",\"orientation\":\"v\",\"showlegend\":true,\"x\":[10.0],\"xaxis\":\"x\",\"y\":[751],\"yaxis\":\"y\",\"type\":\"scatter\"},{\"hovertemplate\":\"Series name=Obake no Q-tar\\u014d<br>Runtime (min on TV)=%{x}<br>Total count=%{y}<br>Others=%{marker.size}<extra></extra>\",\"legendgroup\":\"Obake no Q-tar\\u014d\",\"marker\":{\"color\":\"#B6E880\",\"size\":[3],\"sizemode\":\"area\",\"sizeref\":0.2175,\"symbol\":\"circle\"},\"mode\":\"markers\",\"name\":\"Obake no Q-tar\\u014d\",\"orientation\":\"v\",\"showlegend\":true,\"x\":[24.0],\"xaxis\":\"x\",\"y\":[744],\"yaxis\":\"y\",\"type\":\"scatter\"},{\"hovertemplate\":\"Series name=Beyblade<br>Runtime (min on TV)=%{x}<br>Total count=%{y}<br>Others=%{marker.size}<extra></extra>\",\"legendgroup\":\"Beyblade\",\"marker\":{\"color\":\"#FF97FF\",\"size\":[54],\"sizemode\":\"area\",\"sizeref\":0.2175,\"symbol\":\"circle\"},\"mode\":\"markers\",\"name\":\"Beyblade\",\"orientation\":\"v\",\"showlegend\":true,\"x\":[12.0],\"xaxis\":\"x\",\"y\":[0],\"yaxis\":\"y\",\"type\":\"scatter\"},{\"hovertemplate\":\"Series name=Otogi Manga Calendar<br>Runtime (min on TV)=%{x}<br>Total count=%{y}<br>Others=%{marker.size}<extra></extra>\",\"legendgroup\":\"Otogi Manga Calendar\",\"marker\":{\"color\":\"#FECB52\",\"size\":[0],\"sizemode\":\"area\",\"sizeref\":0.2175,\"symbol\":\"circle\"},\"mode\":\"markers\",\"name\":\"Otogi Manga Calendar\",\"orientation\":\"v\",\"showlegend\":true,\"x\":[null],\"xaxis\":\"x\",\"y\":[624],\"yaxis\":\"y\",\"type\":\"scatter\"},{\"hovertemplate\":\"Series name=Perman<br>Runtime (min on TV)=%{x}<br>Total count=%{y}<br>Others=%{marker.size}<extra></extra>\",\"legendgroup\":\"Perman\",\"marker\":{\"color\":\"#636efa\",\"size\":[8],\"sizemode\":\"area\",\"sizeref\":0.2175,\"symbol\":\"circle\"},\"mode\":\"markers\",\"name\":\"Perman\",\"orientation\":\"v\",\"showlegend\":true,\"x\":[12.0],\"xaxis\":\"x\",\"y\":[599],\"yaxis\":\"y\",\"type\":\"scatter\"},{\"hovertemplate\":\"Series name=GeGeGe no Kitar\\u014d<br>Runtime (min on TV)=%{x}<br>Total count=%{y}<br>Others=%{marker.size}<extra></extra>\",\"legendgroup\":\"GeGeGe no Kitar\\u014d\",\"marker\":{\"color\":\"#EF553B\",\"size\":[0],\"sizemode\":\"area\",\"sizeref\":0.2175,\"symbol\":\"circle\"},\"mode\":\"markers\",\"name\":\"GeGeGe no Kitar\\u014d\",\"orientation\":\"v\",\"showlegend\":true,\"x\":[24.0],\"xaxis\":\"x\",\"y\":[547],\"yaxis\":\"y\",\"type\":\"scatter\"},{\"hovertemplate\":\"Series name=Cardfight!! Vanguard<br>Runtime (min on TV)=%{x}<br>Total count=%{y}<br>Others=%{marker.size}<extra></extra>\",\"legendgroup\":\"Cardfight!! Vanguard\",\"marker\":{\"color\":\"#00cc96\",\"size\":[0],\"sizemode\":\"area\",\"sizeref\":0.2175,\"symbol\":\"circle\"},\"mode\":\"markers\",\"name\":\"Cardfight!! Vanguard\",\"orientation\":\"v\",\"showlegend\":true,\"x\":[null],\"xaxis\":\"x\",\"y\":[510],\"yaxis\":\"y\",\"type\":\"scatter\"},{\"hovertemplate\":\"Series name=Hamtaro<br>Runtime (min on TV)=%{x}<br>Total count=%{y}<br>Others=%{marker.size}<extra></extra>\",\"legendgroup\":\"Hamtaro\",\"marker\":{\"color\":\"#ab63fa\",\"size\":[0],\"sizemode\":\"area\",\"sizeref\":0.2175,\"symbol\":\"circle\"},\"mode\":\"markers\",\"name\":\"Hamtaro\",\"orientation\":\"v\",\"showlegend\":true,\"x\":[null],\"xaxis\":\"x\",\"y\":[480],\"yaxis\":\"y\",\"type\":\"scatter\"},{\"hovertemplate\":\"Series name=Digimon<br>Runtime (min on TV)=%{x}<br>Total count=%{y}<br>Others=%{marker.size}<extra></extra>\",\"legendgroup\":\"Digimon\",\"marker\":{\"color\":\"#FFA15A\",\"size\":[0],\"sizemode\":\"area\",\"sizeref\":0.2175,\"symbol\":\"circle\"},\"mode\":\"markers\",\"name\":\"Digimon\",\"orientation\":\"v\",\"showlegend\":true,\"x\":[24.0],\"xaxis\":\"x\",\"y\":[474],\"yaxis\":\"y\",\"type\":\"scatter\"},{\"hovertemplate\":\"Series name=Jewelpet<br>Runtime (min on TV)=%{x}<br>Total count=%{y}<br>Others=%{marker.size}<extra></extra>\",\"legendgroup\":\"Jewelpet\",\"marker\":{\"color\":\"#19d3f3\",\"size\":[0],\"sizemode\":\"area\",\"sizeref\":0.2175,\"symbol\":\"circle\"},\"mode\":\"markers\",\"name\":\"Jewelpet\",\"orientation\":\"v\",\"showlegend\":true,\"x\":[null],\"xaxis\":\"x\",\"y\":[463],\"yaxis\":\"y\",\"type\":\"scatter\"},{\"hovertemplate\":\"Series name=Brave series<br>Runtime (min on TV)=%{x}<br>Total count=%{y}<br>Others=%{marker.size}<extra></extra>\",\"legendgroup\":\"Brave series\",\"marker\":{\"color\":\"#FF6692\",\"size\":[0],\"sizemode\":\"area\",\"sizeref\":0.2175,\"symbol\":\"circle\"},\"mode\":\"markers\",\"name\":\"Brave series\",\"orientation\":\"v\",\"showlegend\":true,\"x\":[null],\"xaxis\":\"x\",\"y\":[430],\"yaxis\":\"y\",\"type\":\"scatter\"},{\"hovertemplate\":\"Series name=Keroro Gunso<br>Runtime (min on TV)=%{x}<br>Total count=%{y}<br>Others=%{marker.size}<extra></extra>\",\"legendgroup\":\"Keroro Gunso\",\"marker\":{\"color\":\"#B6E880\",\"size\":[0],\"sizemode\":\"area\",\"sizeref\":0.2175,\"symbol\":\"circle\"},\"mode\":\"markers\",\"name\":\"Keroro Gunso\",\"orientation\":\"v\",\"showlegend\":true,\"x\":[24.0],\"xaxis\":\"x\",\"y\":[413],\"yaxis\":\"y\",\"type\":\"scatter\"},{\"hovertemplate\":\"Series name=Battle Spirits<br>Runtime (min on TV)=%{x}<br>Total count=%{y}<br>Others=%{marker.size}<extra></extra>\",\"legendgroup\":\"Battle Spirits\",\"marker\":{\"color\":\"#FF97FF\",\"size\":[0],\"sizemode\":\"area\",\"sizeref\":0.2175,\"symbol\":\"circle\"},\"mode\":\"markers\",\"name\":\"Battle Spirits\",\"orientation\":\"v\",\"showlegend\":true,\"x\":[null],\"xaxis\":\"x\",\"y\":[401],\"yaxis\":\"y\",\"type\":\"scatter\"},{\"hovertemplate\":\"Series name=Kochira Katsushika-ku<br>Runtime (min on TV)=%{x}<br>Total count=%{y}<br>Others=%{marker.size}<extra></extra>\",\"legendgroup\":\"Kochira Katsushika-ku\",\"marker\":{\"color\":\"#FECB52\",\"size\":[0],\"sizemode\":\"area\",\"sizeref\":0.2175,\"symbol\":\"circle\"},\"mode\":\"markers\",\"name\":\"Kochira Katsushika-ku\",\"orientation\":\"v\",\"showlegend\":true,\"x\":[null],\"xaxis\":\"x\",\"y\":[384],\"yaxis\":\"y\",\"type\":\"scatter\"},{\"hovertemplate\":\"Series name=B-Daman<br>Runtime (min on TV)=%{x}<br>Total count=%{y}<br>Others=%{marker.size}<extra></extra>\",\"legendgroup\":\"B-Daman\",\"marker\":{\"color\":\"#636efa\",\"size\":[0],\"sizemode\":\"area\",\"sizeref\":0.2175,\"symbol\":\"circle\"},\"mode\":\"markers\",\"name\":\"B-Daman\",\"orientation\":\"v\",\"showlegend\":true,\"x\":[null],\"xaxis\":\"x\",\"y\":[375],\"yaxis\":\"y\",\"type\":\"scatter\"},{\"hovertemplate\":\"Series name=Gin Tama<br>Runtime (min on TV)=%{x}<br>Total count=%{y}<br>Others=%{marker.size}<extra></extra>\",\"legendgroup\":\"Gin Tama\",\"marker\":{\"color\":\"#EF553B\",\"size\":[9],\"sizemode\":\"area\",\"sizeref\":0.2175,\"symbol\":\"circle\"},\"mode\":\"markers\",\"name\":\"Gin Tama\",\"orientation\":\"v\",\"showlegend\":true,\"x\":[24.0],\"xaxis\":\"x\",\"y\":[378],\"yaxis\":\"y\",\"type\":\"scatter\"},{\"hovertemplate\":\"Series name=Bleach<br>Runtime (min on TV)=%{x}<br>Total count=%{y}<br>Others=%{marker.size}<extra></extra>\",\"legendgroup\":\"Bleach\",\"marker\":{\"color\":\"#00cc96\",\"size\":[6],\"sizemode\":\"area\",\"sizeref\":0.2175,\"symbol\":\"circle\"},\"mode\":\"markers\",\"name\":\"Bleach\",\"orientation\":\"v\",\"showlegend\":true,\"x\":[24.0],\"xaxis\":\"x\",\"y\":[372],\"yaxis\":\"y\",\"type\":\"scatter\"},{\"hovertemplate\":\"Series name=Manga Jinbutsushi<br>Runtime (min on TV)=%{x}<br>Total count=%{y}<br>Others=%{marker.size}<extra></extra>\",\"legendgroup\":\"Manga Jinbutsushi\",\"marker\":{\"color\":\"#ab63fa\",\"size\":[0],\"sizemode\":\"area\",\"sizeref\":0.2175,\"symbol\":\"circle\"},\"mode\":\"markers\",\"name\":\"Manga Jinbutsushi\",\"orientation\":\"v\",\"showlegend\":true,\"x\":[null],\"xaxis\":\"x\",\"y\":[366],\"yaxis\":\"y\",\"type\":\"scatter\"},{\"hovertemplate\":\"Series name=Charady no Joke na Mainichi<br>Runtime (min on TV)=%{x}<br>Total count=%{y}<br>Others=%{marker.size}<extra></extra>\",\"legendgroup\":\"Charady no Joke na Mainichi\",\"marker\":{\"color\":\"#FFA15A\",\"size\":[0],\"sizemode\":\"area\",\"sizeref\":0.2175,\"symbol\":\"circle\"},\"mode\":\"markers\",\"name\":\"Charady no Joke na Mainichi\",\"orientation\":\"v\",\"showlegend\":true,\"x\":[null],\"xaxis\":\"x\",\"y\":[365],\"yaxis\":\"y\",\"type\":\"scatter\"},{\"hovertemplate\":\"Series name=Lupin III<br>Runtime (min on TV)=%{x}<br>Total count=%{y}<br>Others=%{marker.size}<extra></extra>\",\"legendgroup\":\"Lupin III\",\"marker\":{\"color\":\"#19d3f3\",\"size\":[47],\"sizemode\":\"area\",\"sizeref\":0.2175,\"symbol\":\"circle\"},\"mode\":\"markers\",\"name\":\"Lupin III\",\"orientation\":\"v\",\"showlegend\":true,\"x\":[24.0],\"xaxis\":\"x\",\"y\":[363],\"yaxis\":\"y\",\"type\":\"scatter\"},{\"hovertemplate\":\"Series name=Inazuma Eleven<br>Runtime (min on TV)=%{x}<br>Total count=%{y}<br>Others=%{marker.size}<extra></extra>\",\"legendgroup\":\"Inazuma Eleven\",\"marker\":{\"color\":\"#FF6692\",\"size\":[0],\"sizemode\":\"area\",\"sizeref\":0.2175,\"symbol\":\"circle\"},\"mode\":\"markers\",\"name\":\"Inazuma Eleven\",\"orientation\":\"v\",\"showlegend\":true,\"x\":[null],\"xaxis\":\"x\",\"y\":[343],\"yaxis\":\"y\",\"type\":\"scatter\"},{\"hovertemplate\":\"Series name=Dr. Slump<br>Runtime (min on TV)=%{x}<br>Total count=%{y}<br>Others=%{marker.size}<extra></extra>\",\"legendgroup\":\"Dr. Slump\",\"marker\":{\"color\":\"#B6E880\",\"size\":[0],\"sizemode\":\"area\",\"sizeref\":0.2175,\"symbol\":\"circle\"},\"mode\":\"markers\",\"name\":\"Dr. Slump\",\"orientation\":\"v\",\"showlegend\":true,\"x\":[24.0],\"xaxis\":\"x\",\"y\":[341],\"yaxis\":\"y\",\"type\":\"scatter\"},{\"hovertemplate\":\"Series name=Fairy Tail<br>Runtime (min on TV)=%{x}<br>Total count=%{y}<br>Others=%{marker.size}<extra></extra>\",\"legendgroup\":\"Fairy Tail\",\"marker\":{\"color\":\"#FF97FF\",\"size\":[11],\"sizemode\":\"area\",\"sizeref\":0.2175,\"symbol\":\"circle\"},\"mode\":\"markers\",\"name\":\"Fairy Tail\",\"orientation\":\"v\",\"showlegend\":true,\"x\":[24.0],\"xaxis\":\"x\",\"y\":[339],\"yaxis\":\"y\",\"type\":\"scatter\"},{\"hovertemplate\":\"Series name=Yo-kai Watch<br>Runtime (min on TV)=%{x}<br>Total count=%{y}<br>Others=%{marker.size}<extra></extra>\",\"legendgroup\":\"Yo-kai Watch\",\"marker\":{\"color\":\"#FECB52\",\"size\":[0],\"sizemode\":\"area\",\"sizeref\":0.2175,\"symbol\":\"circle\"},\"mode\":\"markers\",\"name\":\"Yo-kai Watch\",\"orientation\":\"v\",\"showlegend\":true,\"x\":[null],\"xaxis\":\"x\",\"y\":[332],\"yaxis\":\"y\",\"type\":\"scatter\"},{\"hovertemplate\":\"Series name=Atashin'chi<br>Runtime (min on TV)=%{x}<br>Total count=%{y}<br>Others=%{marker.size}<extra></extra>\",\"legendgroup\":\"Atashin'chi\",\"marker\":{\"color\":\"#636efa\",\"size\":[0],\"sizemode\":\"area\",\"sizeref\":0.2175,\"symbol\":\"circle\"},\"mode\":\"markers\",\"name\":\"Atashin'chi\",\"orientation\":\"v\",\"showlegend\":true,\"x\":[null],\"xaxis\":\"x\",\"y\":[331],\"yaxis\":\"y\",\"type\":\"scatter\"},{\"hovertemplate\":\"Series name=Kiteretsu Daihyakka<br>Runtime (min on TV)=%{x}<br>Total count=%{y}<br>Others=%{marker.size}<extra></extra>\",\"legendgroup\":\"Kiteretsu Daihyakka\",\"marker\":{\"color\":\"#EF553B\",\"size\":[0],\"sizemode\":\"area\",\"sizeref\":0.2175,\"symbol\":\"circle\"},\"mode\":\"markers\",\"name\":\"Kiteretsu Daihyakka\",\"orientation\":\"v\",\"showlegend\":true,\"x\":[null],\"xaxis\":\"x\",\"y\":[331],\"yaxis\":\"y\",\"type\":\"scatter\"},{\"hovertemplate\":\"Series name=Saint Seiya<br>Runtime (min on TV)=%{x}<br>Total count=%{y}<br>Others=%{marker.size}<extra></extra>\",\"legendgroup\":\"Saint Seiya\",\"marker\":{\"color\":\"#00cc96\",\"size\":[0],\"sizemode\":\"area\",\"sizeref\":0.2175,\"symbol\":\"circle\"},\"mode\":\"markers\",\"name\":\"Saint Seiya\",\"orientation\":\"v\",\"showlegend\":true,\"x\":[24.0],\"xaxis\":\"x\",\"y\":[318],\"yaxis\":\"y\",\"type\":\"scatter\"},{\"hovertemplate\":\"Series name=Rockman<br>Runtime (min on TV)=%{x}<br>Total count=%{y}<br>Others=%{marker.size}<extra></extra>\",\"legendgroup\":\"Rockman\",\"marker\":{\"color\":\"#ab63fa\",\"size\":[0],\"sizemode\":\"area\",\"sizeref\":0.2175,\"symbol\":\"circle\"},\"mode\":\"markers\",\"name\":\"Rockman\",\"orientation\":\"v\",\"showlegend\":true,\"x\":[null],\"xaxis\":\"x\",\"y\":[312],\"yaxis\":\"y\",\"type\":\"scatter\"},{\"hovertemplate\":\"Series name=Kinnikuman<br>Runtime (min on TV)=%{x}<br>Total count=%{y}<br>Others=%{marker.size}<extra></extra>\",\"legendgroup\":\"Kinnikuman\",\"marker\":{\"color\":\"#FFA15A\",\"size\":[0],\"sizemode\":\"area\",\"sizeref\":0.2175,\"symbol\":\"circle\"},\"mode\":\"markers\",\"name\":\"Kinnikuman\",\"orientation\":\"v\",\"showlegend\":true,\"x\":[null],\"xaxis\":\"x\",\"y\":[305],\"yaxis\":\"y\",\"type\":\"scatter\"},{\"hovertemplate\":\"Series name=Manga Hajimete Monogatari<br>Runtime (min on TV)=%{x}<br>Total count=%{y}<br>Others=%{marker.size}<extra></extra>\",\"legendgroup\":\"Manga Hajimete Monogatari\",\"marker\":{\"color\":\"#19d3f3\",\"size\":[0],\"sizemode\":\"area\",\"sizeref\":0.2175,\"symbol\":\"circle\"},\"mode\":\"markers\",\"name\":\"Manga Hajimete Monogatari\",\"orientation\":\"v\",\"showlegend\":true,\"x\":[null],\"xaxis\":\"x\",\"y\":[305],\"yaxis\":\"y\",\"type\":\"scatter\"},{\"hovertemplate\":\"Series name=Ikky\\u016b-san<br>Runtime (min on TV)=%{x}<br>Total count=%{y}<br>Others=%{marker.size}<extra></extra>\",\"legendgroup\":\"Ikky\\u016b-san\",\"marker\":{\"color\":\"#FF6692\",\"size\":[0],\"sizemode\":\"area\",\"sizeref\":0.2175,\"symbol\":\"circle\"},\"mode\":\"markers\",\"name\":\"Ikky\\u016b-san\",\"orientation\":\"v\",\"showlegend\":true,\"x\":[null],\"xaxis\":\"x\",\"y\":[302],\"yaxis\":\"y\",\"type\":\"scatter\"},{\"hovertemplate\":\"Series name=Hyppo and Thomas<br>Runtime (min on TV)=%{x}<br>Total count=%{y}<br>Others=%{marker.size}<extra></extra>\",\"legendgroup\":\"Hyppo and Thomas\",\"marker\":{\"color\":\"#B6E880\",\"size\":[0],\"sizemode\":\"area\",\"sizeref\":0.2175,\"symbol\":\"circle\"},\"mode\":\"markers\",\"name\":\"Hyppo and Thomas\",\"orientation\":\"v\",\"showlegend\":true,\"x\":[null],\"xaxis\":\"x\",\"y\":[300],\"yaxis\":\"y\",\"type\":\"scatter\"},{\"hovertemplate\":\"Series name=Miracle! Mimika<br>Runtime (min on TV)=%{x}<br>Total count=%{y}<br>Others=%{marker.size}<extra></extra>\",\"legendgroup\":\"Miracle! Mimika\",\"marker\":{\"color\":\"#FF97FF\",\"size\":[0],\"sizemode\":\"area\",\"sizeref\":0.2175,\"symbol\":\"circle\"},\"mode\":\"markers\",\"name\":\"Miracle! Mimika\",\"orientation\":\"v\",\"showlegend\":true,\"x\":[null],\"xaxis\":\"x\",\"y\":[300],\"yaxis\":\"y\",\"type\":\"scatter\"},{\"hovertemplate\":\"Series name=Tamagotchi!<br>Runtime (min on TV)=%{x}<br>Total count=%{y}<br>Others=%{marker.size}<extra></extra>\",\"legendgroup\":\"Tamagotchi!\",\"marker\":{\"color\":\"#FECB52\",\"size\":[0],\"sizemode\":\"area\",\"sizeref\":0.2175,\"symbol\":\"circle\"},\"mode\":\"markers\",\"name\":\"Tamagotchi!\",\"orientation\":\"v\",\"showlegend\":true,\"x\":[null],\"xaxis\":\"x\",\"y\":[297],\"yaxis\":\"y\",\"type\":\"scatter\"},{\"hovertemplate\":\"Series name=Astro Boy<br>Runtime (min on TV)=%{x}<br>Total count=%{y}<br>Others=%{marker.size}<extra></extra>\",\"legendgroup\":\"Astro Boy\",\"marker\":{\"color\":\"#636efa\",\"size\":[0],\"sizemode\":\"area\",\"sizeref\":0.2175,\"symbol\":\"circle\"},\"mode\":\"markers\",\"name\":\"Astro Boy\",\"orientation\":\"v\",\"showlegend\":true,\"x\":[null],\"xaxis\":\"x\",\"y\":[295],\"yaxis\":\"y\",\"type\":\"scatter\"},{\"hovertemplate\":\"Series name=Chi's Sweet Home<br>Runtime (min on TV)=%{x}<br>Total count=%{y}<br>Others=%{marker.size}<extra></extra>\",\"legendgroup\":\"Chi's Sweet Home\",\"marker\":{\"color\":\"#EF553B\",\"size\":[1],\"sizemode\":\"area\",\"sizeref\":0.2175,\"symbol\":\"circle\"},\"mode\":\"markers\",\"name\":\"Chi's Sweet Home\",\"orientation\":\"v\",\"showlegend\":true,\"x\":[null],\"xaxis\":\"x\",\"y\":[285],\"yaxis\":\"y\",\"type\":\"scatter\"},{\"hovertemplate\":\"Series name=Dotanba no Manners<br>Runtime (min on TV)=%{x}<br>Total count=%{y}<br>Others=%{marker.size}<extra></extra>\",\"legendgroup\":\"Dotanba no Manners\",\"marker\":{\"color\":\"#00cc96\",\"size\":[0],\"sizemode\":\"area\",\"sizeref\":0.2175,\"symbol\":\"circle\"},\"mode\":\"markers\",\"name\":\"Dotanba no Manners\",\"orientation\":\"v\",\"showlegend\":true,\"x\":[null],\"xaxis\":\"x\",\"y\":[283],\"yaxis\":\"y\",\"type\":\"scatter\"},{\"hovertemplate\":\"Series name=Bakugan Battle Brawlers<br>Runtime (min on TV)=%{x}<br>Total count=%{y}<br>Others=%{marker.size}<extra></extra>\",\"legendgroup\":\"Bakugan Battle Brawlers\",\"marker\":{\"color\":\"#ab63fa\",\"size\":[0],\"sizemode\":\"area\",\"sizeref\":0.2175,\"symbol\":\"circle\"},\"mode\":\"markers\",\"name\":\"Bakugan Battle Brawlers\",\"orientation\":\"v\",\"showlegend\":true,\"x\":[null],\"xaxis\":\"x\",\"y\":[279],\"yaxis\":\"y\",\"type\":\"scatter\"},{\"hovertemplate\":\"Series name=Star of the Giants<br>Runtime (min on TV)=%{x}<br>Total count=%{y}<br>Others=%{marker.size}<extra></extra>\",\"legendgroup\":\"Star of the Giants\",\"marker\":{\"color\":\"#FFA15A\",\"size\":[0],\"sizemode\":\"area\",\"sizeref\":0.2175,\"symbol\":\"circle\"},\"mode\":\"markers\",\"name\":\"Star of the Giants\",\"orientation\":\"v\",\"showlegend\":true,\"x\":[null],\"xaxis\":\"x\",\"y\":[263],\"yaxis\":\"y\",\"type\":\"scatter\"},{\"hovertemplate\":\"Series name=Gan to Gon<br>Runtime (min on TV)=%{x}<br>Total count=%{y}<br>Others=%{marker.size}<extra></extra>\",\"legendgroup\":\"Gan to Gon\",\"marker\":{\"color\":\"#19d3f3\",\"size\":[0],\"sizemode\":\"area\",\"sizeref\":0.2175,\"symbol\":\"circle\"},\"mode\":\"markers\",\"name\":\"Gan to Gon\",\"orientation\":\"v\",\"showlegend\":true,\"x\":[null],\"xaxis\":\"x\",\"y\":[260],\"yaxis\":\"y\",\"type\":\"scatter\"},{\"hovertemplate\":\"Series name=Hoshi no Ko Poron<br>Runtime (min on TV)=%{x}<br>Total count=%{y}<br>Others=%{marker.size}<extra></extra>\",\"legendgroup\":\"Hoshi no Ko Poron\",\"marker\":{\"color\":\"#FF6692\",\"size\":[0],\"sizemode\":\"area\",\"sizeref\":0.2175,\"symbol\":\"circle\"},\"mode\":\"markers\",\"name\":\"Hoshi no Ko Poron\",\"orientation\":\"v\",\"showlegend\":true,\"x\":[null],\"xaxis\":\"x\",\"y\":[260],\"yaxis\":\"y\",\"type\":\"scatter\"},{\"hovertemplate\":\"Series name=A Penguin's Troubles<br>Runtime (min on TV)=%{x}<br>Total count=%{y}<br>Others=%{marker.size}<extra></extra>\",\"legendgroup\":\"A Penguin's Troubles\",\"marker\":{\"color\":\"#B6E880\",\"size\":[0],\"sizemode\":\"area\",\"sizeref\":0.2175,\"symbol\":\"circle\"},\"mode\":\"markers\",\"name\":\"A Penguin's Troubles\",\"orientation\":\"v\",\"showlegend\":true,\"x\":[null],\"xaxis\":\"x\",\"y\":[254],\"yaxis\":\"y\",\"type\":\"scatter\"},{\"hovertemplate\":\"Series name=Captain Harlock<br>Runtime (min on TV)=%{x}<br>Total count=%{y}<br>Others=%{marker.size}<extra></extra>\",\"legendgroup\":\"Captain Harlock\",\"marker\":{\"color\":\"#FF97FF\",\"size\":[0],\"sizemode\":\"area\",\"sizeref\":0.2175,\"symbol\":\"circle\"},\"mode\":\"markers\",\"name\":\"Captain Harlock\",\"orientation\":\"v\",\"showlegend\":true,\"x\":[null],\"xaxis\":\"x\",\"y\":[248],\"yaxis\":\"y\",\"type\":\"scatter\"},{\"hovertemplate\":\"Series name=Ojamajo Doremi<br>Runtime (min on TV)=%{x}<br>Total count=%{y}<br>Others=%{marker.size}<extra></extra>\",\"legendgroup\":\"Ojamajo Doremi\",\"marker\":{\"color\":\"#FECB52\",\"size\":[39],\"sizemode\":\"area\",\"sizeref\":0.2175,\"symbol\":\"circle\"},\"mode\":\"markers\",\"name\":\"Ojamajo Doremi\",\"orientation\":\"v\",\"showlegend\":true,\"x\":[24.0],\"xaxis\":\"x\",\"y\":[253],\"yaxis\":\"y\",\"type\":\"scatter\"},{\"hovertemplate\":\"Series name=Sailor Moon<br>Runtime (min on TV)=%{x}<br>Total count=%{y}<br>Others=%{marker.size}<extra></extra>\",\"legendgroup\":\"Sailor Moon\",\"marker\":{\"color\":\"#636efa\",\"size\":[8],\"sizemode\":\"area\",\"sizeref\":0.2175,\"symbol\":\"circle\"},\"mode\":\"markers\",\"name\":\"Sailor Moon\",\"orientation\":\"v\",\"showlegend\":true,\"x\":[24.0],\"xaxis\":\"x\",\"y\":[247],\"yaxis\":\"y\",\"type\":\"scatter\"},{\"hovertemplate\":\"Series name=Captain Tsubasa<br>Runtime (min on TV)=%{x}<br>Total count=%{y}<br>Others=%{marker.size}<extra></extra>\",\"legendgroup\":\"Captain Tsubasa\",\"marker\":{\"color\":\"#EF553B\",\"size\":[0],\"sizemode\":\"area\",\"sizeref\":0.2175,\"symbol\":\"circle\"},\"mode\":\"markers\",\"name\":\"Captain Tsubasa\",\"orientation\":\"v\",\"showlegend\":true,\"x\":[null],\"xaxis\":\"x\",\"y\":[244],\"yaxis\":\"y\",\"type\":\"scatter\"},{\"hovertemplate\":\"Series name=Hunter \\u00d7 Hunter<br>Runtime (min on TV)=%{x}<br>Total count=%{y}<br>Others=%{marker.size}<extra></extra>\",\"legendgroup\":\"Hunter \\u00d7 Hunter\",\"marker\":{\"color\":\"#00cc96\",\"size\":[33],\"sizemode\":\"area\",\"sizeref\":0.2175,\"symbol\":\"circle\"},\"mode\":\"markers\",\"name\":\"Hunter \\u00d7 Hunter\",\"orientation\":\"v\",\"showlegend\":true,\"x\":[24.0],\"xaxis\":\"x\",\"y\":[243],\"yaxis\":\"y\",\"type\":\"scatter\"},{\"hovertemplate\":\"Series name=The Prince of Tennis<br>Runtime (min on TV)=%{x}<br>Total count=%{y}<br>Others=%{marker.size}<extra></extra>\",\"legendgroup\":\"The Prince of Tennis\",\"marker\":{\"color\":\"#ab63fa\",\"size\":[0],\"sizemode\":\"area\",\"sizeref\":0.2175,\"symbol\":\"circle\"},\"mode\":\"markers\",\"name\":\"The Prince of Tennis\",\"orientation\":\"v\",\"showlegend\":true,\"x\":[null],\"xaxis\":\"x\",\"y\":[242],\"yaxis\":\"y\",\"type\":\"scatter\"},{\"hovertemplate\":\"Series name=Itazura Tenshi Chippo-chan<br>Runtime (min on TV)=%{x}<br>Total count=%{y}<br>Others=%{marker.size}<extra></extra>\",\"legendgroup\":\"Itazura Tenshi Chippo-chan\",\"marker\":{\"color\":\"#FFA15A\",\"size\":[0],\"sizemode\":\"area\",\"sizeref\":0.2175,\"symbol\":\"circle\"},\"mode\":\"markers\",\"name\":\"Itazura Tenshi Chippo-chan\",\"orientation\":\"v\",\"showlegend\":true,\"x\":[null],\"xaxis\":\"x\",\"y\":[240],\"yaxis\":\"y\",\"type\":\"scatter\"},{\"hovertemplate\":\"Series name=Macross<br>Runtime (min on TV)=%{x}<br>Total count=%{y}<br>Others=%{marker.size}<extra></extra>\",\"legendgroup\":\"Macross\",\"marker\":{\"color\":\"#19d3f3\",\"size\":[0],\"sizemode\":\"area\",\"sizeref\":0.2175,\"symbol\":\"circle\"},\"mode\":\"markers\",\"name\":\"Macross\",\"orientation\":\"v\",\"showlegend\":true,\"x\":[null],\"xaxis\":\"x\",\"y\":[237],\"yaxis\":\"y\",\"type\":\"scatter\"},{\"hovertemplate\":\"Series name=Science Ninja Team Gatchaman<br>Runtime (min on TV)=%{x}<br>Total count=%{y}<br>Others=%{marker.size}<extra></extra>\",\"legendgroup\":\"Science Ninja Team Gatchaman\",\"marker\":{\"color\":\"#FF6692\",\"size\":[0],\"sizemode\":\"area\",\"sizeref\":0.2175,\"symbol\":\"circle\"},\"mode\":\"markers\",\"name\":\"Science Ninja Team Gatchaman\",\"orientation\":\"v\",\"showlegend\":true,\"x\":[null],\"xaxis\":\"x\",\"y\":[236],\"yaxis\":\"y\",\"type\":\"scatter\"},{\"hovertemplate\":\"Series name=Urusei Yatsura<br>Runtime (min on TV)=%{x}<br>Total count=%{y}<br>Others=%{marker.size}<extra></extra>\",\"legendgroup\":\"Urusei Yatsura\",\"marker\":{\"color\":\"#B6E880\",\"size\":[0],\"sizemode\":\"area\",\"sizeref\":0.2175,\"symbol\":\"circle\"},\"mode\":\"markers\",\"name\":\"Urusei Yatsura\",\"orientation\":\"v\",\"showlegend\":true,\"x\":[null],\"xaxis\":\"x\",\"y\":[226],\"yaxis\":\"y\",\"type\":\"scatter\"},{\"hovertemplate\":\"Series name=Tensai Bakabon<br>Runtime (min on TV)=%{x}<br>Total count=%{y}<br>Others=%{marker.size}<extra></extra>\",\"legendgroup\":\"Tensai Bakabon\",\"marker\":{\"color\":\"#FF97FF\",\"size\":[0],\"sizemode\":\"area\",\"sizeref\":0.2175,\"symbol\":\"circle\"},\"mode\":\"markers\",\"name\":\"Tensai Bakabon\",\"orientation\":\"v\",\"showlegend\":true,\"x\":[null],\"xaxis\":\"x\",\"y\":[225],\"yaxis\":\"y\",\"type\":\"scatter\"},{\"hovertemplate\":\"Series name=Moomin<br>Runtime (min on TV)=%{x}<br>Total count=%{y}<br>Others=%{marker.size}<extra></extra>\",\"legendgroup\":\"Moomin\",\"marker\":{\"color\":\"#FECB52\",\"size\":[0],\"sizemode\":\"area\",\"sizeref\":0.2175,\"symbol\":\"circle\"},\"mode\":\"markers\",\"name\":\"Moomin\",\"orientation\":\"v\",\"showlegend\":true,\"x\":[null],\"xaxis\":\"x\",\"y\":[221],\"yaxis\":\"y\",\"type\":\"scatter\"},{\"hovertemplate\":\"Series name=Mazinger<br>Runtime (min on TV)=%{x}<br>Total count=%{y}<br>Others=%{marker.size}<extra></extra>\",\"legendgroup\":\"Mazinger\",\"marker\":{\"color\":\"#636efa\",\"size\":[21],\"sizemode\":\"area\",\"sizeref\":0.2175,\"symbol\":\"circle\"},\"mode\":\"markers\",\"name\":\"Mazinger\",\"orientation\":\"v\",\"showlegend\":true,\"x\":[null],\"xaxis\":\"x\",\"y\":[218],\"yaxis\":\"y\",\"type\":\"scatter\"},{\"hovertemplate\":\"Series name=Future Card Buddyfight<br>Runtime (min on TV)=%{x}<br>Total count=%{y}<br>Others=%{marker.size}<extra></extra>\",\"legendgroup\":\"Future Card Buddyfight\",\"marker\":{\"color\":\"#EF553B\",\"size\":[0],\"sizemode\":\"area\",\"sizeref\":0.2175,\"symbol\":\"circle\"},\"mode\":\"markers\",\"name\":\"Future Card Buddyfight\",\"orientation\":\"v\",\"showlegend\":true,\"x\":[null],\"xaxis\":\"x\",\"y\":[212],\"yaxis\":\"y\",\"type\":\"scatter\"},{\"hovertemplate\":\"Series name=Hikarian<br>Runtime (min on TV)=%{x}<br>Total count=%{y}<br>Others=%{marker.size}<extra></extra>\",\"legendgroup\":\"Hikarian\",\"marker\":{\"color\":\"#00cc96\",\"size\":[0],\"sizemode\":\"area\",\"sizeref\":0.2175,\"symbol\":\"circle\"},\"mode\":\"markers\",\"name\":\"Hikarian\",\"orientation\":\"v\",\"showlegend\":true,\"x\":[null],\"xaxis\":\"x\",\"y\":[211],\"yaxis\":\"y\",\"type\":\"scatter\"},{\"hovertemplate\":\"Series name=0<br>Runtime (min on TV)=%{x}<br>Total count=%{y}<br>Others=%{marker.size}<extra></extra>\",\"legendgroup\":\"0\",\"marker\":{\"color\":\"#ab63fa\",\"size\":[0],\"sizemode\":\"area\",\"sizeref\":0.2175,\"symbol\":\"circle\"},\"mode\":\"markers\",\"name\":\"0\",\"orientation\":\"v\",\"showlegend\":true,\"x\":[null],\"xaxis\":\"x\",\"y\":[209],\"yaxis\":\"y\",\"type\":\"scatter\"},{\"hovertemplate\":\"Series name=Kateky\\u014d Hitman Reborn!<br>Runtime (min on TV)=%{x}<br>Total count=%{y}<br>Others=%{marker.size}<extra></extra>\",\"legendgroup\":\"Kateky\\u014d Hitman Reborn!\",\"marker\":{\"color\":\"#FFA15A\",\"size\":[0],\"sizemode\":\"area\",\"sizeref\":0.2175,\"symbol\":\"circle\"},\"mode\":\"markers\",\"name\":\"Kateky\\u014d Hitman Reborn!\",\"orientation\":\"v\",\"showlegend\":true,\"x\":[null],\"xaxis\":\"x\",\"y\":[204],\"yaxis\":\"y\",\"type\":\"scatter\"},{\"hovertemplate\":\"Series name=The Kindaichi Case Files<br>Runtime (min on TV)=%{x}<br>Total count=%{y}<br>Others=%{marker.size}<extra></extra>\",\"legendgroup\":\"The Kindaichi Case Files\",\"marker\":{\"color\":\"#19d3f3\",\"size\":[0],\"sizemode\":\"area\",\"sizeref\":0.2175,\"symbol\":\"circle\"},\"mode\":\"markers\",\"name\":\"The Kindaichi Case Files\",\"orientation\":\"v\",\"showlegend\":true,\"x\":[null],\"xaxis\":\"x\",\"y\":[200],\"yaxis\":\"y\",\"type\":\"scatter\"},{\"hovertemplate\":\"Series name=Holly the Ghost<br>Runtime (min on TV)=%{x}<br>Total count=%{y}<br>Others=%{marker.size}<extra></extra>\",\"legendgroup\":\"Holly the Ghost\",\"marker\":{\"color\":\"#FF6692\",\"size\":[0],\"sizemode\":\"area\",\"sizeref\":0.2175,\"symbol\":\"circle\"},\"mode\":\"markers\",\"name\":\"Holly the Ghost\",\"orientation\":\"v\",\"showlegend\":true,\"x\":[null],\"xaxis\":\"x\",\"y\":[200],\"yaxis\":\"y\",\"type\":\"scatter\"},{\"hovertemplate\":\"Series name=Parasol Henbee<br>Runtime (min on TV)=%{x}<br>Total count=%{y}<br>Others=%{marker.size}<extra></extra>\",\"legendgroup\":\"Parasol Henbee\",\"marker\":{\"color\":\"#B6E880\",\"size\":[0],\"sizemode\":\"area\",\"sizeref\":0.2175,\"symbol\":\"circle\"},\"mode\":\"markers\",\"name\":\"Parasol Henbee\",\"orientation\":\"v\",\"showlegend\":true,\"x\":[null],\"xaxis\":\"x\",\"y\":[200],\"yaxis\":\"y\",\"type\":\"scatter\"}],                        {\"template\":{\"data\":{\"bar\":[{\"error_x\":{\"color\":\"#2a3f5f\"},\"error_y\":{\"color\":\"#2a3f5f\"},\"marker\":{\"line\":{\"color\":\"#E5ECF6\",\"width\":0.5},\"pattern\":{\"fillmode\":\"overlay\",\"size\":10,\"solidity\":0.2}},\"type\":\"bar\"}],\"barpolar\":[{\"marker\":{\"line\":{\"color\":\"#E5ECF6\",\"width\":0.5},\"pattern\":{\"fillmode\":\"overlay\",\"size\":10,\"solidity\":0.2}},\"type\":\"barpolar\"}],\"carpet\":[{\"aaxis\":{\"endlinecolor\":\"#2a3f5f\",\"gridcolor\":\"white\",\"linecolor\":\"white\",\"minorgridcolor\":\"white\",\"startlinecolor\":\"#2a3f5f\"},\"baxis\":{\"endlinecolor\":\"#2a3f5f\",\"gridcolor\":\"white\",\"linecolor\":\"white\",\"minorgridcolor\":\"white\",\"startlinecolor\":\"#2a3f5f\"},\"type\":\"carpet\"}],\"choropleth\":[{\"colorbar\":{\"outlinewidth\":0,\"ticks\":\"\"},\"type\":\"choropleth\"}],\"contour\":[{\"colorbar\":{\"outlinewidth\":0,\"ticks\":\"\"},\"colorscale\":[[0.0,\"#0d0887\"],[0.1111111111111111,\"#46039f\"],[0.2222222222222222,\"#7201a8\"],[0.3333333333333333,\"#9c179e\"],[0.4444444444444444,\"#bd3786\"],[0.5555555555555556,\"#d8576b\"],[0.6666666666666666,\"#ed7953\"],[0.7777777777777778,\"#fb9f3a\"],[0.8888888888888888,\"#fdca26\"],[1.0,\"#f0f921\"]],\"type\":\"contour\"}],\"contourcarpet\":[{\"colorbar\":{\"outlinewidth\":0,\"ticks\":\"\"},\"type\":\"contourcarpet\"}],\"heatmap\":[{\"colorbar\":{\"outlinewidth\":0,\"ticks\":\"\"},\"colorscale\":[[0.0,\"#0d0887\"],[0.1111111111111111,\"#46039f\"],[0.2222222222222222,\"#7201a8\"],[0.3333333333333333,\"#9c179e\"],[0.4444444444444444,\"#bd3786\"],[0.5555555555555556,\"#d8576b\"],[0.6666666666666666,\"#ed7953\"],[0.7777777777777778,\"#fb9f3a\"],[0.8888888888888888,\"#fdca26\"],[1.0,\"#f0f921\"]],\"type\":\"heatmap\"}],\"heatmapgl\":[{\"colorbar\":{\"outlinewidth\":0,\"ticks\":\"\"},\"colorscale\":[[0.0,\"#0d0887\"],[0.1111111111111111,\"#46039f\"],[0.2222222222222222,\"#7201a8\"],[0.3333333333333333,\"#9c179e\"],[0.4444444444444444,\"#bd3786\"],[0.5555555555555556,\"#d8576b\"],[0.6666666666666666,\"#ed7953\"],[0.7777777777777778,\"#fb9f3a\"],[0.8888888888888888,\"#fdca26\"],[1.0,\"#f0f921\"]],\"type\":\"heatmapgl\"}],\"histogram\":[{\"marker\":{\"pattern\":{\"fillmode\":\"overlay\",\"size\":10,\"solidity\":0.2}},\"type\":\"histogram\"}],\"histogram2d\":[{\"colorbar\":{\"outlinewidth\":0,\"ticks\":\"\"},\"colorscale\":[[0.0,\"#0d0887\"],[0.1111111111111111,\"#46039f\"],[0.2222222222222222,\"#7201a8\"],[0.3333333333333333,\"#9c179e\"],[0.4444444444444444,\"#bd3786\"],[0.5555555555555556,\"#d8576b\"],[0.6666666666666666,\"#ed7953\"],[0.7777777777777778,\"#fb9f3a\"],[0.8888888888888888,\"#fdca26\"],[1.0,\"#f0f921\"]],\"type\":\"histogram2d\"}],\"histogram2dcontour\":[{\"colorbar\":{\"outlinewidth\":0,\"ticks\":\"\"},\"colorscale\":[[0.0,\"#0d0887\"],[0.1111111111111111,\"#46039f\"],[0.2222222222222222,\"#7201a8\"],[0.3333333333333333,\"#9c179e\"],[0.4444444444444444,\"#bd3786\"],[0.5555555555555556,\"#d8576b\"],[0.6666666666666666,\"#ed7953\"],[0.7777777777777778,\"#fb9f3a\"],[0.8888888888888888,\"#fdca26\"],[1.0,\"#f0f921\"]],\"type\":\"histogram2dcontour\"}],\"mesh3d\":[{\"colorbar\":{\"outlinewidth\":0,\"ticks\":\"\"},\"type\":\"mesh3d\"}],\"parcoords\":[{\"line\":{\"colorbar\":{\"outlinewidth\":0,\"ticks\":\"\"}},\"type\":\"parcoords\"}],\"pie\":[{\"automargin\":true,\"type\":\"pie\"}],\"scatter\":[{\"marker\":{\"colorbar\":{\"outlinewidth\":0,\"ticks\":\"\"}},\"type\":\"scatter\"}],\"scatter3d\":[{\"line\":{\"colorbar\":{\"outlinewidth\":0,\"ticks\":\"\"}},\"marker\":{\"colorbar\":{\"outlinewidth\":0,\"ticks\":\"\"}},\"type\":\"scatter3d\"}],\"scattercarpet\":[{\"marker\":{\"colorbar\":{\"outlinewidth\":0,\"ticks\":\"\"}},\"type\":\"scattercarpet\"}],\"scattergeo\":[{\"marker\":{\"colorbar\":{\"outlinewidth\":0,\"ticks\":\"\"}},\"type\":\"scattergeo\"}],\"scattergl\":[{\"marker\":{\"colorbar\":{\"outlinewidth\":0,\"ticks\":\"\"}},\"type\":\"scattergl\"}],\"scattermapbox\":[{\"marker\":{\"colorbar\":{\"outlinewidth\":0,\"ticks\":\"\"}},\"type\":\"scattermapbox\"}],\"scatterpolar\":[{\"marker\":{\"colorbar\":{\"outlinewidth\":0,\"ticks\":\"\"}},\"type\":\"scatterpolar\"}],\"scatterpolargl\":[{\"marker\":{\"colorbar\":{\"outlinewidth\":0,\"ticks\":\"\"}},\"type\":\"scatterpolargl\"}],\"scatterternary\":[{\"marker\":{\"colorbar\":{\"outlinewidth\":0,\"ticks\":\"\"}},\"type\":\"scatterternary\"}],\"surface\":[{\"colorbar\":{\"outlinewidth\":0,\"ticks\":\"\"},\"colorscale\":[[0.0,\"#0d0887\"],[0.1111111111111111,\"#46039f\"],[0.2222222222222222,\"#7201a8\"],[0.3333333333333333,\"#9c179e\"],[0.4444444444444444,\"#bd3786\"],[0.5555555555555556,\"#d8576b\"],[0.6666666666666666,\"#ed7953\"],[0.7777777777777778,\"#fb9f3a\"],[0.8888888888888888,\"#fdca26\"],[1.0,\"#f0f921\"]],\"type\":\"surface\"}],\"table\":[{\"cells\":{\"fill\":{\"color\":\"#EBF0F8\"},\"line\":{\"color\":\"white\"}},\"header\":{\"fill\":{\"color\":\"#C8D4E3\"},\"line\":{\"color\":\"white\"}},\"type\":\"table\"}]},\"layout\":{\"annotationdefaults\":{\"arrowcolor\":\"#2a3f5f\",\"arrowhead\":0,\"arrowwidth\":1},\"autotypenumbers\":\"strict\",\"coloraxis\":{\"colorbar\":{\"outlinewidth\":0,\"ticks\":\"\"}},\"colorscale\":{\"diverging\":[[0,\"#8e0152\"],[0.1,\"#c51b7d\"],[0.2,\"#de77ae\"],[0.3,\"#f1b6da\"],[0.4,\"#fde0ef\"],[0.5,\"#f7f7f7\"],[0.6,\"#e6f5d0\"],[0.7,\"#b8e186\"],[0.8,\"#7fbc41\"],[0.9,\"#4d9221\"],[1,\"#276419\"]],\"sequential\":[[0.0,\"#0d0887\"],[0.1111111111111111,\"#46039f\"],[0.2222222222222222,\"#7201a8\"],[0.3333333333333333,\"#9c179e\"],[0.4444444444444444,\"#bd3786\"],[0.5555555555555556,\"#d8576b\"],[0.6666666666666666,\"#ed7953\"],[0.7777777777777778,\"#fb9f3a\"],[0.8888888888888888,\"#fdca26\"],[1.0,\"#f0f921\"]],\"sequentialminus\":[[0.0,\"#0d0887\"],[0.1111111111111111,\"#46039f\"],[0.2222222222222222,\"#7201a8\"],[0.3333333333333333,\"#9c179e\"],[0.4444444444444444,\"#bd3786\"],[0.5555555555555556,\"#d8576b\"],[0.6666666666666666,\"#ed7953\"],[0.7777777777777778,\"#fb9f3a\"],[0.8888888888888888,\"#fdca26\"],[1.0,\"#f0f921\"]]},\"colorway\":[\"#636efa\",\"#EF553B\",\"#00cc96\",\"#ab63fa\",\"#FFA15A\",\"#19d3f3\",\"#FF6692\",\"#B6E880\",\"#FF97FF\",\"#FECB52\"],\"font\":{\"color\":\"#2a3f5f\"},\"geo\":{\"bgcolor\":\"white\",\"lakecolor\":\"white\",\"landcolor\":\"#E5ECF6\",\"showlakes\":true,\"showland\":true,\"subunitcolor\":\"white\"},\"hoverlabel\":{\"align\":\"left\"},\"hovermode\":\"closest\",\"mapbox\":{\"style\":\"light\"},\"paper_bgcolor\":\"white\",\"plot_bgcolor\":\"#E5ECF6\",\"polar\":{\"angularaxis\":{\"gridcolor\":\"white\",\"linecolor\":\"white\",\"ticks\":\"\"},\"bgcolor\":\"#E5ECF6\",\"radialaxis\":{\"gridcolor\":\"white\",\"linecolor\":\"white\",\"ticks\":\"\"}},\"scene\":{\"xaxis\":{\"backgroundcolor\":\"#E5ECF6\",\"gridcolor\":\"white\",\"gridwidth\":2,\"linecolor\":\"white\",\"showbackground\":true,\"ticks\":\"\",\"zerolinecolor\":\"white\"},\"yaxis\":{\"backgroundcolor\":\"#E5ECF6\",\"gridcolor\":\"white\",\"gridwidth\":2,\"linecolor\":\"white\",\"showbackground\":true,\"ticks\":\"\",\"zerolinecolor\":\"white\"},\"zaxis\":{\"backgroundcolor\":\"#E5ECF6\",\"gridcolor\":\"white\",\"gridwidth\":2,\"linecolor\":\"white\",\"showbackground\":true,\"ticks\":\"\",\"zerolinecolor\":\"white\"}},\"shapedefaults\":{\"line\":{\"color\":\"#2a3f5f\"}},\"ternary\":{\"aaxis\":{\"gridcolor\":\"white\",\"linecolor\":\"white\",\"ticks\":\"\"},\"baxis\":{\"gridcolor\":\"white\",\"linecolor\":\"white\",\"ticks\":\"\"},\"bgcolor\":\"#E5ECF6\",\"caxis\":{\"gridcolor\":\"white\",\"linecolor\":\"white\",\"ticks\":\"\"}},\"title\":{\"x\":0.05},\"xaxis\":{\"automargin\":true,\"gridcolor\":\"white\",\"linecolor\":\"white\",\"ticks\":\"\",\"title\":{\"standoff\":15},\"zerolinecolor\":\"white\",\"zerolinewidth\":2},\"yaxis\":{\"automargin\":true,\"gridcolor\":\"white\",\"linecolor\":\"white\",\"ticks\":\"\",\"title\":{\"standoff\":15},\"zerolinecolor\":\"white\",\"zerolinewidth\":2}}},\"xaxis\":{\"anchor\":\"y\",\"domain\":[0.0,1.0],\"title\":{\"text\":\"Runtime (min on TV)\"},\"type\":\"log\"},\"yaxis\":{\"anchor\":\"x\",\"domain\":[0.0,1.0],\"title\":{\"text\":\"Total count\"}},\"legend\":{\"title\":{\"text\":\"Series name\"},\"tracegroupgap\":0,\"itemsizing\":\"constant\"},\"margin\":{\"t\":60},\"title\":{\"text\":\"Episode count of Anime Series over Runtime (min)\"}},                        {\"responsive\": true}                    ).then(function(){\n",
              "                            \n",
              "var gd = document.getElementById('7da4eec3-15f1-4b21-84cf-bb5f61de5fa0');\n",
              "var x = new MutationObserver(function (mutations, observer) {{\n",
              "        var display = window.getComputedStyle(gd).display;\n",
              "        if (!display || display === 'none') {{\n",
              "            console.log([gd, 'removed!']);\n",
              "            Plotly.purge(gd);\n",
              "            observer.disconnect();\n",
              "        }}\n",
              "}});\n",
              "\n",
              "// Listen for the removal of the full notebook cells\n",
              "var notebookContainer = gd.closest('#notebook-container');\n",
              "if (notebookContainer) {{\n",
              "    x.observe(notebookContainer, {childList: true});\n",
              "}}\n",
              "\n",
              "// Listen for the clearing of the current output cell\n",
              "var outputEl = gd.closest('.output');\n",
              "if (outputEl) {{\n",
              "    x.observe(outputEl, {childList: true});\n",
              "}}\n",
              "\n",
              "                        })                };                            </script>        </div>\n",
              "</body>\n",
              "</html>"
            ]
          },
          "metadata": {}
        }
      ]
    },
    {
      "cell_type": "markdown",
      "source": [
        "We used df_v1 - 50 Anime series by franchise series total episode count, except the Episodes count - to plot a scatter chart for runtime in min, total count, and Others count of a sample of 50 series. Runtime in min is our x-axis. Total count is our y-axis. Others (filler eps' count) is our bubble size. The series' names are differentiated by colors. \n"
      ],
      "metadata": {
        "id": "vXvu68JKu328"
      }
    },
    {
      "cell_type": "markdown",
      "source": [
        "The series with highest runtime (22-24 minutes) have the highest Others count (filler eps or OVA), and also higher Total counts of eps, between 500 and 2000. Doraemon is an exception that has low Others' count but an outstandingly high Total count. "
      ],
      "metadata": {
        "id": "6k-k_pfAv6VB"
      }
    },
    {
      "cell_type": "code",
      "source": [
        "japan_overseas = {'Japan': 0, 'Overseas': 0}\n",
        "for x in table2:\n",
        "  if type(x[2]) is not str and type(x[3]) is not str:\n",
        "    japan_overseas['Japan'] += x[2]\n",
        "    japan_overseas['Overseas'] += x[3]\n",
        "print (japan_overseas)\n"
      ],
      "metadata": {
        "id": "MYQ78biKHsAr",
        "outputId": "0e8d7a4c-6e58-4cec-8a69-c05e84a50341",
        "colab": {
          "base_uri": "https://localhost:8080/"
        }
      },
      "execution_count": 50,
      "outputs": [
        {
          "output_type": "stream",
          "name": "stdout",
          "text": [
            "{'Japan': 317610910, 'Overseas': 835507821}\n"
          ]
        }
      ]
    },
    {
      "cell_type": "code",
      "source": [
        "# Top 50 box ticket sales all the time\n",
        "# Ticket sales in Japan and Overseas\n",
        "import plotly.graph_objects as go\n",
        "\n",
        "fig8 = go.Figure(data=[go.Pie(labels=list(japan_overseas.keys()), values=list(japan_overseas.values()))])\n",
        "fig8.update_layout(title = {'text': 'Ticket Sales of Top 50 in Japan and Overseas'})\n",
        "fig8.show()"
      ],
      "metadata": {
        "id": "B_jT8SV_RycC",
        "outputId": "c347bdba-753f-4c0a-dd52-10a2edfdf2b8",
        "colab": {
          "base_uri": "https://localhost:8080/",
          "height": 542
        }
      },
      "execution_count": 51,
      "outputs": [
        {
          "output_type": "display_data",
          "data": {
            "text/html": [
              "<html>\n",
              "<head><meta charset=\"utf-8\" /></head>\n",
              "<body>\n",
              "    <div>            <script src=\"https://cdnjs.cloudflare.com/ajax/libs/mathjax/2.7.5/MathJax.js?config=TeX-AMS-MML_SVG\"></script><script type=\"text/javascript\">if (window.MathJax) {MathJax.Hub.Config({SVG: {font: \"STIX-Web\"}});}</script>                <script type=\"text/javascript\">window.PlotlyConfig = {MathJaxConfig: 'local'};</script>\n",
              "        <script src=\"https://cdn.plot.ly/plotly-2.8.3.min.js\"></script>                <div id=\"9920ca0b-32a6-4f75-8de0-dad9d56e1b2d\" class=\"plotly-graph-div\" style=\"height:525px; width:100%;\"></div>            <script type=\"text/javascript\">                                    window.PLOTLYENV=window.PLOTLYENV || {};                                    if (document.getElementById(\"9920ca0b-32a6-4f75-8de0-dad9d56e1b2d\")) {                    Plotly.newPlot(                        \"9920ca0b-32a6-4f75-8de0-dad9d56e1b2d\",                        [{\"labels\":[\"Japan\",\"Overseas\"],\"values\":[317610910,835507821],\"type\":\"pie\"}],                        {\"template\":{\"data\":{\"bar\":[{\"error_x\":{\"color\":\"#2a3f5f\"},\"error_y\":{\"color\":\"#2a3f5f\"},\"marker\":{\"line\":{\"color\":\"#E5ECF6\",\"width\":0.5},\"pattern\":{\"fillmode\":\"overlay\",\"size\":10,\"solidity\":0.2}},\"type\":\"bar\"}],\"barpolar\":[{\"marker\":{\"line\":{\"color\":\"#E5ECF6\",\"width\":0.5},\"pattern\":{\"fillmode\":\"overlay\",\"size\":10,\"solidity\":0.2}},\"type\":\"barpolar\"}],\"carpet\":[{\"aaxis\":{\"endlinecolor\":\"#2a3f5f\",\"gridcolor\":\"white\",\"linecolor\":\"white\",\"minorgridcolor\":\"white\",\"startlinecolor\":\"#2a3f5f\"},\"baxis\":{\"endlinecolor\":\"#2a3f5f\",\"gridcolor\":\"white\",\"linecolor\":\"white\",\"minorgridcolor\":\"white\",\"startlinecolor\":\"#2a3f5f\"},\"type\":\"carpet\"}],\"choropleth\":[{\"colorbar\":{\"outlinewidth\":0,\"ticks\":\"\"},\"type\":\"choropleth\"}],\"contour\":[{\"colorbar\":{\"outlinewidth\":0,\"ticks\":\"\"},\"colorscale\":[[0.0,\"#0d0887\"],[0.1111111111111111,\"#46039f\"],[0.2222222222222222,\"#7201a8\"],[0.3333333333333333,\"#9c179e\"],[0.4444444444444444,\"#bd3786\"],[0.5555555555555556,\"#d8576b\"],[0.6666666666666666,\"#ed7953\"],[0.7777777777777778,\"#fb9f3a\"],[0.8888888888888888,\"#fdca26\"],[1.0,\"#f0f921\"]],\"type\":\"contour\"}],\"contourcarpet\":[{\"colorbar\":{\"outlinewidth\":0,\"ticks\":\"\"},\"type\":\"contourcarpet\"}],\"heatmap\":[{\"colorbar\":{\"outlinewidth\":0,\"ticks\":\"\"},\"colorscale\":[[0.0,\"#0d0887\"],[0.1111111111111111,\"#46039f\"],[0.2222222222222222,\"#7201a8\"],[0.3333333333333333,\"#9c179e\"],[0.4444444444444444,\"#bd3786\"],[0.5555555555555556,\"#d8576b\"],[0.6666666666666666,\"#ed7953\"],[0.7777777777777778,\"#fb9f3a\"],[0.8888888888888888,\"#fdca26\"],[1.0,\"#f0f921\"]],\"type\":\"heatmap\"}],\"heatmapgl\":[{\"colorbar\":{\"outlinewidth\":0,\"ticks\":\"\"},\"colorscale\":[[0.0,\"#0d0887\"],[0.1111111111111111,\"#46039f\"],[0.2222222222222222,\"#7201a8\"],[0.3333333333333333,\"#9c179e\"],[0.4444444444444444,\"#bd3786\"],[0.5555555555555556,\"#d8576b\"],[0.6666666666666666,\"#ed7953\"],[0.7777777777777778,\"#fb9f3a\"],[0.8888888888888888,\"#fdca26\"],[1.0,\"#f0f921\"]],\"type\":\"heatmapgl\"}],\"histogram\":[{\"marker\":{\"pattern\":{\"fillmode\":\"overlay\",\"size\":10,\"solidity\":0.2}},\"type\":\"histogram\"}],\"histogram2d\":[{\"colorbar\":{\"outlinewidth\":0,\"ticks\":\"\"},\"colorscale\":[[0.0,\"#0d0887\"],[0.1111111111111111,\"#46039f\"],[0.2222222222222222,\"#7201a8\"],[0.3333333333333333,\"#9c179e\"],[0.4444444444444444,\"#bd3786\"],[0.5555555555555556,\"#d8576b\"],[0.6666666666666666,\"#ed7953\"],[0.7777777777777778,\"#fb9f3a\"],[0.8888888888888888,\"#fdca26\"],[1.0,\"#f0f921\"]],\"type\":\"histogram2d\"}],\"histogram2dcontour\":[{\"colorbar\":{\"outlinewidth\":0,\"ticks\":\"\"},\"colorscale\":[[0.0,\"#0d0887\"],[0.1111111111111111,\"#46039f\"],[0.2222222222222222,\"#7201a8\"],[0.3333333333333333,\"#9c179e\"],[0.4444444444444444,\"#bd3786\"],[0.5555555555555556,\"#d8576b\"],[0.6666666666666666,\"#ed7953\"],[0.7777777777777778,\"#fb9f3a\"],[0.8888888888888888,\"#fdca26\"],[1.0,\"#f0f921\"]],\"type\":\"histogram2dcontour\"}],\"mesh3d\":[{\"colorbar\":{\"outlinewidth\":0,\"ticks\":\"\"},\"type\":\"mesh3d\"}],\"parcoords\":[{\"line\":{\"colorbar\":{\"outlinewidth\":0,\"ticks\":\"\"}},\"type\":\"parcoords\"}],\"pie\":[{\"automargin\":true,\"type\":\"pie\"}],\"scatter\":[{\"marker\":{\"colorbar\":{\"outlinewidth\":0,\"ticks\":\"\"}},\"type\":\"scatter\"}],\"scatter3d\":[{\"line\":{\"colorbar\":{\"outlinewidth\":0,\"ticks\":\"\"}},\"marker\":{\"colorbar\":{\"outlinewidth\":0,\"ticks\":\"\"}},\"type\":\"scatter3d\"}],\"scattercarpet\":[{\"marker\":{\"colorbar\":{\"outlinewidth\":0,\"ticks\":\"\"}},\"type\":\"scattercarpet\"}],\"scattergeo\":[{\"marker\":{\"colorbar\":{\"outlinewidth\":0,\"ticks\":\"\"}},\"type\":\"scattergeo\"}],\"scattergl\":[{\"marker\":{\"colorbar\":{\"outlinewidth\":0,\"ticks\":\"\"}},\"type\":\"scattergl\"}],\"scattermapbox\":[{\"marker\":{\"colorbar\":{\"outlinewidth\":0,\"ticks\":\"\"}},\"type\":\"scattermapbox\"}],\"scatterpolar\":[{\"marker\":{\"colorbar\":{\"outlinewidth\":0,\"ticks\":\"\"}},\"type\":\"scatterpolar\"}],\"scatterpolargl\":[{\"marker\":{\"colorbar\":{\"outlinewidth\":0,\"ticks\":\"\"}},\"type\":\"scatterpolargl\"}],\"scatterternary\":[{\"marker\":{\"colorbar\":{\"outlinewidth\":0,\"ticks\":\"\"}},\"type\":\"scatterternary\"}],\"surface\":[{\"colorbar\":{\"outlinewidth\":0,\"ticks\":\"\"},\"colorscale\":[[0.0,\"#0d0887\"],[0.1111111111111111,\"#46039f\"],[0.2222222222222222,\"#7201a8\"],[0.3333333333333333,\"#9c179e\"],[0.4444444444444444,\"#bd3786\"],[0.5555555555555556,\"#d8576b\"],[0.6666666666666666,\"#ed7953\"],[0.7777777777777778,\"#fb9f3a\"],[0.8888888888888888,\"#fdca26\"],[1.0,\"#f0f921\"]],\"type\":\"surface\"}],\"table\":[{\"cells\":{\"fill\":{\"color\":\"#EBF0F8\"},\"line\":{\"color\":\"white\"}},\"header\":{\"fill\":{\"color\":\"#C8D4E3\"},\"line\":{\"color\":\"white\"}},\"type\":\"table\"}]},\"layout\":{\"annotationdefaults\":{\"arrowcolor\":\"#2a3f5f\",\"arrowhead\":0,\"arrowwidth\":1},\"autotypenumbers\":\"strict\",\"coloraxis\":{\"colorbar\":{\"outlinewidth\":0,\"ticks\":\"\"}},\"colorscale\":{\"diverging\":[[0,\"#8e0152\"],[0.1,\"#c51b7d\"],[0.2,\"#de77ae\"],[0.3,\"#f1b6da\"],[0.4,\"#fde0ef\"],[0.5,\"#f7f7f7\"],[0.6,\"#e6f5d0\"],[0.7,\"#b8e186\"],[0.8,\"#7fbc41\"],[0.9,\"#4d9221\"],[1,\"#276419\"]],\"sequential\":[[0.0,\"#0d0887\"],[0.1111111111111111,\"#46039f\"],[0.2222222222222222,\"#7201a8\"],[0.3333333333333333,\"#9c179e\"],[0.4444444444444444,\"#bd3786\"],[0.5555555555555556,\"#d8576b\"],[0.6666666666666666,\"#ed7953\"],[0.7777777777777778,\"#fb9f3a\"],[0.8888888888888888,\"#fdca26\"],[1.0,\"#f0f921\"]],\"sequentialminus\":[[0.0,\"#0d0887\"],[0.1111111111111111,\"#46039f\"],[0.2222222222222222,\"#7201a8\"],[0.3333333333333333,\"#9c179e\"],[0.4444444444444444,\"#bd3786\"],[0.5555555555555556,\"#d8576b\"],[0.6666666666666666,\"#ed7953\"],[0.7777777777777778,\"#fb9f3a\"],[0.8888888888888888,\"#fdca26\"],[1.0,\"#f0f921\"]]},\"colorway\":[\"#636efa\",\"#EF553B\",\"#00cc96\",\"#ab63fa\",\"#FFA15A\",\"#19d3f3\",\"#FF6692\",\"#B6E880\",\"#FF97FF\",\"#FECB52\"],\"font\":{\"color\":\"#2a3f5f\"},\"geo\":{\"bgcolor\":\"white\",\"lakecolor\":\"white\",\"landcolor\":\"#E5ECF6\",\"showlakes\":true,\"showland\":true,\"subunitcolor\":\"white\"},\"hoverlabel\":{\"align\":\"left\"},\"hovermode\":\"closest\",\"mapbox\":{\"style\":\"light\"},\"paper_bgcolor\":\"white\",\"plot_bgcolor\":\"#E5ECF6\",\"polar\":{\"angularaxis\":{\"gridcolor\":\"white\",\"linecolor\":\"white\",\"ticks\":\"\"},\"bgcolor\":\"#E5ECF6\",\"radialaxis\":{\"gridcolor\":\"white\",\"linecolor\":\"white\",\"ticks\":\"\"}},\"scene\":{\"xaxis\":{\"backgroundcolor\":\"#E5ECF6\",\"gridcolor\":\"white\",\"gridwidth\":2,\"linecolor\":\"white\",\"showbackground\":true,\"ticks\":\"\",\"zerolinecolor\":\"white\"},\"yaxis\":{\"backgroundcolor\":\"#E5ECF6\",\"gridcolor\":\"white\",\"gridwidth\":2,\"linecolor\":\"white\",\"showbackground\":true,\"ticks\":\"\",\"zerolinecolor\":\"white\"},\"zaxis\":{\"backgroundcolor\":\"#E5ECF6\",\"gridcolor\":\"white\",\"gridwidth\":2,\"linecolor\":\"white\",\"showbackground\":true,\"ticks\":\"\",\"zerolinecolor\":\"white\"}},\"shapedefaults\":{\"line\":{\"color\":\"#2a3f5f\"}},\"ternary\":{\"aaxis\":{\"gridcolor\":\"white\",\"linecolor\":\"white\",\"ticks\":\"\"},\"baxis\":{\"gridcolor\":\"white\",\"linecolor\":\"white\",\"ticks\":\"\"},\"bgcolor\":\"#E5ECF6\",\"caxis\":{\"gridcolor\":\"white\",\"linecolor\":\"white\",\"ticks\":\"\"}},\"title\":{\"x\":0.05},\"xaxis\":{\"automargin\":true,\"gridcolor\":\"white\",\"linecolor\":\"white\",\"ticks\":\"\",\"title\":{\"standoff\":15},\"zerolinecolor\":\"white\",\"zerolinewidth\":2},\"yaxis\":{\"automargin\":true,\"gridcolor\":\"white\",\"linecolor\":\"white\",\"ticks\":\"\",\"title\":{\"standoff\":15},\"zerolinecolor\":\"white\",\"zerolinewidth\":2}}},\"title\":{\"text\":\"Ticket Sales of Top 50 in Japan and Overseas\"}},                        {\"responsive\": true}                    ).then(function(){\n",
              "                            \n",
              "var gd = document.getElementById('9920ca0b-32a6-4f75-8de0-dad9d56e1b2d');\n",
              "var x = new MutationObserver(function (mutations, observer) {{\n",
              "        var display = window.getComputedStyle(gd).display;\n",
              "        if (!display || display === 'none') {{\n",
              "            console.log([gd, 'removed!']);\n",
              "            Plotly.purge(gd);\n",
              "            observer.disconnect();\n",
              "        }}\n",
              "}});\n",
              "\n",
              "// Listen for the removal of the full notebook cells\n",
              "var notebookContainer = gd.closest('#notebook-container');\n",
              "if (notebookContainer) {{\n",
              "    x.observe(notebookContainer, {childList: true});\n",
              "}}\n",
              "\n",
              "// Listen for the clearing of the current output cell\n",
              "var outputEl = gd.closest('.output');\n",
              "if (outputEl) {{\n",
              "    x.observe(outputEl, {childList: true});\n",
              "}}\n",
              "\n",
              "                        })                };                            </script>        </div>\n",
              "</body>\n",
              "</html>"
            ]
          },
          "metadata": {}
        }
      ]
    },
    {
      "cell_type": "markdown",
      "source": [
        "We used df2 - Top 50 box ticket sales all the time - to plot a pie chart for the total ticket sales of the top 50 in Japan and Overseas. We computed the sum of ticket sales for the two regional categories. The categories are separated by colors and part of the pie. The whole pie can be seen as worldwide. "
      ],
      "metadata": {
        "id": "JL4qN1SXxt3e"
      }
    },
    {
      "cell_type": "markdown",
      "source": [
        "For the pie chart, we want to compare the ticket sale between Japan and oversea. As we see clearly in the graph, in Japan, ticket sale is 27.5%, while oversea, it is 72.5%. Therefore, the profit of an anime movie is taken mostly from the total of other countries outside Japan. "
      ],
      "metadata": {
        "id": "TKcxmk6qj8o-"
      }
    },
    {
      "cell_type": "code",
      "source": [
        "def convert(s):\n",
        "  if '–' in s: \n",
        "    und = s.find('–')\n",
        "    return s[0:und-1], s[und+2:]\n",
        "  else: \n",
        "    return '-1', '-1'\n",
        "# print (convert('South Korea (Seoul City) – 20,280'))\n",
        "\n",
        "table3[0] = table3[0][0:2] + ['China – 400,000,000']\n",
        "table3.pop(1)\n",
        "table3[0] = table3[0]\n",
        "ctr_ads = {'China': 0, 'South Korea': 0, 'United States and Canada': 0, 'Europe':0}\n",
        "eur = ['France and Germany', 'France', 'Spain', 'Other EU territories (since 1996)', 'Russia', 'Netherlands']\n",
        "for x in table3:\n",
        "  a = x[1:]\n",
        "  # print (x[0])\n",
        "  for y in a:\n",
        "    if y != None: \n",
        "      country, tickets = convert(y)\n",
        "      # print (country, tickets)\n",
        "      if country == 'South Korea (Seoul City)': country = 'South Korea'\n",
        "      if country == 'United States': country = 'United States and Canada'\n",
        "      if country in ctr_ads.keys():\n",
        "        if tickets != '3.02':\n",
        "          tickets = tickets.replace(',', '')\n",
        "          tickets = tickets.replace('+', '')\n",
        "          tickets = int(tickets.replace('\\n', ''))\n",
        "          ctr_ads[country] += tickets\n",
        "        else:\n",
        "          ctr_ads['South Korea'] += 3020000\n",
        "      else:\n",
        "        if country in eur or 'Europe' in country:\n",
        "          # print (country)\n",
        "          tickets = tickets.replace(',', '')\n",
        "          tickets = tickets.replace('+', '')\n",
        "          tickets = int(tickets.replace('\\n', ''))\n",
        "          ctr_ads['Europe'] += tickets\n",
        "print (ctr_ads)"
      ],
      "metadata": {
        "id": "xSUH711DhNqC",
        "outputId": "9c6b2c98-813e-4f6f-ecd5-0e83c023a9e4",
        "colab": {
          "base_uri": "https://localhost:8080/"
        }
      },
      "execution_count": 52,
      "outputs": [
        {
          "output_type": "stream",
          "name": "stdout",
          "text": [
            "{'China': 502115125, 'South Korea': 14971454, 'United States and Canada': 52996198, 'Europe': 40798754}\n"
          ]
        }
      ]
    },
    {
      "cell_type": "code",
      "source": [
        "import plotly.graph_objects as go\n",
        "\n",
        "# Ticket sales admission in some continents/countries\n",
        "\n",
        "fig9 = go.Figure(data=[go.Pie(labels=list(ctr_ads.keys()), values=list(ctr_ads.values()))])\n",
        "fig9.update_layout(title = {'text': 'Ticket sales admission in some major markets'})\n",
        "fig9.show()"
      ],
      "metadata": {
        "id": "xVa-5Tp6V9fI",
        "outputId": "42b707d6-6511-4f5e-f85c-c18ebf6ff9b6",
        "colab": {
          "base_uri": "https://localhost:8080/",
          "height": 542
        }
      },
      "execution_count": 53,
      "outputs": [
        {
          "output_type": "display_data",
          "data": {
            "text/html": [
              "<html>\n",
              "<head><meta charset=\"utf-8\" /></head>\n",
              "<body>\n",
              "    <div>            <script src=\"https://cdnjs.cloudflare.com/ajax/libs/mathjax/2.7.5/MathJax.js?config=TeX-AMS-MML_SVG\"></script><script type=\"text/javascript\">if (window.MathJax) {MathJax.Hub.Config({SVG: {font: \"STIX-Web\"}});}</script>                <script type=\"text/javascript\">window.PlotlyConfig = {MathJaxConfig: 'local'};</script>\n",
              "        <script src=\"https://cdn.plot.ly/plotly-2.8.3.min.js\"></script>                <div id=\"005ba24e-1d87-4472-9f2e-f9b61523c287\" class=\"plotly-graph-div\" style=\"height:525px; width:100%;\"></div>            <script type=\"text/javascript\">                                    window.PLOTLYENV=window.PLOTLYENV || {};                                    if (document.getElementById(\"005ba24e-1d87-4472-9f2e-f9b61523c287\")) {                    Plotly.newPlot(                        \"005ba24e-1d87-4472-9f2e-f9b61523c287\",                        [{\"labels\":[\"China\",\"South Korea\",\"United States and Canada\",\"Europe\"],\"values\":[502115125,14971454,52996198,40798754],\"type\":\"pie\"}],                        {\"template\":{\"data\":{\"bar\":[{\"error_x\":{\"color\":\"#2a3f5f\"},\"error_y\":{\"color\":\"#2a3f5f\"},\"marker\":{\"line\":{\"color\":\"#E5ECF6\",\"width\":0.5},\"pattern\":{\"fillmode\":\"overlay\",\"size\":10,\"solidity\":0.2}},\"type\":\"bar\"}],\"barpolar\":[{\"marker\":{\"line\":{\"color\":\"#E5ECF6\",\"width\":0.5},\"pattern\":{\"fillmode\":\"overlay\",\"size\":10,\"solidity\":0.2}},\"type\":\"barpolar\"}],\"carpet\":[{\"aaxis\":{\"endlinecolor\":\"#2a3f5f\",\"gridcolor\":\"white\",\"linecolor\":\"white\",\"minorgridcolor\":\"white\",\"startlinecolor\":\"#2a3f5f\"},\"baxis\":{\"endlinecolor\":\"#2a3f5f\",\"gridcolor\":\"white\",\"linecolor\":\"white\",\"minorgridcolor\":\"white\",\"startlinecolor\":\"#2a3f5f\"},\"type\":\"carpet\"}],\"choropleth\":[{\"colorbar\":{\"outlinewidth\":0,\"ticks\":\"\"},\"type\":\"choropleth\"}],\"contour\":[{\"colorbar\":{\"outlinewidth\":0,\"ticks\":\"\"},\"colorscale\":[[0.0,\"#0d0887\"],[0.1111111111111111,\"#46039f\"],[0.2222222222222222,\"#7201a8\"],[0.3333333333333333,\"#9c179e\"],[0.4444444444444444,\"#bd3786\"],[0.5555555555555556,\"#d8576b\"],[0.6666666666666666,\"#ed7953\"],[0.7777777777777778,\"#fb9f3a\"],[0.8888888888888888,\"#fdca26\"],[1.0,\"#f0f921\"]],\"type\":\"contour\"}],\"contourcarpet\":[{\"colorbar\":{\"outlinewidth\":0,\"ticks\":\"\"},\"type\":\"contourcarpet\"}],\"heatmap\":[{\"colorbar\":{\"outlinewidth\":0,\"ticks\":\"\"},\"colorscale\":[[0.0,\"#0d0887\"],[0.1111111111111111,\"#46039f\"],[0.2222222222222222,\"#7201a8\"],[0.3333333333333333,\"#9c179e\"],[0.4444444444444444,\"#bd3786\"],[0.5555555555555556,\"#d8576b\"],[0.6666666666666666,\"#ed7953\"],[0.7777777777777778,\"#fb9f3a\"],[0.8888888888888888,\"#fdca26\"],[1.0,\"#f0f921\"]],\"type\":\"heatmap\"}],\"heatmapgl\":[{\"colorbar\":{\"outlinewidth\":0,\"ticks\":\"\"},\"colorscale\":[[0.0,\"#0d0887\"],[0.1111111111111111,\"#46039f\"],[0.2222222222222222,\"#7201a8\"],[0.3333333333333333,\"#9c179e\"],[0.4444444444444444,\"#bd3786\"],[0.5555555555555556,\"#d8576b\"],[0.6666666666666666,\"#ed7953\"],[0.7777777777777778,\"#fb9f3a\"],[0.8888888888888888,\"#fdca26\"],[1.0,\"#f0f921\"]],\"type\":\"heatmapgl\"}],\"histogram\":[{\"marker\":{\"pattern\":{\"fillmode\":\"overlay\",\"size\":10,\"solidity\":0.2}},\"type\":\"histogram\"}],\"histogram2d\":[{\"colorbar\":{\"outlinewidth\":0,\"ticks\":\"\"},\"colorscale\":[[0.0,\"#0d0887\"],[0.1111111111111111,\"#46039f\"],[0.2222222222222222,\"#7201a8\"],[0.3333333333333333,\"#9c179e\"],[0.4444444444444444,\"#bd3786\"],[0.5555555555555556,\"#d8576b\"],[0.6666666666666666,\"#ed7953\"],[0.7777777777777778,\"#fb9f3a\"],[0.8888888888888888,\"#fdca26\"],[1.0,\"#f0f921\"]],\"type\":\"histogram2d\"}],\"histogram2dcontour\":[{\"colorbar\":{\"outlinewidth\":0,\"ticks\":\"\"},\"colorscale\":[[0.0,\"#0d0887\"],[0.1111111111111111,\"#46039f\"],[0.2222222222222222,\"#7201a8\"],[0.3333333333333333,\"#9c179e\"],[0.4444444444444444,\"#bd3786\"],[0.5555555555555556,\"#d8576b\"],[0.6666666666666666,\"#ed7953\"],[0.7777777777777778,\"#fb9f3a\"],[0.8888888888888888,\"#fdca26\"],[1.0,\"#f0f921\"]],\"type\":\"histogram2dcontour\"}],\"mesh3d\":[{\"colorbar\":{\"outlinewidth\":0,\"ticks\":\"\"},\"type\":\"mesh3d\"}],\"parcoords\":[{\"line\":{\"colorbar\":{\"outlinewidth\":0,\"ticks\":\"\"}},\"type\":\"parcoords\"}],\"pie\":[{\"automargin\":true,\"type\":\"pie\"}],\"scatter\":[{\"marker\":{\"colorbar\":{\"outlinewidth\":0,\"ticks\":\"\"}},\"type\":\"scatter\"}],\"scatter3d\":[{\"line\":{\"colorbar\":{\"outlinewidth\":0,\"ticks\":\"\"}},\"marker\":{\"colorbar\":{\"outlinewidth\":0,\"ticks\":\"\"}},\"type\":\"scatter3d\"}],\"scattercarpet\":[{\"marker\":{\"colorbar\":{\"outlinewidth\":0,\"ticks\":\"\"}},\"type\":\"scattercarpet\"}],\"scattergeo\":[{\"marker\":{\"colorbar\":{\"outlinewidth\":0,\"ticks\":\"\"}},\"type\":\"scattergeo\"}],\"scattergl\":[{\"marker\":{\"colorbar\":{\"outlinewidth\":0,\"ticks\":\"\"}},\"type\":\"scattergl\"}],\"scattermapbox\":[{\"marker\":{\"colorbar\":{\"outlinewidth\":0,\"ticks\":\"\"}},\"type\":\"scattermapbox\"}],\"scatterpolar\":[{\"marker\":{\"colorbar\":{\"outlinewidth\":0,\"ticks\":\"\"}},\"type\":\"scatterpolar\"}],\"scatterpolargl\":[{\"marker\":{\"colorbar\":{\"outlinewidth\":0,\"ticks\":\"\"}},\"type\":\"scatterpolargl\"}],\"scatterternary\":[{\"marker\":{\"colorbar\":{\"outlinewidth\":0,\"ticks\":\"\"}},\"type\":\"scatterternary\"}],\"surface\":[{\"colorbar\":{\"outlinewidth\":0,\"ticks\":\"\"},\"colorscale\":[[0.0,\"#0d0887\"],[0.1111111111111111,\"#46039f\"],[0.2222222222222222,\"#7201a8\"],[0.3333333333333333,\"#9c179e\"],[0.4444444444444444,\"#bd3786\"],[0.5555555555555556,\"#d8576b\"],[0.6666666666666666,\"#ed7953\"],[0.7777777777777778,\"#fb9f3a\"],[0.8888888888888888,\"#fdca26\"],[1.0,\"#f0f921\"]],\"type\":\"surface\"}],\"table\":[{\"cells\":{\"fill\":{\"color\":\"#EBF0F8\"},\"line\":{\"color\":\"white\"}},\"header\":{\"fill\":{\"color\":\"#C8D4E3\"},\"line\":{\"color\":\"white\"}},\"type\":\"table\"}]},\"layout\":{\"annotationdefaults\":{\"arrowcolor\":\"#2a3f5f\",\"arrowhead\":0,\"arrowwidth\":1},\"autotypenumbers\":\"strict\",\"coloraxis\":{\"colorbar\":{\"outlinewidth\":0,\"ticks\":\"\"}},\"colorscale\":{\"diverging\":[[0,\"#8e0152\"],[0.1,\"#c51b7d\"],[0.2,\"#de77ae\"],[0.3,\"#f1b6da\"],[0.4,\"#fde0ef\"],[0.5,\"#f7f7f7\"],[0.6,\"#e6f5d0\"],[0.7,\"#b8e186\"],[0.8,\"#7fbc41\"],[0.9,\"#4d9221\"],[1,\"#276419\"]],\"sequential\":[[0.0,\"#0d0887\"],[0.1111111111111111,\"#46039f\"],[0.2222222222222222,\"#7201a8\"],[0.3333333333333333,\"#9c179e\"],[0.4444444444444444,\"#bd3786\"],[0.5555555555555556,\"#d8576b\"],[0.6666666666666666,\"#ed7953\"],[0.7777777777777778,\"#fb9f3a\"],[0.8888888888888888,\"#fdca26\"],[1.0,\"#f0f921\"]],\"sequentialminus\":[[0.0,\"#0d0887\"],[0.1111111111111111,\"#46039f\"],[0.2222222222222222,\"#7201a8\"],[0.3333333333333333,\"#9c179e\"],[0.4444444444444444,\"#bd3786\"],[0.5555555555555556,\"#d8576b\"],[0.6666666666666666,\"#ed7953\"],[0.7777777777777778,\"#fb9f3a\"],[0.8888888888888888,\"#fdca26\"],[1.0,\"#f0f921\"]]},\"colorway\":[\"#636efa\",\"#EF553B\",\"#00cc96\",\"#ab63fa\",\"#FFA15A\",\"#19d3f3\",\"#FF6692\",\"#B6E880\",\"#FF97FF\",\"#FECB52\"],\"font\":{\"color\":\"#2a3f5f\"},\"geo\":{\"bgcolor\":\"white\",\"lakecolor\":\"white\",\"landcolor\":\"#E5ECF6\",\"showlakes\":true,\"showland\":true,\"subunitcolor\":\"white\"},\"hoverlabel\":{\"align\":\"left\"},\"hovermode\":\"closest\",\"mapbox\":{\"style\":\"light\"},\"paper_bgcolor\":\"white\",\"plot_bgcolor\":\"#E5ECF6\",\"polar\":{\"angularaxis\":{\"gridcolor\":\"white\",\"linecolor\":\"white\",\"ticks\":\"\"},\"bgcolor\":\"#E5ECF6\",\"radialaxis\":{\"gridcolor\":\"white\",\"linecolor\":\"white\",\"ticks\":\"\"}},\"scene\":{\"xaxis\":{\"backgroundcolor\":\"#E5ECF6\",\"gridcolor\":\"white\",\"gridwidth\":2,\"linecolor\":\"white\",\"showbackground\":true,\"ticks\":\"\",\"zerolinecolor\":\"white\"},\"yaxis\":{\"backgroundcolor\":\"#E5ECF6\",\"gridcolor\":\"white\",\"gridwidth\":2,\"linecolor\":\"white\",\"showbackground\":true,\"ticks\":\"\",\"zerolinecolor\":\"white\"},\"zaxis\":{\"backgroundcolor\":\"#E5ECF6\",\"gridcolor\":\"white\",\"gridwidth\":2,\"linecolor\":\"white\",\"showbackground\":true,\"ticks\":\"\",\"zerolinecolor\":\"white\"}},\"shapedefaults\":{\"line\":{\"color\":\"#2a3f5f\"}},\"ternary\":{\"aaxis\":{\"gridcolor\":\"white\",\"linecolor\":\"white\",\"ticks\":\"\"},\"baxis\":{\"gridcolor\":\"white\",\"linecolor\":\"white\",\"ticks\":\"\"},\"bgcolor\":\"#E5ECF6\",\"caxis\":{\"gridcolor\":\"white\",\"linecolor\":\"white\",\"ticks\":\"\"}},\"title\":{\"x\":0.05},\"xaxis\":{\"automargin\":true,\"gridcolor\":\"white\",\"linecolor\":\"white\",\"ticks\":\"\",\"title\":{\"standoff\":15},\"zerolinecolor\":\"white\",\"zerolinewidth\":2},\"yaxis\":{\"automargin\":true,\"gridcolor\":\"white\",\"linecolor\":\"white\",\"ticks\":\"\",\"title\":{\"standoff\":15},\"zerolinecolor\":\"white\",\"zerolinewidth\":2}}},\"title\":{\"text\":\"Ticket sales admission in some major markets\"}},                        {\"responsive\": true}                    ).then(function(){\n",
              "                            \n",
              "var gd = document.getElementById('005ba24e-1d87-4472-9f2e-f9b61523c287');\n",
              "var x = new MutationObserver(function (mutations, observer) {{\n",
              "        var display = window.getComputedStyle(gd).display;\n",
              "        if (!display || display === 'none') {{\n",
              "            console.log([gd, 'removed!']);\n",
              "            Plotly.purge(gd);\n",
              "            observer.disconnect();\n",
              "        }}\n",
              "}});\n",
              "\n",
              "// Listen for the removal of the full notebook cells\n",
              "var notebookContainer = gd.closest('#notebook-container');\n",
              "if (notebookContainer) {{\n",
              "    x.observe(notebookContainer, {childList: true});\n",
              "}}\n",
              "\n",
              "// Listen for the clearing of the current output cell\n",
              "var outputEl = gd.closest('.output');\n",
              "if (outputEl) {{\n",
              "    x.observe(outputEl, {childList: true});\n",
              "}}\n",
              "\n",
              "                        })                };                            </script>        </div>\n",
              "</body>\n",
              "</html>"
            ]
          },
          "metadata": {}
        }
      ]
    },
    {
      "cell_type": "markdown",
      "source": [
        "We used the new data found in the url for 50 Anime series' franchises by episode count to calculate the total ticket sales in 4 different major markets - China, US and Canada, Europe, and South Korea. Then we created a pie chart to compare the success of those 4 markets. This sample of anime is smaller, using only animes that are published in those markets and have sales' reports. \n",
        "\n",
        "In this graph, we consider some countries oversea which consume the largest ticket sale due to the following: China (82.4%), United States - Canada (8.65%), Europe (6.41%), and South Korea (2.54%). This pie chart will help us to take a deep look at the ticket sale and revenue of anime movie in oversea in general. "
      ],
      "metadata": {
        "id": "VZZQ5P1szTPA"
      }
    },
    {
      "cell_type": "markdown",
      "source": [
        "## Discussion and Conclusion\n",
        "* Considering top 50 animes, the newer ones have the higher revenue (USD) worldwide and in Japan. \n",
        "* Anime genre produces higher revenues than the live-action genre and other unknown genres both worldwide and in Japan. Anime genre is also the more popular genre recently than the live-action, which is becoming less popular due to the fact that its profit remains stably low over time. Meanwhile, the anime genre has more profitable series/ movies. \n",
        "* From the sample of 50 series, anime series' runtime has a weak positive relation to the year release and a moderate positive relation to the ending year. Thus, newer anime and anime that ends earlier have a higher runtime per episode.\n",
        "* Anime series that have the most side or filler episodes (OVAs) usually have total counts of episodes between 500 and 2000, and usually have the highest runtime/ep (about 22-24 minutes). In other words, anime series with the highest runtime usually have more filler episodes and OVAs and total counts between 500 and 2000. Doraemon is an exception in the sample of 50 series, having fewer filler eps but the highest and most outstanding total count of eps. This implies that it is a very quality and profitable anime series. \n",
        "* In Japan, box office ticket sale is 27.5%, while overseas, it is 72.5%. Anime has been entering the global markets for a long time now, so there have been changes in their plots and characters to adopt different cultures and ideologies. Japan's market still plays a great role in anime's profit. \n",
        "* Between China, US and Canada, Europe, and South Korea, China's market has the highest and most overwelming ticket sales even though the country bans some animes. The market in US and Canada is the next most profittable among them. "
      ],
      "metadata": {
        "id": "qTo97JNsoKo6"
      }
    }
  ],
  "metadata": {
    "colab": {
      "provenance": [],
      "collapsed_sections": [
        "hoDWO578Sgo7",
        "qTo97JNsoKo6"
      ]
    },
    "kernelspec": {
      "display_name": "Python 3",
      "name": "python3"
    },
    "language_info": {
      "name": "python"
    }
  },
  "nbformat": 4,
  "nbformat_minor": 0
}